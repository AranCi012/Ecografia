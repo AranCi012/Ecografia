{
 "cells": [
  {
   "cell_type": "markdown",
   "id": "7eb4b4a8-cbeb-4fba-a568-34af39a0bec0",
   "metadata": {},
   "source": [
    "- **Controllo se la GPU di Recas è disponibile**"
   ]
  },
  {
   "cell_type": "code",
   "execution_count": 1,
   "id": "e1821856-3822-4125-a56b-9658fb2c6c86",
   "metadata": {},
   "outputs": [
    {
     "name": "stderr",
     "output_type": "stream",
     "text": [
      "2024-05-15 09:49:22.672495: I tensorflow/core/platform/cpu_feature_guard.cc:194] This TensorFlow binary is optimized with oneAPI Deep Neural Network Library (oneDNN) to use the following CPU instructions in performance-critical operations:  SSE3 SSE4.1 SSE4.2 AVX\n",
      "To enable them in other operations, rebuild TensorFlow with the appropriate compiler flags.\n"
     ]
    },
    {
     "name": "stdout",
     "output_type": "stream",
     "text": [
      "1 Physical GPUs, 1 Logical GPUs\n"
     ]
    },
    {
     "name": "stderr",
     "output_type": "stream",
     "text": [
      "2024-05-15 09:49:24.875909: I tensorflow/core/platform/cpu_feature_guard.cc:194] This TensorFlow binary is optimized with oneAPI Deep Neural Network Library (oneDNN) to use the following CPU instructions in performance-critical operations:  SSE3 SSE4.1 SSE4.2 AVX\n",
      "To enable them in other operations, rebuild TensorFlow with the appropriate compiler flags.\n",
      "2024-05-15 09:49:25.070522: I tensorflow/core/common_runtime/gpu/gpu_device.cc:1621] Created device /job:localhost/replica:0/task:0/device:GPU:0 with 2970 MB memory:  -> device: 0, name: NVIDIA A100-PCIE-40GB MIG 1g.5gb, pci bus id: 0000:01:00.0, compute capability: 8.0\n"
     ]
    }
   ],
   "source": [
    "import tensorflow as tf\n",
    "\n",
    "# Configure GPU options\n",
    "gpus = tf.config.experimental.list_physical_devices('GPU')\n",
    "if gpus:\n",
    "    try:\n",
    "        # Currently, memory growth needs to be the same across GPUs\n",
    "        for gpu in gpus:\n",
    "            tf.config.experimental.set_memory_growth(gpu, True)\n",
    "        logical_gpus = tf.config.experimental.list_logical_devices('GPU')\n",
    "        print(len(gpus), \"Physical GPUs,\", len(logical_gpus), \"Logical GPUs\")\n",
    "    except RuntimeError as e:\n",
    "        # Memory growth must be set before GPUs have been initialized\n",
    "        print(e)"
   ]
  },
  {
   "cell_type": "markdown",
   "id": "09656267-d2a8-4b62-ae6d-ea8ef323257b",
   "metadata": {},
   "source": [
    "- **La Gpu Recas ha una NVIDIA A100 2970MB memoria; ne limito l'utilizzo di memoria**"
   ]
  },
  {
   "cell_type": "code",
   "execution_count": 2,
   "id": "4fa5569d-7d76-4c18-860d-0a8d232ac3fd",
   "metadata": {},
   "outputs": [
    {
     "name": "stderr",
     "output_type": "stream",
     "text": [
      "2024-05-20 15:33:14.532765: I tensorflow/core/platform/cpu_feature_guard.cc:194] This TensorFlow binary is optimized with oneAPI Deep Neural Network Library (oneDNN) to use the following CPU instructions in performance-critical operations:  SSE3 SSE4.1 SSE4.2 AVX\n",
      "To enable them in other operations, rebuild TensorFlow with the appropriate compiler flags.\n"
     ]
    }
   ],
   "source": [
    "import tensorflow as tf\n",
    "\n",
    "# Limit memory growth\n",
    "gpus = tf.config.experimental.list_physical_devices('GPU')\n",
    "if gpus:\n",
    "    for gpu in gpus:\n",
    "        tf.config.experimental.set_virtual_device_configuration(\n",
    "            gpu,\n",
    "            [tf.config.experimental.VirtualDeviceConfiguration(memory_limit=2970)])"
   ]
  },
  {
   "cell_type": "code",
   "execution_count": null,
   "id": "faf42e4f-d9e1-4060-9d58-10be92432f8e",
   "metadata": {},
   "outputs": [],
   "source": []
  },
  {
   "cell_type": "code",
   "execution_count": 16,
   "id": "ff33e7b9-1b70-473d-b0ab-dd117a47ac03",
   "metadata": {},
   "outputs": [],
   "source": [
    "import sys\n",
    "sys.path.append('/usr/local/lib/python3.8/dist-packages/torch/__init__.py')\n",
    "sys.path.append('/lustrehome/emanueleamato/.local/lib/python3.11/site-packages')\n",
    "import splitfolders\n",
    "from tensorflow.keras.applications import ResNet50\n",
    "from tensorflow.keras.models import Model\n",
    "from keras.layers import GlobalAveragePooling2D, Dense, Dropout, Conv2D, MaxPooling2D, Flatten,Activation\n",
    "from tensorflow.keras.optimizers import Adam\n",
    "from keras.preprocessing import image\n",
    "from keras.regularizers import l2\n",
    "from tensorflow.keras.callbacks import EarlyStopping, ModelCheckpoint\n",
    "from tensorflow.keras.preprocessing.image import ImageDataGenerator\n",
    "from keras.layers import LSTM, Reshape, RepeatVector\n",
    "from keras.models import Sequential\n",
    "from keras.optimizers import Adam\n",
    "from keras.callbacks import LearningRateScheduler\n",
    "import math\n",
    "\n",
    "\n",
    "\n"
   ]
  },
  {
   "cell_type": "code",
   "execution_count": null,
   "id": "c763635b-733b-4cbb-994f-6414cef23af5",
   "metadata": {},
   "outputs": [],
   "source": []
  },
  {
   "cell_type": "code",
   "execution_count": null,
   "id": "8e35e1d0-1322-4042-a893-cc22c4bc4ead",
   "metadata": {},
   "outputs": [],
   "source": [
    "'''\n",
    "    # Define input and output directories\n",
    "    input_folder = '/lustrehome/emanueleamato/ViT_Test/Train/'  # Path to the folder containing images to split\n",
    "    output_folder = '/lustrehome/emanueleamato/ViT_Test/Validation/'  # Path to the folder where split images will be saved\n",
    "\n",
    "    # Split data into train and validation sets with a ratio of 80:20\n",
    "    splitfolders.ratio(input_folder, output=output_folder, seed=42, ratio=(.78, .22))\n",
    "    \n",
    "'''"
   ]
  },
  {
   "cell_type": "code",
   "execution_count": 30,
   "id": "1abc8d67-7c06-41fd-8af2-623a42364cc1",
   "metadata": {},
   "outputs": [],
   "source": [
    "n_classes = 2\n",
    "imgWidth = 64\n",
    "imgHeight = 64\n",
    "numberOfEpochs = 50\n",
    "batchSize = 32\n",
    "learning_rate = 0.0001\n",
    "momentum = 0.95\n",
    "decay_rate = 0.1\n",
    "\n",
    "optimizer = Adam(lr=learning_rate, beta_1=momentum, decay=decay_rate)"
   ]
  },
  {
   "cell_type": "code",
   "execution_count": 31,
   "id": "fc45afbc-4c07-4f9a-a02c-e97bb0256ec2",
   "metadata": {},
   "outputs": [
    {
     "name": "stdout",
     "output_type": "stream",
     "text": [
      "Found 13501 images belonging to 2 classes.\n"
     ]
    }
   ],
   "source": [
    "#Data Augumentation -> reduce overfitting when training a machine learning model,by training models on several slightly-modified copies of existing data.\n",
    "TrainingDirectory= \"/lustrehome/emanueleamato/ViT_Test/Train\"\n",
    "train_Datagen = ImageDataGenerator(rescale = 1/255.0,\n",
    "                                   rotation_range=10,\n",
    "                                   width_shift_range=0.05,\n",
    "                                   height_shift_range=0.05)\n",
    "                                   #zoom_range=0.4,\n",
    "                                   #horizontal_flip= True,\n",
    "                                   #shear_range=0.4)\n",
    "\n",
    "train_generator = train_Datagen.flow_from_directory(TrainingDirectory,\n",
    "                                                    batch_size=batchSize,\n",
    "                                                    class_mode= 'categorical',\n",
    "                                                    target_size=(imgWidth,imgHeight))\n"
   ]
  },
  {
   "cell_type": "code",
   "execution_count": 32,
   "id": "ee5ba78c-3073-4234-a7ca-c2974fbe8aee",
   "metadata": {
    "scrolled": true
   },
   "outputs": [
    {
     "name": "stdout",
     "output_type": "stream",
     "text": [
      "Found 3807 images belonging to 2 classes.\n"
     ]
    }
   ],
   "source": [
    "ValidationDirectory= \"/lustrehome/emanueleamato/ViT_Test/Validation\"\n",
    "\n",
    "#Validation Dataset should not be modified \n",
    "validation_Datagen = ImageDataGenerator(rescale = 1/255.0)\n",
    "\n",
    "validation_generator = train_Datagen.flow_from_directory(ValidationDirectory,\n",
    "                                                    batch_size=batchSize,\n",
    "                                                    class_mode= 'categorical',\n",
    "                                                    target_size=(imgWidth,imgHeight))\n"
   ]
  },
  {
   "cell_type": "code",
   "execution_count": null,
   "id": "456ddecd-21bd-4b0c-8327-dfa79a5398f2",
   "metadata": {},
   "outputs": [],
   "source": []
  },
  {
   "cell_type": "code",
   "execution_count": 33,
   "id": "947d29e9-8f99-4257-a687-3cfc58782ab9",
   "metadata": {},
   "outputs": [],
   "source": [
    "\n",
    "def SimpleCNN():\n",
    "    model = Sequential()\n",
    "    \n",
    "    # Passo 1: Convoluzione -> Attivazione -> Dropout\n",
    "    model.add(Conv2D(8, (3, 3), strides=(1, 1), padding='same', input_shape=(64, 64, 3)))\n",
    "    model.add(Activation('relu'))\n",
    "    model.add(Dropout(0.3))\n",
    "    \n",
    "    # Passo 2: Convoluzione -> Attivazione -> Pooling\n",
    "    model.add(Conv2D(16, (3, 3), strides=(1, 1), padding='same'))\n",
    "    model.add(Activation('relu'))\n",
    "    model.add(MaxPooling2D(pool_size=(2, 2), strides=2))\n",
    "    \n",
    "    # Passo 3: Convoluzione -> Pooling\n",
    "    model.add(Conv2D(32, (3, 3), strides=(1, 1), padding='same'))\n",
    "    model.add(MaxPooling2D(pool_size=(2, 2), strides=2))\n",
    "    \n",
    "    # Appiattimento (flatten)\n",
    "    model.add(Flatten())\n",
    "    \n",
    "    # Passo 4: Fully Connected Layer -> Attivazione\n",
    "    model.add(Dense(32))\n",
    "    model.add(Activation('relu'))\n",
    "    \n",
    "    # Passo 5: Fully Connected Layer (output layer)\n",
    "    model.add(Dense(2))  # Numero di classi\n",
    "    model.add(Activation('softmax'))  # Softmax per output di classificazione\n",
    "    \n",
    "    return model\n"
   ]
  },
  {
   "cell_type": "code",
   "execution_count": 34,
   "id": "f9cf2296-8842-4749-9808-3ffd6e567d89",
   "metadata": {},
   "outputs": [],
   "source": [
    "\n",
    "# Definisci il modello\n",
    "model = SimpleCNN()\n",
    "\n",
    "\n",
    "model.compile(optimizer=optimizer, \n",
    "              loss='categorical_crossentropy', \n",
    "              metrics=['accuracy'])\n"
   ]
  },
  {
   "cell_type": "code",
   "execution_count": 35,
   "id": "635d49cf-e05d-4573-a164-7cf8cbc3756b",
   "metadata": {
    "scrolled": true
   },
   "outputs": [
    {
     "name": "stdout",
     "output_type": "stream",
     "text": [
      "Model: \"sequential_3\"\n",
      "_________________________________________________________________\n",
      " Layer (type)                Output Shape              Param #   \n",
      "=================================================================\n",
      " conv2d_7 (Conv2D)           (None, 64, 64, 8)         224       \n",
      "                                                                 \n",
      " activation_8 (Activation)   (None, 64, 64, 8)         0         \n",
      "                                                                 \n",
      " dropout_2 (Dropout)         (None, 64, 64, 8)         0         \n",
      "                                                                 \n",
      " conv2d_8 (Conv2D)           (None, 64, 64, 16)        1168      \n",
      "                                                                 \n",
      " activation_9 (Activation)   (None, 64, 64, 16)        0         \n",
      "                                                                 \n",
      " max_pooling2d_4 (MaxPooling  (None, 32, 32, 16)       0         \n",
      " 2D)                                                             \n",
      "                                                                 \n",
      " conv2d_9 (Conv2D)           (None, 32, 32, 32)        4640      \n",
      "                                                                 \n",
      " max_pooling2d_5 (MaxPooling  (None, 16, 16, 32)       0         \n",
      " 2D)                                                             \n",
      "                                                                 \n",
      " flatten_2 (Flatten)         (None, 8192)              0         \n",
      "                                                                 \n",
      " dense_4 (Dense)             (None, 32)                262176    \n",
      "                                                                 \n",
      " activation_10 (Activation)  (None, 32)                0         \n",
      "                                                                 \n",
      " dense_5 (Dense)             (None, 2)                 66        \n",
      "                                                                 \n",
      " activation_11 (Activation)  (None, 2)                 0         \n",
      "                                                                 \n",
      "=================================================================\n",
      "Total params: 268,274\n",
      "Trainable params: 268,274\n",
      "Non-trainable params: 0\n",
      "_________________________________________________________________\n"
     ]
    }
   ],
   "source": [
    "model.summary()"
   ]
  },
  {
   "cell_type": "code",
   "execution_count": 36,
   "id": "826e9843-7c4c-4f19-83bf-d7dae8851175",
   "metadata": {},
   "outputs": [],
   "source": [
    "# early stopping \n",
    "\n",
    "callback = EarlyStopping(monitor='val_loss', patience =5, verbose =1, mode = 'auto')\n",
    "\n",
    "#if we find a better moder we will save it here: \n",
    "\n",
    "bestModelFileName=  \"/lustrehome/emanueleamato/ViT_Test/SimpleCNN_model.h5\"\n",
    "bestModel= ModelCheckpoint(bestModelFileName,monitor='val_accuracy', verbose=1,save_best_only=True)\n"
   ]
  },
  {
   "cell_type": "markdown",
   "id": "9a9bcb25-28c3-475e-a2c9-e6b762bd64b3",
   "metadata": {},
   "source": [
    "- **<u>Prima di addestrare il modello tieni bene in chiaro che si creano file nascosti da dover trattare ( Vanno Eliminati )</u>**\n",
    "- Fallo da terminale\n",
    "  \n"
   ]
  },
  {
   "cell_type": "markdown",
   "id": "f727ce87-d6bd-471f-bbcf-637c76a4198f",
   "metadata": {},
   "source": [
    "It’s necessary to freeze the convolution base of the conv base in order to be able to train a randomly initialized classifier on top. For the same reason, it’s only possible to fine-tune the top layers of the convolutional base **once the classifier on top has already been trained**. If the classifier isn’t already trained, then the error signal propagating through the network during training will be too large, and the representations previously learned by the layers being fine-tuned will be destroyed\n",
    "\n",
    "Below, first train with no limit to lr - with conv_base frozen - only my top layers\n",
    "\n",
    "Then, unfreeze last model conv block , recompile and train all with LOW lr=1e-5"
   ]
  },
  {
   "cell_type": "code",
   "execution_count": 37,
   "id": "b748437e-0ed5-41ad-bc91-953711390dc2",
   "metadata": {},
   "outputs": [
    {
     "name": "stdout",
     "output_type": "stream",
     "text": [
      "Epoch 1/50\n"
     ]
    },
    {
     "name": "stderr",
     "output_type": "stream",
     "text": [
      "2024-05-20 15:37:28.919903: E tensorflow/core/grappler/optimizers/meta_optimizer.cc:1014] layout failed: INVALID_ARGUMENT: Size of values 0 does not match size of permutation 4 @ fanin shape insequential_3/dropout_2/dropout/SelectV2-2-TransposeNHWCToNCHW-LayoutOptimizer\n"
     ]
    },
    {
     "name": "stdout",
     "output_type": "stream",
     "text": [
      "422/422 [==============================] - ETA: 0s - loss: 0.5151 - accuracy: 0.8049\n",
      "Epoch 2: val_accuracy improved from 0.78566 to 0.79958, saving model to /lustrehome/emanueleamato/ViT_Test/SimpleCNN_model.h5\n",
      "422/422 [==============================] - 189s 449ms/step - loss: 0.5151 - accuracy: 0.8049 - val_loss: 0.5558 - val_accuracy: 0.7996\n",
      "Epoch 3/50\n",
      "422/422 [==============================] - ETA: 0s - loss: 0.4958 - accuracy: 0.8125\n",
      "Epoch 3: val_accuracy improved from 0.79958 to 0.81508, saving model to /lustrehome/emanueleamato/ViT_Test/SimpleCNN_model.h5\n",
      "422/422 [==============================] - 167s 396ms/step - loss: 0.4958 - accuracy: 0.8125 - val_loss: 0.5409 - val_accuracy: 0.8151\n",
      "Epoch 4/50\n",
      "422/422 [==============================] - ETA: 0s - loss: 0.4837 - accuracy: 0.8206\n",
      "Epoch 4: val_accuracy did not improve from 0.81508\n",
      "422/422 [==============================] - 184s 436ms/step - loss: 0.4837 - accuracy: 0.8206 - val_loss: 0.5346 - val_accuracy: 0.8117\n",
      "Epoch 5/50\n",
      "422/422 [==============================] - ETA: 0s - loss: 0.4755 - accuracy: 0.8195\n",
      "Epoch 5: val_accuracy did not improve from 0.81508\n",
      "422/422 [==============================] - 191s 453ms/step - loss: 0.4755 - accuracy: 0.8195 - val_loss: 0.5263 - val_accuracy: 0.8148\n",
      "Epoch 6/50\n",
      "422/422 [==============================] - ETA: 0s - loss: 0.4697 - accuracy: 0.8191\n",
      "Epoch 6: val_accuracy did not improve from 0.81508\n",
      "422/422 [==============================] - 192s 454ms/step - loss: 0.4697 - accuracy: 0.8191 - val_loss: 0.5237 - val_accuracy: 0.8122\n",
      "Epoch 7/50\n",
      "422/422 [==============================] - ETA: 0s - loss: 0.4623 - accuracy: 0.8242\n",
      "Epoch 7: val_accuracy did not improve from 0.81508\n",
      "422/422 [==============================] - 180s 427ms/step - loss: 0.4623 - accuracy: 0.8242 - val_loss: 0.5154 - val_accuracy: 0.8140\n",
      "Epoch 8/50\n",
      "422/422 [==============================] - ETA: 0s - loss: 0.4599 - accuracy: 0.8199\n",
      "Epoch 8: val_accuracy improved from 0.81508 to 0.81875, saving model to /lustrehome/emanueleamato/ViT_Test/SimpleCNN_model.h5\n",
      "422/422 [==============================] - 242s 574ms/step - loss: 0.4599 - accuracy: 0.8199 - val_loss: 0.5129 - val_accuracy: 0.8188\n",
      "Epoch 9/50\n",
      "292/422 [===================>..........] - ETA: 1:26 - loss: 0.4528 - accuracy: 0.8271"
     ]
    },
    {
     "name": "stderr",
     "output_type": "stream",
     "text": [
      "IOPub message rate exceeded.\n",
      "The Jupyter server will temporarily stop sending output\n",
      "to the client in order to avoid crashing it.\n",
      "To change this limit, set the config variable\n",
      "`--ServerApp.iopub_msg_rate_limit`.\n",
      "\n",
      "Current values:\n",
      "ServerApp.iopub_msg_rate_limit=1000.0 (msgs/sec)\n",
      "ServerApp.rate_limit_window=3.0 (secs)\n",
      "\n"
     ]
    },
    {
     "name": "stdout",
     "output_type": "stream",
     "text": [
      "422/422 [==============================] - ETA: 0s - loss: 0.4449 - accuracy: 0.8284\n",
      "Epoch 12: val_accuracy improved from 0.82164 to 0.82375, saving model to /lustrehome/emanueleamato/ViT_Test/SimpleCNN_model.h5\n",
      "422/422 [==============================] - 179s 424ms/step - loss: 0.4449 - accuracy: 0.8284 - val_loss: 0.4993 - val_accuracy: 0.8237\n",
      "Epoch 13/50\n",
      "422/422 [==============================] - ETA: 0s - loss: 0.4452 - accuracy: 0.8276\n",
      "Epoch 13: val_accuracy did not improve from 0.82375\n",
      "422/422 [==============================] - 189s 449ms/step - loss: 0.4452 - accuracy: 0.8276 - val_loss: 0.4992 - val_accuracy: 0.8185\n",
      "Epoch 14/50\n",
      "422/422 [==============================] - ETA: 0s - loss: 0.4432 - accuracy: 0.8290\n",
      "Epoch 14: val_accuracy did not improve from 0.82375\n",
      "422/422 [==============================] - 271s 642ms/step - loss: 0.4432 - accuracy: 0.8290 - val_loss: 0.5035 - val_accuracy: 0.8127\n",
      "Epoch 15/50\n",
      "422/422 [==============================] - ETA: 0s - loss: 0.4423 - accuracy: 0.8247\n",
      "Epoch 15: val_accuracy improved from 0.82375 to 0.82427, saving model to /lustrehome/emanueleamato/ViT_Test/SimpleCNN_model.h5\n",
      "422/422 [==============================] - 229s 543ms/step - loss: 0.4423 - accuracy: 0.8247 - val_loss: 0.4952 - val_accuracy: 0.8243\n",
      "Epoch 16/50\n",
      "422/422 [==============================] - ETA: 0s - loss: 0.4405 - accuracy: 0.8265\n",
      "Epoch 16: val_accuracy did not improve from 0.82427\n",
      "422/422 [==============================] - 318s 754ms/step - loss: 0.4405 - accuracy: 0.8265 - val_loss: 0.4925 - val_accuracy: 0.8203\n",
      "Epoch 17/50\n",
      "422/422 [==============================] - ETA: 0s - loss: 0.4389 - accuracy: 0.8264\n",
      "Epoch 17: val_accuracy improved from 0.82427 to 0.82821, saving model to /lustrehome/emanueleamato/ViT_Test/SimpleCNN_model.h5\n",
      "422/422 [==============================] - 435s 1s/step - loss: 0.4389 - accuracy: 0.8264 - val_loss: 0.4900 - val_accuracy: 0.8282\n",
      "Epoch 18/50\n",
      "422/422 [==============================] - ETA: 0s - loss: 0.4356 - accuracy: 0.8301\n",
      "Epoch 18: val_accuracy did not improve from 0.82821\n",
      "422/422 [==============================] - 191s 452ms/step - loss: 0.4356 - accuracy: 0.8301 - val_loss: 0.4890 - val_accuracy: 0.8219\n",
      "Epoch 19/50\n",
      "422/422 [==============================] - ETA: 0s - loss: 0.4346 - accuracy: 0.8293\n",
      "Epoch 19: val_accuracy did not improve from 0.82821\n",
      "422/422 [==============================] - 174s 413ms/step - loss: 0.4346 - accuracy: 0.8293 - val_loss: 0.4888 - val_accuracy: 0.8195\n",
      "Epoch 20/50\n",
      "422/422 [==============================] - ETA: 0s - loss: 0.4347 - accuracy: 0.8298\n",
      "Epoch 20: val_accuracy did not improve from 0.82821\n",
      "422/422 [==============================] - 184s 437ms/step - loss: 0.4347 - accuracy: 0.8298 - val_loss: 0.4892 - val_accuracy: 0.8235\n",
      "Epoch 21/50\n",
      "422/422 [==============================] - ETA: 0s - loss: 0.4353 - accuracy: 0.8252\n",
      "Epoch 21: val_accuracy did not improve from 0.82821\n",
      "422/422 [==============================] - 155s 367ms/step - loss: 0.4353 - accuracy: 0.8252 - val_loss: 0.4882 - val_accuracy: 0.8219\n",
      "Epoch 22/50\n",
      "422/422 [==============================] - ETA: 0s - loss: 0.4320 - accuracy: 0.8303\n",
      "Epoch 22: val_accuracy did not improve from 0.82821\n",
      "422/422 [==============================] - 142s 336ms/step - loss: 0.4320 - accuracy: 0.8303 - val_loss: 0.4860 - val_accuracy: 0.8185\n",
      "Epoch 23/50\n",
      "422/422 [==============================] - ETA: 0s - loss: 0.4320 - accuracy: 0.8301\n",
      "Epoch 23: val_accuracy did not improve from 0.82821\n",
      "422/422 [==============================] - 130s 309ms/step - loss: 0.4320 - accuracy: 0.8301 - val_loss: 0.4834 - val_accuracy: 0.8258\n",
      "Epoch 24/50\n",
      "422/422 [==============================] - ETA: 0s - loss: 0.4317 - accuracy: 0.8299\n",
      "Epoch 24: val_accuracy did not improve from 0.82821\n",
      "422/422 [==============================] - 191s 454ms/step - loss: 0.4317 - accuracy: 0.8299 - val_loss: 0.4840 - val_accuracy: 0.8209\n",
      "Epoch 25/50\n",
      "422/422 [==============================] - ETA: 0s - loss: 0.4299 - accuracy: 0.8297\n",
      "Epoch 25: val_accuracy improved from 0.82821 to 0.82874, saving model to /lustrehome/emanueleamato/ViT_Test/SimpleCNN_model.h5\n",
      "422/422 [==============================] - 271s 643ms/step - loss: 0.4299 - accuracy: 0.8297 - val_loss: 0.4816 - val_accuracy: 0.8287\n",
      "Epoch 26/50\n",
      "422/422 [==============================] - ETA: 0s - loss: 0.4269 - accuracy: 0.8302\n",
      "Epoch 26: val_accuracy did not improve from 0.82874\n",
      "422/422 [==============================] - 127s 301ms/step - loss: 0.4269 - accuracy: 0.8302 - val_loss: 0.4826 - val_accuracy: 0.8180\n",
      "Epoch 27/50\n",
      "422/422 [==============================] - ETA: 0s - loss: 0.4270 - accuracy: 0.8321\n",
      "Epoch 27: val_accuracy did not improve from 0.82874\n",
      "422/422 [==============================] - 123s 292ms/step - loss: 0.4270 - accuracy: 0.8321 - val_loss: 0.4822 - val_accuracy: 0.8203\n",
      "Epoch 28/50\n",
      "422/422 [==============================] - ETA: 0s - loss: 0.4267 - accuracy: 0.8315\n",
      "Epoch 28: val_accuracy improved from 0.82874 to 0.82900, saving model to /lustrehome/emanueleamato/ViT_Test/SimpleCNN_model.h5\n",
      "422/422 [==============================] - 121s 287ms/step - loss: 0.4267 - accuracy: 0.8315 - val_loss: 0.4766 - val_accuracy: 0.8290\n",
      "Epoch 29/50\n",
      "422/422 [==============================] - ETA: 0s - loss: 0.4273 - accuracy: 0.8301\n",
      "Epoch 29: val_accuracy did not improve from 0.82900\n",
      "422/422 [==============================] - 117s 278ms/step - loss: 0.4273 - accuracy: 0.8301 - val_loss: 0.4784 - val_accuracy: 0.8243\n",
      "Epoch 30/50\n",
      "422/422 [==============================] - ETA: 0s - loss: 0.4290 - accuracy: 0.8281\n",
      "Epoch 30: val_accuracy did not improve from 0.82900\n",
      "422/422 [==============================] - 117s 278ms/step - loss: 0.4290 - accuracy: 0.8281 - val_loss: 0.4745 - val_accuracy: 0.8282\n",
      "Epoch 31/50\n",
      "422/422 [==============================] - ETA: 0s - loss: 0.4271 - accuracy: 0.8303\n",
      "Epoch 31: val_accuracy did not improve from 0.82900\n",
      "422/422 [==============================] - 103s 243ms/step - loss: 0.4271 - accuracy: 0.8303 - val_loss: 0.4779 - val_accuracy: 0.8253\n",
      "Epoch 32/50\n",
      "422/422 [==============================] - ETA: 0s - loss: 0.4227 - accuracy: 0.8321\n",
      "Epoch 32: val_accuracy did not improve from 0.82900\n",
      "422/422 [==============================] - 101s 239ms/step - loss: 0.4227 - accuracy: 0.8321 - val_loss: 0.4750 - val_accuracy: 0.8287\n",
      "Epoch 33/50\n",
      "422/422 [==============================] - ETA: 0s - loss: 0.4253 - accuracy: 0.8287\n",
      "Epoch 33: val_accuracy did not improve from 0.82900\n",
      "422/422 [==============================] - 94s 223ms/step - loss: 0.4253 - accuracy: 0.8287 - val_loss: 0.4764 - val_accuracy: 0.8237\n",
      "Epoch 34/50\n",
      "422/422 [==============================] - ETA: 0s - loss: 0.4255 - accuracy: 0.8312\n",
      "Epoch 34: val_accuracy did not improve from 0.82900\n",
      "422/422 [==============================] - 89s 211ms/step - loss: 0.4255 - accuracy: 0.8312 - val_loss: 0.4738 - val_accuracy: 0.8235\n",
      "Epoch 35/50\n",
      "422/422 [==============================] - ETA: 0s - loss: 0.4212 - accuracy: 0.8331\n",
      "Epoch 35: val_accuracy did not improve from 0.82900\n",
      "422/422 [==============================] - 89s 212ms/step - loss: 0.4212 - accuracy: 0.8331 - val_loss: 0.4764 - val_accuracy: 0.8235\n",
      "Epoch 36/50\n",
      "422/422 [==============================] - ETA: 0s - loss: 0.4207 - accuracy: 0.8338\n",
      "Epoch 36: val_accuracy did not improve from 0.82900\n",
      "422/422 [==============================] - 89s 211ms/step - loss: 0.4207 - accuracy: 0.8338 - val_loss: 0.4739 - val_accuracy: 0.8185\n",
      "Epoch 37/50\n",
      "422/422 [==============================] - ETA: 0s - loss: 0.4227 - accuracy: 0.8311\n",
      "Epoch 37: val_accuracy did not improve from 0.82900\n",
      "422/422 [==============================] - 141s 335ms/step - loss: 0.4227 - accuracy: 0.8311 - val_loss: 0.4732 - val_accuracy: 0.8258\n",
      "Epoch 38/50\n",
      "422/422 [==============================] - ETA: 0s - loss: 0.4192 - accuracy: 0.8330\n",
      "Epoch 38: val_accuracy did not improve from 0.82900\n",
      "422/422 [==============================] - 226s 537ms/step - loss: 0.4192 - accuracy: 0.8330 - val_loss: 0.4721 - val_accuracy: 0.8269\n",
      "Epoch 39/50\n",
      "422/422 [==============================] - ETA: 0s - loss: 0.4219 - accuracy: 0.8302\n",
      "Epoch 39: val_accuracy did not improve from 0.82900\n",
      "422/422 [==============================] - 88s 208ms/step - loss: 0.4219 - accuracy: 0.8302 - val_loss: 0.4734 - val_accuracy: 0.8269\n",
      "Epoch 40/50\n",
      "422/422 [==============================] - ETA: 0s - loss: 0.4209 - accuracy: 0.8328\n",
      "Epoch 40: val_accuracy did not improve from 0.82900\n",
      "422/422 [==============================] - 88s 209ms/step - loss: 0.4209 - accuracy: 0.8328 - val_loss: 0.4685 - val_accuracy: 0.8264\n",
      "Epoch 41/50\n",
      "422/422 [==============================] - ETA: 0s - loss: 0.4215 - accuracy: 0.8328\n",
      "Epoch 41: val_accuracy did not improve from 0.82900\n",
      "422/422 [==============================] - 83s 197ms/step - loss: 0.4215 - accuracy: 0.8328 - val_loss: 0.4699 - val_accuracy: 0.8261\n",
      "Epoch 42/50\n",
      "422/422 [==============================] - ETA: 0s - loss: 0.4197 - accuracy: 0.8281\n",
      "Epoch 42: val_accuracy improved from 0.82900 to 0.82926, saving model to /lustrehome/emanueleamato/ViT_Test/SimpleCNN_model.h5\n",
      "422/422 [==============================] - 84s 200ms/step - loss: 0.4197 - accuracy: 0.8281 - val_loss: 0.4692 - val_accuracy: 0.8293\n",
      "Epoch 43/50\n",
      "422/422 [==============================] - ETA: 0s - loss: 0.4185 - accuracy: 0.8325\n",
      "Epoch 43: val_accuracy did not improve from 0.82926\n",
      "422/422 [==============================] - 85s 202ms/step - loss: 0.4185 - accuracy: 0.8325 - val_loss: 0.4708 - val_accuracy: 0.8253\n",
      "Epoch 44/50\n",
      "422/422 [==============================] - ETA: 0s - loss: 0.4185 - accuracy: 0.8335\n",
      "Epoch 44: val_accuracy did not improve from 0.82926\n",
      "422/422 [==============================] - 81s 192ms/step - loss: 0.4185 - accuracy: 0.8335 - val_loss: 0.4704 - val_accuracy: 0.8287\n",
      "Epoch 45/50\n",
      "422/422 [==============================] - ETA: 0s - loss: 0.4168 - accuracy: 0.8305\n",
      "Epoch 45: val_accuracy did not improve from 0.82926\n",
      "422/422 [==============================] - 83s 198ms/step - loss: 0.4168 - accuracy: 0.8305 - val_loss: 0.4701 - val_accuracy: 0.8222\n",
      "Epoch 46/50\n",
      "422/422 [==============================] - ETA: 0s - loss: 0.4175 - accuracy: 0.8320\n",
      "Epoch 46: val_accuracy did not improve from 0.82926\n",
      "422/422 [==============================] - 80s 190ms/step - loss: 0.4175 - accuracy: 0.8320 - val_loss: 0.4685 - val_accuracy: 0.8216\n",
      "Epoch 47/50\n",
      "422/422 [==============================] - ETA: 0s - loss: 0.4190 - accuracy: 0.8287\n",
      "Epoch 47: val_accuracy improved from 0.82926 to 0.83005, saving model to /lustrehome/emanueleamato/ViT_Test/SimpleCNN_model.h5\n",
      "422/422 [==============================] - 81s 192ms/step - loss: 0.4190 - accuracy: 0.8287 - val_loss: 0.4657 - val_accuracy: 0.8300\n",
      "Epoch 48/50\n",
      "422/422 [==============================] - ETA: 0s - loss: 0.4171 - accuracy: 0.8321\n",
      "Epoch 48: val_accuracy improved from 0.83005 to 0.83084, saving model to /lustrehome/emanueleamato/ViT_Test/SimpleCNN_model.h5\n",
      "422/422 [==============================] - 85s 202ms/step - loss: 0.4171 - accuracy: 0.8321 - val_loss: 0.4650 - val_accuracy: 0.8308\n",
      "Epoch 49/50\n",
      "422/422 [==============================] - ETA: 0s - loss: 0.4155 - accuracy: 0.8321\n",
      "Epoch 49: val_accuracy did not improve from 0.83084\n",
      "422/422 [==============================] - 135s 320ms/step - loss: 0.4155 - accuracy: 0.8321 - val_loss: 0.4694 - val_accuracy: 0.8201\n",
      "Epoch 50/50\n",
      "422/422 [==============================] - ETA: 0s - loss: 0.4154 - accuracy: 0.8345\n",
      "Epoch 50: val_accuracy did not improve from 0.83084\n",
      "422/422 [==============================] - 182s 432ms/step - loss: 0.4154 - accuracy: 0.8345 - val_loss: 0.4704 - val_accuracy: 0.8237\n"
     ]
    }
   ],
   "source": [
    "# Train the model\n",
    "history=model.fit(\n",
    "    train_generator,\n",
    "    epochs=numberOfEpochs,\n",
    "    verbose=1,\n",
    "    validation_data=validation_generator,\n",
    "    callbacks = [bestModel])\n"
   ]
  },
  {
   "cell_type": "code",
   "execution_count": null,
   "id": "8bf483b0-5971-4079-a4f1-5d987113c696",
   "metadata": {},
   "outputs": [],
   "source": [
    "# Save the trained model\n",
    "model.save('fine_tuned_resnet50_LSTM_model.h5')"
   ]
  },
  {
   "cell_type": "code",
   "execution_count": null,
   "id": "b0fe821a-ff1b-44e3-afc8-cf1fc99afdd4",
   "metadata": {},
   "outputs": [],
   "source": []
  },
  {
   "cell_type": "code",
   "execution_count": null,
   "id": "a30366b3-838f-46c6-b631-cd678b1cf485",
   "metadata": {},
   "outputs": [],
   "source": []
  },
  {
   "cell_type": "markdown",
   "id": "ba720d1d-db0f-4873-83b9-767d78444227",
   "metadata": {},
   "source": [
    "- **Accuracy**\n",
    "- **Plots**"
   ]
  },
  {
   "cell_type": "code",
   "execution_count": 38,
   "id": "c62067ba-b749-41bb-9a38-ede19b790a3b",
   "metadata": {},
   "outputs": [],
   "source": [
    "#display the result using pyplot\n",
    "acc = history.history['accuracy']\n",
    "val_acc=history.history['val_accuracy']\n",
    "loss = history.history['loss']\n",
    "val_loss= history.history['val_loss'] \n",
    "epochs=range(len(acc)) #for the max value in the diagram"
   ]
  },
  {
   "cell_type": "code",
   "execution_count": 39,
   "id": "ec293004-1a5e-4337-bf95-27fc8e7afb98",
   "metadata": {},
   "outputs": [
    {
     "data": {
      "image/png": "[encoded data removed]",
      "text/plain": [
       "<Figure size 1400x700 with 1 Axes>"
      ]
     },
     "metadata": {},
     "output_type": "display_data"
    }
   ],
   "source": [
    "#accuracy chart \n",
    "import matplotlib.pyplot as plt\n",
    "\n",
    "fig= plt.figure(figsize=(14,7))\n",
    "plt.plot(epochs,acc,'r', label=\"Train_accuracy\")\n",
    "plt.plot(epochs,val_acc,'b', label=\"Validation_accuracy\")\n",
    "plt.xlabel('Epochs')\n",
    "plt.ylabel('Accuracy')\n",
    "plt.title('Model Accuracy')\n",
    "plt.legend(loc='lower right')\n",
    "plt.show()"
   ]
  },
  {
   "cell_type": "code",
   "execution_count": null,
   "id": "bc17f0de-677a-4d7d-9f42-bc738b0f6b77",
   "metadata": {},
   "outputs": [],
   "source": []
  },
  {
   "cell_type": "code",
   "execution_count": null,
   "id": "b1be5e2a-50e6-4792-a179-92539420ffc2",
   "metadata": {},
   "outputs": [],
   "source": []
  },
  {
   "cell_type": "code",
   "execution_count": null,
   "id": "17ef55a8-6dcd-4dfe-ac0f-bf8562eaf5f8",
   "metadata": {},
   "outputs": [],
   "source": []
  },
  {
   "cell_type": "code",
   "execution_count": null,
   "id": "0f45f171-2b9f-449b-985e-2c7056561e95",
   "metadata": {},
   "outputs": [],
   "source": []
  },
  {
   "cell_type": "code",
   "execution_count": null,
   "id": "bea5f8d9-9838-4e9b-87c0-59fe24243733",
   "metadata": {},
   "outputs": [],
   "source": []
  }
 ],
 "metadata": {
  "kernelspec": {
   "display_name": "Python 3 (ipykernel)",
   "language": "python",
   "name": "python3"
  },
  "language_info": {
   "codemirror_mode": {
    "name": "ipython",
    "version": 3
   },
   "file_extension": ".py",
   "mimetype": "text/x-python",
   "name": "python",
   "nbconvert_exporter": "python",
   "pygments_lexer": "ipython3",
   "version": "3.8.10"
  }
 },
 "nbformat": 4,
 "nbformat_minor": 5
}
