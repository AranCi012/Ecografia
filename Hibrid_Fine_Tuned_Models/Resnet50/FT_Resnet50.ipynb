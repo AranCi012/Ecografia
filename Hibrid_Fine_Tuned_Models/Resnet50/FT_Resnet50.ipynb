{
 "cells": [
  {
   "cell_type": "markdown",
   "id": "ff1944aa-941d-4ea2-95e0-5861f87f8c52",
   "metadata": {},
   "source": [
    "- **Controllo se la GPU di Recas è disponibile**"
   ]
  },
  {
   "cell_type": "code",
   "execution_count": null,
   "id": "79da96dd-fbeb-4b16-8a74-321d2f5c6c4f",
   "metadata": {},
   "outputs": [],
   "source": [
    "import tensorflow as tf\n",
    "\n",
    "# Configure GPU options\n",
    "gpus = tf.config.experimental.list_physical_devices('GPU')\n",
    "if gpus:\n",
    "    try:\n",
    "        # Currently, memory growth needs to be the same across GPUs\n",
    "        for gpu in gpus:\n",
    "            tf.config.experimental.set_memory_growth(gpu, True)\n",
    "        logical_gpus = tf.config.experimental.list_logical_devices('GPU')\n",
    "        print(len(gpus), \"Physical GPUs,\", len(logical_gpus), \"Logical GPUs\")\n",
    "    except RuntimeError as e:\n",
    "        # Memory growth must be set before GPUs have been initialized\n",
    "        print(e)"
   ]
  },
  {
   "cell_type": "markdown",
   "id": "16d86b09-bb31-4065-8721-e7b5f1994d71",
   "metadata": {},
   "source": [
    "- **La Gpu Recas ha una NVIDIA A100 2970MB memoria; ne limito l'utilizzo di memoria**"
   ]
  },
  {
   "cell_type": "code",
   "execution_count": null,
   "id": "512a4a6b-c119-4f72-9318-84a94299d128",
   "metadata": {},
   "outputs": [],
   "source": [
    "import tensorflow as tf\n",
    "\n",
    "# Limit memory growth\n",
    "gpus = tf.config.experimental.list_physical_devices('GPU')\n",
    "if gpus:\n",
    "    for gpu in gpus:\n",
    "        tf.config.experimental.set_virtual_device_configuration(\n",
    "            gpu,\n",
    "            [tf.config.experimental.VirtualDeviceConfiguration(memory_limit=2970)])"
   ]
  },
  {
   "cell_type": "code",
   "execution_count": null,
   "id": "c3f0150a-941b-471a-aba5-ccc6e41b3d3e",
   "metadata": {},
   "outputs": [],
   "source": [
    "import sys\n",
    "sys.path.append('/usr/local/lib/python3.8/dist-packages/torch/__init__.py')\n",
    "sys.path.append('/lustrehome/emanueleamato/.local/lib/python3.11/site-packages')\n",
    "import splitfolders\n",
    "from tensorflow.keras.applications import ResNet50\n",
    "from tensorflow.keras.models import Model\n",
    "from tensorflow.keras.layers import Dense, GlobalAveragePooling2D\n",
    "from tensorflow.keras.optimizers import Adam\n",
    "from keras.preprocessing import image\n",
    "from tensorflow.keras.callbacks import EarlyStopping, ModelCheckpoint\n",
    "from tensorflow.keras.preprocessing.image import ImageDataGenerator\n",
    "\n"
   ]
  },
  {
   "cell_type": "code",
   "execution_count": null,
   "id": "8333a28e-306b-445c-8bb7-2f5bcc910f75",
   "metadata": {},
   "outputs": [],
   "source": [
    "n_classes=2\n",
    "imgWidth= 224\n",
    "imgHeight = 224\n",
    "numberOfEpochs=130\n",
    "batchSize = 8\n",
    "learning_rate=0.001"
   ]
  },
  {
   "cell_type": "code",
   "execution_count": null,
   "id": "44210645-5277-4c3c-9543-1c6c9d4a38d6",
   "metadata": {},
   "outputs": [],
   "source": []
  },
  {
   "cell_type": "code",
   "execution_count": null,
   "id": "fe2668c8-925e-4bb2-97e5-647fe4a2d26e",
   "metadata": {},
   "outputs": [],
   "source": [
    "#Data Augumentation -> reduce overfitting when training a machine learning model,by training models on several slightly-modified copies of existing data.\n",
    "TrainingDirectory= \"/lustrehome/emanueleamato/ViT_Test/Train\"\n",
    "train_Datagen = ImageDataGenerator(rescale = 1/255.0,\n",
    "                                   rotation_range=30,\n",
    "                                   zoom_range=0.4,\n",
    "                                   horizontal_flip= True,\n",
    "                                   shear_range=0.4)\n",
    "\n",
    "train_generator = train_Datagen.flow_from_directory(TrainingDirectory,\n",
    "                                                    batch_size=batchSize,\n",
    "                                                    class_mode= 'categorical',\n",
    "                                                    target_size=(imgWidth,imgHeight))"
   ]
  },
  {
   "cell_type": "code",
   "execution_count": null,
   "id": "e45ec7d7-f633-4d41-b6b0-0a0372111808",
   "metadata": {},
   "outputs": [],
   "source": [
    "ValidationDirectory= \"/lustrehome/emanueleamato/ViT_Test/Validation\"\n",
    "\n",
    "#Validation Dataset should not be modified \n",
    "validation_Datagen = ImageDataGenerator(rescale = 1/255.0)\n",
    "\n",
    "validation_generator = train_Datagen.flow_from_directory(ValidationDirectory,\n",
    "                                                    batch_size=batchSize,\n",
    "                                                    class_mode= 'categorical',\n",
    "                                                    target_size=(imgWidth,imgHeight))\n"
   ]
  },
  {
   "cell_type": "markdown",
   "id": "5c8ec2ce-34d1-476c-b660-420120c8b0f1",
   "metadata": {},
   "source": [
    "- **Fine Tuning**"
   ]
  },
  {
   "cell_type": "code",
   "execution_count": null,
   "id": "79387d80-7896-4b84-a088-18e45861ab5d",
   "metadata": {},
   "outputs": [],
   "source": [
    "\n",
    "# Load pre-trained ResNet50 model without top layers\n",
    "base_model = ResNet50(weights='imagenet', include_top=False, input_shape=(imgWidth, imgHeight, 3))\n",
    "\n",
    "\n",
    "# Add custom classification layers\n",
    "x = base_model.output\n",
    "x = Flatten()(x)\n",
    "#x = Dropout(0.5)(x)\n",
    "x = Dense(64, activation='sigmoid', kernel_regularizer=l2(0.0001))(x)\n",
    "x = Dropout(0.5)(x)\n",
    "x = Dense(2, activation='sigmoid')(x)\n",
    "\n",
    "# Define the fine-tuned model\n",
    "model = Model(inputs=base_model.input, outputs=x)\n",
    "\n",
    "#Freeze base layers if needed\n",
    "for layer in base_model.layers:\n",
    "    layer.trainable = False\n",
    "\n",
    "model.compile(optimizer=Adam(lr=learning_rate), \n",
    "              loss='categorical_crossentropy', \n",
    "              metrics=['accuracy'])\n"
   ]
  },
  {
   "cell_type": "code",
   "execution_count": null,
   "id": "ccb68fc7-6ed2-48a7-8b69-18b714dca4ca",
   "metadata": {},
   "outputs": [],
   "source": [
    "# early stopping \n",
    "\n",
    "callback = EarlyStopping(monitor='val_loss', patience =5, verbose =1, mode = 'auto')\n",
    "\n",
    "#if we find a better moder we will save it here: \n",
    "\n",
    "bestModelFileName=  \"/lustrehome/emanueleamato/ViT_Test/fine_tuned_resnet50_model.h5\"\n",
    "bestModel= ModelCheckpoint(bestModelFileName,monitor='val_accuracy', verbose=1,save_best_only=True)"
   ]
  },
  {
   "cell_type": "code",
   "execution_count": null,
   "id": "5e70453e-27b3-43db-9281-eeb69361e268",
   "metadata": {},
   "outputs": [],
   "source": [
    "# Train the model\n",
    "history=model.fit(\n",
    "    train_generator,\n",
    "    epochs=numberOfEpochs,\n",
    "    verbose=1,\n",
    "    validation_data=validation_generator,\n",
    "    callbacks = [bestModel])"
   ]
  },
  {
   "cell_type": "code",
   "execution_count": null,
   "id": "07c2eb80-d610-407f-91f4-9c5ca2fb2f44",
   "metadata": {},
   "outputs": [],
   "source": [
    "model.summary()"
   ]
  },
  {
   "cell_type": "code",
   "execution_count": null,
   "id": "c2a68856-978c-4a7b-8093-a23ccc5ed969",
   "metadata": {},
   "outputs": [],
   "source": [
    "# Save the trained model\n",
    "model.save('fine_tuned_resnet50_model.h5')"
   ]
  },
  {
   "cell_type": "markdown",
   "id": "a266b2c1-c9ce-47a1-ae2f-4b13a55cc217",
   "metadata": {},
   "source": [
    "- **<u>Prima di addestrare il modello tieni bene in chiaro che si creano file nascosti da dover trattare ( Vanno Eliminati )</u>**\n",
    "- Fallo da terminale\n",
    "\n",
    "It’s necessary to freeze the convolution base of the conv base in order to be able to train a randomly initialized classifier on top. For the same reason, it’s only possible to fine-tune the top layers of the convolutional base **once the classifier on top has already been trained**. If the classifier isn’t already trained, then the error signal propagating through the network during training will be too large, and the representations previously learned by the layers being fine-tuned will be destroyed\n",
    "\n",
    "Below, first train with no limit to lr - with conv_base frozen - only my top layers\n",
    "\n",
    "Then, unfreeze last model conv block , recompile and train all with LOW lr=1e-5"
   ]
  },
  {
   "cell_type": "code",
   "execution_count": null,
   "id": "e017bdc1-0458-4ad8-a609-61ef6565b708",
   "metadata": {},
   "outputs": [],
   "source": []
  },
  {
   "cell_type": "markdown",
   "id": "36df58f9-2485-4ccf-adf7-631553b69d7a",
   "metadata": {},
   "source": [
    "### Plot Section"
   ]
  },
  {
   "cell_type": "code",
   "execution_count": null,
   "id": "fdda5637-8e9e-4d97-a9ff-8eac56770ace",
   "metadata": {},
   "outputs": [],
   "source": [
    "#display the result using pyplot\n",
    "acc = history.history['accuracy']\n",
    "val_acc=history.history['val_accuracy']\n",
    "loss = history.history['loss']\n",
    "val_loss= history.history['val_loss'] \n",
    "epochs=range(len(acc)) #for the max value in the diagram"
   ]
  },
  {
   "cell_type": "code",
   "execution_count": null,
   "id": "c52be485-aeb4-4e3e-86a3-1fd2e836cca4",
   "metadata": {},
   "outputs": [],
   "source": [
    "#accuracy chart \n",
    "\n",
    "fig= plt.figure(figsize=(14,7))\n",
    "plt.plot(epochs,acc,'r', label=\"Train_accuracy\")\n",
    "plt.plot(epochs,val_acc,'b', label=\"Validation_accuracy\")\n",
    "plt.xlabel('Epochs')\n",
    "plt.ylabel('Accuracy')\n",
    "plt.title('Model Accuracy')\n",
    "plt.legend(loc='lower right')\n",
    "plt.show()"
   ]
  },
  {
   "cell_type": "code",
   "execution_count": null,
   "id": "03464772-5152-4db6-adf2-121a449b9b44",
   "metadata": {},
   "outputs": [],
   "source": []
  },
  {
   "cell_type": "code",
   "execution_count": null,
   "id": "f94f9f90-691c-4230-9ed0-bc49db3dcb27",
   "metadata": {},
   "outputs": [],
   "source": [
    "#loss chart \n",
    "\n",
    "fig2= plt.figure(figsize=(14,7))\n",
    "plt.plot(epochs,loss,'r', label=\"Train_loss\")\n",
    "plt.plot(epochs,val_loss,'', label=\"Validation_loss\")\n",
    "plt.xlabel('Epochs')\n",
    "plt.ylabel('Accuracy')\n",
    "plt.title('Train and validation loss')\n",
    "plt.legend(loc='lower right')\n",
    "plt.show()"
   ]
  },
  {
   "cell_type": "code",
   "execution_count": null,
   "id": "1c86f6e2-8ce3-47c1-900a-6b21307d9bc6",
   "metadata": {},
   "outputs": [],
   "source": []
  },
  {
   "cell_type": "code",
   "execution_count": null,
   "id": "15ecfbfd-c0dc-4b26-a214-89aa2d6bda84",
   "metadata": {},
   "outputs": [],
   "source": []
  }
 ],
 "metadata": {
  "kernelspec": {
   "display_name": "Python 3",
   "language": "python",
   "name": "python3"
  },
  "language_info": {
   "codemirror_mode": {
    "name": "ipython",
    "version": 3
   },
   "file_extension": ".py",
   "mimetype": "text/x-python",
   "name": "python",
   "nbconvert_exporter": "python",
   "pygments_lexer": "ipython3",
   "version": "3.8.8"
  }
 },
 "nbformat": 4,
 "nbformat_minor": 5
}
