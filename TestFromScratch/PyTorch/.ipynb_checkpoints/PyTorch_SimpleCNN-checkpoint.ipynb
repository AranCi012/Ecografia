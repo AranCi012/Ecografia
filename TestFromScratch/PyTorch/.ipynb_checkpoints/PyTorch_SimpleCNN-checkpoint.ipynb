{
 "cells": [
  {
   "cell_type": "code",
   "execution_count": null,
   "id": "88f6aab7-f376-4d5f-bc74-4c8f2b5ec6bf",
   "metadata": {},
   "outputs": [],
   "source": [
    "import sys \n",
    "sys.path.append('/lustrehome/emanueleamato/.local/lib/python3.11/site-packages')\n",
    "import torch\n",
    "import numpy as np\n",
    "import torchvision\n",
    "import torch.nn as nn\n",
    "import torch.optim as optim\n",
    "import torchvision.transforms as transforms\n",
    "from torch.utils.data import DataLoader\n",
    "from torchvision import datasets"
   ]
  },
  {
   "cell_type": "markdown",
   "id": "7b406613-5b02-4813-832b-9d29bb799712",
   "metadata": {},
   "source": [
    "Controllo la shape delle immagini per definire il modello di DL"
   ]
  },
  {
   "cell_type": "code",
   "execution_count": null,
   "id": "fa77a81f-527f-4e41-8acb-48ff71d66922",
   "metadata": {},
   "outputs": [],
   "source": [
    "dataset_path ='/lustrehome/emanueleamato/ViT_Test/Train'\n",
    "custom_dataset = datasets.ImageFolder(root=dataset_path)\n",
    "\n",
    "# Ottieni una singola immagine dal dataset\n",
    "image_pil, _ = custom_dataset[0]\n",
    "\n",
    "# Converti l'immagine PIL in un array NumPy\n",
    "image_np = np.array(image_pil)\n",
    "\n",
    "# Controlla il numero di canali dell'immagine\n",
    "num_channels = image_np.shape  # Assumendo che l'immagine sia nel formato (H, W, C) dopo la conversione\n",
    "print(\"Numero di canali dell'immagine nel dataset:\", num_channels)"
   ]
  },
  {
   "cell_type": "code",
   "execution_count": null,
   "id": "342d8831-c517-49fc-b4e1-7199d501dfe9",
   "metadata": {},
   "outputs": [],
   "source": []
  },
  {
   "cell_type": "code",
   "execution_count": null,
   "id": "0f033bef-93d6-4c4f-b1aa-3535373bd435",
   "metadata": {},
   "outputs": [],
   "source": [
    "# Definizione della CNN leggera\n",
    "\n",
    "class SimpleCNN(nn.Module):\n",
    "    def __init__(self):\n",
    "        super(SimpleCNN, self).__init__()\n",
    "        \n",
    "        self.conv1 = nn.Conv2d(in_channels=3, out_channels=16, kernel_size=3, stride=1, padding=1)\n",
    "        self.act1 = nn.ReLU()\n",
    "        self.drop1 = nn.Dropout(0.3)\n",
    "        self.conv2 = nn.Conv2d(in_channels=16, out_channels=32, kernel_size=3, stride=1, padding=1)\n",
    "        self.act2 = nn.ReLU()  \n",
    "        self.pool2 = nn.MaxPool2d(kernel_size=(2, 2),stride=2)\n",
    "        self.conv3 = nn.Conv2d(in_channels=32, out_channels=64, kernel_size=3, stride=1, padding=1)\n",
    "        self.pool3 = nn.MaxPool2d(kernel_size=(2, 2), stride=2)\n",
    "        self.relu = nn.ReLU()\n",
    "        self.fc1 = nn.Linear(64 * 56 * 56, 128)  \n",
    "        self.fc2 = nn.Linear(128, 2)\n",
    "\n",
    "    def forward(self, x):\n",
    "        # Passo 1: Convoluzione -> Attivazione -> Dropout\n",
    "        x = self.conv1(x)\n",
    "        x = self.act1(x)\n",
    "        x = self.drop1(x)\n",
    "        \n",
    "        # Passo 2: Convoluzione -> Attivazione -> Pooling\n",
    "        x = self.conv2(x)\n",
    "        x = self.act2(x)\n",
    "        x = self.pool2(x)\n",
    "        \n",
    "        # Passo 3: Convoluzione -> Pooling\n",
    "        x = self.conv3(x)\n",
    "        x = self.pool3(x)\n",
    "        \n",
    "        # Appiattimento (flatten)\n",
    "        x = torch.flatten(x, 1)\n",
    "        \n",
    "        # Passo 4: Fully Connected Layer -> Attivazione\n",
    "        x = self.fc1(x)\n",
    "        x = self.relu(x)\n",
    "        \n",
    "        # Passo 5: Fully Connected Layer (output layer)\n",
    "        x = self.fc2(x)\n",
    "        \n",
    "        return x\n"
   ]
  },
  {
   "cell_type": "markdown",
   "id": "967af68c-73ae-451a-8ac6-273459184e21",
   "metadata": {},
   "source": [
    "Controllo la dimensione dei miei tensori  "
   ]
  },
  {
   "cell_type": "code",
   "execution_count": null,
   "id": "859410ee-01ea-47eb-945f-572fb5929563",
   "metadata": {},
   "outputs": [],
   "source": [
    "x=torch.ones((324,3,224,224))\n",
    "model=SimpleCNN()\n",
    "model(x).shape"
   ]
  },
  {
   "cell_type": "code",
   "execution_count": null,
   "id": "f6dd4b05-ccab-40e2-a7ec-f432e7624ad7",
   "metadata": {},
   "outputs": [],
   "source": []
  },
  {
   "cell_type": "code",
   "execution_count": null,
   "id": "f69e31d3-9326-4a83-b092-7af05115f0ff",
   "metadata": {},
   "outputs": [],
   "source": [
    "device = torch.device('cuda' if torch.cuda.is_available() else 'cpu')\n",
    "print(device)"
   ]
  },
  {
   "cell_type": "markdown",
   "id": "afcec6b2-809f-4053-9fe0-aa7489c05dfe",
   "metadata": {},
   "source": [
    "# Addestro il modello "
   ]
  },
  {
   "cell_type": "code",
   "execution_count": null,
   "id": "88221864-3699-4384-9266-3a7b267276a6",
   "metadata": {},
   "outputs": [],
   "source": [
    "# Iperparametri\n",
    "batch_size = 324\n",
    "learning_rate = 0.001\n",
    "num_epochs = 5\n",
    "\n",
    "# Trasformazioni per il tuo dataset di immagini\n",
    "transform = transforms.Compose([\n",
    "    transforms.Resize((224, 224)),  # Adatta le dimensioni delle immagini alle esigenze della CNN\n",
    "    transforms.ToTensor(),\n",
    "])\n",
    "\n",
    "#Questi tensori sono sulla CPU, poichè sposterò il modello sulla GPU, anche i Tensori devono andare in GPU altriemnti sarebbe un problema.\n",
    "train_ds = torchvision.datasets.ImageFolder('/lustrehome/emanueleamato/ViT_Test/Train', transform=transform)\n",
    "test_ds = torchvision.datasets.ImageFolder('/lustrehome/emanueleamato/ViT_Test/Test', transform=transform)\n",
    "\n",
    "print(\"Number of train samples: \", len(train_ds))\n",
    "print(\"Number of test samples: \", len(test_ds))\n",
    "print(\"Detected Classes are: \", train_ds.class_to_idx)\n",
    "\n",
    "# Crea i dataloader\n",
    "train_loader = DataLoader(dataset=train_ds, batch_size=batch_size, shuffle=True)\n",
    "test_loader = DataLoader(dataset=test_ds, batch_size=batch_size, shuffle=False)\n",
    "\n",
    "# Definisci il modello\n",
    "model = SimpleCNN()\n",
    "\n",
    "# Definisci la funzione di perdita e l'ottimizzatore\n",
    "criterion = nn.CrossEntropyLoss()\n",
    "optimizer = optim.Adam(model.parameters(), lr=learning_rate)\n",
    "\n",
    "# Addestra il modello\n",
    "for epoch in range(num_epochs):\n",
    "    model.train()\n",
    "    running_loss = 0.0\n",
    "    correct_predictions = 0\n",
    "    total_predictions = 0\n",
    "    \n",
    "    for batch_idx, (images, labels) in enumerate(train_loader):\n",
    "\n",
    "        optimizer.zero_grad()\n",
    "        \n",
    "        #Sposto i tensori delle immagini contenuti nel trainloader in CPU sulla GPU\n",
    "        #images.to(device)\n",
    "        \n",
    "        outputs = model(images)\n",
    "        loss = criterion(outputs, labels)\n",
    "        loss.backward()\n",
    "        optimizer.step()\n",
    "        \n",
    "        running_loss += loss.item() * images.size(0)\n",
    "        \n",
    "        # Calcola l'accuratezza per batch\n",
    "        _, predicted = torch.max(outputs, 1)\n",
    "        correct_predictions += (predicted == labels).sum().item()\n",
    "        total_predictions += labels.size(0)\n",
    "        \n",
    "        # Stampa l'accuratezza per batch\n",
    "        batch_accuracy = (correct_predictions / total_predictions) * 100.0\n",
    "        print(f'Epoch [{epoch+1}/{num_epochs}], Batch [{batch_idx+1}/{len(train_loader)}], '\n",
    "              f'Loss: {loss.item():.4f}, Accuracy: {batch_accuracy:.2f}%')\n",
    "    \n",
    "    # Calcola la perdita media per epoca\n",
    "    epoch_loss = running_loss / len(train_loader.dataset)\n",
    "    print(f'Epoch [{epoch+1}/{num_epochs}], Loss: {epoch_loss:.4f}, Accuracy: {batch_accuracy:.2f}%')\n"
   ]
  },
  {
   "cell_type": "code",
   "execution_count": null,
   "id": "b1c234a7-04a3-420a-9475-d6d0b7b4c381",
   "metadata": {},
   "outputs": [],
   "source": []
  }
 ],
 "metadata": {
  "kernelspec": {
   "display_name": "Python 3",
   "language": "python",
   "name": "python3"
  },
  "language_info": {
   "codemirror_mode": {
    "name": "ipython",
    "version": 3
   },
   "file_extension": ".py",
   "mimetype": "text/x-python",
   "name": "python",
   "nbconvert_exporter": "python",
   "pygments_lexer": "ipython3",
   "version": "3.8.8"
  }
 },
 "nbformat": 4,
 "nbformat_minor": 5
}
