{
 "cells": [
  {
   "cell_type": "code",
   "execution_count": 2,
   "id": "98bc540a-9112-4bba-bf59-401b8ddbba84",
   "metadata": {},
   "outputs": [],
   "source": [
    "import pandas as pd\n",
    "import numpy as np\n",
    "import seaborn as sns\n",
    "import matplotlib.pyplot as plt\n",
    "\n",
    "#Preprocessing\n",
    "from sklearn.preprocessing import MinMaxScaler,StandardScaler\n",
    "\n",
    "#Metric-utils\n",
    "from sklearn.metrics import confusion_matrix, roc_auc_score, roc_curve,accuracy_score\n",
    "from sklearn.utils.class_weight import compute_class_weight\n",
    "\n",
    "#Feature Importance\n",
    "import shap\n",
    "from boruta import BorutaPy\n",
    "\n",
    "#Classifier-utils\n",
    "from sklearn import svm\n",
    "from sklearn.ensemble import RandomForestClassifier\n",
    "from sklearn.model_selection import train_test_split \n",
    "from sklearn.model_selection import StratifiedKFold\n",
    "from sklearn.model_selection import LeaveOneOut\n",
    "\n",
    "\n",
    "#Imbalanced Learning\n",
    "from imblearn.combine import SMOTEENN\n",
    "from imblearn.over_sampling import SMOTE, ADASYN,SMOTENC, BorderlineSMOTE,SVMSMOTE,KMeansSMOTE\n",
    "from imblearn.over_sampling import RandomOverSampler"
   ]
  },
  {
   "cell_type": "code",
   "execution_count": 3,
   "id": "af4f14fc-265a-4649-ba34-ecfd388595d3",
   "metadata": {},
   "outputs": [],
   "source": [
    "df=pd.read_csv('/users/emanueleamato/Desktop/PHD_Projects/Eco/Dataset/AnalisiPaper/4CHES/Medium vs Poor/Medium_Poor.csv')"
   ]
  },
  {
   "cell_type": "markdown",
   "id": "3c0058c3-2d1d-4fd4-9009-f1ebb7a20a3b",
   "metadata": {},
   "source": [
    "### DataFrame Preprocessing Steps:\n",
    "- Scale the values between 0 and 1.\n",
    "- As you're using SVM and not Random Forest, you won't use Boruta for feature selection but rather feature importance with shap.\n",
    "- Disclaimer: To perform feature importance with SHAP, you need to save the vector of feature names (columns) to use them in the final plots.\n",
    "\n",
    "### Feature Names Vector:\n",
    "- Save the vector of feature names to use in SHAP plots for interpretation and analysis."
   ]
  },
  {
   "cell_type": "code",
   "execution_count": 17,
   "id": "a80fcfc2-a60f-41c5-9c2f-a550c2db5a59",
   "metadata": {},
   "outputs": [],
   "source": [
    "df_filtered_normalized = df_filtered.copy()\n",
    "x = df_filtered.iloc[:, 2:]\n",
    "scaler = MinMaxScaler(feature_range=(0, 1))\n",
    "x_scaled = scaler.fit_transform(x)\n"
   ]
  },
  {
   "cell_type": "markdown",
   "id": "6642c113-9235-4c61-8a57-b5467bef43c8",
   "metadata": {},
   "source": [
    "- x_scaled transforms the df structure in a numpy array\n",
    "- I need to overwrite the past df with the normalized values between 0 and 1"
   ]
  },
  {
   "cell_type": "code",
   "execution_count": 18,
   "id": "34e8a48c-a716-457e-b517-47a156a0c6da",
   "metadata": {},
   "outputs": [
    {
     "name": "stdout",
     "output_type": "stream",
     "text": [
      "['contrast_0°', 'energy_0°', 'homogeneity_0°', 'correlation_0°', 'dissimilarity_0°', 'contrast_45°', 'energy_45°', 'homogeneity_45°', 'correlation_45°', 'dissimilarity_45°', 'contrast_90°', 'energy_90°', 'homogeneity_90°', 'correlation_90°', 'dissimilarity_90°', 'contrast_135°', 'energy_135°', 'homogeneity_135°', 'correlation_135°', 'dissimilarity_135°', 'hist_mean', 'hist_std', 'hist_skewness', 'hist_kurtosis', 'hist_maximum', 'hist_variance', 'hist_percentile_50', 'hist_percentile_75', 'hist_entropy', 'hist_uniformity']\n"
     ]
    }
   ],
   "source": [
    "df_filtered_normalized.iloc[:, 2:] = x_scaled\n",
    "feature_names = df_filtered.columns[2:].tolist()\n",
    "print(feature_names)"
   ]
  },
  {
   "cell_type": "code",
   "execution_count": 23,
   "id": "1d4777eb-c267-49c4-b7cf-0a359babc157",
   "metadata": {},
   "outputs": [
    {
     "data": {
      "text/html": [
       "<div>\n",
       "<style scoped>\n",
       "    .dataframe tbody tr th:only-of-type {\n",
       "        vertical-align: middle;\n",
       "    }\n",
       "\n",
       "    .dataframe tbody tr th {\n",
       "        vertical-align: top;\n",
       "    }\n",
       "\n",
       "    .dataframe thead th {\n",
       "        text-align: right;\n",
       "    }\n",
       "</style>\n",
       "<table border=\"1\" class=\"dataframe\">\n",
       "  <thead>\n",
       "    <tr style=\"text-align: right;\">\n",
       "      <th></th>\n",
       "      <th>contrast_0°</th>\n",
       "      <th>energy_0°</th>\n",
       "      <th>homogeneity_0°</th>\n",
       "      <th>correlation_0°</th>\n",
       "      <th>dissimilarity_0°</th>\n",
       "      <th>contrast_45°</th>\n",
       "      <th>energy_45°</th>\n",
       "      <th>homogeneity_45°</th>\n",
       "      <th>correlation_45°</th>\n",
       "      <th>dissimilarity_45°</th>\n",
       "      <th>...</th>\n",
       "      <th>hist_mean</th>\n",
       "      <th>hist_std</th>\n",
       "      <th>hist_skewness</th>\n",
       "      <th>hist_kurtosis</th>\n",
       "      <th>hist_maximum</th>\n",
       "      <th>hist_variance</th>\n",
       "      <th>hist_percentile_50</th>\n",
       "      <th>hist_percentile_75</th>\n",
       "      <th>hist_entropy</th>\n",
       "      <th>hist_uniformity</th>\n",
       "    </tr>\n",
       "  </thead>\n",
       "  <tbody>\n",
       "    <tr>\n",
       "      <th>0</th>\n",
       "      <td>0.339666</td>\n",
       "      <td>0.371844</td>\n",
       "      <td>0.226218</td>\n",
       "      <td>0.396907</td>\n",
       "      <td>0.544944</td>\n",
       "      <td>0.601980</td>\n",
       "      <td>0.370977</td>\n",
       "      <td>0.190975</td>\n",
       "      <td>0.159555</td>\n",
       "      <td>0.747622</td>\n",
       "      <td>...</td>\n",
       "      <td>0.334741</td>\n",
       "      <td>0.341598</td>\n",
       "      <td>0.700462</td>\n",
       "      <td>0.702132</td>\n",
       "      <td>0.925926</td>\n",
       "      <td>0.241824</td>\n",
       "      <td>0.275229</td>\n",
       "      <td>0.354839</td>\n",
       "      <td>0.605140</td>\n",
       "      <td>0.369944</td>\n",
       "    </tr>\n",
       "    <tr>\n",
       "      <th>1</th>\n",
       "      <td>0.875306</td>\n",
       "      <td>0.019617</td>\n",
       "      <td>0.000000</td>\n",
       "      <td>0.541211</td>\n",
       "      <td>1.000000</td>\n",
       "      <td>0.973651</td>\n",
       "      <td>0.018911</td>\n",
       "      <td>0.000000</td>\n",
       "      <td>0.614536</td>\n",
       "      <td>1.000000</td>\n",
       "      <td>...</td>\n",
       "      <td>0.744011</td>\n",
       "      <td>0.760287</td>\n",
       "      <td>0.918463</td>\n",
       "      <td>0.919067</td>\n",
       "      <td>1.000000</td>\n",
       "      <td>0.679437</td>\n",
       "      <td>0.568807</td>\n",
       "      <td>0.733871</td>\n",
       "      <td>1.000000</td>\n",
       "      <td>0.000000</td>\n",
       "    </tr>\n",
       "    <tr>\n",
       "      <th>2</th>\n",
       "      <td>0.181515</td>\n",
       "      <td>0.532672</td>\n",
       "      <td>0.367798</td>\n",
       "      <td>0.430657</td>\n",
       "      <td>0.333344</td>\n",
       "      <td>0.212659</td>\n",
       "      <td>0.535878</td>\n",
       "      <td>0.309063</td>\n",
       "      <td>0.518432</td>\n",
       "      <td>0.391809</td>\n",
       "      <td>...</td>\n",
       "      <td>0.286285</td>\n",
       "      <td>0.227024</td>\n",
       "      <td>0.419768</td>\n",
       "      <td>0.421400</td>\n",
       "      <td>0.629630</td>\n",
       "      <td>0.149175</td>\n",
       "      <td>0.330275</td>\n",
       "      <td>0.314516</td>\n",
       "      <td>0.289647</td>\n",
       "      <td>0.561691</td>\n",
       "    </tr>\n",
       "    <tr>\n",
       "      <th>3</th>\n",
       "      <td>0.455992</td>\n",
       "      <td>0.956833</td>\n",
       "      <td>0.519171</td>\n",
       "      <td>0.766206</td>\n",
       "      <td>0.332049</td>\n",
       "      <td>0.461365</td>\n",
       "      <td>0.960272</td>\n",
       "      <td>0.406297</td>\n",
       "      <td>0.853048</td>\n",
       "      <td>0.506517</td>\n",
       "      <td>...</td>\n",
       "      <td>0.661458</td>\n",
       "      <td>0.615863</td>\n",
       "      <td>0.718166</td>\n",
       "      <td>0.720267</td>\n",
       "      <td>0.888889</td>\n",
       "      <td>0.510913</td>\n",
       "      <td>0.669725</td>\n",
       "      <td>0.725806</td>\n",
       "      <td>0.294996</td>\n",
       "      <td>0.968986</td>\n",
       "    </tr>\n",
       "    <tr>\n",
       "      <th>4</th>\n",
       "      <td>0.293546</td>\n",
       "      <td>0.521735</td>\n",
       "      <td>0.376666</td>\n",
       "      <td>0.412425</td>\n",
       "      <td>0.351922</td>\n",
       "      <td>0.251562</td>\n",
       "      <td>0.522385</td>\n",
       "      <td>0.316999</td>\n",
       "      <td>0.641083</td>\n",
       "      <td>0.395431</td>\n",
       "      <td>...</td>\n",
       "      <td>0.393208</td>\n",
       "      <td>0.312601</td>\n",
       "      <td>0.580010</td>\n",
       "      <td>0.582476</td>\n",
       "      <td>0.518519</td>\n",
       "      <td>0.217275</td>\n",
       "      <td>0.412844</td>\n",
       "      <td>0.443548</td>\n",
       "      <td>0.360359</td>\n",
       "      <td>0.533870</td>\n",
       "    </tr>\n",
       "    <tr>\n",
       "      <th>...</th>\n",
       "      <td>...</td>\n",
       "      <td>...</td>\n",
       "      <td>...</td>\n",
       "      <td>...</td>\n",
       "      <td>...</td>\n",
       "      <td>...</td>\n",
       "      <td>...</td>\n",
       "      <td>...</td>\n",
       "      <td>...</td>\n",
       "      <td>...</td>\n",
       "      <td>...</td>\n",
       "      <td>...</td>\n",
       "      <td>...</td>\n",
       "      <td>...</td>\n",
       "      <td>...</td>\n",
       "      <td>...</td>\n",
       "      <td>...</td>\n",
       "      <td>...</td>\n",
       "      <td>...</td>\n",
       "      <td>...</td>\n",
       "      <td>...</td>\n",
       "    </tr>\n",
       "    <tr>\n",
       "      <th>207</th>\n",
       "      <td>0.243770</td>\n",
       "      <td>0.510419</td>\n",
       "      <td>0.396772</td>\n",
       "      <td>0.618152</td>\n",
       "      <td>0.293752</td>\n",
       "      <td>0.326276</td>\n",
       "      <td>0.510290</td>\n",
       "      <td>0.318021</td>\n",
       "      <td>0.609670</td>\n",
       "      <td>0.406704</td>\n",
       "      <td>...</td>\n",
       "      <td>0.431399</td>\n",
       "      <td>0.355001</td>\n",
       "      <td>0.542987</td>\n",
       "      <td>0.545369</td>\n",
       "      <td>0.703704</td>\n",
       "      <td>0.253423</td>\n",
       "      <td>0.467890</td>\n",
       "      <td>0.467742</td>\n",
       "      <td>0.353175</td>\n",
       "      <td>0.525532</td>\n",
       "    </tr>\n",
       "    <tr>\n",
       "      <th>208</th>\n",
       "      <td>0.459135</td>\n",
       "      <td>0.522762</td>\n",
       "      <td>0.284010</td>\n",
       "      <td>0.592703</td>\n",
       "      <td>0.491317</td>\n",
       "      <td>0.523688</td>\n",
       "      <td>0.521833</td>\n",
       "      <td>0.245427</td>\n",
       "      <td>0.650005</td>\n",
       "      <td>0.591701</td>\n",
       "      <td>...</td>\n",
       "      <td>0.602850</td>\n",
       "      <td>0.516765</td>\n",
       "      <td>0.617540</td>\n",
       "      <td>0.620315</td>\n",
       "      <td>0.592593</td>\n",
       "      <td>0.405984</td>\n",
       "      <td>0.623853</td>\n",
       "      <td>0.661290</td>\n",
       "      <td>0.375202</td>\n",
       "      <td>0.531078</td>\n",
       "    </tr>\n",
       "    <tr>\n",
       "      <th>209</th>\n",
       "      <td>0.393509</td>\n",
       "      <td>0.526661</td>\n",
       "      <td>0.319785</td>\n",
       "      <td>0.544200</td>\n",
       "      <td>0.453485</td>\n",
       "      <td>0.420595</td>\n",
       "      <td>0.525872</td>\n",
       "      <td>0.295945</td>\n",
       "      <td>0.646879</td>\n",
       "      <td>0.534697</td>\n",
       "      <td>...</td>\n",
       "      <td>0.500870</td>\n",
       "      <td>0.443571</td>\n",
       "      <td>0.679519</td>\n",
       "      <td>0.681766</td>\n",
       "      <td>0.962963</td>\n",
       "      <td>0.334078</td>\n",
       "      <td>0.486239</td>\n",
       "      <td>0.548387</td>\n",
       "      <td>0.467582</td>\n",
       "      <td>0.528381</td>\n",
       "    </tr>\n",
       "    <tr>\n",
       "      <th>210</th>\n",
       "      <td>0.046799</td>\n",
       "      <td>0.557269</td>\n",
       "      <td>0.535173</td>\n",
       "      <td>0.413801</td>\n",
       "      <td>0.122572</td>\n",
       "      <td>0.021382</td>\n",
       "      <td>0.555874</td>\n",
       "      <td>0.455585</td>\n",
       "      <td>0.622017</td>\n",
       "      <td>0.133084</td>\n",
       "      <td>...</td>\n",
       "      <td>0.155855</td>\n",
       "      <td>0.096065</td>\n",
       "      <td>0.465908</td>\n",
       "      <td>0.468176</td>\n",
       "      <td>0.333333</td>\n",
       "      <td>0.057542</td>\n",
       "      <td>0.192661</td>\n",
       "      <td>0.217742</td>\n",
       "      <td>0.255194</td>\n",
       "      <td>0.580074</td>\n",
       "    </tr>\n",
       "    <tr>\n",
       "      <th>211</th>\n",
       "      <td>0.248998</td>\n",
       "      <td>0.518307</td>\n",
       "      <td>0.327971</td>\n",
       "      <td>0.328906</td>\n",
       "      <td>0.361766</td>\n",
       "      <td>0.258719</td>\n",
       "      <td>0.521537</td>\n",
       "      <td>0.281727</td>\n",
       "      <td>0.484189</td>\n",
       "      <td>0.441622</td>\n",
       "      <td>...</td>\n",
       "      <td>0.330832</td>\n",
       "      <td>0.249302</td>\n",
       "      <td>0.529189</td>\n",
       "      <td>0.531762</td>\n",
       "      <td>0.555556</td>\n",
       "      <td>0.166278</td>\n",
       "      <td>0.366972</td>\n",
       "      <td>0.387097</td>\n",
       "      <td>0.322850</td>\n",
       "      <td>0.535419</td>\n",
       "    </tr>\n",
       "  </tbody>\n",
       "</table>\n",
       "<p>212 rows × 30 columns</p>\n",
       "</div>"
      ],
      "text/plain": [
       "     contrast_0°  energy_0°  homogeneity_0°  correlation_0°  dissimilarity_0°  \\\n",
       "0       0.339666   0.371844        0.226218        0.396907          0.544944   \n",
       "1       0.875306   0.019617        0.000000        0.541211          1.000000   \n",
       "2       0.181515   0.532672        0.367798        0.430657          0.333344   \n",
       "3       0.455992   0.956833        0.519171        0.766206          0.332049   \n",
       "4       0.293546   0.521735        0.376666        0.412425          0.351922   \n",
       "..           ...        ...             ...             ...               ...   \n",
       "207     0.243770   0.510419        0.396772        0.618152          0.293752   \n",
       "208     0.459135   0.522762        0.284010        0.592703          0.491317   \n",
       "209     0.393509   0.526661        0.319785        0.544200          0.453485   \n",
       "210     0.046799   0.557269        0.535173        0.413801          0.122572   \n",
       "211     0.248998   0.518307        0.327971        0.328906          0.361766   \n",
       "\n",
       "     contrast_45°  energy_45°  homogeneity_45°  correlation_45°  \\\n",
       "0        0.601980    0.370977         0.190975         0.159555   \n",
       "1        0.973651    0.018911         0.000000         0.614536   \n",
       "2        0.212659    0.535878         0.309063         0.518432   \n",
       "3        0.461365    0.960272         0.406297         0.853048   \n",
       "4        0.251562    0.522385         0.316999         0.641083   \n",
       "..            ...         ...              ...              ...   \n",
       "207      0.326276    0.510290         0.318021         0.609670   \n",
       "208      0.523688    0.521833         0.245427         0.650005   \n",
       "209      0.420595    0.525872         0.295945         0.646879   \n",
       "210      0.021382    0.555874         0.455585         0.622017   \n",
       "211      0.258719    0.521537         0.281727         0.484189   \n",
       "\n",
       "     dissimilarity_45°  ...  hist_mean  hist_std  hist_skewness  \\\n",
       "0             0.747622  ...   0.334741  0.341598       0.700462   \n",
       "1             1.000000  ...   0.744011  0.760287       0.918463   \n",
       "2             0.391809  ...   0.286285  0.227024       0.419768   \n",
       "3             0.506517  ...   0.661458  0.615863       0.718166   \n",
       "4             0.395431  ...   0.393208  0.312601       0.580010   \n",
       "..                 ...  ...        ...       ...            ...   \n",
       "207           0.406704  ...   0.431399  0.355001       0.542987   \n",
       "208           0.591701  ...   0.602850  0.516765       0.617540   \n",
       "209           0.534697  ...   0.500870  0.443571       0.679519   \n",
       "210           0.133084  ...   0.155855  0.096065       0.465908   \n",
       "211           0.441622  ...   0.330832  0.249302       0.529189   \n",
       "\n",
       "     hist_kurtosis  hist_maximum  hist_variance  hist_percentile_50  \\\n",
       "0         0.702132      0.925926       0.241824            0.275229   \n",
       "1         0.919067      1.000000       0.679437            0.568807   \n",
       "2         0.421400      0.629630       0.149175            0.330275   \n",
       "3         0.720267      0.888889       0.510913            0.669725   \n",
       "4         0.582476      0.518519       0.217275            0.412844   \n",
       "..             ...           ...            ...                 ...   \n",
       "207       0.545369      0.703704       0.253423            0.467890   \n",
       "208       0.620315      0.592593       0.405984            0.623853   \n",
       "209       0.681766      0.962963       0.334078            0.486239   \n",
       "210       0.468176      0.333333       0.057542            0.192661   \n",
       "211       0.531762      0.555556       0.166278            0.366972   \n",
       "\n",
       "     hist_percentile_75  hist_entropy  hist_uniformity  \n",
       "0              0.354839      0.605140         0.369944  \n",
       "1              0.733871      1.000000         0.000000  \n",
       "2              0.314516      0.289647         0.561691  \n",
       "3              0.725806      0.294996         0.968986  \n",
       "4              0.443548      0.360359         0.533870  \n",
       "..                  ...           ...              ...  \n",
       "207            0.467742      0.353175         0.525532  \n",
       "208            0.661290      0.375202         0.531078  \n",
       "209            0.548387      0.467582         0.528381  \n",
       "210            0.217742      0.255194         0.580074  \n",
       "211            0.387097      0.322850         0.535419  \n",
       "\n",
       "[212 rows x 30 columns]"
      ]
     },
     "execution_count": 23,
     "metadata": {},
     "output_type": "execute_result"
    }
   ],
   "source": [
    "df_filtered_normalized.iloc[:, 2:]"
   ]
  },
  {
   "cell_type": "markdown",
   "id": "a2a8a237-7d55-4ce9-a8f6-f86f8f4f0167",
   "metadata": {},
   "source": [
    "**One hot encoding**"
   ]
  },
  {
   "cell_type": "code",
   "execution_count": 20,
   "id": "96c682c3-9581-4a39-9539-e1bc64d7dac2",
   "metadata": {},
   "outputs": [
    {
     "name": "stdout",
     "output_type": "stream",
     "text": [
      "[165  47]\n"
     ]
    }
   ],
   "source": [
    "#Filtro sul nuovo dataset facendo ONEHOT su df_filtered\n",
    "y=df_filtered_normalized[\"ImageQuality\"]\n",
    "y_encoded=pd.get_dummies(y)\n",
    "y=np.argmax(y_encoded.values, axis=1)\n",
    "np.bincount(y)\n",
    "print(np.bincount(y))\n",
    "#0->Medium\n",
    "#1->Poor"
   ]
  },
  {
   "cell_type": "markdown",
   "id": "c06dd6b2-8dbb-47ba-a2cd-d7cc1b17129b",
   "metadata": {},
   "source": [
    "**SKF_SVM_SHAP**"
   ]
  },
  {
   "cell_type": "code",
   "execution_count": 98,
   "id": "5e18322d-f8a6-424c-a9d2-d8ab81157060",
   "metadata": {
    "collapsed": true,
    "jupyter": {
     "outputs_hidden": true
    },
    "tags": []
   },
   "outputs": [
    {
     "name": "stderr",
     "output_type": "stream",
     "text": [
      "Using 264 background data samples could cause slower run times. Consider using shap.sample(data, K) or shap.kmeans(data, K) to summarize the background as K samples.\n"
     ]
    },
    {
     "name": "stdout",
     "output_type": "stream",
     "text": [
      "Iterazione: 1\n",
      "0->Medium, 1->Poor\n",
      "\n",
      "Prima: (array([0, 1]), array([132,  37]))\n",
      "Dopo: (array([0, 1]), array([132, 132]))\n",
      "264 264\n"
     ]
    },
    {
     "data": {
      "application/vnd.jupyter.widget-view+json": {
       "model_id": "9151af276b5d49cb94b7332e9820e633",
       "version_major": 2,
       "version_minor": 0
      },
      "text/plain": [
       "  0%|          | 0/43 [00:00<?, ?it/s]"
      ]
     },
     "metadata": {},
     "output_type": "display_data"
    },
    {
     "name": "stderr",
     "output_type": "stream",
     "text": [
      "Using 264 background data samples could cause slower run times. Consider using shap.sample(data, K) or shap.kmeans(data, K) to summarize the background as K samples.\n"
     ]
    },
    {
     "name": "stdout",
     "output_type": "stream",
     "text": [
      "Prima: (array([0, 1]), array([132,  37]))\n",
      "Dopo: (array([0, 1]), array([132, 132]))\n",
      "264 264\n"
     ]
    },
    {
     "data": {
      "application/vnd.jupyter.widget-view+json": {
       "model_id": "4e7343ca7086409d888db621bc1dc775",
       "version_major": 2,
       "version_minor": 0
      },
      "text/plain": [
       "  0%|          | 0/43 [00:00<?, ?it/s]"
      ]
     },
     "metadata": {},
     "output_type": "display_data"
    },
    {
     "name": "stderr",
     "output_type": "stream",
     "text": [
      "Using 264 background data samples could cause slower run times. Consider using shap.sample(data, K) or shap.kmeans(data, K) to summarize the background as K samples.\n"
     ]
    },
    {
     "name": "stdout",
     "output_type": "stream",
     "text": [
      "Prima: (array([0, 1]), array([132,  38]))\n",
      "Dopo: (array([0, 1]), array([132, 132]))\n",
      "264 264\n"
     ]
    },
    {
     "data": {
      "application/vnd.jupyter.widget-view+json": {
       "model_id": "a4afea9c64454f7da19219df0085f574",
       "version_major": 2,
       "version_minor": 0
      },
      "text/plain": [
       "  0%|          | 0/42 [00:00<?, ?it/s]"
      ]
     },
     "metadata": {},
     "output_type": "display_data"
    },
    {
     "name": "stderr",
     "output_type": "stream",
     "text": [
      "Using 264 background data samples could cause slower run times. Consider using shap.sample(data, K) or shap.kmeans(data, K) to summarize the background as K samples.\n"
     ]
    },
    {
     "name": "stdout",
     "output_type": "stream",
     "text": [
      "Prima: (array([0, 1]), array([132,  38]))\n",
      "Dopo: (array([0, 1]), array([132, 132]))\n",
      "264 264\n"
     ]
    },
    {
     "data": {
      "application/vnd.jupyter.widget-view+json": {
       "model_id": "b14f83a1134c4b63bc15c2a6526e2bac",
       "version_major": 2,
       "version_minor": 0
      },
      "text/plain": [
       "  0%|          | 0/42 [00:00<?, ?it/s]"
      ]
     },
     "metadata": {},
     "output_type": "display_data"
    },
    {
     "name": "stderr",
     "output_type": "stream",
     "text": [
      "Using 264 background data samples could cause slower run times. Consider using shap.sample(data, K) or shap.kmeans(data, K) to summarize the background as K samples.\n"
     ]
    },
    {
     "name": "stdout",
     "output_type": "stream",
     "text": [
      "Prima: (array([0, 1]), array([132,  38]))\n",
      "Dopo: (array([0, 1]), array([132, 132]))\n",
      "264 264\n"
     ]
    },
    {
     "data": {
      "application/vnd.jupyter.widget-view+json": {
       "model_id": "3c3472eb72214d60b64d600c3f7d67a3",
       "version_major": 2,
       "version_minor": 0
      },
      "text/plain": [
       "  0%|          | 0/42 [00:00<?, ?it/s]"
      ]
     },
     "metadata": {},
     "output_type": "display_data"
    },
    {
     "name": "stderr",
     "output_type": "stream",
     "text": [
      "Using 264 background data samples could cause slower run times. Consider using shap.sample(data, K) or shap.kmeans(data, K) to summarize the background as K samples.\n"
     ]
    },
    {
     "name": "stdout",
     "output_type": "stream",
     "text": [
      "Dimensione degli SHAP values per seed 0: (2, 212, 30)\n",
      "Sensitivity: 0.5878787878787879\n",
      "Specificity: 0.46808510638297873\n",
      "Matrice di confusione per il seed 1 :\n",
      "[[97 68]\n",
      " [25 22]]\n",
      "Iterazione: 2\n",
      "0->Medium, 1->Poor\n",
      "\n",
      "Prima: (array([0, 1]), array([132,  37]))\n",
      "Dopo: (array([0, 1]), array([132, 132]))\n",
      "264 264\n"
     ]
    },
    {
     "data": {
      "application/vnd.jupyter.widget-view+json": {
       "model_id": "e79a2cb7ddaa4427abad9a2e2b683690",
       "version_major": 2,
       "version_minor": 0
      },
      "text/plain": [
       "  0%|          | 0/43 [00:00<?, ?it/s]"
      ]
     },
     "metadata": {},
     "output_type": "display_data"
    },
    {
     "name": "stderr",
     "output_type": "stream",
     "text": [
      "Using 264 background data samples could cause slower run times. Consider using shap.sample(data, K) or shap.kmeans(data, K) to summarize the background as K samples.\n"
     ]
    },
    {
     "name": "stdout",
     "output_type": "stream",
     "text": [
      "Prima: (array([0, 1]), array([132,  37]))\n",
      "Dopo: (array([0, 1]), array([132, 132]))\n",
      "264 264\n"
     ]
    },
    {
     "data": {
      "application/vnd.jupyter.widget-view+json": {
       "model_id": "70dc66fd5b354f228875f826acb9a7e2",
       "version_major": 2,
       "version_minor": 0
      },
      "text/plain": [
       "  0%|          | 0/43 [00:00<?, ?it/s]"
      ]
     },
     "metadata": {},
     "output_type": "display_data"
    },
    {
     "name": "stderr",
     "output_type": "stream",
     "text": [
      "Using 264 background data samples could cause slower run times. Consider using shap.sample(data, K) or shap.kmeans(data, K) to summarize the background as K samples.\n"
     ]
    },
    {
     "name": "stdout",
     "output_type": "stream",
     "text": [
      "Prima: (array([0, 1]), array([132,  38]))\n",
      "Dopo: (array([0, 1]), array([132, 132]))\n",
      "264 264\n"
     ]
    },
    {
     "data": {
      "application/vnd.jupyter.widget-view+json": {
       "model_id": "e392da7be78449abb21510738ee6151b",
       "version_major": 2,
       "version_minor": 0
      },
      "text/plain": [
       "  0%|          | 0/42 [00:00<?, ?it/s]"
      ]
     },
     "metadata": {},
     "output_type": "display_data"
    },
    {
     "name": "stderr",
     "output_type": "stream",
     "text": [
      "Using 264 background data samples could cause slower run times. Consider using shap.sample(data, K) or shap.kmeans(data, K) to summarize the background as K samples.\n"
     ]
    },
    {
     "name": "stdout",
     "output_type": "stream",
     "text": [
      "Prima: (array([0, 1]), array([132,  38]))\n",
      "Dopo: (array([0, 1]), array([132, 132]))\n",
      "264 264\n"
     ]
    },
    {
     "data": {
      "application/vnd.jupyter.widget-view+json": {
       "model_id": "82217e8b47aa4cd8a3cee8bdb3bb879c",
       "version_major": 2,
       "version_minor": 0
      },
      "text/plain": [
       "  0%|          | 0/42 [00:00<?, ?it/s]"
      ]
     },
     "metadata": {},
     "output_type": "display_data"
    },
    {
     "name": "stderr",
     "output_type": "stream",
     "text": [
      "Using 264 background data samples could cause slower run times. Consider using shap.sample(data, K) or shap.kmeans(data, K) to summarize the background as K samples.\n"
     ]
    },
    {
     "name": "stdout",
     "output_type": "stream",
     "text": [
      "Prima: (array([0, 1]), array([132,  38]))\n",
      "Dopo: (array([0, 1]), array([132, 132]))\n",
      "264 264\n"
     ]
    },
    {
     "data": {
      "application/vnd.jupyter.widget-view+json": {
       "model_id": "aeae1ae0843740728565c54ff5fda192",
       "version_major": 2,
       "version_minor": 0
      },
      "text/plain": [
       "  0%|          | 0/42 [00:00<?, ?it/s]"
      ]
     },
     "metadata": {},
     "output_type": "display_data"
    },
    {
     "name": "stderr",
     "output_type": "stream",
     "text": [
      "Using 264 background data samples could cause slower run times. Consider using shap.sample(data, K) or shap.kmeans(data, K) to summarize the background as K samples.\n"
     ]
    },
    {
     "name": "stdout",
     "output_type": "stream",
     "text": [
      "Dimensione degli SHAP values per seed 1: (2, 212, 30)\n",
      "Sensitivity: 0.6060606060606061\n",
      "Specificity: 0.3404255319148936\n",
      "Matrice di confusione per il seed 2 :\n",
      "[[100  65]\n",
      " [ 31  16]]\n",
      "Iterazione: 3\n",
      "0->Medium, 1->Poor\n",
      "\n",
      "Prima: (array([0, 1]), array([132,  37]))\n",
      "Dopo: (array([0, 1]), array([132, 132]))\n",
      "264 264\n"
     ]
    },
    {
     "data": {
      "application/vnd.jupyter.widget-view+json": {
       "model_id": "3110a9a068c542cf9f8a6a1ab371eb14",
       "version_major": 2,
       "version_minor": 0
      },
      "text/plain": [
       "  0%|          | 0/43 [00:00<?, ?it/s]"
      ]
     },
     "metadata": {},
     "output_type": "display_data"
    },
    {
     "name": "stderr",
     "output_type": "stream",
     "text": [
      "Using 264 background data samples could cause slower run times. Consider using shap.sample(data, K) or shap.kmeans(data, K) to summarize the background as K samples.\n"
     ]
    },
    {
     "name": "stdout",
     "output_type": "stream",
     "text": [
      "Prima: (array([0, 1]), array([132,  37]))\n",
      "Dopo: (array([0, 1]), array([132, 132]))\n",
      "264 264\n"
     ]
    },
    {
     "data": {
      "application/vnd.jupyter.widget-view+json": {
       "model_id": "2351d763c84546ebb04913679ae36a84",
       "version_major": 2,
       "version_minor": 0
      },
      "text/plain": [
       "  0%|          | 0/43 [00:00<?, ?it/s]"
      ]
     },
     "metadata": {},
     "output_type": "display_data"
    },
    {
     "name": "stderr",
     "output_type": "stream",
     "text": [
      "Using 264 background data samples could cause slower run times. Consider using shap.sample(data, K) or shap.kmeans(data, K) to summarize the background as K samples.\n"
     ]
    },
    {
     "name": "stdout",
     "output_type": "stream",
     "text": [
      "Prima: (array([0, 1]), array([132,  38]))\n",
      "Dopo: (array([0, 1]), array([132, 132]))\n",
      "264 264\n"
     ]
    },
    {
     "data": {
      "application/vnd.jupyter.widget-view+json": {
       "model_id": "78961d7eebec47ce877a135f7c43f733",
       "version_major": 2,
       "version_minor": 0
      },
      "text/plain": [
       "  0%|          | 0/42 [00:00<?, ?it/s]"
      ]
     },
     "metadata": {},
     "output_type": "display_data"
    },
    {
     "name": "stderr",
     "output_type": "stream",
     "text": [
      "Using 264 background data samples could cause slower run times. Consider using shap.sample(data, K) or shap.kmeans(data, K) to summarize the background as K samples.\n"
     ]
    },
    {
     "name": "stdout",
     "output_type": "stream",
     "text": [
      "Prima: (array([0, 1]), array([132,  38]))\n",
      "Dopo: (array([0, 1]), array([132, 132]))\n",
      "264 264\n"
     ]
    },
    {
     "data": {
      "application/vnd.jupyter.widget-view+json": {
       "model_id": "a6a80f6c2b814752a5307f7020426c7f",
       "version_major": 2,
       "version_minor": 0
      },
      "text/plain": [
       "  0%|          | 0/42 [00:00<?, ?it/s]"
      ]
     },
     "metadata": {},
     "output_type": "display_data"
    },
    {
     "name": "stderr",
     "output_type": "stream",
     "text": [
      "Using 264 background data samples could cause slower run times. Consider using shap.sample(data, K) or shap.kmeans(data, K) to summarize the background as K samples.\n"
     ]
    },
    {
     "name": "stdout",
     "output_type": "stream",
     "text": [
      "Prima: (array([0, 1]), array([132,  38]))\n",
      "Dopo: (array([0, 1]), array([132, 132]))\n",
      "264 264\n"
     ]
    },
    {
     "data": {
      "application/vnd.jupyter.widget-view+json": {
       "model_id": "ebdae375c1f347c68ea11c55a0784310",
       "version_major": 2,
       "version_minor": 0
      },
      "text/plain": [
       "  0%|          | 0/42 [00:00<?, ?it/s]"
      ]
     },
     "metadata": {},
     "output_type": "display_data"
    },
    {
     "name": "stderr",
     "output_type": "stream",
     "text": [
      "Using 264 background data samples could cause slower run times. Consider using shap.sample(data, K) or shap.kmeans(data, K) to summarize the background as K samples.\n"
     ]
    },
    {
     "name": "stdout",
     "output_type": "stream",
     "text": [
      "Dimensione degli SHAP values per seed 2: (2, 212, 30)\n",
      "Sensitivity: 0.5878787878787879\n",
      "Specificity: 0.425531914893617\n",
      "Matrice di confusione per il seed 3 :\n",
      "[[97 68]\n",
      " [27 20]]\n",
      "Iterazione: 4\n",
      "0->Medium, 1->Poor\n",
      "\n",
      "Prima: (array([0, 1]), array([132,  37]))\n",
      "Dopo: (array([0, 1]), array([132, 132]))\n",
      "264 264\n"
     ]
    },
    {
     "data": {
      "application/vnd.jupyter.widget-view+json": {
       "model_id": "d78bbaeb1e3b48ce94c6b071d38ee30d",
       "version_major": 2,
       "version_minor": 0
      },
      "text/plain": [
       "  0%|          | 0/43 [00:00<?, ?it/s]"
      ]
     },
     "metadata": {},
     "output_type": "display_data"
    },
    {
     "name": "stderr",
     "output_type": "stream",
     "text": [
      "Using 264 background data samples could cause slower run times. Consider using shap.sample(data, K) or shap.kmeans(data, K) to summarize the background as K samples.\n"
     ]
    },
    {
     "name": "stdout",
     "output_type": "stream",
     "text": [
      "Prima: (array([0, 1]), array([132,  37]))\n",
      "Dopo: (array([0, 1]), array([132, 132]))\n",
      "264 264\n"
     ]
    },
    {
     "data": {
      "application/vnd.jupyter.widget-view+json": {
       "model_id": "aae85ac746e34166ba245dba3f65d92f",
       "version_major": 2,
       "version_minor": 0
      },
      "text/plain": [
       "  0%|          | 0/43 [00:00<?, ?it/s]"
      ]
     },
     "metadata": {},
     "output_type": "display_data"
    },
    {
     "name": "stderr",
     "output_type": "stream",
     "text": [
      "Using 264 background data samples could cause slower run times. Consider using shap.sample(data, K) or shap.kmeans(data, K) to summarize the background as K samples.\n"
     ]
    },
    {
     "name": "stdout",
     "output_type": "stream",
     "text": [
      "Prima: (array([0, 1]), array([132,  38]))\n",
      "Dopo: (array([0, 1]), array([132, 132]))\n",
      "264 264\n"
     ]
    },
    {
     "data": {
      "application/vnd.jupyter.widget-view+json": {
       "model_id": "9e1e424fec7a4d548f2b6e4d7a189baf",
       "version_major": 2,
       "version_minor": 0
      },
      "text/plain": [
       "  0%|          | 0/42 [00:00<?, ?it/s]"
      ]
     },
     "metadata": {},
     "output_type": "display_data"
    },
    {
     "name": "stderr",
     "output_type": "stream",
     "text": [
      "Using 264 background data samples could cause slower run times. Consider using shap.sample(data, K) or shap.kmeans(data, K) to summarize the background as K samples.\n"
     ]
    },
    {
     "name": "stdout",
     "output_type": "stream",
     "text": [
      "Prima: (array([0, 1]), array([132,  38]))\n",
      "Dopo: (array([0, 1]), array([132, 132]))\n",
      "264 264\n"
     ]
    },
    {
     "data": {
      "application/vnd.jupyter.widget-view+json": {
       "model_id": "f0ae219cd3f8416ab1c88c320d8b745c",
       "version_major": 2,
       "version_minor": 0
      },
      "text/plain": [
       "  0%|          | 0/42 [00:00<?, ?it/s]"
      ]
     },
     "metadata": {},
     "output_type": "display_data"
    },
    {
     "name": "stderr",
     "output_type": "stream",
     "text": [
      "Using 264 background data samples could cause slower run times. Consider using shap.sample(data, K) or shap.kmeans(data, K) to summarize the background as K samples.\n"
     ]
    },
    {
     "name": "stdout",
     "output_type": "stream",
     "text": [
      "Prima: (array([0, 1]), array([132,  38]))\n",
      "Dopo: (array([0, 1]), array([132, 132]))\n",
      "264 264\n"
     ]
    },
    {
     "data": {
      "application/vnd.jupyter.widget-view+json": {
       "model_id": "36694e11cc8546819c65282ed2e1d768",
       "version_major": 2,
       "version_minor": 0
      },
      "text/plain": [
       "  0%|          | 0/42 [00:00<?, ?it/s]"
      ]
     },
     "metadata": {},
     "output_type": "display_data"
    },
    {
     "name": "stderr",
     "output_type": "stream",
     "text": [
      "Using 264 background data samples could cause slower run times. Consider using shap.sample(data, K) or shap.kmeans(data, K) to summarize the background as K samples.\n"
     ]
    },
    {
     "name": "stdout",
     "output_type": "stream",
     "text": [
      "Dimensione degli SHAP values per seed 3: (2, 212, 30)\n",
      "Sensitivity: 0.6181818181818182\n",
      "Specificity: 0.46808510638297873\n",
      "Matrice di confusione per il seed 4 :\n",
      "[[102  63]\n",
      " [ 25  22]]\n",
      "Iterazione: 5\n",
      "0->Medium, 1->Poor\n",
      "\n",
      "Prima: (array([0, 1]), array([132,  37]))\n",
      "Dopo: (array([0, 1]), array([132, 132]))\n",
      "264 264\n"
     ]
    },
    {
     "data": {
      "application/vnd.jupyter.widget-view+json": {
       "model_id": "b260447fe38c4da6a0ba44c868fe045c",
       "version_major": 2,
       "version_minor": 0
      },
      "text/plain": [
       "  0%|          | 0/43 [00:00<?, ?it/s]"
      ]
     },
     "metadata": {},
     "output_type": "display_data"
    },
    {
     "name": "stderr",
     "output_type": "stream",
     "text": [
      "Using 264 background data samples could cause slower run times. Consider using shap.sample(data, K) or shap.kmeans(data, K) to summarize the background as K samples.\n"
     ]
    },
    {
     "name": "stdout",
     "output_type": "stream",
     "text": [
      "Prima: (array([0, 1]), array([132,  37]))\n",
      "Dopo: (array([0, 1]), array([132, 132]))\n",
      "264 264\n"
     ]
    },
    {
     "data": {
      "application/vnd.jupyter.widget-view+json": {
       "model_id": "14da823d9fa04f21a583667a2fa01104",
       "version_major": 2,
       "version_minor": 0
      },
      "text/plain": [
       "  0%|          | 0/43 [00:00<?, ?it/s]"
      ]
     },
     "metadata": {},
     "output_type": "display_data"
    },
    {
     "name": "stderr",
     "output_type": "stream",
     "text": [
      "Using 264 background data samples could cause slower run times. Consider using shap.sample(data, K) or shap.kmeans(data, K) to summarize the background as K samples.\n"
     ]
    },
    {
     "name": "stdout",
     "output_type": "stream",
     "text": [
      "Prima: (array([0, 1]), array([132,  38]))\n",
      "Dopo: (array([0, 1]), array([132, 132]))\n",
      "264 264\n"
     ]
    },
    {
     "data": {
      "application/vnd.jupyter.widget-view+json": {
       "model_id": "a33fd8ac500e43b9a3cc5f2f7ee1c0bd",
       "version_major": 2,
       "version_minor": 0
      },
      "text/plain": [
       "  0%|          | 0/42 [00:00<?, ?it/s]"
      ]
     },
     "metadata": {},
     "output_type": "display_data"
    },
    {
     "name": "stderr",
     "output_type": "stream",
     "text": [
      "Using 264 background data samples could cause slower run times. Consider using shap.sample(data, K) or shap.kmeans(data, K) to summarize the background as K samples.\n"
     ]
    },
    {
     "name": "stdout",
     "output_type": "stream",
     "text": [
      "Prima: (array([0, 1]), array([132,  38]))\n",
      "Dopo: (array([0, 1]), array([132, 132]))\n",
      "264 264\n"
     ]
    },
    {
     "data": {
      "application/vnd.jupyter.widget-view+json": {
       "model_id": "bfa40444b22b4734a9eab64c3e31f82b",
       "version_major": 2,
       "version_minor": 0
      },
      "text/plain": [
       "  0%|          | 0/42 [00:00<?, ?it/s]"
      ]
     },
     "metadata": {},
     "output_type": "display_data"
    },
    {
     "name": "stderr",
     "output_type": "stream",
     "text": [
      "Using 264 background data samples could cause slower run times. Consider using shap.sample(data, K) or shap.kmeans(data, K) to summarize the background as K samples.\n"
     ]
    },
    {
     "name": "stdout",
     "output_type": "stream",
     "text": [
      "Prima: (array([0, 1]), array([132,  38]))\n",
      "Dopo: (array([0, 1]), array([132, 132]))\n",
      "264 264\n"
     ]
    },
    {
     "data": {
      "application/vnd.jupyter.widget-view+json": {
       "model_id": "6f9b317b7eed4d8ab8dfeeeee56d6c1e",
       "version_major": 2,
       "version_minor": 0
      },
      "text/plain": [
       "  0%|          | 0/42 [00:00<?, ?it/s]"
      ]
     },
     "metadata": {},
     "output_type": "display_data"
    },
    {
     "name": "stderr",
     "output_type": "stream",
     "text": [
      "Using 264 background data samples could cause slower run times. Consider using shap.sample(data, K) or shap.kmeans(data, K) to summarize the background as K samples.\n"
     ]
    },
    {
     "name": "stdout",
     "output_type": "stream",
     "text": [
      "Dimensione degli SHAP values per seed 4: (2, 212, 30)\n",
      "Sensitivity: 0.6363636363636364\n",
      "Specificity: 0.425531914893617\n",
      "Matrice di confusione per il seed 5 :\n",
      "[[105  60]\n",
      " [ 27  20]]\n",
      "Iterazione: 6\n",
      "0->Medium, 1->Poor\n",
      "\n",
      "Prima: (array([0, 1]), array([132,  37]))\n",
      "Dopo: (array([0, 1]), array([132, 132]))\n",
      "264 264\n"
     ]
    },
    {
     "data": {
      "application/vnd.jupyter.widget-view+json": {
       "model_id": "301c6c57e1ee4a42a5c316a968441777",
       "version_major": 2,
       "version_minor": 0
      },
      "text/plain": [
       "  0%|          | 0/43 [00:00<?, ?it/s]"
      ]
     },
     "metadata": {},
     "output_type": "display_data"
    },
    {
     "name": "stderr",
     "output_type": "stream",
     "text": [
      "Using 264 background data samples could cause slower run times. Consider using shap.sample(data, K) or shap.kmeans(data, K) to summarize the background as K samples.\n"
     ]
    },
    {
     "name": "stdout",
     "output_type": "stream",
     "text": [
      "Prima: (array([0, 1]), array([132,  37]))\n",
      "Dopo: (array([0, 1]), array([132, 132]))\n",
      "264 264\n"
     ]
    },
    {
     "data": {
      "application/vnd.jupyter.widget-view+json": {
       "model_id": "9f6cd60e98af48d1a36843fa166086be",
       "version_major": 2,
       "version_minor": 0
      },
      "text/plain": [
       "  0%|          | 0/43 [00:00<?, ?it/s]"
      ]
     },
     "metadata": {},
     "output_type": "display_data"
    },
    {
     "name": "stderr",
     "output_type": "stream",
     "text": [
      "Using 264 background data samples could cause slower run times. Consider using shap.sample(data, K) or shap.kmeans(data, K) to summarize the background as K samples.\n"
     ]
    },
    {
     "name": "stdout",
     "output_type": "stream",
     "text": [
      "Prima: (array([0, 1]), array([132,  38]))\n",
      "Dopo: (array([0, 1]), array([132, 132]))\n",
      "264 264\n"
     ]
    },
    {
     "data": {
      "application/vnd.jupyter.widget-view+json": {
       "model_id": "a14eac66d37c4bef8d884723d159d1f6",
       "version_major": 2,
       "version_minor": 0
      },
      "text/plain": [
       "  0%|          | 0/42 [00:00<?, ?it/s]"
      ]
     },
     "metadata": {},
     "output_type": "display_data"
    },
    {
     "name": "stderr",
     "output_type": "stream",
     "text": [
      "Using 264 background data samples could cause slower run times. Consider using shap.sample(data, K) or shap.kmeans(data, K) to summarize the background as K samples.\n"
     ]
    },
    {
     "name": "stdout",
     "output_type": "stream",
     "text": [
      "Prima: (array([0, 1]), array([132,  38]))\n",
      "Dopo: (array([0, 1]), array([132, 132]))\n",
      "264 264\n"
     ]
    },
    {
     "data": {
      "application/vnd.jupyter.widget-view+json": {
       "model_id": "f3ab489050364a39a88fec7451e98999",
       "version_major": 2,
       "version_minor": 0
      },
      "text/plain": [
       "  0%|          | 0/42 [00:00<?, ?it/s]"
      ]
     },
     "metadata": {},
     "output_type": "display_data"
    },
    {
     "name": "stderr",
     "output_type": "stream",
     "text": [
      "Using 264 background data samples could cause slower run times. Consider using shap.sample(data, K) or shap.kmeans(data, K) to summarize the background as K samples.\n"
     ]
    },
    {
     "name": "stdout",
     "output_type": "stream",
     "text": [
      "Prima: (array([0, 1]), array([132,  38]))\n",
      "Dopo: (array([0, 1]), array([132, 132]))\n",
      "264 264\n"
     ]
    },
    {
     "data": {
      "application/vnd.jupyter.widget-view+json": {
       "model_id": "6c5f8115252e4afc9cfb0587f14a6752",
       "version_major": 2,
       "version_minor": 0
      },
      "text/plain": [
       "  0%|          | 0/42 [00:00<?, ?it/s]"
      ]
     },
     "metadata": {},
     "output_type": "display_data"
    },
    {
     "name": "stderr",
     "output_type": "stream",
     "text": [
      "Using 264 background data samples could cause slower run times. Consider using shap.sample(data, K) or shap.kmeans(data, K) to summarize the background as K samples.\n"
     ]
    },
    {
     "name": "stdout",
     "output_type": "stream",
     "text": [
      "Dimensione degli SHAP values per seed 5: (2, 212, 30)\n",
      "Sensitivity: 0.4484848484848485\n",
      "Specificity: 0.5106382978723404\n",
      "Matrice di confusione per il seed 6 :\n",
      "[[74 91]\n",
      " [23 24]]\n",
      "Iterazione: 7\n",
      "0->Medium, 1->Poor\n",
      "\n",
      "Prima: (array([0, 1]), array([132,  37]))\n",
      "Dopo: (array([0, 1]), array([132, 132]))\n",
      "264 264\n"
     ]
    },
    {
     "data": {
      "application/vnd.jupyter.widget-view+json": {
       "model_id": "0ebfcd0344754522840f2b6531b7dec8",
       "version_major": 2,
       "version_minor": 0
      },
      "text/plain": [
       "  0%|          | 0/43 [00:00<?, ?it/s]"
      ]
     },
     "metadata": {},
     "output_type": "display_data"
    },
    {
     "name": "stderr",
     "output_type": "stream",
     "text": [
      "Using 264 background data samples could cause slower run times. Consider using shap.sample(data, K) or shap.kmeans(data, K) to summarize the background as K samples.\n"
     ]
    },
    {
     "name": "stdout",
     "output_type": "stream",
     "text": [
      "Prima: (array([0, 1]), array([132,  37]))\n",
      "Dopo: (array([0, 1]), array([132, 132]))\n",
      "264 264\n"
     ]
    },
    {
     "data": {
      "application/vnd.jupyter.widget-view+json": {
       "model_id": "fc77107b0b9c4a2a9e6a7f4fca5795d1",
       "version_major": 2,
       "version_minor": 0
      },
      "text/plain": [
       "  0%|          | 0/43 [00:00<?, ?it/s]"
      ]
     },
     "metadata": {},
     "output_type": "display_data"
    },
    {
     "name": "stderr",
     "output_type": "stream",
     "text": [
      "Using 264 background data samples could cause slower run times. Consider using shap.sample(data, K) or shap.kmeans(data, K) to summarize the background as K samples.\n"
     ]
    },
    {
     "name": "stdout",
     "output_type": "stream",
     "text": [
      "Prima: (array([0, 1]), array([132,  38]))\n",
      "Dopo: (array([0, 1]), array([132, 132]))\n",
      "264 264\n"
     ]
    },
    {
     "data": {
      "application/vnd.jupyter.widget-view+json": {
       "model_id": "54241de191e04a139de223e12874550f",
       "version_major": 2,
       "version_minor": 0
      },
      "text/plain": [
       "  0%|          | 0/42 [00:00<?, ?it/s]"
      ]
     },
     "metadata": {},
     "output_type": "display_data"
    },
    {
     "name": "stderr",
     "output_type": "stream",
     "text": [
      "Using 264 background data samples could cause slower run times. Consider using shap.sample(data, K) or shap.kmeans(data, K) to summarize the background as K samples.\n"
     ]
    },
    {
     "name": "stdout",
     "output_type": "stream",
     "text": [
      "Prima: (array([0, 1]), array([132,  38]))\n",
      "Dopo: (array([0, 1]), array([132, 132]))\n",
      "264 264\n"
     ]
    },
    {
     "data": {
      "application/vnd.jupyter.widget-view+json": {
       "model_id": "f64da48df69240899a84a5062d2d6c73",
       "version_major": 2,
       "version_minor": 0
      },
      "text/plain": [
       "  0%|          | 0/42 [00:00<?, ?it/s]"
      ]
     },
     "metadata": {},
     "output_type": "display_data"
    },
    {
     "name": "stderr",
     "output_type": "stream",
     "text": [
      "Using 264 background data samples could cause slower run times. Consider using shap.sample(data, K) or shap.kmeans(data, K) to summarize the background as K samples.\n"
     ]
    },
    {
     "name": "stdout",
     "output_type": "stream",
     "text": [
      "Prima: (array([0, 1]), array([132,  38]))\n",
      "Dopo: (array([0, 1]), array([132, 132]))\n",
      "264 264\n"
     ]
    },
    {
     "data": {
      "application/vnd.jupyter.widget-view+json": {
       "model_id": "c4a67260626c447581fdedd780849b29",
       "version_major": 2,
       "version_minor": 0
      },
      "text/plain": [
       "  0%|          | 0/42 [00:00<?, ?it/s]"
      ]
     },
     "metadata": {},
     "output_type": "display_data"
    },
    {
     "name": "stderr",
     "output_type": "stream",
     "text": [
      "Using 264 background data samples could cause slower run times. Consider using shap.sample(data, K) or shap.kmeans(data, K) to summarize the background as K samples.\n"
     ]
    },
    {
     "name": "stdout",
     "output_type": "stream",
     "text": [
      "Dimensione degli SHAP values per seed 6: (2, 212, 30)\n",
      "Sensitivity: 0.47878787878787876\n",
      "Specificity: 0.48936170212765956\n",
      "Matrice di confusione per il seed 7 :\n",
      "[[79 86]\n",
      " [24 23]]\n",
      "Iterazione: 8\n",
      "0->Medium, 1->Poor\n",
      "\n",
      "Prima: (array([0, 1]), array([132,  37]))\n",
      "Dopo: (array([0, 1]), array([132, 132]))\n",
      "264 264\n"
     ]
    },
    {
     "data": {
      "application/vnd.jupyter.widget-view+json": {
       "model_id": "82e4118256c54c958b4244406c3f5c4d",
       "version_major": 2,
       "version_minor": 0
      },
      "text/plain": [
       "  0%|          | 0/43 [00:00<?, ?it/s]"
      ]
     },
     "metadata": {},
     "output_type": "display_data"
    },
    {
     "name": "stderr",
     "output_type": "stream",
     "text": [
      "Using 264 background data samples could cause slower run times. Consider using shap.sample(data, K) or shap.kmeans(data, K) to summarize the background as K samples.\n"
     ]
    },
    {
     "name": "stdout",
     "output_type": "stream",
     "text": [
      "Prima: (array([0, 1]), array([132,  37]))\n",
      "Dopo: (array([0, 1]), array([132, 132]))\n",
      "264 264\n"
     ]
    },
    {
     "data": {
      "application/vnd.jupyter.widget-view+json": {
       "model_id": "b4dd956366fa4c3a8138ee40eb0c7098",
       "version_major": 2,
       "version_minor": 0
      },
      "text/plain": [
       "  0%|          | 0/43 [00:00<?, ?it/s]"
      ]
     },
     "metadata": {},
     "output_type": "display_data"
    },
    {
     "name": "stderr",
     "output_type": "stream",
     "text": [
      "Using 264 background data samples could cause slower run times. Consider using shap.sample(data, K) or shap.kmeans(data, K) to summarize the background as K samples.\n"
     ]
    },
    {
     "name": "stdout",
     "output_type": "stream",
     "text": [
      "Prima: (array([0, 1]), array([132,  38]))\n",
      "Dopo: (array([0, 1]), array([132, 132]))\n",
      "264 264\n"
     ]
    },
    {
     "data": {
      "application/vnd.jupyter.widget-view+json": {
       "model_id": "c5d83aff07764f519497a72785d1714f",
       "version_major": 2,
       "version_minor": 0
      },
      "text/plain": [
       "  0%|          | 0/42 [00:00<?, ?it/s]"
      ]
     },
     "metadata": {},
     "output_type": "display_data"
    },
    {
     "name": "stderr",
     "output_type": "stream",
     "text": [
      "Using 264 background data samples could cause slower run times. Consider using shap.sample(data, K) or shap.kmeans(data, K) to summarize the background as K samples.\n"
     ]
    },
    {
     "name": "stdout",
     "output_type": "stream",
     "text": [
      "Prima: (array([0, 1]), array([132,  38]))\n",
      "Dopo: (array([0, 1]), array([132, 132]))\n",
      "264 264\n"
     ]
    },
    {
     "data": {
      "application/vnd.jupyter.widget-view+json": {
       "model_id": "c5e50e1addd64a36956c9364609c7424",
       "version_major": 2,
       "version_minor": 0
      },
      "text/plain": [
       "  0%|          | 0/42 [00:00<?, ?it/s]"
      ]
     },
     "metadata": {},
     "output_type": "display_data"
    },
    {
     "name": "stderr",
     "output_type": "stream",
     "text": [
      "Using 264 background data samples could cause slower run times. Consider using shap.sample(data, K) or shap.kmeans(data, K) to summarize the background as K samples.\n"
     ]
    },
    {
     "name": "stdout",
     "output_type": "stream",
     "text": [
      "Prima: (array([0, 1]), array([132,  38]))\n",
      "Dopo: (array([0, 1]), array([132, 132]))\n",
      "264 264\n"
     ]
    },
    {
     "data": {
      "application/vnd.jupyter.widget-view+json": {
       "model_id": "820bc2c527cb4cdaa668540c1a3a78f3",
       "version_major": 2,
       "version_minor": 0
      },
      "text/plain": [
       "  0%|          | 0/42 [00:00<?, ?it/s]"
      ]
     },
     "metadata": {},
     "output_type": "display_data"
    },
    {
     "name": "stderr",
     "output_type": "stream",
     "text": [
      "Using 264 background data samples could cause slower run times. Consider using shap.sample(data, K) or shap.kmeans(data, K) to summarize the background as K samples.\n"
     ]
    },
    {
     "name": "stdout",
     "output_type": "stream",
     "text": [
      "Dimensione degli SHAP values per seed 7: (2, 212, 30)\n",
      "Sensitivity: 0.5878787878787879\n",
      "Specificity: 0.48936170212765956\n",
      "Matrice di confusione per il seed 8 :\n",
      "[[97 68]\n",
      " [24 23]]\n",
      "Iterazione: 9\n",
      "0->Medium, 1->Poor\n",
      "\n",
      "Prima: (array([0, 1]), array([132,  37]))\n",
      "Dopo: (array([0, 1]), array([132, 132]))\n",
      "264 264\n"
     ]
    },
    {
     "data": {
      "application/vnd.jupyter.widget-view+json": {
       "model_id": "05bd6cb7fbf84fee9ae2a0a8d34b6891",
       "version_major": 2,
       "version_minor": 0
      },
      "text/plain": [
       "  0%|          | 0/43 [00:00<?, ?it/s]"
      ]
     },
     "metadata": {},
     "output_type": "display_data"
    },
    {
     "name": "stderr",
     "output_type": "stream",
     "text": [
      "Using 264 background data samples could cause slower run times. Consider using shap.sample(data, K) or shap.kmeans(data, K) to summarize the background as K samples.\n"
     ]
    },
    {
     "name": "stdout",
     "output_type": "stream",
     "text": [
      "Prima: (array([0, 1]), array([132,  37]))\n",
      "Dopo: (array([0, 1]), array([132, 132]))\n",
      "264 264\n"
     ]
    },
    {
     "data": {
      "application/vnd.jupyter.widget-view+json": {
       "model_id": "86eaf3b352834074b8288976cb5717a3",
       "version_major": 2,
       "version_minor": 0
      },
      "text/plain": [
       "  0%|          | 0/43 [00:00<?, ?it/s]"
      ]
     },
     "metadata": {},
     "output_type": "display_data"
    },
    {
     "name": "stderr",
     "output_type": "stream",
     "text": [
      "Using 264 background data samples could cause slower run times. Consider using shap.sample(data, K) or shap.kmeans(data, K) to summarize the background as K samples.\n"
     ]
    },
    {
     "name": "stdout",
     "output_type": "stream",
     "text": [
      "Prima: (array([0, 1]), array([132,  38]))\n",
      "Dopo: (array([0, 1]), array([132, 132]))\n",
      "264 264\n"
     ]
    },
    {
     "data": {
      "application/vnd.jupyter.widget-view+json": {
       "model_id": "7d891b5a8fe04ee79da96e17334155ad",
       "version_major": 2,
       "version_minor": 0
      },
      "text/plain": [
       "  0%|          | 0/42 [00:00<?, ?it/s]"
      ]
     },
     "metadata": {},
     "output_type": "display_data"
    },
    {
     "name": "stderr",
     "output_type": "stream",
     "text": [
      "Using 264 background data samples could cause slower run times. Consider using shap.sample(data, K) or shap.kmeans(data, K) to summarize the background as K samples.\n"
     ]
    },
    {
     "name": "stdout",
     "output_type": "stream",
     "text": [
      "Prima: (array([0, 1]), array([132,  38]))\n",
      "Dopo: (array([0, 1]), array([132, 132]))\n",
      "264 264\n"
     ]
    },
    {
     "data": {
      "application/vnd.jupyter.widget-view+json": {
       "model_id": "cc78dcebbe38452693ca5cf67752ffd6",
       "version_major": 2,
       "version_minor": 0
      },
      "text/plain": [
       "  0%|          | 0/42 [00:00<?, ?it/s]"
      ]
     },
     "metadata": {},
     "output_type": "display_data"
    },
    {
     "name": "stderr",
     "output_type": "stream",
     "text": [
      "Using 264 background data samples could cause slower run times. Consider using shap.sample(data, K) or shap.kmeans(data, K) to summarize the background as K samples.\n"
     ]
    },
    {
     "name": "stdout",
     "output_type": "stream",
     "text": [
      "Prima: (array([0, 1]), array([132,  38]))\n",
      "Dopo: (array([0, 1]), array([132, 132]))\n",
      "264 264\n"
     ]
    },
    {
     "data": {
      "application/vnd.jupyter.widget-view+json": {
       "model_id": "2fb875f5e8f34f25a7bafe3614cea446",
       "version_major": 2,
       "version_minor": 0
      },
      "text/plain": [
       "  0%|          | 0/42 [00:00<?, ?it/s]"
      ]
     },
     "metadata": {},
     "output_type": "display_data"
    },
    {
     "name": "stderr",
     "output_type": "stream",
     "text": [
      "Using 264 background data samples could cause slower run times. Consider using shap.sample(data, K) or shap.kmeans(data, K) to summarize the background as K samples.\n"
     ]
    },
    {
     "name": "stdout",
     "output_type": "stream",
     "text": [
      "Dimensione degli SHAP values per seed 8: (2, 212, 30)\n",
      "Sensitivity: 0.5393939393939394\n",
      "Specificity: 0.44680851063829785\n",
      "Matrice di confusione per il seed 9 :\n",
      "[[89 76]\n",
      " [26 21]]\n",
      "Iterazione: 10\n",
      "0->Medium, 1->Poor\n",
      "\n",
      "Prima: (array([0, 1]), array([132,  37]))\n",
      "Dopo: (array([0, 1]), array([132, 132]))\n",
      "264 264\n"
     ]
    },
    {
     "data": {
      "application/vnd.jupyter.widget-view+json": {
       "model_id": "6cb68a8d603545e59331606651ccc7cd",
       "version_major": 2,
       "version_minor": 0
      },
      "text/plain": [
       "  0%|          | 0/43 [00:00<?, ?it/s]"
      ]
     },
     "metadata": {},
     "output_type": "display_data"
    },
    {
     "name": "stderr",
     "output_type": "stream",
     "text": [
      "Using 264 background data samples could cause slower run times. Consider using shap.sample(data, K) or shap.kmeans(data, K) to summarize the background as K samples.\n"
     ]
    },
    {
     "name": "stdout",
     "output_type": "stream",
     "text": [
      "Prima: (array([0, 1]), array([132,  37]))\n",
      "Dopo: (array([0, 1]), array([132, 132]))\n",
      "264 264\n"
     ]
    },
    {
     "data": {
      "application/vnd.jupyter.widget-view+json": {
       "model_id": "cad2c5fb64364b7cbcf4088fbd706c56",
       "version_major": 2,
       "version_minor": 0
      },
      "text/plain": [
       "  0%|          | 0/43 [00:00<?, ?it/s]"
      ]
     },
     "metadata": {},
     "output_type": "display_data"
    },
    {
     "name": "stderr",
     "output_type": "stream",
     "text": [
      "Using 264 background data samples could cause slower run times. Consider using shap.sample(data, K) or shap.kmeans(data, K) to summarize the background as K samples.\n"
     ]
    },
    {
     "name": "stdout",
     "output_type": "stream",
     "text": [
      "Prima: (array([0, 1]), array([132,  38]))\n",
      "Dopo: (array([0, 1]), array([132, 132]))\n",
      "264 264\n"
     ]
    },
    {
     "data": {
      "application/vnd.jupyter.widget-view+json": {
       "model_id": "3d9b246adb134c0983d59a29f0dd70e7",
       "version_major": 2,
       "version_minor": 0
      },
      "text/plain": [
       "  0%|          | 0/42 [00:00<?, ?it/s]"
      ]
     },
     "metadata": {},
     "output_type": "display_data"
    },
    {
     "name": "stderr",
     "output_type": "stream",
     "text": [
      "Using 264 background data samples could cause slower run times. Consider using shap.sample(data, K) or shap.kmeans(data, K) to summarize the background as K samples.\n"
     ]
    },
    {
     "name": "stdout",
     "output_type": "stream",
     "text": [
      "Prima: (array([0, 1]), array([132,  38]))\n",
      "Dopo: (array([0, 1]), array([132, 132]))\n",
      "264 264\n"
     ]
    },
    {
     "data": {
      "application/vnd.jupyter.widget-view+json": {
       "model_id": "e1464b8adf3b4f1380cdfb1be419e32a",
       "version_major": 2,
       "version_minor": 0
      },
      "text/plain": [
       "  0%|          | 0/42 [00:00<?, ?it/s]"
      ]
     },
     "metadata": {},
     "output_type": "display_data"
    },
    {
     "name": "stderr",
     "output_type": "stream",
     "text": [
      "Using 264 background data samples could cause slower run times. Consider using shap.sample(data, K) or shap.kmeans(data, K) to summarize the background as K samples.\n"
     ]
    },
    {
     "name": "stdout",
     "output_type": "stream",
     "text": [
      "Prima: (array([0, 1]), array([132,  38]))\n",
      "Dopo: (array([0, 1]), array([132, 132]))\n",
      "264 264\n"
     ]
    },
    {
     "data": {
      "application/vnd.jupyter.widget-view+json": {
       "model_id": "ec2c95cd594944bdb0a31176f50feacd",
       "version_major": 2,
       "version_minor": 0
      },
      "text/plain": [
       "  0%|          | 0/42 [00:00<?, ?it/s]"
      ]
     },
     "metadata": {},
     "output_type": "display_data"
    },
    {
     "name": "stderr",
     "output_type": "stream",
     "text": [
      "Using 264 background data samples could cause slower run times. Consider using shap.sample(data, K) or shap.kmeans(data, K) to summarize the background as K samples.\n"
     ]
    },
    {
     "name": "stdout",
     "output_type": "stream",
     "text": [
      "Dimensione degli SHAP values per seed 9: (2, 212, 30)\n",
      "Sensitivity: 0.5393939393939394\n",
      "Specificity: 0.5531914893617021\n",
      "Matrice di confusione per il seed 10 :\n",
      "[[89 76]\n",
      " [21 26]]\n",
      "Iterazione: 11\n",
      "0->Medium, 1->Poor\n",
      "\n",
      "Prima: (array([0, 1]), array([132,  37]))\n",
      "Dopo: (array([0, 1]), array([132, 132]))\n",
      "264 264\n"
     ]
    },
    {
     "data": {
      "application/vnd.jupyter.widget-view+json": {
       "model_id": "df8eb80173944d5aae5115f2363e2234",
       "version_major": 2,
       "version_minor": 0
      },
      "text/plain": [
       "  0%|          | 0/43 [00:00<?, ?it/s]"
      ]
     },
     "metadata": {},
     "output_type": "display_data"
    },
    {
     "name": "stderr",
     "output_type": "stream",
     "text": [
      "Using 264 background data samples could cause slower run times. Consider using shap.sample(data, K) or shap.kmeans(data, K) to summarize the background as K samples.\n"
     ]
    },
    {
     "name": "stdout",
     "output_type": "stream",
     "text": [
      "Prima: (array([0, 1]), array([132,  37]))\n",
      "Dopo: (array([0, 1]), array([132, 132]))\n",
      "264 264\n"
     ]
    },
    {
     "data": {
      "application/vnd.jupyter.widget-view+json": {
       "model_id": "cb3a3b2c79ed4c9fa512b11d1bce5d27",
       "version_major": 2,
       "version_minor": 0
      },
      "text/plain": [
       "  0%|          | 0/43 [00:00<?, ?it/s]"
      ]
     },
     "metadata": {},
     "output_type": "display_data"
    },
    {
     "name": "stderr",
     "output_type": "stream",
     "text": [
      "Using 264 background data samples could cause slower run times. Consider using shap.sample(data, K) or shap.kmeans(data, K) to summarize the background as K samples.\n"
     ]
    },
    {
     "name": "stdout",
     "output_type": "stream",
     "text": [
      "Prima: (array([0, 1]), array([132,  38]))\n",
      "Dopo: (array([0, 1]), array([132, 132]))\n",
      "264 264\n"
     ]
    },
    {
     "data": {
      "application/vnd.jupyter.widget-view+json": {
       "model_id": "b5607443bfaa45148f43e9be142eade5",
       "version_major": 2,
       "version_minor": 0
      },
      "text/plain": [
       "  0%|          | 0/42 [00:00<?, ?it/s]"
      ]
     },
     "metadata": {},
     "output_type": "display_data"
    },
    {
     "name": "stderr",
     "output_type": "stream",
     "text": [
      "Using 264 background data samples could cause slower run times. Consider using shap.sample(data, K) or shap.kmeans(data, K) to summarize the background as K samples.\n"
     ]
    },
    {
     "name": "stdout",
     "output_type": "stream",
     "text": [
      "Prima: (array([0, 1]), array([132,  38]))\n",
      "Dopo: (array([0, 1]), array([132, 132]))\n",
      "264 264\n"
     ]
    },
    {
     "data": {
      "application/vnd.jupyter.widget-view+json": {
       "model_id": "363efc3b2fcb4ff4abe31390feab9199",
       "version_major": 2,
       "version_minor": 0
      },
      "text/plain": [
       "  0%|          | 0/42 [00:00<?, ?it/s]"
      ]
     },
     "metadata": {},
     "output_type": "display_data"
    },
    {
     "name": "stderr",
     "output_type": "stream",
     "text": [
      "Using 264 background data samples could cause slower run times. Consider using shap.sample(data, K) or shap.kmeans(data, K) to summarize the background as K samples.\n"
     ]
    },
    {
     "name": "stdout",
     "output_type": "stream",
     "text": [
      "Prima: (array([0, 1]), array([132,  38]))\n",
      "Dopo: (array([0, 1]), array([132, 132]))\n",
      "264 264\n"
     ]
    },
    {
     "data": {
      "application/vnd.jupyter.widget-view+json": {
       "model_id": "2d6f4ce1c37b47d6b1472bdeb6fa5cf4",
       "version_major": 2,
       "version_minor": 0
      },
      "text/plain": [
       "  0%|          | 0/42 [00:00<?, ?it/s]"
      ]
     },
     "metadata": {},
     "output_type": "display_data"
    },
    {
     "name": "stderr",
     "output_type": "stream",
     "text": [
      "Using 264 background data samples could cause slower run times. Consider using shap.sample(data, K) or shap.kmeans(data, K) to summarize the background as K samples.\n"
     ]
    },
    {
     "name": "stdout",
     "output_type": "stream",
     "text": [
      "Dimensione degli SHAP values per seed 10: (2, 212, 30)\n",
      "Sensitivity: 0.6060606060606061\n",
      "Specificity: 0.3404255319148936\n",
      "Matrice di confusione per il seed 11 :\n",
      "[[100  65]\n",
      " [ 31  16]]\n",
      "Iterazione: 12\n",
      "0->Medium, 1->Poor\n",
      "\n",
      "Prima: (array([0, 1]), array([132,  37]))\n",
      "Dopo: (array([0, 1]), array([132, 132]))\n",
      "264 264\n"
     ]
    },
    {
     "data": {
      "application/vnd.jupyter.widget-view+json": {
       "model_id": "9901cb075f1e478494fd265b0df378af",
       "version_major": 2,
       "version_minor": 0
      },
      "text/plain": [
       "  0%|          | 0/43 [00:00<?, ?it/s]"
      ]
     },
     "metadata": {},
     "output_type": "display_data"
    },
    {
     "name": "stderr",
     "output_type": "stream",
     "text": [
      "Using 264 background data samples could cause slower run times. Consider using shap.sample(data, K) or shap.kmeans(data, K) to summarize the background as K samples.\n"
     ]
    },
    {
     "name": "stdout",
     "output_type": "stream",
     "text": [
      "Prima: (array([0, 1]), array([132,  37]))\n",
      "Dopo: (array([0, 1]), array([132, 132]))\n",
      "264 264\n"
     ]
    },
    {
     "data": {
      "application/vnd.jupyter.widget-view+json": {
       "model_id": "2498f1ea0ca54c0db2b6d9d0623f1816",
       "version_major": 2,
       "version_minor": 0
      },
      "text/plain": [
       "  0%|          | 0/43 [00:00<?, ?it/s]"
      ]
     },
     "metadata": {},
     "output_type": "display_data"
    },
    {
     "name": "stderr",
     "output_type": "stream",
     "text": [
      "Using 264 background data samples could cause slower run times. Consider using shap.sample(data, K) or shap.kmeans(data, K) to summarize the background as K samples.\n"
     ]
    },
    {
     "name": "stdout",
     "output_type": "stream",
     "text": [
      "Prima: (array([0, 1]), array([132,  38]))\n",
      "Dopo: (array([0, 1]), array([132, 132]))\n",
      "264 264\n"
     ]
    },
    {
     "data": {
      "application/vnd.jupyter.widget-view+json": {
       "model_id": "d8107876f1d348ed81e8888e6d96edf2",
       "version_major": 2,
       "version_minor": 0
      },
      "text/plain": [
       "  0%|          | 0/42 [00:00<?, ?it/s]"
      ]
     },
     "metadata": {},
     "output_type": "display_data"
    },
    {
     "name": "stderr",
     "output_type": "stream",
     "text": [
      "Using 264 background data samples could cause slower run times. Consider using shap.sample(data, K) or shap.kmeans(data, K) to summarize the background as K samples.\n"
     ]
    },
    {
     "name": "stdout",
     "output_type": "stream",
     "text": [
      "Prima: (array([0, 1]), array([132,  38]))\n",
      "Dopo: (array([0, 1]), array([132, 132]))\n",
      "264 264\n"
     ]
    },
    {
     "data": {
      "application/vnd.jupyter.widget-view+json": {
       "model_id": "77cea043b006431cb6156c0d4c70b889",
       "version_major": 2,
       "version_minor": 0
      },
      "text/plain": [
       "  0%|          | 0/42 [00:00<?, ?it/s]"
      ]
     },
     "metadata": {},
     "output_type": "display_data"
    },
    {
     "name": "stderr",
     "output_type": "stream",
     "text": [
      "Using 264 background data samples could cause slower run times. Consider using shap.sample(data, K) or shap.kmeans(data, K) to summarize the background as K samples.\n"
     ]
    },
    {
     "name": "stdout",
     "output_type": "stream",
     "text": [
      "Prima: (array([0, 1]), array([132,  38]))\n",
      "Dopo: (array([0, 1]), array([132, 132]))\n",
      "264 264\n"
     ]
    },
    {
     "data": {
      "application/vnd.jupyter.widget-view+json": {
       "model_id": "b0c7c612b0fc411c9b6695fab032c2d9",
       "version_major": 2,
       "version_minor": 0
      },
      "text/plain": [
       "  0%|          | 0/42 [00:00<?, ?it/s]"
      ]
     },
     "metadata": {},
     "output_type": "display_data"
    },
    {
     "name": "stderr",
     "output_type": "stream",
     "text": [
      "Using 264 background data samples could cause slower run times. Consider using shap.sample(data, K) or shap.kmeans(data, K) to summarize the background as K samples.\n"
     ]
    },
    {
     "name": "stdout",
     "output_type": "stream",
     "text": [
      "Dimensione degli SHAP values per seed 11: (2, 212, 30)\n",
      "Sensitivity: 0.6363636363636364\n",
      "Specificity: 0.40425531914893614\n",
      "Matrice di confusione per il seed 12 :\n",
      "[[105  60]\n",
      " [ 28  19]]\n",
      "Iterazione: 13\n",
      "0->Medium, 1->Poor\n",
      "\n",
      "Prima: (array([0, 1]), array([132,  37]))\n",
      "Dopo: (array([0, 1]), array([132, 132]))\n",
      "264 264\n"
     ]
    },
    {
     "data": {
      "application/vnd.jupyter.widget-view+json": {
       "model_id": "d5e4b23e919c44f7a57e4555692b1474",
       "version_major": 2,
       "version_minor": 0
      },
      "text/plain": [
       "  0%|          | 0/43 [00:00<?, ?it/s]"
      ]
     },
     "metadata": {},
     "output_type": "display_data"
    },
    {
     "name": "stderr",
     "output_type": "stream",
     "text": [
      "Using 264 background data samples could cause slower run times. Consider using shap.sample(data, K) or shap.kmeans(data, K) to summarize the background as K samples.\n"
     ]
    },
    {
     "name": "stdout",
     "output_type": "stream",
     "text": [
      "Prima: (array([0, 1]), array([132,  37]))\n",
      "Dopo: (array([0, 1]), array([132, 132]))\n",
      "264 264\n"
     ]
    },
    {
     "data": {
      "application/vnd.jupyter.widget-view+json": {
       "model_id": "5bca5d84bf5043a6a8a3f383b5e2df1f",
       "version_major": 2,
       "version_minor": 0
      },
      "text/plain": [
       "  0%|          | 0/43 [00:00<?, ?it/s]"
      ]
     },
     "metadata": {},
     "output_type": "display_data"
    },
    {
     "name": "stderr",
     "output_type": "stream",
     "text": [
      "Using 264 background data samples could cause slower run times. Consider using shap.sample(data, K) or shap.kmeans(data, K) to summarize the background as K samples.\n"
     ]
    },
    {
     "name": "stdout",
     "output_type": "stream",
     "text": [
      "Prima: (array([0, 1]), array([132,  38]))\n",
      "Dopo: (array([0, 1]), array([132, 132]))\n",
      "264 264\n"
     ]
    },
    {
     "data": {
      "application/vnd.jupyter.widget-view+json": {
       "model_id": "bcdfe4c570ae4181961e6f362db71d83",
       "version_major": 2,
       "version_minor": 0
      },
      "text/plain": [
       "  0%|          | 0/42 [00:00<?, ?it/s]"
      ]
     },
     "metadata": {},
     "output_type": "display_data"
    },
    {
     "name": "stderr",
     "output_type": "stream",
     "text": [
      "Using 264 background data samples could cause slower run times. Consider using shap.sample(data, K) or shap.kmeans(data, K) to summarize the background as K samples.\n"
     ]
    },
    {
     "name": "stdout",
     "output_type": "stream",
     "text": [
      "Prima: (array([0, 1]), array([132,  38]))\n",
      "Dopo: (array([0, 1]), array([132, 132]))\n",
      "264 264\n"
     ]
    },
    {
     "data": {
      "application/vnd.jupyter.widget-view+json": {
       "model_id": "46c912d50c584cf5ae45d5f887007455",
       "version_major": 2,
       "version_minor": 0
      },
      "text/plain": [
       "  0%|          | 0/42 [00:00<?, ?it/s]"
      ]
     },
     "metadata": {},
     "output_type": "display_data"
    },
    {
     "name": "stderr",
     "output_type": "stream",
     "text": [
      "Using 264 background data samples could cause slower run times. Consider using shap.sample(data, K) or shap.kmeans(data, K) to summarize the background as K samples.\n"
     ]
    },
    {
     "name": "stdout",
     "output_type": "stream",
     "text": [
      "Prima: (array([0, 1]), array([132,  38]))\n",
      "Dopo: (array([0, 1]), array([132, 132]))\n",
      "264 264\n"
     ]
    },
    {
     "data": {
      "application/vnd.jupyter.widget-view+json": {
       "model_id": "739b9aa144bf45c0a311bb377aef2ee5",
       "version_major": 2,
       "version_minor": 0
      },
      "text/plain": [
       "  0%|          | 0/42 [00:00<?, ?it/s]"
      ]
     },
     "metadata": {},
     "output_type": "display_data"
    },
    {
     "name": "stderr",
     "output_type": "stream",
     "text": [
      "Using 264 background data samples could cause slower run times. Consider using shap.sample(data, K) or shap.kmeans(data, K) to summarize the background as K samples.\n"
     ]
    },
    {
     "name": "stdout",
     "output_type": "stream",
     "text": [
      "Dimensione degli SHAP values per seed 12: (2, 212, 30)\n",
      "Sensitivity: 0.6\n",
      "Specificity: 0.48936170212765956\n",
      "Matrice di confusione per il seed 13 :\n",
      "[[99 66]\n",
      " [24 23]]\n",
      "Iterazione: 14\n",
      "0->Medium, 1->Poor\n",
      "\n",
      "Prima: (array([0, 1]), array([132,  37]))\n",
      "Dopo: (array([0, 1]), array([132, 132]))\n",
      "264 264\n"
     ]
    },
    {
     "data": {
      "application/vnd.jupyter.widget-view+json": {
       "model_id": "bbec4ab8a8074e37b8e3ccbbc5d9e596",
       "version_major": 2,
       "version_minor": 0
      },
      "text/plain": [
       "  0%|          | 0/43 [00:00<?, ?it/s]"
      ]
     },
     "metadata": {},
     "output_type": "display_data"
    },
    {
     "name": "stderr",
     "output_type": "stream",
     "text": [
      "Using 264 background data samples could cause slower run times. Consider using shap.sample(data, K) or shap.kmeans(data, K) to summarize the background as K samples.\n"
     ]
    },
    {
     "name": "stdout",
     "output_type": "stream",
     "text": [
      "Prima: (array([0, 1]), array([132,  37]))\n",
      "Dopo: (array([0, 1]), array([132, 132]))\n",
      "264 264\n"
     ]
    },
    {
     "data": {
      "application/vnd.jupyter.widget-view+json": {
       "model_id": "28c6616006ab4fe1b46485722dc8875e",
       "version_major": 2,
       "version_minor": 0
      },
      "text/plain": [
       "  0%|          | 0/43 [00:00<?, ?it/s]"
      ]
     },
     "metadata": {},
     "output_type": "display_data"
    },
    {
     "name": "stderr",
     "output_type": "stream",
     "text": [
      "Using 264 background data samples could cause slower run times. Consider using shap.sample(data, K) or shap.kmeans(data, K) to summarize the background as K samples.\n"
     ]
    },
    {
     "name": "stdout",
     "output_type": "stream",
     "text": [
      "Prima: (array([0, 1]), array([132,  38]))\n",
      "Dopo: (array([0, 1]), array([132, 132]))\n",
      "264 264\n"
     ]
    },
    {
     "data": {
      "application/vnd.jupyter.widget-view+json": {
       "model_id": "393d748dec93483784a06fda85872c39",
       "version_major": 2,
       "version_minor": 0
      },
      "text/plain": [
       "  0%|          | 0/42 [00:00<?, ?it/s]"
      ]
     },
     "metadata": {},
     "output_type": "display_data"
    },
    {
     "name": "stderr",
     "output_type": "stream",
     "text": [
      "Using 264 background data samples could cause slower run times. Consider using shap.sample(data, K) or shap.kmeans(data, K) to summarize the background as K samples.\n"
     ]
    },
    {
     "name": "stdout",
     "output_type": "stream",
     "text": [
      "Prima: (array([0, 1]), array([132,  38]))\n",
      "Dopo: (array([0, 1]), array([132, 132]))\n",
      "264 264\n"
     ]
    },
    {
     "data": {
      "application/vnd.jupyter.widget-view+json": {
       "model_id": "6e0185cb89184f278e53e086370716dc",
       "version_major": 2,
       "version_minor": 0
      },
      "text/plain": [
       "  0%|          | 0/42 [00:00<?, ?it/s]"
      ]
     },
     "metadata": {},
     "output_type": "display_data"
    },
    {
     "name": "stderr",
     "output_type": "stream",
     "text": [
      "Using 264 background data samples could cause slower run times. Consider using shap.sample(data, K) or shap.kmeans(data, K) to summarize the background as K samples.\n"
     ]
    },
    {
     "name": "stdout",
     "output_type": "stream",
     "text": [
      "Prima: (array([0, 1]), array([132,  38]))\n",
      "Dopo: (array([0, 1]), array([132, 132]))\n",
      "264 264\n"
     ]
    },
    {
     "data": {
      "application/vnd.jupyter.widget-view+json": {
       "model_id": "2bee10d3134840178ce9cd387ada2b2b",
       "version_major": 2,
       "version_minor": 0
      },
      "text/plain": [
       "  0%|          | 0/42 [00:00<?, ?it/s]"
      ]
     },
     "metadata": {},
     "output_type": "display_data"
    },
    {
     "name": "stderr",
     "output_type": "stream",
     "text": [
      "Using 264 background data samples could cause slower run times. Consider using shap.sample(data, K) or shap.kmeans(data, K) to summarize the background as K samples.\n"
     ]
    },
    {
     "name": "stdout",
     "output_type": "stream",
     "text": [
      "Dimensione degli SHAP values per seed 13: (2, 212, 30)\n",
      "Sensitivity: 0.5333333333333333\n",
      "Specificity: 0.44680851063829785\n",
      "Matrice di confusione per il seed 14 :\n",
      "[[88 77]\n",
      " [26 21]]\n",
      "Iterazione: 15\n",
      "0->Medium, 1->Poor\n",
      "\n",
      "Prima: (array([0, 1]), array([132,  37]))\n",
      "Dopo: (array([0, 1]), array([132, 132]))\n",
      "264 264\n"
     ]
    },
    {
     "data": {
      "application/vnd.jupyter.widget-view+json": {
       "model_id": "e8a7805f87614856b59e52b9ffd14e0f",
       "version_major": 2,
       "version_minor": 0
      },
      "text/plain": [
       "  0%|          | 0/43 [00:00<?, ?it/s]"
      ]
     },
     "metadata": {},
     "output_type": "display_data"
    },
    {
     "name": "stderr",
     "output_type": "stream",
     "text": [
      "Using 264 background data samples could cause slower run times. Consider using shap.sample(data, K) or shap.kmeans(data, K) to summarize the background as K samples.\n"
     ]
    },
    {
     "name": "stdout",
     "output_type": "stream",
     "text": [
      "Prima: (array([0, 1]), array([132,  37]))\n",
      "Dopo: (array([0, 1]), array([132, 132]))\n",
      "264 264\n"
     ]
    },
    {
     "data": {
      "application/vnd.jupyter.widget-view+json": {
       "model_id": "c9c49d8a3369463b9e7b4da4b0edcce2",
       "version_major": 2,
       "version_minor": 0
      },
      "text/plain": [
       "  0%|          | 0/43 [00:00<?, ?it/s]"
      ]
     },
     "metadata": {},
     "output_type": "display_data"
    },
    {
     "name": "stderr",
     "output_type": "stream",
     "text": [
      "Using 264 background data samples could cause slower run times. Consider using shap.sample(data, K) or shap.kmeans(data, K) to summarize the background as K samples.\n"
     ]
    },
    {
     "name": "stdout",
     "output_type": "stream",
     "text": [
      "Prima: (array([0, 1]), array([132,  38]))\n",
      "Dopo: (array([0, 1]), array([132, 132]))\n",
      "264 264\n"
     ]
    },
    {
     "data": {
      "application/vnd.jupyter.widget-view+json": {
       "model_id": "551bdb23a3ef4f629bf606a0a1a6985b",
       "version_major": 2,
       "version_minor": 0
      },
      "text/plain": [
       "  0%|          | 0/42 [00:00<?, ?it/s]"
      ]
     },
     "metadata": {},
     "output_type": "display_data"
    },
    {
     "name": "stderr",
     "output_type": "stream",
     "text": [
      "Using 264 background data samples could cause slower run times. Consider using shap.sample(data, K) or shap.kmeans(data, K) to summarize the background as K samples.\n"
     ]
    },
    {
     "name": "stdout",
     "output_type": "stream",
     "text": [
      "Prima: (array([0, 1]), array([132,  38]))\n",
      "Dopo: (array([0, 1]), array([132, 132]))\n",
      "264 264\n"
     ]
    },
    {
     "data": {
      "application/vnd.jupyter.widget-view+json": {
       "model_id": "f0d1f87ae39142de9e27c3301af70e7e",
       "version_major": 2,
       "version_minor": 0
      },
      "text/plain": [
       "  0%|          | 0/42 [00:00<?, ?it/s]"
      ]
     },
     "metadata": {},
     "output_type": "display_data"
    },
    {
     "name": "stderr",
     "output_type": "stream",
     "text": [
      "Using 264 background data samples could cause slower run times. Consider using shap.sample(data, K) or shap.kmeans(data, K) to summarize the background as K samples.\n"
     ]
    },
    {
     "name": "stdout",
     "output_type": "stream",
     "text": [
      "Prima: (array([0, 1]), array([132,  38]))\n",
      "Dopo: (array([0, 1]), array([132, 132]))\n",
      "264 264\n"
     ]
    },
    {
     "data": {
      "application/vnd.jupyter.widget-view+json": {
       "model_id": "5e2f75b2c26249ff9723c3d655a21a04",
       "version_major": 2,
       "version_minor": 0
      },
      "text/plain": [
       "  0%|          | 0/42 [00:00<?, ?it/s]"
      ]
     },
     "metadata": {},
     "output_type": "display_data"
    },
    {
     "name": "stderr",
     "output_type": "stream",
     "text": [
      "Using 264 background data samples could cause slower run times. Consider using shap.sample(data, K) or shap.kmeans(data, K) to summarize the background as K samples.\n"
     ]
    },
    {
     "name": "stdout",
     "output_type": "stream",
     "text": [
      "Dimensione degli SHAP values per seed 14: (2, 212, 30)\n",
      "Sensitivity: 0.5636363636363636\n",
      "Specificity: 0.5106382978723404\n",
      "Matrice di confusione per il seed 15 :\n",
      "[[93 72]\n",
      " [23 24]]\n",
      "Iterazione: 16\n",
      "0->Medium, 1->Poor\n",
      "\n",
      "Prima: (array([0, 1]), array([132,  37]))\n",
      "Dopo: (array([0, 1]), array([132, 132]))\n",
      "264 264\n"
     ]
    },
    {
     "data": {
      "application/vnd.jupyter.widget-view+json": {
       "model_id": "54a48c04be4c424a9a6594b96a059001",
       "version_major": 2,
       "version_minor": 0
      },
      "text/plain": [
       "  0%|          | 0/43 [00:00<?, ?it/s]"
      ]
     },
     "metadata": {},
     "output_type": "display_data"
    },
    {
     "name": "stderr",
     "output_type": "stream",
     "text": [
      "Using 264 background data samples could cause slower run times. Consider using shap.sample(data, K) or shap.kmeans(data, K) to summarize the background as K samples.\n"
     ]
    },
    {
     "name": "stdout",
     "output_type": "stream",
     "text": [
      "Prima: (array([0, 1]), array([132,  37]))\n",
      "Dopo: (array([0, 1]), array([132, 132]))\n",
      "264 264\n"
     ]
    },
    {
     "data": {
      "application/vnd.jupyter.widget-view+json": {
       "model_id": "5770eec9507a45d99cf308658b413637",
       "version_major": 2,
       "version_minor": 0
      },
      "text/plain": [
       "  0%|          | 0/43 [00:00<?, ?it/s]"
      ]
     },
     "metadata": {},
     "output_type": "display_data"
    },
    {
     "name": "stderr",
     "output_type": "stream",
     "text": [
      "Using 264 background data samples could cause slower run times. Consider using shap.sample(data, K) or shap.kmeans(data, K) to summarize the background as K samples.\n"
     ]
    },
    {
     "name": "stdout",
     "output_type": "stream",
     "text": [
      "Prima: (array([0, 1]), array([132,  38]))\n",
      "Dopo: (array([0, 1]), array([132, 132]))\n",
      "264 264\n"
     ]
    },
    {
     "data": {
      "application/vnd.jupyter.widget-view+json": {
       "model_id": "335fb02f31dd446f9f1c83fd83637c67",
       "version_major": 2,
       "version_minor": 0
      },
      "text/plain": [
       "  0%|          | 0/42 [00:00<?, ?it/s]"
      ]
     },
     "metadata": {},
     "output_type": "display_data"
    },
    {
     "name": "stderr",
     "output_type": "stream",
     "text": [
      "Using 264 background data samples could cause slower run times. Consider using shap.sample(data, K) or shap.kmeans(data, K) to summarize the background as K samples.\n"
     ]
    },
    {
     "name": "stdout",
     "output_type": "stream",
     "text": [
      "Prima: (array([0, 1]), array([132,  38]))\n",
      "Dopo: (array([0, 1]), array([132, 132]))\n",
      "264 264\n"
     ]
    },
    {
     "data": {
      "application/vnd.jupyter.widget-view+json": {
       "model_id": "337f689783f84df697c16ad74eb5cbb5",
       "version_major": 2,
       "version_minor": 0
      },
      "text/plain": [
       "  0%|          | 0/42 [00:00<?, ?it/s]"
      ]
     },
     "metadata": {},
     "output_type": "display_data"
    },
    {
     "name": "stderr",
     "output_type": "stream",
     "text": [
      "Using 264 background data samples could cause slower run times. Consider using shap.sample(data, K) or shap.kmeans(data, K) to summarize the background as K samples.\n"
     ]
    },
    {
     "name": "stdout",
     "output_type": "stream",
     "text": [
      "Prima: (array([0, 1]), array([132,  38]))\n",
      "Dopo: (array([0, 1]), array([132, 132]))\n",
      "264 264\n"
     ]
    },
    {
     "data": {
      "application/vnd.jupyter.widget-view+json": {
       "model_id": "22bd5c3812374774816d00ee2c67cea1",
       "version_major": 2,
       "version_minor": 0
      },
      "text/plain": [
       "  0%|          | 0/42 [00:00<?, ?it/s]"
      ]
     },
     "metadata": {},
     "output_type": "display_data"
    },
    {
     "name": "stderr",
     "output_type": "stream",
     "text": [
      "Using 264 background data samples could cause slower run times. Consider using shap.sample(data, K) or shap.kmeans(data, K) to summarize the background as K samples.\n"
     ]
    },
    {
     "name": "stdout",
     "output_type": "stream",
     "text": [
      "Dimensione degli SHAP values per seed 15: (2, 212, 30)\n",
      "Sensitivity: 0.6303030303030303\n",
      "Specificity: 0.44680851063829785\n",
      "Matrice di confusione per il seed 16 :\n",
      "[[104  61]\n",
      " [ 26  21]]\n",
      "Iterazione: 17\n",
      "0->Medium, 1->Poor\n",
      "\n",
      "Prima: (array([0, 1]), array([132,  37]))\n",
      "Dopo: (array([0, 1]), array([132, 132]))\n",
      "264 264\n"
     ]
    },
    {
     "data": {
      "application/vnd.jupyter.widget-view+json": {
       "model_id": "6f94dc2257ab4b1e8976ab276ec9b76a",
       "version_major": 2,
       "version_minor": 0
      },
      "text/plain": [
       "  0%|          | 0/43 [00:00<?, ?it/s]"
      ]
     },
     "metadata": {},
     "output_type": "display_data"
    },
    {
     "name": "stderr",
     "output_type": "stream",
     "text": [
      "Using 264 background data samples could cause slower run times. Consider using shap.sample(data, K) or shap.kmeans(data, K) to summarize the background as K samples.\n"
     ]
    },
    {
     "name": "stdout",
     "output_type": "stream",
     "text": [
      "Prima: (array([0, 1]), array([132,  37]))\n",
      "Dopo: (array([0, 1]), array([132, 132]))\n",
      "264 264\n"
     ]
    },
    {
     "data": {
      "application/vnd.jupyter.widget-view+json": {
       "model_id": "fe54c9f5b5e94d46941f32e7a59b680f",
       "version_major": 2,
       "version_minor": 0
      },
      "text/plain": [
       "  0%|          | 0/43 [00:00<?, ?it/s]"
      ]
     },
     "metadata": {},
     "output_type": "display_data"
    },
    {
     "name": "stderr",
     "output_type": "stream",
     "text": [
      "Using 264 background data samples could cause slower run times. Consider using shap.sample(data, K) or shap.kmeans(data, K) to summarize the background as K samples.\n"
     ]
    },
    {
     "name": "stdout",
     "output_type": "stream",
     "text": [
      "Prima: (array([0, 1]), array([132,  38]))\n",
      "Dopo: (array([0, 1]), array([132, 132]))\n",
      "264 264\n"
     ]
    },
    {
     "data": {
      "application/vnd.jupyter.widget-view+json": {
       "model_id": "54900675206d432d9a7be1b9cd29cd7d",
       "version_major": 2,
       "version_minor": 0
      },
      "text/plain": [
       "  0%|          | 0/42 [00:00<?, ?it/s]"
      ]
     },
     "metadata": {},
     "output_type": "display_data"
    },
    {
     "name": "stderr",
     "output_type": "stream",
     "text": [
      "Using 264 background data samples could cause slower run times. Consider using shap.sample(data, K) or shap.kmeans(data, K) to summarize the background as K samples.\n"
     ]
    },
    {
     "name": "stdout",
     "output_type": "stream",
     "text": [
      "Prima: (array([0, 1]), array([132,  38]))\n",
      "Dopo: (array([0, 1]), array([132, 132]))\n",
      "264 264\n"
     ]
    },
    {
     "data": {
      "application/vnd.jupyter.widget-view+json": {
       "model_id": "f54eb7ee478545c688126769ef3093d8",
       "version_major": 2,
       "version_minor": 0
      },
      "text/plain": [
       "  0%|          | 0/42 [00:00<?, ?it/s]"
      ]
     },
     "metadata": {},
     "output_type": "display_data"
    },
    {
     "name": "stderr",
     "output_type": "stream",
     "text": [
      "Using 264 background data samples could cause slower run times. Consider using shap.sample(data, K) or shap.kmeans(data, K) to summarize the background as K samples.\n"
     ]
    },
    {
     "name": "stdout",
     "output_type": "stream",
     "text": [
      "Prima: (array([0, 1]), array([132,  38]))\n",
      "Dopo: (array([0, 1]), array([132, 132]))\n",
      "264 264\n"
     ]
    },
    {
     "data": {
      "application/vnd.jupyter.widget-view+json": {
       "model_id": "6e7ca99811df4c8a8d364913b2917d2a",
       "version_major": 2,
       "version_minor": 0
      },
      "text/plain": [
       "  0%|          | 0/42 [00:00<?, ?it/s]"
      ]
     },
     "metadata": {},
     "output_type": "display_data"
    },
    {
     "name": "stderr",
     "output_type": "stream",
     "text": [
      "Using 264 background data samples could cause slower run times. Consider using shap.sample(data, K) or shap.kmeans(data, K) to summarize the background as K samples.\n"
     ]
    },
    {
     "name": "stdout",
     "output_type": "stream",
     "text": [
      "Dimensione degli SHAP values per seed 16: (2, 212, 30)\n",
      "Sensitivity: 0.6545454545454545\n",
      "Specificity: 0.46808510638297873\n",
      "Matrice di confusione per il seed 17 :\n",
      "[[108  57]\n",
      " [ 25  22]]\n",
      "Iterazione: 18\n",
      "0->Medium, 1->Poor\n",
      "\n",
      "Prima: (array([0, 1]), array([132,  37]))\n",
      "Dopo: (array([0, 1]), array([132, 132]))\n",
      "264 264\n"
     ]
    },
    {
     "data": {
      "application/vnd.jupyter.widget-view+json": {
       "model_id": "f9edafd90df54ea6b5affb0dab9a500e",
       "version_major": 2,
       "version_minor": 0
      },
      "text/plain": [
       "  0%|          | 0/43 [00:00<?, ?it/s]"
      ]
     },
     "metadata": {},
     "output_type": "display_data"
    },
    {
     "name": "stderr",
     "output_type": "stream",
     "text": [
      "Using 264 background data samples could cause slower run times. Consider using shap.sample(data, K) or shap.kmeans(data, K) to summarize the background as K samples.\n"
     ]
    },
    {
     "name": "stdout",
     "output_type": "stream",
     "text": [
      "Prima: (array([0, 1]), array([132,  37]))\n",
      "Dopo: (array([0, 1]), array([132, 132]))\n",
      "264 264\n"
     ]
    },
    {
     "data": {
      "application/vnd.jupyter.widget-view+json": {
       "model_id": "d3e0fea5b8a44c2ba69a55412faf1495",
       "version_major": 2,
       "version_minor": 0
      },
      "text/plain": [
       "  0%|          | 0/43 [00:00<?, ?it/s]"
      ]
     },
     "metadata": {},
     "output_type": "display_data"
    },
    {
     "name": "stderr",
     "output_type": "stream",
     "text": [
      "Using 264 background data samples could cause slower run times. Consider using shap.sample(data, K) or shap.kmeans(data, K) to summarize the background as K samples.\n"
     ]
    },
    {
     "name": "stdout",
     "output_type": "stream",
     "text": [
      "Prima: (array([0, 1]), array([132,  38]))\n",
      "Dopo: (array([0, 1]), array([132, 132]))\n",
      "264 264\n"
     ]
    },
    {
     "data": {
      "application/vnd.jupyter.widget-view+json": {
       "model_id": "fcc135f1e7294c3f89b9d2b18d2af8d8",
       "version_major": 2,
       "version_minor": 0
      },
      "text/plain": [
       "  0%|          | 0/42 [00:00<?, ?it/s]"
      ]
     },
     "metadata": {},
     "output_type": "display_data"
    },
    {
     "name": "stderr",
     "output_type": "stream",
     "text": [
      "Using 264 background data samples could cause slower run times. Consider using shap.sample(data, K) or shap.kmeans(data, K) to summarize the background as K samples.\n"
     ]
    },
    {
     "name": "stdout",
     "output_type": "stream",
     "text": [
      "Prima: (array([0, 1]), array([132,  38]))\n",
      "Dopo: (array([0, 1]), array([132, 132]))\n",
      "264 264\n"
     ]
    },
    {
     "data": {
      "application/vnd.jupyter.widget-view+json": {
       "model_id": "5d460335d7f74fed90c76b538245816c",
       "version_major": 2,
       "version_minor": 0
      },
      "text/plain": [
       "  0%|          | 0/42 [00:00<?, ?it/s]"
      ]
     },
     "metadata": {},
     "output_type": "display_data"
    },
    {
     "name": "stderr",
     "output_type": "stream",
     "text": [
      "Using 264 background data samples could cause slower run times. Consider using shap.sample(data, K) or shap.kmeans(data, K) to summarize the background as K samples.\n"
     ]
    },
    {
     "name": "stdout",
     "output_type": "stream",
     "text": [
      "Prima: (array([0, 1]), array([132,  38]))\n",
      "Dopo: (array([0, 1]), array([132, 132]))\n",
      "264 264\n"
     ]
    },
    {
     "data": {
      "application/vnd.jupyter.widget-view+json": {
       "model_id": "adf98d62b21141bf879736776d9c8aab",
       "version_major": 2,
       "version_minor": 0
      },
      "text/plain": [
       "  0%|          | 0/42 [00:00<?, ?it/s]"
      ]
     },
     "metadata": {},
     "output_type": "display_data"
    },
    {
     "name": "stderr",
     "output_type": "stream",
     "text": [
      "Using 264 background data samples could cause slower run times. Consider using shap.sample(data, K) or shap.kmeans(data, K) to summarize the background as K samples.\n"
     ]
    },
    {
     "name": "stdout",
     "output_type": "stream",
     "text": [
      "Dimensione degli SHAP values per seed 17: (2, 212, 30)\n",
      "Sensitivity: 0.5696969696969697\n",
      "Specificity: 0.3617021276595745\n",
      "Matrice di confusione per il seed 18 :\n",
      "[[94 71]\n",
      " [30 17]]\n",
      "Iterazione: 19\n",
      "0->Medium, 1->Poor\n",
      "\n",
      "Prima: (array([0, 1]), array([132,  37]))\n",
      "Dopo: (array([0, 1]), array([132, 132]))\n",
      "264 264\n"
     ]
    },
    {
     "data": {
      "application/vnd.jupyter.widget-view+json": {
       "model_id": "172d28329b0f4a9c9ff16f17f50fa001",
       "version_major": 2,
       "version_minor": 0
      },
      "text/plain": [
       "  0%|          | 0/43 [00:00<?, ?it/s]"
      ]
     },
     "metadata": {},
     "output_type": "display_data"
    },
    {
     "name": "stderr",
     "output_type": "stream",
     "text": [
      "Using 264 background data samples could cause slower run times. Consider using shap.sample(data, K) or shap.kmeans(data, K) to summarize the background as K samples.\n"
     ]
    },
    {
     "name": "stdout",
     "output_type": "stream",
     "text": [
      "Prima: (array([0, 1]), array([132,  37]))\n",
      "Dopo: (array([0, 1]), array([132, 132]))\n",
      "264 264\n"
     ]
    },
    {
     "data": {
      "application/vnd.jupyter.widget-view+json": {
       "model_id": "9c06215070c141bf91254282885c4dc4",
       "version_major": 2,
       "version_minor": 0
      },
      "text/plain": [
       "  0%|          | 0/43 [00:00<?, ?it/s]"
      ]
     },
     "metadata": {},
     "output_type": "display_data"
    },
    {
     "name": "stderr",
     "output_type": "stream",
     "text": [
      "Using 264 background data samples could cause slower run times. Consider using shap.sample(data, K) or shap.kmeans(data, K) to summarize the background as K samples.\n"
     ]
    },
    {
     "name": "stdout",
     "output_type": "stream",
     "text": [
      "Prima: (array([0, 1]), array([132,  38]))\n",
      "Dopo: (array([0, 1]), array([132, 132]))\n",
      "264 264\n"
     ]
    },
    {
     "data": {
      "application/vnd.jupyter.widget-view+json": {
       "model_id": "872991a692af472eb09a566feef6ec79",
       "version_major": 2,
       "version_minor": 0
      },
      "text/plain": [
       "  0%|          | 0/42 [00:00<?, ?it/s]"
      ]
     },
     "metadata": {},
     "output_type": "display_data"
    },
    {
     "name": "stderr",
     "output_type": "stream",
     "text": [
      "Using 264 background data samples could cause slower run times. Consider using shap.sample(data, K) or shap.kmeans(data, K) to summarize the background as K samples.\n"
     ]
    },
    {
     "name": "stdout",
     "output_type": "stream",
     "text": [
      "Prima: (array([0, 1]), array([132,  38]))\n",
      "Dopo: (array([0, 1]), array([132, 132]))\n",
      "264 264\n"
     ]
    },
    {
     "data": {
      "application/vnd.jupyter.widget-view+json": {
       "model_id": "e95f462e01cf45af8994626afb0a302d",
       "version_major": 2,
       "version_minor": 0
      },
      "text/plain": [
       "  0%|          | 0/42 [00:00<?, ?it/s]"
      ]
     },
     "metadata": {},
     "output_type": "display_data"
    },
    {
     "name": "stderr",
     "output_type": "stream",
     "text": [
      "Using 264 background data samples could cause slower run times. Consider using shap.sample(data, K) or shap.kmeans(data, K) to summarize the background as K samples.\n"
     ]
    },
    {
     "name": "stdout",
     "output_type": "stream",
     "text": [
      "Prima: (array([0, 1]), array([132,  38]))\n",
      "Dopo: (array([0, 1]), array([132, 132]))\n",
      "264 264\n"
     ]
    },
    {
     "data": {
      "application/vnd.jupyter.widget-view+json": {
       "model_id": "6bc9dfdcc99e4ac98c4187bd0052a796",
       "version_major": 2,
       "version_minor": 0
      },
      "text/plain": [
       "  0%|          | 0/42 [00:00<?, ?it/s]"
      ]
     },
     "metadata": {},
     "output_type": "display_data"
    },
    {
     "name": "stderr",
     "output_type": "stream",
     "text": [
      "Using 264 background data samples could cause slower run times. Consider using shap.sample(data, K) or shap.kmeans(data, K) to summarize the background as K samples.\n"
     ]
    },
    {
     "name": "stdout",
     "output_type": "stream",
     "text": [
      "Dimensione degli SHAP values per seed 18: (2, 212, 30)\n",
      "Sensitivity: 0.5212121212121212\n",
      "Specificity: 0.46808510638297873\n",
      "Matrice di confusione per il seed 19 :\n",
      "[[86 79]\n",
      " [25 22]]\n",
      "Iterazione: 20\n",
      "0->Medium, 1->Poor\n",
      "\n",
      "Prima: (array([0, 1]), array([132,  37]))\n",
      "Dopo: (array([0, 1]), array([132, 132]))\n",
      "264 264\n"
     ]
    },
    {
     "data": {
      "application/vnd.jupyter.widget-view+json": {
       "model_id": "4b26d38e09e7444699551087a99bf132",
       "version_major": 2,
       "version_minor": 0
      },
      "text/plain": [
       "  0%|          | 0/43 [00:00<?, ?it/s]"
      ]
     },
     "metadata": {},
     "output_type": "display_data"
    },
    {
     "name": "stderr",
     "output_type": "stream",
     "text": [
      "Using 264 background data samples could cause slower run times. Consider using shap.sample(data, K) or shap.kmeans(data, K) to summarize the background as K samples.\n"
     ]
    },
    {
     "name": "stdout",
     "output_type": "stream",
     "text": [
      "Prima: (array([0, 1]), array([132,  37]))\n",
      "Dopo: (array([0, 1]), array([132, 132]))\n",
      "264 264\n"
     ]
    },
    {
     "data": {
      "application/vnd.jupyter.widget-view+json": {
       "model_id": "ca16fe9f3ccf47878c656dd1de8b9c26",
       "version_major": 2,
       "version_minor": 0
      },
      "text/plain": [
       "  0%|          | 0/43 [00:00<?, ?it/s]"
      ]
     },
     "metadata": {},
     "output_type": "display_data"
    },
    {
     "name": "stderr",
     "output_type": "stream",
     "text": [
      "Using 264 background data samples could cause slower run times. Consider using shap.sample(data, K) or shap.kmeans(data, K) to summarize the background as K samples.\n"
     ]
    },
    {
     "name": "stdout",
     "output_type": "stream",
     "text": [
      "Prima: (array([0, 1]), array([132,  38]))\n",
      "Dopo: (array([0, 1]), array([132, 132]))\n",
      "264 264\n"
     ]
    },
    {
     "data": {
      "application/vnd.jupyter.widget-view+json": {
       "model_id": "9f96075033c94c5f974a527607a33eb6",
       "version_major": 2,
       "version_minor": 0
      },
      "text/plain": [
       "  0%|          | 0/42 [00:00<?, ?it/s]"
      ]
     },
     "metadata": {},
     "output_type": "display_data"
    },
    {
     "name": "stderr",
     "output_type": "stream",
     "text": [
      "Using 264 background data samples could cause slower run times. Consider using shap.sample(data, K) or shap.kmeans(data, K) to summarize the background as K samples.\n"
     ]
    },
    {
     "name": "stdout",
     "output_type": "stream",
     "text": [
      "Prima: (array([0, 1]), array([132,  38]))\n",
      "Dopo: (array([0, 1]), array([132, 132]))\n",
      "264 264\n"
     ]
    },
    {
     "data": {
      "application/vnd.jupyter.widget-view+json": {
       "model_id": "2ba88c9fb8164d37ae5cb916e3a7cd47",
       "version_major": 2,
       "version_minor": 0
      },
      "text/plain": [
       "  0%|          | 0/42 [00:00<?, ?it/s]"
      ]
     },
     "metadata": {},
     "output_type": "display_data"
    },
    {
     "name": "stderr",
     "output_type": "stream",
     "text": [
      "Using 264 background data samples could cause slower run times. Consider using shap.sample(data, K) or shap.kmeans(data, K) to summarize the background as K samples.\n"
     ]
    },
    {
     "name": "stdout",
     "output_type": "stream",
     "text": [
      "Prima: (array([0, 1]), array([132,  38]))\n",
      "Dopo: (array([0, 1]), array([132, 132]))\n",
      "264 264\n"
     ]
    },
    {
     "data": {
      "application/vnd.jupyter.widget-view+json": {
       "model_id": "df496c814d5842db95ef1e80e4e74a24",
       "version_major": 2,
       "version_minor": 0
      },
      "text/plain": [
       "  0%|          | 0/42 [00:00<?, ?it/s]"
      ]
     },
     "metadata": {},
     "output_type": "display_data"
    },
    {
     "name": "stderr",
     "output_type": "stream",
     "text": [
      "Using 264 background data samples could cause slower run times. Consider using shap.sample(data, K) or shap.kmeans(data, K) to summarize the background as K samples.\n"
     ]
    },
    {
     "name": "stdout",
     "output_type": "stream",
     "text": [
      "Dimensione degli SHAP values per seed 19: (2, 212, 30)\n",
      "Sensitivity: 0.5636363636363636\n",
      "Specificity: 0.3829787234042553\n",
      "Matrice di confusione per il seed 20 :\n",
      "[[93 72]\n",
      " [29 18]]\n",
      "Iterazione: 21\n",
      "0->Medium, 1->Poor\n",
      "\n",
      "Prima: (array([0, 1]), array([132,  37]))\n",
      "Dopo: (array([0, 1]), array([132, 132]))\n",
      "264 264\n"
     ]
    },
    {
     "data": {
      "application/vnd.jupyter.widget-view+json": {
       "model_id": "8e46e87915da4fb7bcdcd492c241974a",
       "version_major": 2,
       "version_minor": 0
      },
      "text/plain": [
       "  0%|          | 0/43 [00:00<?, ?it/s]"
      ]
     },
     "metadata": {},
     "output_type": "display_data"
    },
    {
     "name": "stderr",
     "output_type": "stream",
     "text": [
      "Using 264 background data samples could cause slower run times. Consider using shap.sample(data, K) or shap.kmeans(data, K) to summarize the background as K samples.\n"
     ]
    },
    {
     "name": "stdout",
     "output_type": "stream",
     "text": [
      "Prima: (array([0, 1]), array([132,  37]))\n",
      "Dopo: (array([0, 1]), array([132, 132]))\n",
      "264 264\n"
     ]
    },
    {
     "data": {
      "application/vnd.jupyter.widget-view+json": {
       "model_id": "eddfa3644d014799a5e4b03bf4ed9759",
       "version_major": 2,
       "version_minor": 0
      },
      "text/plain": [
       "  0%|          | 0/43 [00:00<?, ?it/s]"
      ]
     },
     "metadata": {},
     "output_type": "display_data"
    },
    {
     "name": "stderr",
     "output_type": "stream",
     "text": [
      "Using 264 background data samples could cause slower run times. Consider using shap.sample(data, K) or shap.kmeans(data, K) to summarize the background as K samples.\n"
     ]
    },
    {
     "name": "stdout",
     "output_type": "stream",
     "text": [
      "Prima: (array([0, 1]), array([132,  38]))\n",
      "Dopo: (array([0, 1]), array([132, 132]))\n",
      "264 264\n"
     ]
    },
    {
     "data": {
      "application/vnd.jupyter.widget-view+json": {
       "model_id": "c1a740fefcbb4045bc14afc46d55b439",
       "version_major": 2,
       "version_minor": 0
      },
      "text/plain": [
       "  0%|          | 0/42 [00:00<?, ?it/s]"
      ]
     },
     "metadata": {},
     "output_type": "display_data"
    },
    {
     "name": "stderr",
     "output_type": "stream",
     "text": [
      "Using 264 background data samples could cause slower run times. Consider using shap.sample(data, K) or shap.kmeans(data, K) to summarize the background as K samples.\n"
     ]
    },
    {
     "name": "stdout",
     "output_type": "stream",
     "text": [
      "Prima: (array([0, 1]), array([132,  38]))\n",
      "Dopo: (array([0, 1]), array([132, 132]))\n",
      "264 264\n"
     ]
    },
    {
     "data": {
      "application/vnd.jupyter.widget-view+json": {
       "model_id": "f57517d354444be49803c63575b3d1fe",
       "version_major": 2,
       "version_minor": 0
      },
      "text/plain": [
       "  0%|          | 0/42 [00:00<?, ?it/s]"
      ]
     },
     "metadata": {},
     "output_type": "display_data"
    },
    {
     "name": "stderr",
     "output_type": "stream",
     "text": [
      "Using 264 background data samples could cause slower run times. Consider using shap.sample(data, K) or shap.kmeans(data, K) to summarize the background as K samples.\n"
     ]
    },
    {
     "name": "stdout",
     "output_type": "stream",
     "text": [
      "Prima: (array([0, 1]), array([132,  38]))\n",
      "Dopo: (array([0, 1]), array([132, 132]))\n",
      "264 264\n"
     ]
    },
    {
     "data": {
      "application/vnd.jupyter.widget-view+json": {
       "model_id": "dd5e9f7ca42f407399ba31b939eee606",
       "version_major": 2,
       "version_minor": 0
      },
      "text/plain": [
       "  0%|          | 0/42 [00:00<?, ?it/s]"
      ]
     },
     "metadata": {},
     "output_type": "display_data"
    },
    {
     "name": "stderr",
     "output_type": "stream",
     "text": [
      "Using 264 background data samples could cause slower run times. Consider using shap.sample(data, K) or shap.kmeans(data, K) to summarize the background as K samples.\n"
     ]
    },
    {
     "name": "stdout",
     "output_type": "stream",
     "text": [
      "Dimensione degli SHAP values per seed 20: (2, 212, 30)\n",
      "Sensitivity: 0.5636363636363636\n",
      "Specificity: 0.3829787234042553\n",
      "Matrice di confusione per il seed 21 :\n",
      "[[93 72]\n",
      " [29 18]]\n",
      "Iterazione: 22\n",
      "0->Medium, 1->Poor\n",
      "\n",
      "Prima: (array([0, 1]), array([132,  37]))\n",
      "Dopo: (array([0, 1]), array([132, 132]))\n",
      "264 264\n"
     ]
    },
    {
     "data": {
      "application/vnd.jupyter.widget-view+json": {
       "model_id": "e07d855745654a94a1b94384f1d35f4f",
       "version_major": 2,
       "version_minor": 0
      },
      "text/plain": [
       "  0%|          | 0/43 [00:00<?, ?it/s]"
      ]
     },
     "metadata": {},
     "output_type": "display_data"
    },
    {
     "name": "stderr",
     "output_type": "stream",
     "text": [
      "Using 264 background data samples could cause slower run times. Consider using shap.sample(data, K) or shap.kmeans(data, K) to summarize the background as K samples.\n"
     ]
    },
    {
     "name": "stdout",
     "output_type": "stream",
     "text": [
      "Prima: (array([0, 1]), array([132,  37]))\n",
      "Dopo: (array([0, 1]), array([132, 132]))\n",
      "264 264\n"
     ]
    },
    {
     "data": {
      "application/vnd.jupyter.widget-view+json": {
       "model_id": "7f9666d4216248999b792220c5c1b131",
       "version_major": 2,
       "version_minor": 0
      },
      "text/plain": [
       "  0%|          | 0/43 [00:00<?, ?it/s]"
      ]
     },
     "metadata": {},
     "output_type": "display_data"
    },
    {
     "name": "stderr",
     "output_type": "stream",
     "text": [
      "Using 264 background data samples could cause slower run times. Consider using shap.sample(data, K) or shap.kmeans(data, K) to summarize the background as K samples.\n"
     ]
    },
    {
     "name": "stdout",
     "output_type": "stream",
     "text": [
      "Prima: (array([0, 1]), array([132,  38]))\n",
      "Dopo: (array([0, 1]), array([132, 132]))\n",
      "264 264\n"
     ]
    },
    {
     "data": {
      "application/vnd.jupyter.widget-view+json": {
       "model_id": "a6dfb04f071a4d3a8f63bd53e44f4ca7",
       "version_major": 2,
       "version_minor": 0
      },
      "text/plain": [
       "  0%|          | 0/42 [00:00<?, ?it/s]"
      ]
     },
     "metadata": {},
     "output_type": "display_data"
    },
    {
     "name": "stderr",
     "output_type": "stream",
     "text": [
      "Using 264 background data samples could cause slower run times. Consider using shap.sample(data, K) or shap.kmeans(data, K) to summarize the background as K samples.\n"
     ]
    },
    {
     "name": "stdout",
     "output_type": "stream",
     "text": [
      "Prima: (array([0, 1]), array([132,  38]))\n",
      "Dopo: (array([0, 1]), array([132, 132]))\n",
      "264 264\n"
     ]
    },
    {
     "data": {
      "application/vnd.jupyter.widget-view+json": {
       "model_id": "fd147bac8047490a890eda39bfed7dc6",
       "version_major": 2,
       "version_minor": 0
      },
      "text/plain": [
       "  0%|          | 0/42 [00:00<?, ?it/s]"
      ]
     },
     "metadata": {},
     "output_type": "display_data"
    },
    {
     "name": "stderr",
     "output_type": "stream",
     "text": [
      "Using 264 background data samples could cause slower run times. Consider using shap.sample(data, K) or shap.kmeans(data, K) to summarize the background as K samples.\n"
     ]
    },
    {
     "name": "stdout",
     "output_type": "stream",
     "text": [
      "Prima: (array([0, 1]), array([132,  38]))\n",
      "Dopo: (array([0, 1]), array([132, 132]))\n",
      "264 264\n"
     ]
    },
    {
     "data": {
      "application/vnd.jupyter.widget-view+json": {
       "model_id": "a5f7d3bcc084466cab228782cc286873",
       "version_major": 2,
       "version_minor": 0
      },
      "text/plain": [
       "  0%|          | 0/42 [00:00<?, ?it/s]"
      ]
     },
     "metadata": {},
     "output_type": "display_data"
    },
    {
     "name": "stderr",
     "output_type": "stream",
     "text": [
      "Using 264 background data samples could cause slower run times. Consider using shap.sample(data, K) or shap.kmeans(data, K) to summarize the background as K samples.\n"
     ]
    },
    {
     "name": "stdout",
     "output_type": "stream",
     "text": [
      "Dimensione degli SHAP values per seed 21: (2, 212, 30)\n",
      "Sensitivity: 0.593939393939394\n",
      "Specificity: 0.44680851063829785\n",
      "Matrice di confusione per il seed 22 :\n",
      "[[98 67]\n",
      " [26 21]]\n",
      "Iterazione: 23\n",
      "0->Medium, 1->Poor\n",
      "\n",
      "Prima: (array([0, 1]), array([132,  37]))\n",
      "Dopo: (array([0, 1]), array([132, 132]))\n",
      "264 264\n"
     ]
    },
    {
     "data": {
      "application/vnd.jupyter.widget-view+json": {
       "model_id": "24cfb5ce08fc436dabbab2c993c4763f",
       "version_major": 2,
       "version_minor": 0
      },
      "text/plain": [
       "  0%|          | 0/43 [00:00<?, ?it/s]"
      ]
     },
     "metadata": {},
     "output_type": "display_data"
    },
    {
     "name": "stderr",
     "output_type": "stream",
     "text": [
      "Using 264 background data samples could cause slower run times. Consider using shap.sample(data, K) or shap.kmeans(data, K) to summarize the background as K samples.\n"
     ]
    },
    {
     "name": "stdout",
     "output_type": "stream",
     "text": [
      "Prima: (array([0, 1]), array([132,  37]))\n",
      "Dopo: (array([0, 1]), array([132, 132]))\n",
      "264 264\n"
     ]
    },
    {
     "data": {
      "application/vnd.jupyter.widget-view+json": {
       "model_id": "958f2f27811a4d498cbd89836b091234",
       "version_major": 2,
       "version_minor": 0
      },
      "text/plain": [
       "  0%|          | 0/43 [00:00<?, ?it/s]"
      ]
     },
     "metadata": {},
     "output_type": "display_data"
    },
    {
     "name": "stderr",
     "output_type": "stream",
     "text": [
      "Using 264 background data samples could cause slower run times. Consider using shap.sample(data, K) or shap.kmeans(data, K) to summarize the background as K samples.\n"
     ]
    },
    {
     "name": "stdout",
     "output_type": "stream",
     "text": [
      "Prima: (array([0, 1]), array([132,  38]))\n",
      "Dopo: (array([0, 1]), array([132, 132]))\n",
      "264 264\n"
     ]
    },
    {
     "data": {
      "application/vnd.jupyter.widget-view+json": {
       "model_id": "05057bba75e54c6c9cd1067d6503b916",
       "version_major": 2,
       "version_minor": 0
      },
      "text/plain": [
       "  0%|          | 0/42 [00:00<?, ?it/s]"
      ]
     },
     "metadata": {},
     "output_type": "display_data"
    },
    {
     "name": "stderr",
     "output_type": "stream",
     "text": [
      "Using 264 background data samples could cause slower run times. Consider using shap.sample(data, K) or shap.kmeans(data, K) to summarize the background as K samples.\n"
     ]
    },
    {
     "name": "stdout",
     "output_type": "stream",
     "text": [
      "Prima: (array([0, 1]), array([132,  38]))\n",
      "Dopo: (array([0, 1]), array([132, 132]))\n",
      "264 264\n"
     ]
    },
    {
     "data": {
      "application/vnd.jupyter.widget-view+json": {
       "model_id": "4062f88b7a7b447da67dd85e0289c16b",
       "version_major": 2,
       "version_minor": 0
      },
      "text/plain": [
       "  0%|          | 0/42 [00:00<?, ?it/s]"
      ]
     },
     "metadata": {},
     "output_type": "display_data"
    },
    {
     "name": "stderr",
     "output_type": "stream",
     "text": [
      "Using 264 background data samples could cause slower run times. Consider using shap.sample(data, K) or shap.kmeans(data, K) to summarize the background as K samples.\n"
     ]
    },
    {
     "name": "stdout",
     "output_type": "stream",
     "text": [
      "Prima: (array([0, 1]), array([132,  38]))\n",
      "Dopo: (array([0, 1]), array([132, 132]))\n",
      "264 264\n"
     ]
    },
    {
     "data": {
      "application/vnd.jupyter.widget-view+json": {
       "model_id": "b292e7a3266f4d45a36ddcff24433f4f",
       "version_major": 2,
       "version_minor": 0
      },
      "text/plain": [
       "  0%|          | 0/42 [00:00<?, ?it/s]"
      ]
     },
     "metadata": {},
     "output_type": "display_data"
    },
    {
     "name": "stderr",
     "output_type": "stream",
     "text": [
      "Using 264 background data samples could cause slower run times. Consider using shap.sample(data, K) or shap.kmeans(data, K) to summarize the background as K samples.\n"
     ]
    },
    {
     "name": "stdout",
     "output_type": "stream",
     "text": [
      "Dimensione degli SHAP values per seed 22: (2, 212, 30)\n",
      "Sensitivity: 0.6121212121212121\n",
      "Specificity: 0.44680851063829785\n",
      "Matrice di confusione per il seed 23 :\n",
      "[[101  64]\n",
      " [ 26  21]]\n",
      "Iterazione: 24\n",
      "0->Medium, 1->Poor\n",
      "\n",
      "Prima: (array([0, 1]), array([132,  37]))\n",
      "Dopo: (array([0, 1]), array([132, 132]))\n",
      "264 264\n"
     ]
    },
    {
     "data": {
      "application/vnd.jupyter.widget-view+json": {
       "model_id": "d2c2b368ecf942d59a63432de826b1f8",
       "version_major": 2,
       "version_minor": 0
      },
      "text/plain": [
       "  0%|          | 0/43 [00:00<?, ?it/s]"
      ]
     },
     "metadata": {},
     "output_type": "display_data"
    },
    {
     "name": "stderr",
     "output_type": "stream",
     "text": [
      "Using 264 background data samples could cause slower run times. Consider using shap.sample(data, K) or shap.kmeans(data, K) to summarize the background as K samples.\n"
     ]
    },
    {
     "name": "stdout",
     "output_type": "stream",
     "text": [
      "Prima: (array([0, 1]), array([132,  37]))\n",
      "Dopo: (array([0, 1]), array([132, 132]))\n",
      "264 264\n"
     ]
    },
    {
     "data": {
      "application/vnd.jupyter.widget-view+json": {
       "model_id": "00c37c5a3272433dac2e842ffbaa2529",
       "version_major": 2,
       "version_minor": 0
      },
      "text/plain": [
       "  0%|          | 0/43 [00:00<?, ?it/s]"
      ]
     },
     "metadata": {},
     "output_type": "display_data"
    },
    {
     "name": "stderr",
     "output_type": "stream",
     "text": [
      "Using 264 background data samples could cause slower run times. Consider using shap.sample(data, K) or shap.kmeans(data, K) to summarize the background as K samples.\n"
     ]
    },
    {
     "name": "stdout",
     "output_type": "stream",
     "text": [
      "Prima: (array([0, 1]), array([132,  38]))\n",
      "Dopo: (array([0, 1]), array([132, 132]))\n",
      "264 264\n"
     ]
    },
    {
     "data": {
      "application/vnd.jupyter.widget-view+json": {
       "model_id": "4342ca4265f742a783ce1723a9d2064e",
       "version_major": 2,
       "version_minor": 0
      },
      "text/plain": [
       "  0%|          | 0/42 [00:00<?, ?it/s]"
      ]
     },
     "metadata": {},
     "output_type": "display_data"
    },
    {
     "name": "stderr",
     "output_type": "stream",
     "text": [
      "Using 264 background data samples could cause slower run times. Consider using shap.sample(data, K) or shap.kmeans(data, K) to summarize the background as K samples.\n"
     ]
    },
    {
     "name": "stdout",
     "output_type": "stream",
     "text": [
      "Prima: (array([0, 1]), array([132,  38]))\n",
      "Dopo: (array([0, 1]), array([132, 132]))\n",
      "264 264\n"
     ]
    },
    {
     "data": {
      "application/vnd.jupyter.widget-view+json": {
       "model_id": "ea67a5adf7f4471fb56370de3a8ff55e",
       "version_major": 2,
       "version_minor": 0
      },
      "text/plain": [
       "  0%|          | 0/42 [00:00<?, ?it/s]"
      ]
     },
     "metadata": {},
     "output_type": "display_data"
    },
    {
     "name": "stderr",
     "output_type": "stream",
     "text": [
      "Using 264 background data samples could cause slower run times. Consider using shap.sample(data, K) or shap.kmeans(data, K) to summarize the background as K samples.\n"
     ]
    },
    {
     "name": "stdout",
     "output_type": "stream",
     "text": [
      "Prima: (array([0, 1]), array([132,  38]))\n",
      "Dopo: (array([0, 1]), array([132, 132]))\n",
      "264 264\n"
     ]
    },
    {
     "data": {
      "application/vnd.jupyter.widget-view+json": {
       "model_id": "ab9b43f12de54f14958a7db91777c408",
       "version_major": 2,
       "version_minor": 0
      },
      "text/plain": [
       "  0%|          | 0/42 [00:00<?, ?it/s]"
      ]
     },
     "metadata": {},
     "output_type": "display_data"
    },
    {
     "name": "stderr",
     "output_type": "stream",
     "text": [
      "Using 264 background data samples could cause slower run times. Consider using shap.sample(data, K) or shap.kmeans(data, K) to summarize the background as K samples.\n"
     ]
    },
    {
     "name": "stdout",
     "output_type": "stream",
     "text": [
      "Dimensione degli SHAP values per seed 23: (2, 212, 30)\n",
      "Sensitivity: 0.5818181818181818\n",
      "Specificity: 0.48936170212765956\n",
      "Matrice di confusione per il seed 24 :\n",
      "[[96 69]\n",
      " [24 23]]\n",
      "Iterazione: 25\n",
      "0->Medium, 1->Poor\n",
      "\n",
      "Prima: (array([0, 1]), array([132,  37]))\n",
      "Dopo: (array([0, 1]), array([132, 132]))\n",
      "264 264\n"
     ]
    },
    {
     "data": {
      "application/vnd.jupyter.widget-view+json": {
       "model_id": "6b7eb584ea44407389b6d222ae95463a",
       "version_major": 2,
       "version_minor": 0
      },
      "text/plain": [
       "  0%|          | 0/43 [00:00<?, ?it/s]"
      ]
     },
     "metadata": {},
     "output_type": "display_data"
    },
    {
     "name": "stderr",
     "output_type": "stream",
     "text": [
      "Using 264 background data samples could cause slower run times. Consider using shap.sample(data, K) or shap.kmeans(data, K) to summarize the background as K samples.\n"
     ]
    },
    {
     "name": "stdout",
     "output_type": "stream",
     "text": [
      "Prima: (array([0, 1]), array([132,  37]))\n",
      "Dopo: (array([0, 1]), array([132, 132]))\n",
      "264 264\n"
     ]
    },
    {
     "data": {
      "application/vnd.jupyter.widget-view+json": {
       "model_id": "de75e0770ed14a43a71ca749dac49af5",
       "version_major": 2,
       "version_minor": 0
      },
      "text/plain": [
       "  0%|          | 0/43 [00:00<?, ?it/s]"
      ]
     },
     "metadata": {},
     "output_type": "display_data"
    },
    {
     "name": "stderr",
     "output_type": "stream",
     "text": [
      "Using 264 background data samples could cause slower run times. Consider using shap.sample(data, K) or shap.kmeans(data, K) to summarize the background as K samples.\n"
     ]
    },
    {
     "name": "stdout",
     "output_type": "stream",
     "text": [
      "Prima: (array([0, 1]), array([132,  38]))\n",
      "Dopo: (array([0, 1]), array([132, 132]))\n",
      "264 264\n"
     ]
    },
    {
     "data": {
      "application/vnd.jupyter.widget-view+json": {
       "model_id": "505b0beaa4994c428449f95c9e7189fb",
       "version_major": 2,
       "version_minor": 0
      },
      "text/plain": [
       "  0%|          | 0/42 [00:00<?, ?it/s]"
      ]
     },
     "metadata": {},
     "output_type": "display_data"
    },
    {
     "name": "stderr",
     "output_type": "stream",
     "text": [
      "Using 264 background data samples could cause slower run times. Consider using shap.sample(data, K) or shap.kmeans(data, K) to summarize the background as K samples.\n"
     ]
    },
    {
     "name": "stdout",
     "output_type": "stream",
     "text": [
      "Prima: (array([0, 1]), array([132,  38]))\n",
      "Dopo: (array([0, 1]), array([132, 132]))\n",
      "264 264\n"
     ]
    },
    {
     "data": {
      "application/vnd.jupyter.widget-view+json": {
       "model_id": "1ad679914e934d69859e582c0da50ff0",
       "version_major": 2,
       "version_minor": 0
      },
      "text/plain": [
       "  0%|          | 0/42 [00:00<?, ?it/s]"
      ]
     },
     "metadata": {},
     "output_type": "display_data"
    },
    {
     "name": "stderr",
     "output_type": "stream",
     "text": [
      "Using 264 background data samples could cause slower run times. Consider using shap.sample(data, K) or shap.kmeans(data, K) to summarize the background as K samples.\n"
     ]
    },
    {
     "name": "stdout",
     "output_type": "stream",
     "text": [
      "Prima: (array([0, 1]), array([132,  38]))\n",
      "Dopo: (array([0, 1]), array([132, 132]))\n",
      "264 264\n"
     ]
    },
    {
     "data": {
      "application/vnd.jupyter.widget-view+json": {
       "model_id": "38148a639dad486e979ea6a641ed498a",
       "version_major": 2,
       "version_minor": 0
      },
      "text/plain": [
       "  0%|          | 0/42 [00:00<?, ?it/s]"
      ]
     },
     "metadata": {},
     "output_type": "display_data"
    },
    {
     "name": "stderr",
     "output_type": "stream",
     "text": [
      "Using 264 background data samples could cause slower run times. Consider using shap.sample(data, K) or shap.kmeans(data, K) to summarize the background as K samples.\n"
     ]
    },
    {
     "name": "stdout",
     "output_type": "stream",
     "text": [
      "Dimensione degli SHAP values per seed 24: (2, 212, 30)\n",
      "Sensitivity: 0.5393939393939394\n",
      "Specificity: 0.40425531914893614\n",
      "Matrice di confusione per il seed 25 :\n",
      "[[89 76]\n",
      " [28 19]]\n",
      "Iterazione: 26\n",
      "0->Medium, 1->Poor\n",
      "\n",
      "Prima: (array([0, 1]), array([132,  37]))\n",
      "Dopo: (array([0, 1]), array([132, 132]))\n",
      "264 264\n"
     ]
    },
    {
     "data": {
      "application/vnd.jupyter.widget-view+json": {
       "model_id": "d55093feedba4354a1168c707ce95903",
       "version_major": 2,
       "version_minor": 0
      },
      "text/plain": [
       "  0%|          | 0/43 [00:00<?, ?it/s]"
      ]
     },
     "metadata": {},
     "output_type": "display_data"
    },
    {
     "name": "stderr",
     "output_type": "stream",
     "text": [
      "Using 264 background data samples could cause slower run times. Consider using shap.sample(data, K) or shap.kmeans(data, K) to summarize the background as K samples.\n"
     ]
    },
    {
     "name": "stdout",
     "output_type": "stream",
     "text": [
      "Prima: (array([0, 1]), array([132,  37]))\n",
      "Dopo: (array([0, 1]), array([132, 132]))\n",
      "264 264\n"
     ]
    },
    {
     "data": {
      "application/vnd.jupyter.widget-view+json": {
       "model_id": "5fe76afaba5041e6a24f944677429b67",
       "version_major": 2,
       "version_minor": 0
      },
      "text/plain": [
       "  0%|          | 0/43 [00:00<?, ?it/s]"
      ]
     },
     "metadata": {},
     "output_type": "display_data"
    },
    {
     "name": "stderr",
     "output_type": "stream",
     "text": [
      "Using 264 background data samples could cause slower run times. Consider using shap.sample(data, K) or shap.kmeans(data, K) to summarize the background as K samples.\n"
     ]
    },
    {
     "name": "stdout",
     "output_type": "stream",
     "text": [
      "Prima: (array([0, 1]), array([132,  38]))\n",
      "Dopo: (array([0, 1]), array([132, 132]))\n",
      "264 264\n"
     ]
    },
    {
     "data": {
      "application/vnd.jupyter.widget-view+json": {
       "model_id": "5a4501fc92f045e999e29e5f8d45b9f3",
       "version_major": 2,
       "version_minor": 0
      },
      "text/plain": [
       "  0%|          | 0/42 [00:00<?, ?it/s]"
      ]
     },
     "metadata": {},
     "output_type": "display_data"
    },
    {
     "name": "stderr",
     "output_type": "stream",
     "text": [
      "Using 264 background data samples could cause slower run times. Consider using shap.sample(data, K) or shap.kmeans(data, K) to summarize the background as K samples.\n"
     ]
    },
    {
     "name": "stdout",
     "output_type": "stream",
     "text": [
      "Prima: (array([0, 1]), array([132,  38]))\n",
      "Dopo: (array([0, 1]), array([132, 132]))\n",
      "264 264\n"
     ]
    },
    {
     "data": {
      "application/vnd.jupyter.widget-view+json": {
       "model_id": "8c6699ddf9dd4371ba392bdc2dcb8422",
       "version_major": 2,
       "version_minor": 0
      },
      "text/plain": [
       "  0%|          | 0/42 [00:00<?, ?it/s]"
      ]
     },
     "metadata": {},
     "output_type": "display_data"
    },
    {
     "name": "stderr",
     "output_type": "stream",
     "text": [
      "Using 264 background data samples could cause slower run times. Consider using shap.sample(data, K) or shap.kmeans(data, K) to summarize the background as K samples.\n"
     ]
    },
    {
     "name": "stdout",
     "output_type": "stream",
     "text": [
      "Prima: (array([0, 1]), array([132,  38]))\n",
      "Dopo: (array([0, 1]), array([132, 132]))\n",
      "264 264\n"
     ]
    },
    {
     "data": {
      "application/vnd.jupyter.widget-view+json": {
       "model_id": "c875155a2c7e41eeafa0a9106de57f11",
       "version_major": 2,
       "version_minor": 0
      },
      "text/plain": [
       "  0%|          | 0/42 [00:00<?, ?it/s]"
      ]
     },
     "metadata": {},
     "output_type": "display_data"
    },
    {
     "name": "stderr",
     "output_type": "stream",
     "text": [
      "Using 264 background data samples could cause slower run times. Consider using shap.sample(data, K) or shap.kmeans(data, K) to summarize the background as K samples.\n"
     ]
    },
    {
     "name": "stdout",
     "output_type": "stream",
     "text": [
      "Dimensione degli SHAP values per seed 25: (2, 212, 30)\n",
      "Sensitivity: 0.6121212121212121\n",
      "Specificity: 0.3829787234042553\n",
      "Matrice di confusione per il seed 26 :\n",
      "[[101  64]\n",
      " [ 29  18]]\n",
      "Iterazione: 27\n",
      "0->Medium, 1->Poor\n",
      "\n",
      "Prima: (array([0, 1]), array([132,  37]))\n",
      "Dopo: (array([0, 1]), array([132, 132]))\n",
      "264 264\n"
     ]
    },
    {
     "data": {
      "application/vnd.jupyter.widget-view+json": {
       "model_id": "3d7eb13007ec44b49d122ff5215c351e",
       "version_major": 2,
       "version_minor": 0
      },
      "text/plain": [
       "  0%|          | 0/43 [00:00<?, ?it/s]"
      ]
     },
     "metadata": {},
     "output_type": "display_data"
    },
    {
     "name": "stderr",
     "output_type": "stream",
     "text": [
      "Using 264 background data samples could cause slower run times. Consider using shap.sample(data, K) or shap.kmeans(data, K) to summarize the background as K samples.\n"
     ]
    },
    {
     "name": "stdout",
     "output_type": "stream",
     "text": [
      "Prima: (array([0, 1]), array([132,  37]))\n",
      "Dopo: (array([0, 1]), array([132, 132]))\n",
      "264 264\n"
     ]
    },
    {
     "data": {
      "application/vnd.jupyter.widget-view+json": {
       "model_id": "f129350db37647469e942840bd914719",
       "version_major": 2,
       "version_minor": 0
      },
      "text/plain": [
       "  0%|          | 0/43 [00:00<?, ?it/s]"
      ]
     },
     "metadata": {},
     "output_type": "display_data"
    },
    {
     "name": "stderr",
     "output_type": "stream",
     "text": [
      "Using 264 background data samples could cause slower run times. Consider using shap.sample(data, K) or shap.kmeans(data, K) to summarize the background as K samples.\n"
     ]
    },
    {
     "name": "stdout",
     "output_type": "stream",
     "text": [
      "Prima: (array([0, 1]), array([132,  38]))\n",
      "Dopo: (array([0, 1]), array([132, 132]))\n",
      "264 264\n"
     ]
    },
    {
     "data": {
      "application/vnd.jupyter.widget-view+json": {
       "model_id": "3fd36c28563c419fa6aad763fa8f3b43",
       "version_major": 2,
       "version_minor": 0
      },
      "text/plain": [
       "  0%|          | 0/42 [00:00<?, ?it/s]"
      ]
     },
     "metadata": {},
     "output_type": "display_data"
    },
    {
     "name": "stderr",
     "output_type": "stream",
     "text": [
      "Using 264 background data samples could cause slower run times. Consider using shap.sample(data, K) or shap.kmeans(data, K) to summarize the background as K samples.\n"
     ]
    },
    {
     "name": "stdout",
     "output_type": "stream",
     "text": [
      "Prima: (array([0, 1]), array([132,  38]))\n",
      "Dopo: (array([0, 1]), array([132, 132]))\n",
      "264 264\n"
     ]
    },
    {
     "data": {
      "application/vnd.jupyter.widget-view+json": {
       "model_id": "45b8ba7875674915a25524beb12c8585",
       "version_major": 2,
       "version_minor": 0
      },
      "text/plain": [
       "  0%|          | 0/42 [00:00<?, ?it/s]"
      ]
     },
     "metadata": {},
     "output_type": "display_data"
    },
    {
     "name": "stderr",
     "output_type": "stream",
     "text": [
      "Using 264 background data samples could cause slower run times. Consider using shap.sample(data, K) or shap.kmeans(data, K) to summarize the background as K samples.\n"
     ]
    },
    {
     "name": "stdout",
     "output_type": "stream",
     "text": [
      "Prima: (array([0, 1]), array([132,  38]))\n",
      "Dopo: (array([0, 1]), array([132, 132]))\n",
      "264 264\n"
     ]
    },
    {
     "data": {
      "application/vnd.jupyter.widget-view+json": {
       "model_id": "55ab8e8731f04fcdab15bb25700b948c",
       "version_major": 2,
       "version_minor": 0
      },
      "text/plain": [
       "  0%|          | 0/42 [00:00<?, ?it/s]"
      ]
     },
     "metadata": {},
     "output_type": "display_data"
    },
    {
     "name": "stderr",
     "output_type": "stream",
     "text": [
      "Using 264 background data samples could cause slower run times. Consider using shap.sample(data, K) or shap.kmeans(data, K) to summarize the background as K samples.\n"
     ]
    },
    {
     "name": "stdout",
     "output_type": "stream",
     "text": [
      "Dimensione degli SHAP values per seed 26: (2, 212, 30)\n",
      "Sensitivity: 0.5636363636363636\n",
      "Specificity: 0.3617021276595745\n",
      "Matrice di confusione per il seed 27 :\n",
      "[[93 72]\n",
      " [30 17]]\n",
      "Iterazione: 28\n",
      "0->Medium, 1->Poor\n",
      "\n",
      "Prima: (array([0, 1]), array([132,  37]))\n",
      "Dopo: (array([0, 1]), array([132, 132]))\n",
      "264 264\n"
     ]
    },
    {
     "data": {
      "application/vnd.jupyter.widget-view+json": {
       "model_id": "e484d97db5494bedba49ac9f420c5bb3",
       "version_major": 2,
       "version_minor": 0
      },
      "text/plain": [
       "  0%|          | 0/43 [00:00<?, ?it/s]"
      ]
     },
     "metadata": {},
     "output_type": "display_data"
    },
    {
     "name": "stderr",
     "output_type": "stream",
     "text": [
      "Using 264 background data samples could cause slower run times. Consider using shap.sample(data, K) or shap.kmeans(data, K) to summarize the background as K samples.\n"
     ]
    },
    {
     "name": "stdout",
     "output_type": "stream",
     "text": [
      "Prima: (array([0, 1]), array([132,  37]))\n",
      "Dopo: (array([0, 1]), array([132, 132]))\n",
      "264 264\n"
     ]
    },
    {
     "data": {
      "application/vnd.jupyter.widget-view+json": {
       "model_id": "ef3e8c6dfd9b41a1b782902bf9b4b05f",
       "version_major": 2,
       "version_minor": 0
      },
      "text/plain": [
       "  0%|          | 0/43 [00:00<?, ?it/s]"
      ]
     },
     "metadata": {},
     "output_type": "display_data"
    },
    {
     "name": "stderr",
     "output_type": "stream",
     "text": [
      "Using 264 background data samples could cause slower run times. Consider using shap.sample(data, K) or shap.kmeans(data, K) to summarize the background as K samples.\n"
     ]
    },
    {
     "name": "stdout",
     "output_type": "stream",
     "text": [
      "Prima: (array([0, 1]), array([132,  38]))\n",
      "Dopo: (array([0, 1]), array([132, 132]))\n",
      "264 264\n"
     ]
    },
    {
     "data": {
      "application/vnd.jupyter.widget-view+json": {
       "model_id": "d6315cb8e48f4eb9912662cac31fd9a5",
       "version_major": 2,
       "version_minor": 0
      },
      "text/plain": [
       "  0%|          | 0/42 [00:00<?, ?it/s]"
      ]
     },
     "metadata": {},
     "output_type": "display_data"
    },
    {
     "name": "stderr",
     "output_type": "stream",
     "text": [
      "Using 264 background data samples could cause slower run times. Consider using shap.sample(data, K) or shap.kmeans(data, K) to summarize the background as K samples.\n"
     ]
    },
    {
     "name": "stdout",
     "output_type": "stream",
     "text": [
      "Prima: (array([0, 1]), array([132,  38]))\n",
      "Dopo: (array([0, 1]), array([132, 132]))\n",
      "264 264\n"
     ]
    },
    {
     "data": {
      "application/vnd.jupyter.widget-view+json": {
       "model_id": "4eb98d260d874ec39548c5f208054e64",
       "version_major": 2,
       "version_minor": 0
      },
      "text/plain": [
       "  0%|          | 0/42 [00:00<?, ?it/s]"
      ]
     },
     "metadata": {},
     "output_type": "display_data"
    },
    {
     "name": "stderr",
     "output_type": "stream",
     "text": [
      "Using 264 background data samples could cause slower run times. Consider using shap.sample(data, K) or shap.kmeans(data, K) to summarize the background as K samples.\n"
     ]
    },
    {
     "name": "stdout",
     "output_type": "stream",
     "text": [
      "Prima: (array([0, 1]), array([132,  38]))\n",
      "Dopo: (array([0, 1]), array([132, 132]))\n",
      "264 264\n"
     ]
    },
    {
     "data": {
      "application/vnd.jupyter.widget-view+json": {
       "model_id": "0234681392cc4f119e50fbfd05227ca2",
       "version_major": 2,
       "version_minor": 0
      },
      "text/plain": [
       "  0%|          | 0/42 [00:00<?, ?it/s]"
      ]
     },
     "metadata": {},
     "output_type": "display_data"
    },
    {
     "name": "stderr",
     "output_type": "stream",
     "text": [
      "Using 264 background data samples could cause slower run times. Consider using shap.sample(data, K) or shap.kmeans(data, K) to summarize the background as K samples.\n"
     ]
    },
    {
     "name": "stdout",
     "output_type": "stream",
     "text": [
      "Dimensione degli SHAP values per seed 27: (2, 212, 30)\n",
      "Sensitivity: 0.6060606060606061\n",
      "Specificity: 0.46808510638297873\n",
      "Matrice di confusione per il seed 28 :\n",
      "[[100  65]\n",
      " [ 25  22]]\n",
      "Iterazione: 29\n",
      "0->Medium, 1->Poor\n",
      "\n",
      "Prima: (array([0, 1]), array([132,  37]))\n",
      "Dopo: (array([0, 1]), array([132, 132]))\n",
      "264 264\n"
     ]
    },
    {
     "data": {
      "application/vnd.jupyter.widget-view+json": {
       "model_id": "a533c99f8ed5404da4f683c4f7c7923d",
       "version_major": 2,
       "version_minor": 0
      },
      "text/plain": [
       "  0%|          | 0/43 [00:00<?, ?it/s]"
      ]
     },
     "metadata": {},
     "output_type": "display_data"
    },
    {
     "name": "stderr",
     "output_type": "stream",
     "text": [
      "Using 264 background data samples could cause slower run times. Consider using shap.sample(data, K) or shap.kmeans(data, K) to summarize the background as K samples.\n"
     ]
    },
    {
     "name": "stdout",
     "output_type": "stream",
     "text": [
      "Prima: (array([0, 1]), array([132,  37]))\n",
      "Dopo: (array([0, 1]), array([132, 132]))\n",
      "264 264\n"
     ]
    },
    {
     "data": {
      "application/vnd.jupyter.widget-view+json": {
       "model_id": "f22553bd8a8b43cfb201037441e3795d",
       "version_major": 2,
       "version_minor": 0
      },
      "text/plain": [
       "  0%|          | 0/43 [00:00<?, ?it/s]"
      ]
     },
     "metadata": {},
     "output_type": "display_data"
    },
    {
     "name": "stderr",
     "output_type": "stream",
     "text": [
      "Using 264 background data samples could cause slower run times. Consider using shap.sample(data, K) or shap.kmeans(data, K) to summarize the background as K samples.\n"
     ]
    },
    {
     "name": "stdout",
     "output_type": "stream",
     "text": [
      "Prima: (array([0, 1]), array([132,  38]))\n",
      "Dopo: (array([0, 1]), array([132, 132]))\n",
      "264 264\n"
     ]
    },
    {
     "data": {
      "application/vnd.jupyter.widget-view+json": {
       "model_id": "ae75ac80c58c4e42a6f90b88a0654059",
       "version_major": 2,
       "version_minor": 0
      },
      "text/plain": [
       "  0%|          | 0/42 [00:00<?, ?it/s]"
      ]
     },
     "metadata": {},
     "output_type": "display_data"
    },
    {
     "name": "stderr",
     "output_type": "stream",
     "text": [
      "Using 264 background data samples could cause slower run times. Consider using shap.sample(data, K) or shap.kmeans(data, K) to summarize the background as K samples.\n"
     ]
    },
    {
     "name": "stdout",
     "output_type": "stream",
     "text": [
      "Prima: (array([0, 1]), array([132,  38]))\n",
      "Dopo: (array([0, 1]), array([132, 132]))\n",
      "264 264\n"
     ]
    },
    {
     "data": {
      "application/vnd.jupyter.widget-view+json": {
       "model_id": "cf5f98fdeed14b2e93792e87f7baa519",
       "version_major": 2,
       "version_minor": 0
      },
      "text/plain": [
       "  0%|          | 0/42 [00:00<?, ?it/s]"
      ]
     },
     "metadata": {},
     "output_type": "display_data"
    },
    {
     "name": "stderr",
     "output_type": "stream",
     "text": [
      "Using 264 background data samples could cause slower run times. Consider using shap.sample(data, K) or shap.kmeans(data, K) to summarize the background as K samples.\n"
     ]
    },
    {
     "name": "stdout",
     "output_type": "stream",
     "text": [
      "Prima: (array([0, 1]), array([132,  38]))\n",
      "Dopo: (array([0, 1]), array([132, 132]))\n",
      "264 264\n"
     ]
    },
    {
     "data": {
      "application/vnd.jupyter.widget-view+json": {
       "model_id": "d3b9fdf1cd14453fa7a8d2be5f76b2a7",
       "version_major": 2,
       "version_minor": 0
      },
      "text/plain": [
       "  0%|          | 0/42 [00:00<?, ?it/s]"
      ]
     },
     "metadata": {},
     "output_type": "display_data"
    },
    {
     "name": "stderr",
     "output_type": "stream",
     "text": [
      "Using 264 background data samples could cause slower run times. Consider using shap.sample(data, K) or shap.kmeans(data, K) to summarize the background as K samples.\n"
     ]
    },
    {
     "name": "stdout",
     "output_type": "stream",
     "text": [
      "Dimensione degli SHAP values per seed 28: (2, 212, 30)\n",
      "Sensitivity: 0.5151515151515151\n",
      "Specificity: 0.46808510638297873\n",
      "Matrice di confusione per il seed 29 :\n",
      "[[85 80]\n",
      " [25 22]]\n",
      "Iterazione: 30\n",
      "0->Medium, 1->Poor\n",
      "\n",
      "Prima: (array([0, 1]), array([132,  37]))\n",
      "Dopo: (array([0, 1]), array([132, 132]))\n",
      "264 264\n"
     ]
    },
    {
     "data": {
      "application/vnd.jupyter.widget-view+json": {
       "model_id": "f4e3f9e2828b44fd9639257374f7b4d0",
       "version_major": 2,
       "version_minor": 0
      },
      "text/plain": [
       "  0%|          | 0/43 [00:00<?, ?it/s]"
      ]
     },
     "metadata": {},
     "output_type": "display_data"
    },
    {
     "name": "stderr",
     "output_type": "stream",
     "text": [
      "Using 264 background data samples could cause slower run times. Consider using shap.sample(data, K) or shap.kmeans(data, K) to summarize the background as K samples.\n"
     ]
    },
    {
     "name": "stdout",
     "output_type": "stream",
     "text": [
      "Prima: (array([0, 1]), array([132,  37]))\n",
      "Dopo: (array([0, 1]), array([132, 132]))\n",
      "264 264\n"
     ]
    },
    {
     "data": {
      "application/vnd.jupyter.widget-view+json": {
       "model_id": "9edaf7d13e86469c864ca83fd510e4e3",
       "version_major": 2,
       "version_minor": 0
      },
      "text/plain": [
       "  0%|          | 0/43 [00:00<?, ?it/s]"
      ]
     },
     "metadata": {},
     "output_type": "display_data"
    },
    {
     "name": "stderr",
     "output_type": "stream",
     "text": [
      "Using 264 background data samples could cause slower run times. Consider using shap.sample(data, K) or shap.kmeans(data, K) to summarize the background as K samples.\n"
     ]
    },
    {
     "name": "stdout",
     "output_type": "stream",
     "text": [
      "Prima: (array([0, 1]), array([132,  38]))\n",
      "Dopo: (array([0, 1]), array([132, 132]))\n",
      "264 264\n"
     ]
    },
    {
     "data": {
      "application/vnd.jupyter.widget-view+json": {
       "model_id": "3e65a2ce95d14f43b348e216608176ba",
       "version_major": 2,
       "version_minor": 0
      },
      "text/plain": [
       "  0%|          | 0/42 [00:00<?, ?it/s]"
      ]
     },
     "metadata": {},
     "output_type": "display_data"
    },
    {
     "name": "stderr",
     "output_type": "stream",
     "text": [
      "Using 264 background data samples could cause slower run times. Consider using shap.sample(data, K) or shap.kmeans(data, K) to summarize the background as K samples.\n"
     ]
    },
    {
     "name": "stdout",
     "output_type": "stream",
     "text": [
      "Prima: (array([0, 1]), array([132,  38]))\n",
      "Dopo: (array([0, 1]), array([132, 132]))\n",
      "264 264\n"
     ]
    },
    {
     "data": {
      "application/vnd.jupyter.widget-view+json": {
       "model_id": "025a3fac5d9b4a55b3c6cebeac57a408",
       "version_major": 2,
       "version_minor": 0
      },
      "text/plain": [
       "  0%|          | 0/42 [00:00<?, ?it/s]"
      ]
     },
     "metadata": {},
     "output_type": "display_data"
    },
    {
     "name": "stderr",
     "output_type": "stream",
     "text": [
      "Using 264 background data samples could cause slower run times. Consider using shap.sample(data, K) or shap.kmeans(data, K) to summarize the background as K samples.\n"
     ]
    },
    {
     "name": "stdout",
     "output_type": "stream",
     "text": [
      "Prima: (array([0, 1]), array([132,  38]))\n",
      "Dopo: (array([0, 1]), array([132, 132]))\n",
      "264 264\n"
     ]
    },
    {
     "data": {
      "application/vnd.jupyter.widget-view+json": {
       "model_id": "8b67e87c201a4a68bf044261f8920876",
       "version_major": 2,
       "version_minor": 0
      },
      "text/plain": [
       "  0%|          | 0/42 [00:00<?, ?it/s]"
      ]
     },
     "metadata": {},
     "output_type": "display_data"
    },
    {
     "name": "stderr",
     "output_type": "stream",
     "text": [
      "Using 264 background data samples could cause slower run times. Consider using shap.sample(data, K) or shap.kmeans(data, K) to summarize the background as K samples.\n"
     ]
    },
    {
     "name": "stdout",
     "output_type": "stream",
     "text": [
      "Dimensione degli SHAP values per seed 29: (2, 212, 30)\n",
      "Sensitivity: 0.5636363636363636\n",
      "Specificity: 0.425531914893617\n",
      "Matrice di confusione per il seed 30 :\n",
      "[[93 72]\n",
      " [27 20]]\n",
      "Iterazione: 31\n",
      "0->Medium, 1->Poor\n",
      "\n",
      "Prima: (array([0, 1]), array([132,  37]))\n",
      "Dopo: (array([0, 1]), array([132, 132]))\n",
      "264 264\n"
     ]
    },
    {
     "data": {
      "application/vnd.jupyter.widget-view+json": {
       "model_id": "ab92a2b021de4f68a00cbd8007f745e1",
       "version_major": 2,
       "version_minor": 0
      },
      "text/plain": [
       "  0%|          | 0/43 [00:00<?, ?it/s]"
      ]
     },
     "metadata": {},
     "output_type": "display_data"
    },
    {
     "name": "stderr",
     "output_type": "stream",
     "text": [
      "Using 264 background data samples could cause slower run times. Consider using shap.sample(data, K) or shap.kmeans(data, K) to summarize the background as K samples.\n"
     ]
    },
    {
     "name": "stdout",
     "output_type": "stream",
     "text": [
      "Prima: (array([0, 1]), array([132,  37]))\n",
      "Dopo: (array([0, 1]), array([132, 132]))\n",
      "264 264\n"
     ]
    },
    {
     "data": {
      "application/vnd.jupyter.widget-view+json": {
       "model_id": "5e8f49823a1043b9938ef817b6c67083",
       "version_major": 2,
       "version_minor": 0
      },
      "text/plain": [
       "  0%|          | 0/43 [00:00<?, ?it/s]"
      ]
     },
     "metadata": {},
     "output_type": "display_data"
    },
    {
     "name": "stderr",
     "output_type": "stream",
     "text": [
      "Using 264 background data samples could cause slower run times. Consider using shap.sample(data, K) or shap.kmeans(data, K) to summarize the background as K samples.\n"
     ]
    },
    {
     "name": "stdout",
     "output_type": "stream",
     "text": [
      "Prima: (array([0, 1]), array([132,  38]))\n",
      "Dopo: (array([0, 1]), array([132, 132]))\n",
      "264 264\n"
     ]
    },
    {
     "data": {
      "application/vnd.jupyter.widget-view+json": {
       "model_id": "68191c57d9b142329c48dfea97c0bffd",
       "version_major": 2,
       "version_minor": 0
      },
      "text/plain": [
       "  0%|          | 0/42 [00:00<?, ?it/s]"
      ]
     },
     "metadata": {},
     "output_type": "display_data"
    },
    {
     "name": "stderr",
     "output_type": "stream",
     "text": [
      "Using 264 background data samples could cause slower run times. Consider using shap.sample(data, K) or shap.kmeans(data, K) to summarize the background as K samples.\n"
     ]
    },
    {
     "name": "stdout",
     "output_type": "stream",
     "text": [
      "Prima: (array([0, 1]), array([132,  38]))\n",
      "Dopo: (array([0, 1]), array([132, 132]))\n",
      "264 264\n"
     ]
    },
    {
     "data": {
      "application/vnd.jupyter.widget-view+json": {
       "model_id": "70789216fb9840e487bbee2eb12786a5",
       "version_major": 2,
       "version_minor": 0
      },
      "text/plain": [
       "  0%|          | 0/42 [00:00<?, ?it/s]"
      ]
     },
     "metadata": {},
     "output_type": "display_data"
    },
    {
     "name": "stderr",
     "output_type": "stream",
     "text": [
      "Using 264 background data samples could cause slower run times. Consider using shap.sample(data, K) or shap.kmeans(data, K) to summarize the background as K samples.\n"
     ]
    },
    {
     "name": "stdout",
     "output_type": "stream",
     "text": [
      "Prima: (array([0, 1]), array([132,  38]))\n",
      "Dopo: (array([0, 1]), array([132, 132]))\n",
      "264 264\n"
     ]
    },
    {
     "data": {
      "application/vnd.jupyter.widget-view+json": {
       "model_id": "4247bcf63f0e49799ac8522ecd599744",
       "version_major": 2,
       "version_minor": 0
      },
      "text/plain": [
       "  0%|          | 0/42 [00:00<?, ?it/s]"
      ]
     },
     "metadata": {},
     "output_type": "display_data"
    },
    {
     "name": "stderr",
     "output_type": "stream",
     "text": [
      "Using 264 background data samples could cause slower run times. Consider using shap.sample(data, K) or shap.kmeans(data, K) to summarize the background as K samples.\n"
     ]
    },
    {
     "name": "stdout",
     "output_type": "stream",
     "text": [
      "Dimensione degli SHAP values per seed 30: (2, 212, 30)\n",
      "Sensitivity: 0.5878787878787879\n",
      "Specificity: 0.425531914893617\n",
      "Matrice di confusione per il seed 31 :\n",
      "[[97 68]\n",
      " [27 20]]\n",
      "Iterazione: 32\n",
      "0->Medium, 1->Poor\n",
      "\n",
      "Prima: (array([0, 1]), array([132,  37]))\n",
      "Dopo: (array([0, 1]), array([132, 132]))\n",
      "264 264\n"
     ]
    },
    {
     "data": {
      "application/vnd.jupyter.widget-view+json": {
       "model_id": "ef7bb778d4e843879d3ed385dfb8a266",
       "version_major": 2,
       "version_minor": 0
      },
      "text/plain": [
       "  0%|          | 0/43 [00:00<?, ?it/s]"
      ]
     },
     "metadata": {},
     "output_type": "display_data"
    },
    {
     "name": "stderr",
     "output_type": "stream",
     "text": [
      "Using 264 background data samples could cause slower run times. Consider using shap.sample(data, K) or shap.kmeans(data, K) to summarize the background as K samples.\n"
     ]
    },
    {
     "name": "stdout",
     "output_type": "stream",
     "text": [
      "Prima: (array([0, 1]), array([132,  37]))\n",
      "Dopo: (array([0, 1]), array([132, 132]))\n",
      "264 264\n"
     ]
    },
    {
     "data": {
      "application/vnd.jupyter.widget-view+json": {
       "model_id": "cca27a229ae740b3be16e7d3bd466174",
       "version_major": 2,
       "version_minor": 0
      },
      "text/plain": [
       "  0%|          | 0/43 [00:00<?, ?it/s]"
      ]
     },
     "metadata": {},
     "output_type": "display_data"
    },
    {
     "name": "stderr",
     "output_type": "stream",
     "text": [
      "Using 264 background data samples could cause slower run times. Consider using shap.sample(data, K) or shap.kmeans(data, K) to summarize the background as K samples.\n"
     ]
    },
    {
     "name": "stdout",
     "output_type": "stream",
     "text": [
      "Prima: (array([0, 1]), array([132,  38]))\n",
      "Dopo: (array([0, 1]), array([132, 132]))\n",
      "264 264\n"
     ]
    },
    {
     "data": {
      "application/vnd.jupyter.widget-view+json": {
       "model_id": "4f541606d0e64afa8532abc155c825df",
       "version_major": 2,
       "version_minor": 0
      },
      "text/plain": [
       "  0%|          | 0/42 [00:00<?, ?it/s]"
      ]
     },
     "metadata": {},
     "output_type": "display_data"
    },
    {
     "name": "stderr",
     "output_type": "stream",
     "text": [
      "Using 264 background data samples could cause slower run times. Consider using shap.sample(data, K) or shap.kmeans(data, K) to summarize the background as K samples.\n"
     ]
    },
    {
     "name": "stdout",
     "output_type": "stream",
     "text": [
      "Prima: (array([0, 1]), array([132,  38]))\n",
      "Dopo: (array([0, 1]), array([132, 132]))\n",
      "264 264\n"
     ]
    },
    {
     "data": {
      "application/vnd.jupyter.widget-view+json": {
       "model_id": "915840aec62b4197b527f9482f18b94e",
       "version_major": 2,
       "version_minor": 0
      },
      "text/plain": [
       "  0%|          | 0/42 [00:00<?, ?it/s]"
      ]
     },
     "metadata": {},
     "output_type": "display_data"
    },
    {
     "name": "stderr",
     "output_type": "stream",
     "text": [
      "Using 264 background data samples could cause slower run times. Consider using shap.sample(data, K) or shap.kmeans(data, K) to summarize the background as K samples.\n"
     ]
    },
    {
     "name": "stdout",
     "output_type": "stream",
     "text": [
      "Prima: (array([0, 1]), array([132,  38]))\n",
      "Dopo: (array([0, 1]), array([132, 132]))\n",
      "264 264\n"
     ]
    },
    {
     "data": {
      "application/vnd.jupyter.widget-view+json": {
       "model_id": "d83b3c4286f6434fab1d1a0db5f41c07",
       "version_major": 2,
       "version_minor": 0
      },
      "text/plain": [
       "  0%|          | 0/42 [00:00<?, ?it/s]"
      ]
     },
     "metadata": {},
     "output_type": "display_data"
    },
    {
     "name": "stderr",
     "output_type": "stream",
     "text": [
      "Using 264 background data samples could cause slower run times. Consider using shap.sample(data, K) or shap.kmeans(data, K) to summarize the background as K samples.\n"
     ]
    },
    {
     "name": "stdout",
     "output_type": "stream",
     "text": [
      "Dimensione degli SHAP values per seed 31: (2, 212, 30)\n",
      "Sensitivity: 0.5696969696969697\n",
      "Specificity: 0.3829787234042553\n",
      "Matrice di confusione per il seed 32 :\n",
      "[[94 71]\n",
      " [29 18]]\n",
      "Iterazione: 33\n",
      "0->Medium, 1->Poor\n",
      "\n",
      "Prima: (array([0, 1]), array([132,  37]))\n",
      "Dopo: (array([0, 1]), array([132, 132]))\n",
      "264 264\n"
     ]
    },
    {
     "data": {
      "application/vnd.jupyter.widget-view+json": {
       "model_id": "9a0767d34c5849dc8f150cdebab8e101",
       "version_major": 2,
       "version_minor": 0
      },
      "text/plain": [
       "  0%|          | 0/43 [00:00<?, ?it/s]"
      ]
     },
     "metadata": {},
     "output_type": "display_data"
    },
    {
     "name": "stderr",
     "output_type": "stream",
     "text": [
      "Using 264 background data samples could cause slower run times. Consider using shap.sample(data, K) or shap.kmeans(data, K) to summarize the background as K samples.\n"
     ]
    },
    {
     "name": "stdout",
     "output_type": "stream",
     "text": [
      "Prima: (array([0, 1]), array([132,  37]))\n",
      "Dopo: (array([0, 1]), array([132, 132]))\n",
      "264 264\n"
     ]
    },
    {
     "data": {
      "application/vnd.jupyter.widget-view+json": {
       "model_id": "3d3c7042d6134c398249d6aa2223328b",
       "version_major": 2,
       "version_minor": 0
      },
      "text/plain": [
       "  0%|          | 0/43 [00:00<?, ?it/s]"
      ]
     },
     "metadata": {},
     "output_type": "display_data"
    },
    {
     "name": "stderr",
     "output_type": "stream",
     "text": [
      "Using 264 background data samples could cause slower run times. Consider using shap.sample(data, K) or shap.kmeans(data, K) to summarize the background as K samples.\n"
     ]
    },
    {
     "name": "stdout",
     "output_type": "stream",
     "text": [
      "Prima: (array([0, 1]), array([132,  38]))\n",
      "Dopo: (array([0, 1]), array([132, 132]))\n",
      "264 264\n"
     ]
    },
    {
     "data": {
      "application/vnd.jupyter.widget-view+json": {
       "model_id": "bafd008ebf5241928fa0b308062d9e6c",
       "version_major": 2,
       "version_minor": 0
      },
      "text/plain": [
       "  0%|          | 0/42 [00:00<?, ?it/s]"
      ]
     },
     "metadata": {},
     "output_type": "display_data"
    },
    {
     "name": "stderr",
     "output_type": "stream",
     "text": [
      "Using 264 background data samples could cause slower run times. Consider using shap.sample(data, K) or shap.kmeans(data, K) to summarize the background as K samples.\n"
     ]
    },
    {
     "name": "stdout",
     "output_type": "stream",
     "text": [
      "Prima: (array([0, 1]), array([132,  38]))\n",
      "Dopo: (array([0, 1]), array([132, 132]))\n",
      "264 264\n"
     ]
    },
    {
     "data": {
      "application/vnd.jupyter.widget-view+json": {
       "model_id": "9cc97f2f80614316a171490e545fd1ed",
       "version_major": 2,
       "version_minor": 0
      },
      "text/plain": [
       "  0%|          | 0/42 [00:00<?, ?it/s]"
      ]
     },
     "metadata": {},
     "output_type": "display_data"
    },
    {
     "name": "stderr",
     "output_type": "stream",
     "text": [
      "Using 264 background data samples could cause slower run times. Consider using shap.sample(data, K) or shap.kmeans(data, K) to summarize the background as K samples.\n"
     ]
    },
    {
     "name": "stdout",
     "output_type": "stream",
     "text": [
      "Prima: (array([0, 1]), array([132,  38]))\n",
      "Dopo: (array([0, 1]), array([132, 132]))\n",
      "264 264\n"
     ]
    },
    {
     "data": {
      "application/vnd.jupyter.widget-view+json": {
       "model_id": "2f216ec3090b4790b68defc2c6746b8e",
       "version_major": 2,
       "version_minor": 0
      },
      "text/plain": [
       "  0%|          | 0/42 [00:00<?, ?it/s]"
      ]
     },
     "metadata": {},
     "output_type": "display_data"
    },
    {
     "name": "stderr",
     "output_type": "stream",
     "text": [
      "Using 264 background data samples could cause slower run times. Consider using shap.sample(data, K) or shap.kmeans(data, K) to summarize the background as K samples.\n"
     ]
    },
    {
     "name": "stdout",
     "output_type": "stream",
     "text": [
      "Dimensione degli SHAP values per seed 32: (2, 212, 30)\n",
      "Sensitivity: 0.5757575757575758\n",
      "Specificity: 0.44680851063829785\n",
      "Matrice di confusione per il seed 33 :\n",
      "[[95 70]\n",
      " [26 21]]\n",
      "Iterazione: 34\n",
      "0->Medium, 1->Poor\n",
      "\n",
      "Prima: (array([0, 1]), array([132,  37]))\n",
      "Dopo: (array([0, 1]), array([132, 132]))\n",
      "264 264\n"
     ]
    },
    {
     "data": {
      "application/vnd.jupyter.widget-view+json": {
       "model_id": "845bb531767146fdaeb3cdf914e8d777",
       "version_major": 2,
       "version_minor": 0
      },
      "text/plain": [
       "  0%|          | 0/43 [00:00<?, ?it/s]"
      ]
     },
     "metadata": {},
     "output_type": "display_data"
    },
    {
     "name": "stderr",
     "output_type": "stream",
     "text": [
      "Using 264 background data samples could cause slower run times. Consider using shap.sample(data, K) or shap.kmeans(data, K) to summarize the background as K samples.\n"
     ]
    },
    {
     "name": "stdout",
     "output_type": "stream",
     "text": [
      "Prima: (array([0, 1]), array([132,  37]))\n",
      "Dopo: (array([0, 1]), array([132, 132]))\n",
      "264 264\n"
     ]
    },
    {
     "data": {
      "application/vnd.jupyter.widget-view+json": {
       "model_id": "6ab01324f24b41d8b34fa23f463d264d",
       "version_major": 2,
       "version_minor": 0
      },
      "text/plain": [
       "  0%|          | 0/43 [00:00<?, ?it/s]"
      ]
     },
     "metadata": {},
     "output_type": "display_data"
    },
    {
     "name": "stderr",
     "output_type": "stream",
     "text": [
      "Using 264 background data samples could cause slower run times. Consider using shap.sample(data, K) or shap.kmeans(data, K) to summarize the background as K samples.\n"
     ]
    },
    {
     "name": "stdout",
     "output_type": "stream",
     "text": [
      "Prima: (array([0, 1]), array([132,  38]))\n",
      "Dopo: (array([0, 1]), array([132, 132]))\n",
      "264 264\n"
     ]
    },
    {
     "data": {
      "application/vnd.jupyter.widget-view+json": {
       "model_id": "06261e69598d41e3b9cc8a100bf61302",
       "version_major": 2,
       "version_minor": 0
      },
      "text/plain": [
       "  0%|          | 0/42 [00:00<?, ?it/s]"
      ]
     },
     "metadata": {},
     "output_type": "display_data"
    },
    {
     "name": "stderr",
     "output_type": "stream",
     "text": [
      "Using 264 background data samples could cause slower run times. Consider using shap.sample(data, K) or shap.kmeans(data, K) to summarize the background as K samples.\n"
     ]
    },
    {
     "name": "stdout",
     "output_type": "stream",
     "text": [
      "Prima: (array([0, 1]), array([132,  38]))\n",
      "Dopo: (array([0, 1]), array([132, 132]))\n",
      "264 264\n"
     ]
    },
    {
     "data": {
      "application/vnd.jupyter.widget-view+json": {
       "model_id": "1edbccc810944db5b85800174ec33f51",
       "version_major": 2,
       "version_minor": 0
      },
      "text/plain": [
       "  0%|          | 0/42 [00:00<?, ?it/s]"
      ]
     },
     "metadata": {},
     "output_type": "display_data"
    },
    {
     "name": "stderr",
     "output_type": "stream",
     "text": [
      "Using 264 background data samples could cause slower run times. Consider using shap.sample(data, K) or shap.kmeans(data, K) to summarize the background as K samples.\n"
     ]
    },
    {
     "name": "stdout",
     "output_type": "stream",
     "text": [
      "Prima: (array([0, 1]), array([132,  38]))\n",
      "Dopo: (array([0, 1]), array([132, 132]))\n",
      "264 264\n"
     ]
    },
    {
     "data": {
      "application/vnd.jupyter.widget-view+json": {
       "model_id": "3e28a396edee48418fecebf6b1243781",
       "version_major": 2,
       "version_minor": 0
      },
      "text/plain": [
       "  0%|          | 0/42 [00:00<?, ?it/s]"
      ]
     },
     "metadata": {},
     "output_type": "display_data"
    },
    {
     "name": "stderr",
     "output_type": "stream",
     "text": [
      "Using 264 background data samples could cause slower run times. Consider using shap.sample(data, K) or shap.kmeans(data, K) to summarize the background as K samples.\n"
     ]
    },
    {
     "name": "stdout",
     "output_type": "stream",
     "text": [
      "Dimensione degli SHAP values per seed 33: (2, 212, 30)\n",
      "Sensitivity: 0.6\n",
      "Specificity: 0.44680851063829785\n",
      "Matrice di confusione per il seed 34 :\n",
      "[[99 66]\n",
      " [26 21]]\n",
      "Iterazione: 35\n",
      "0->Medium, 1->Poor\n",
      "\n",
      "Prima: (array([0, 1]), array([132,  37]))\n",
      "Dopo: (array([0, 1]), array([132, 132]))\n",
      "264 264\n"
     ]
    },
    {
     "data": {
      "application/vnd.jupyter.widget-view+json": {
       "model_id": "f92fdd23b8db46628eb12bbdc7c69b57",
       "version_major": 2,
       "version_minor": 0
      },
      "text/plain": [
       "  0%|          | 0/43 [00:00<?, ?it/s]"
      ]
     },
     "metadata": {},
     "output_type": "display_data"
    },
    {
     "name": "stderr",
     "output_type": "stream",
     "text": [
      "Using 264 background data samples could cause slower run times. Consider using shap.sample(data, K) or shap.kmeans(data, K) to summarize the background as K samples.\n"
     ]
    },
    {
     "name": "stdout",
     "output_type": "stream",
     "text": [
      "Prima: (array([0, 1]), array([132,  37]))\n",
      "Dopo: (array([0, 1]), array([132, 132]))\n",
      "264 264\n"
     ]
    },
    {
     "data": {
      "application/vnd.jupyter.widget-view+json": {
       "model_id": "59fc15ed94744559958eca3da1356f2c",
       "version_major": 2,
       "version_minor": 0
      },
      "text/plain": [
       "  0%|          | 0/43 [00:00<?, ?it/s]"
      ]
     },
     "metadata": {},
     "output_type": "display_data"
    },
    {
     "name": "stderr",
     "output_type": "stream",
     "text": [
      "Using 264 background data samples could cause slower run times. Consider using shap.sample(data, K) or shap.kmeans(data, K) to summarize the background as K samples.\n"
     ]
    },
    {
     "name": "stdout",
     "output_type": "stream",
     "text": [
      "Prima: (array([0, 1]), array([132,  38]))\n",
      "Dopo: (array([0, 1]), array([132, 132]))\n",
      "264 264\n"
     ]
    },
    {
     "data": {
      "application/vnd.jupyter.widget-view+json": {
       "model_id": "a0ccd87f02904316ba134ee603cc1274",
       "version_major": 2,
       "version_minor": 0
      },
      "text/plain": [
       "  0%|          | 0/42 [00:00<?, ?it/s]"
      ]
     },
     "metadata": {},
     "output_type": "display_data"
    },
    {
     "name": "stderr",
     "output_type": "stream",
     "text": [
      "Using 264 background data samples could cause slower run times. Consider using shap.sample(data, K) or shap.kmeans(data, K) to summarize the background as K samples.\n"
     ]
    },
    {
     "name": "stdout",
     "output_type": "stream",
     "text": [
      "Prima: (array([0, 1]), array([132,  38]))\n",
      "Dopo: (array([0, 1]), array([132, 132]))\n",
      "264 264\n"
     ]
    },
    {
     "data": {
      "application/vnd.jupyter.widget-view+json": {
       "model_id": "211c9ffa0a374651a51687b2e8132376",
       "version_major": 2,
       "version_minor": 0
      },
      "text/plain": [
       "  0%|          | 0/42 [00:00<?, ?it/s]"
      ]
     },
     "metadata": {},
     "output_type": "display_data"
    },
    {
     "name": "stderr",
     "output_type": "stream",
     "text": [
      "Using 264 background data samples could cause slower run times. Consider using shap.sample(data, K) or shap.kmeans(data, K) to summarize the background as K samples.\n"
     ]
    },
    {
     "name": "stdout",
     "output_type": "stream",
     "text": [
      "Prima: (array([0, 1]), array([132,  38]))\n",
      "Dopo: (array([0, 1]), array([132, 132]))\n",
      "264 264\n"
     ]
    },
    {
     "data": {
      "application/vnd.jupyter.widget-view+json": {
       "model_id": "4de393816540474f8047f9e693c3bab7",
       "version_major": 2,
       "version_minor": 0
      },
      "text/plain": [
       "  0%|          | 0/42 [00:00<?, ?it/s]"
      ]
     },
     "metadata": {},
     "output_type": "display_data"
    },
    {
     "name": "stderr",
     "output_type": "stream",
     "text": [
      "Using 264 background data samples could cause slower run times. Consider using shap.sample(data, K) or shap.kmeans(data, K) to summarize the background as K samples.\n"
     ]
    },
    {
     "name": "stdout",
     "output_type": "stream",
     "text": [
      "Dimensione degli SHAP values per seed 34: (2, 212, 30)\n",
      "Sensitivity: 0.5515151515151515\n",
      "Specificity: 0.44680851063829785\n",
      "Matrice di confusione per il seed 35 :\n",
      "[[91 74]\n",
      " [26 21]]\n",
      "Iterazione: 36\n",
      "0->Medium, 1->Poor\n",
      "\n",
      "Prima: (array([0, 1]), array([132,  37]))\n",
      "Dopo: (array([0, 1]), array([132, 132]))\n",
      "264 264\n"
     ]
    },
    {
     "data": {
      "application/vnd.jupyter.widget-view+json": {
       "model_id": "2645dc1a984247e0a684854b911e3189",
       "version_major": 2,
       "version_minor": 0
      },
      "text/plain": [
       "  0%|          | 0/43 [00:00<?, ?it/s]"
      ]
     },
     "metadata": {},
     "output_type": "display_data"
    },
    {
     "name": "stderr",
     "output_type": "stream",
     "text": [
      "Using 264 background data samples could cause slower run times. Consider using shap.sample(data, K) or shap.kmeans(data, K) to summarize the background as K samples.\n"
     ]
    },
    {
     "name": "stdout",
     "output_type": "stream",
     "text": [
      "Prima: (array([0, 1]), array([132,  37]))\n",
      "Dopo: (array([0, 1]), array([132, 132]))\n",
      "264 264\n"
     ]
    },
    {
     "data": {
      "application/vnd.jupyter.widget-view+json": {
       "model_id": "615d2971d96c424f825e6f771321fc12",
       "version_major": 2,
       "version_minor": 0
      },
      "text/plain": [
       "  0%|          | 0/43 [00:00<?, ?it/s]"
      ]
     },
     "metadata": {},
     "output_type": "display_data"
    },
    {
     "name": "stderr",
     "output_type": "stream",
     "text": [
      "Using 264 background data samples could cause slower run times. Consider using shap.sample(data, K) or shap.kmeans(data, K) to summarize the background as K samples.\n"
     ]
    },
    {
     "name": "stdout",
     "output_type": "stream",
     "text": [
      "Prima: (array([0, 1]), array([132,  38]))\n",
      "Dopo: (array([0, 1]), array([132, 132]))\n",
      "264 264\n"
     ]
    },
    {
     "data": {
      "application/vnd.jupyter.widget-view+json": {
       "model_id": "5a7c5955236745b9a9899d53c024f170",
       "version_major": 2,
       "version_minor": 0
      },
      "text/plain": [
       "  0%|          | 0/42 [00:00<?, ?it/s]"
      ]
     },
     "metadata": {},
     "output_type": "display_data"
    },
    {
     "name": "stderr",
     "output_type": "stream",
     "text": [
      "Using 264 background data samples could cause slower run times. Consider using shap.sample(data, K) or shap.kmeans(data, K) to summarize the background as K samples.\n"
     ]
    },
    {
     "name": "stdout",
     "output_type": "stream",
     "text": [
      "Prima: (array([0, 1]), array([132,  38]))\n",
      "Dopo: (array([0, 1]), array([132, 132]))\n",
      "264 264\n"
     ]
    },
    {
     "data": {
      "application/vnd.jupyter.widget-view+json": {
       "model_id": "eb4a678485564514bf549688d974bf42",
       "version_major": 2,
       "version_minor": 0
      },
      "text/plain": [
       "  0%|          | 0/42 [00:00<?, ?it/s]"
      ]
     },
     "metadata": {},
     "output_type": "display_data"
    },
    {
     "name": "stderr",
     "output_type": "stream",
     "text": [
      "Using 264 background data samples could cause slower run times. Consider using shap.sample(data, K) or shap.kmeans(data, K) to summarize the background as K samples.\n"
     ]
    },
    {
     "name": "stdout",
     "output_type": "stream",
     "text": [
      "Prima: (array([0, 1]), array([132,  38]))\n",
      "Dopo: (array([0, 1]), array([132, 132]))\n",
      "264 264\n"
     ]
    },
    {
     "data": {
      "application/vnd.jupyter.widget-view+json": {
       "model_id": "8a2fa016bdf640539b1219e23ca09fc9",
       "version_major": 2,
       "version_minor": 0
      },
      "text/plain": [
       "  0%|          | 0/42 [00:00<?, ?it/s]"
      ]
     },
     "metadata": {},
     "output_type": "display_data"
    },
    {
     "name": "stderr",
     "output_type": "stream",
     "text": [
      "Using 264 background data samples could cause slower run times. Consider using shap.sample(data, K) or shap.kmeans(data, K) to summarize the background as K samples.\n"
     ]
    },
    {
     "name": "stdout",
     "output_type": "stream",
     "text": [
      "Dimensione degli SHAP values per seed 35: (2, 212, 30)\n",
      "Sensitivity: 0.5515151515151515\n",
      "Specificity: 0.48936170212765956\n",
      "Matrice di confusione per il seed 36 :\n",
      "[[91 74]\n",
      " [24 23]]\n",
      "Iterazione: 37\n",
      "0->Medium, 1->Poor\n",
      "\n",
      "Prima: (array([0, 1]), array([132,  37]))\n",
      "Dopo: (array([0, 1]), array([132, 132]))\n",
      "264 264\n"
     ]
    },
    {
     "data": {
      "application/vnd.jupyter.widget-view+json": {
       "model_id": "0fcbadc29b264c5fbc6b6d96b87d30a1",
       "version_major": 2,
       "version_minor": 0
      },
      "text/plain": [
       "  0%|          | 0/43 [00:00<?, ?it/s]"
      ]
     },
     "metadata": {},
     "output_type": "display_data"
    },
    {
     "name": "stderr",
     "output_type": "stream",
     "text": [
      "Using 264 background data samples could cause slower run times. Consider using shap.sample(data, K) or shap.kmeans(data, K) to summarize the background as K samples.\n"
     ]
    },
    {
     "name": "stdout",
     "output_type": "stream",
     "text": [
      "Prima: (array([0, 1]), array([132,  37]))\n",
      "Dopo: (array([0, 1]), array([132, 132]))\n",
      "264 264\n"
     ]
    },
    {
     "data": {
      "application/vnd.jupyter.widget-view+json": {
       "model_id": "d032d1203f9e4576a824a33cb1dc535b",
       "version_major": 2,
       "version_minor": 0
      },
      "text/plain": [
       "  0%|          | 0/43 [00:00<?, ?it/s]"
      ]
     },
     "metadata": {},
     "output_type": "display_data"
    },
    {
     "name": "stderr",
     "output_type": "stream",
     "text": [
      "Using 264 background data samples could cause slower run times. Consider using shap.sample(data, K) or shap.kmeans(data, K) to summarize the background as K samples.\n"
     ]
    },
    {
     "name": "stdout",
     "output_type": "stream",
     "text": [
      "Prima: (array([0, 1]), array([132,  38]))\n",
      "Dopo: (array([0, 1]), array([132, 132]))\n",
      "264 264\n"
     ]
    },
    {
     "data": {
      "application/vnd.jupyter.widget-view+json": {
       "model_id": "a830332bf47841f58e43e609db733d90",
       "version_major": 2,
       "version_minor": 0
      },
      "text/plain": [
       "  0%|          | 0/42 [00:00<?, ?it/s]"
      ]
     },
     "metadata": {},
     "output_type": "display_data"
    },
    {
     "name": "stderr",
     "output_type": "stream",
     "text": [
      "Using 264 background data samples could cause slower run times. Consider using shap.sample(data, K) or shap.kmeans(data, K) to summarize the background as K samples.\n"
     ]
    },
    {
     "name": "stdout",
     "output_type": "stream",
     "text": [
      "Prima: (array([0, 1]), array([132,  38]))\n",
      "Dopo: (array([0, 1]), array([132, 132]))\n",
      "264 264\n"
     ]
    },
    {
     "data": {
      "application/vnd.jupyter.widget-view+json": {
       "model_id": "04070dce5c77439ea4f41423df968d45",
       "version_major": 2,
       "version_minor": 0
      },
      "text/plain": [
       "  0%|          | 0/42 [00:00<?, ?it/s]"
      ]
     },
     "metadata": {},
     "output_type": "display_data"
    },
    {
     "name": "stderr",
     "output_type": "stream",
     "text": [
      "Using 264 background data samples could cause slower run times. Consider using shap.sample(data, K) or shap.kmeans(data, K) to summarize the background as K samples.\n"
     ]
    },
    {
     "name": "stdout",
     "output_type": "stream",
     "text": [
      "Prima: (array([0, 1]), array([132,  38]))\n",
      "Dopo: (array([0, 1]), array([132, 132]))\n",
      "264 264\n"
     ]
    },
    {
     "data": {
      "application/vnd.jupyter.widget-view+json": {
       "model_id": "65c93da315d741ee963dbc83bbda22a0",
       "version_major": 2,
       "version_minor": 0
      },
      "text/plain": [
       "  0%|          | 0/42 [00:00<?, ?it/s]"
      ]
     },
     "metadata": {},
     "output_type": "display_data"
    },
    {
     "name": "stderr",
     "output_type": "stream",
     "text": [
      "Using 264 background data samples could cause slower run times. Consider using shap.sample(data, K) or shap.kmeans(data, K) to summarize the background as K samples.\n"
     ]
    },
    {
     "name": "stdout",
     "output_type": "stream",
     "text": [
      "Dimensione degli SHAP values per seed 36: (2, 212, 30)\n",
      "Sensitivity: 0.503030303030303\n",
      "Specificity: 0.44680851063829785\n",
      "Matrice di confusione per il seed 37 :\n",
      "[[83 82]\n",
      " [26 21]]\n",
      "Iterazione: 38\n",
      "0->Medium, 1->Poor\n",
      "\n",
      "Prima: (array([0, 1]), array([132,  37]))\n",
      "Dopo: (array([0, 1]), array([132, 132]))\n",
      "264 264\n"
     ]
    },
    {
     "data": {
      "application/vnd.jupyter.widget-view+json": {
       "model_id": "1449574329d74861a467174334663ac4",
       "version_major": 2,
       "version_minor": 0
      },
      "text/plain": [
       "  0%|          | 0/43 [00:00<?, ?it/s]"
      ]
     },
     "metadata": {},
     "output_type": "display_data"
    },
    {
     "name": "stderr",
     "output_type": "stream",
     "text": [
      "Using 264 background data samples could cause slower run times. Consider using shap.sample(data, K) or shap.kmeans(data, K) to summarize the background as K samples.\n"
     ]
    },
    {
     "name": "stdout",
     "output_type": "stream",
     "text": [
      "Prima: (array([0, 1]), array([132,  37]))\n",
      "Dopo: (array([0, 1]), array([132, 132]))\n",
      "264 264\n"
     ]
    },
    {
     "data": {
      "application/vnd.jupyter.widget-view+json": {
       "model_id": "f011daac97d64c58b74454f7b10dc1c6",
       "version_major": 2,
       "version_minor": 0
      },
      "text/plain": [
       "  0%|          | 0/43 [00:00<?, ?it/s]"
      ]
     },
     "metadata": {},
     "output_type": "display_data"
    },
    {
     "name": "stderr",
     "output_type": "stream",
     "text": [
      "Using 264 background data samples could cause slower run times. Consider using shap.sample(data, K) or shap.kmeans(data, K) to summarize the background as K samples.\n"
     ]
    },
    {
     "name": "stdout",
     "output_type": "stream",
     "text": [
      "Prima: (array([0, 1]), array([132,  38]))\n",
      "Dopo: (array([0, 1]), array([132, 132]))\n",
      "264 264\n"
     ]
    },
    {
     "data": {
      "application/vnd.jupyter.widget-view+json": {
       "model_id": "b736e1efa0d64da28001e35cbe9f751e",
       "version_major": 2,
       "version_minor": 0
      },
      "text/plain": [
       "  0%|          | 0/42 [00:00<?, ?it/s]"
      ]
     },
     "metadata": {},
     "output_type": "display_data"
    },
    {
     "name": "stderr",
     "output_type": "stream",
     "text": [
      "Using 264 background data samples could cause slower run times. Consider using shap.sample(data, K) or shap.kmeans(data, K) to summarize the background as K samples.\n"
     ]
    },
    {
     "name": "stdout",
     "output_type": "stream",
     "text": [
      "Prima: (array([0, 1]), array([132,  38]))\n",
      "Dopo: (array([0, 1]), array([132, 132]))\n",
      "264 264\n"
     ]
    },
    {
     "data": {
      "application/vnd.jupyter.widget-view+json": {
       "model_id": "becf20aeb58c4a64b45f3e3dc99cc51f",
       "version_major": 2,
       "version_minor": 0
      },
      "text/plain": [
       "  0%|          | 0/42 [00:00<?, ?it/s]"
      ]
     },
     "metadata": {},
     "output_type": "display_data"
    },
    {
     "name": "stderr",
     "output_type": "stream",
     "text": [
      "Using 264 background data samples could cause slower run times. Consider using shap.sample(data, K) or shap.kmeans(data, K) to summarize the background as K samples.\n"
     ]
    },
    {
     "name": "stdout",
     "output_type": "stream",
     "text": [
      "Prima: (array([0, 1]), array([132,  38]))\n",
      "Dopo: (array([0, 1]), array([132, 132]))\n",
      "264 264\n"
     ]
    },
    {
     "data": {
      "application/vnd.jupyter.widget-view+json": {
       "model_id": "8f045bfee2d54635a63e6c0b0fa4a632",
       "version_major": 2,
       "version_minor": 0
      },
      "text/plain": [
       "  0%|          | 0/42 [00:00<?, ?it/s]"
      ]
     },
     "metadata": {},
     "output_type": "display_data"
    },
    {
     "name": "stderr",
     "output_type": "stream",
     "text": [
      "Using 264 background data samples could cause slower run times. Consider using shap.sample(data, K) or shap.kmeans(data, K) to summarize the background as K samples.\n"
     ]
    },
    {
     "name": "stdout",
     "output_type": "stream",
     "text": [
      "Dimensione degli SHAP values per seed 37: (2, 212, 30)\n",
      "Sensitivity: 0.6060606060606061\n",
      "Specificity: 0.5319148936170213\n",
      "Matrice di confusione per il seed 38 :\n",
      "[[100  65]\n",
      " [ 22  25]]\n",
      "Iterazione: 39\n",
      "0->Medium, 1->Poor\n",
      "\n",
      "Prima: (array([0, 1]), array([132,  37]))\n",
      "Dopo: (array([0, 1]), array([132, 132]))\n",
      "264 264\n"
     ]
    },
    {
     "data": {
      "application/vnd.jupyter.widget-view+json": {
       "model_id": "cfccc7e47ae54388abb1bbe9fe2d8cb5",
       "version_major": 2,
       "version_minor": 0
      },
      "text/plain": [
       "  0%|          | 0/43 [00:00<?, ?it/s]"
      ]
     },
     "metadata": {},
     "output_type": "display_data"
    },
    {
     "name": "stderr",
     "output_type": "stream",
     "text": [
      "Using 264 background data samples could cause slower run times. Consider using shap.sample(data, K) or shap.kmeans(data, K) to summarize the background as K samples.\n"
     ]
    },
    {
     "name": "stdout",
     "output_type": "stream",
     "text": [
      "Prima: (array([0, 1]), array([132,  37]))\n",
      "Dopo: (array([0, 1]), array([132, 132]))\n",
      "264 264\n"
     ]
    },
    {
     "data": {
      "application/vnd.jupyter.widget-view+json": {
       "model_id": "e680f6b66f7942a7bded9853f4c2abb8",
       "version_major": 2,
       "version_minor": 0
      },
      "text/plain": [
       "  0%|          | 0/43 [00:00<?, ?it/s]"
      ]
     },
     "metadata": {},
     "output_type": "display_data"
    },
    {
     "name": "stderr",
     "output_type": "stream",
     "text": [
      "Using 264 background data samples could cause slower run times. Consider using shap.sample(data, K) or shap.kmeans(data, K) to summarize the background as K samples.\n"
     ]
    },
    {
     "name": "stdout",
     "output_type": "stream",
     "text": [
      "Prima: (array([0, 1]), array([132,  38]))\n",
      "Dopo: (array([0, 1]), array([132, 132]))\n",
      "264 264\n"
     ]
    },
    {
     "data": {
      "application/vnd.jupyter.widget-view+json": {
       "model_id": "e782b9b6a5014c6590c1499e27fd9692",
       "version_major": 2,
       "version_minor": 0
      },
      "text/plain": [
       "  0%|          | 0/42 [00:00<?, ?it/s]"
      ]
     },
     "metadata": {},
     "output_type": "display_data"
    },
    {
     "name": "stderr",
     "output_type": "stream",
     "text": [
      "Using 264 background data samples could cause slower run times. Consider using shap.sample(data, K) or shap.kmeans(data, K) to summarize the background as K samples.\n"
     ]
    },
    {
     "name": "stdout",
     "output_type": "stream",
     "text": [
      "Prima: (array([0, 1]), array([132,  38]))\n",
      "Dopo: (array([0, 1]), array([132, 132]))\n",
      "264 264\n"
     ]
    },
    {
     "data": {
      "application/vnd.jupyter.widget-view+json": {
       "model_id": "8a3719bc0c8f4539a438c77ebba1a5c9",
       "version_major": 2,
       "version_minor": 0
      },
      "text/plain": [
       "  0%|          | 0/42 [00:00<?, ?it/s]"
      ]
     },
     "metadata": {},
     "output_type": "display_data"
    },
    {
     "name": "stderr",
     "output_type": "stream",
     "text": [
      "Using 264 background data samples could cause slower run times. Consider using shap.sample(data, K) or shap.kmeans(data, K) to summarize the background as K samples.\n"
     ]
    },
    {
     "name": "stdout",
     "output_type": "stream",
     "text": [
      "Prima: (array([0, 1]), array([132,  38]))\n",
      "Dopo: (array([0, 1]), array([132, 132]))\n",
      "264 264\n"
     ]
    },
    {
     "data": {
      "application/vnd.jupyter.widget-view+json": {
       "model_id": "f836fafe6e3d4b998c4ba18a4ecbda96",
       "version_major": 2,
       "version_minor": 0
      },
      "text/plain": [
       "  0%|          | 0/42 [00:00<?, ?it/s]"
      ]
     },
     "metadata": {},
     "output_type": "display_data"
    },
    {
     "name": "stderr",
     "output_type": "stream",
     "text": [
      "Using 264 background data samples could cause slower run times. Consider using shap.sample(data, K) or shap.kmeans(data, K) to summarize the background as K samples.\n"
     ]
    },
    {
     "name": "stdout",
     "output_type": "stream",
     "text": [
      "Dimensione degli SHAP values per seed 38: (2, 212, 30)\n",
      "Sensitivity: 0.5818181818181818\n",
      "Specificity: 0.5319148936170213\n",
      "Matrice di confusione per il seed 39 :\n",
      "[[96 69]\n",
      " [22 25]]\n",
      "Iterazione: 40\n",
      "0->Medium, 1->Poor\n",
      "\n",
      "Prima: (array([0, 1]), array([132,  37]))\n",
      "Dopo: (array([0, 1]), array([132, 132]))\n",
      "264 264\n"
     ]
    },
    {
     "data": {
      "application/vnd.jupyter.widget-view+json": {
       "model_id": "caa02e673f3141e4be7232017ffea4a3",
       "version_major": 2,
       "version_minor": 0
      },
      "text/plain": [
       "  0%|          | 0/43 [00:00<?, ?it/s]"
      ]
     },
     "metadata": {},
     "output_type": "display_data"
    },
    {
     "name": "stderr",
     "output_type": "stream",
     "text": [
      "Using 264 background data samples could cause slower run times. Consider using shap.sample(data, K) or shap.kmeans(data, K) to summarize the background as K samples.\n"
     ]
    },
    {
     "name": "stdout",
     "output_type": "stream",
     "text": [
      "Prima: (array([0, 1]), array([132,  37]))\n",
      "Dopo: (array([0, 1]), array([132, 132]))\n",
      "264 264\n"
     ]
    },
    {
     "data": {
      "application/vnd.jupyter.widget-view+json": {
       "model_id": "f14ba8a2548f41eca6f71ca97e593552",
       "version_major": 2,
       "version_minor": 0
      },
      "text/plain": [
       "  0%|          | 0/43 [00:00<?, ?it/s]"
      ]
     },
     "metadata": {},
     "output_type": "display_data"
    },
    {
     "name": "stderr",
     "output_type": "stream",
     "text": [
      "Using 264 background data samples could cause slower run times. Consider using shap.sample(data, K) or shap.kmeans(data, K) to summarize the background as K samples.\n"
     ]
    },
    {
     "name": "stdout",
     "output_type": "stream",
     "text": [
      "Prima: (array([0, 1]), array([132,  38]))\n",
      "Dopo: (array([0, 1]), array([132, 132]))\n",
      "264 264\n"
     ]
    },
    {
     "data": {
      "application/vnd.jupyter.widget-view+json": {
       "model_id": "e439f808f63741ff8a25b65de55a07b0",
       "version_major": 2,
       "version_minor": 0
      },
      "text/plain": [
       "  0%|          | 0/42 [00:00<?, ?it/s]"
      ]
     },
     "metadata": {},
     "output_type": "display_data"
    },
    {
     "name": "stderr",
     "output_type": "stream",
     "text": [
      "Using 264 background data samples could cause slower run times. Consider using shap.sample(data, K) or shap.kmeans(data, K) to summarize the background as K samples.\n"
     ]
    },
    {
     "name": "stdout",
     "output_type": "stream",
     "text": [
      "Prima: (array([0, 1]), array([132,  38]))\n",
      "Dopo: (array([0, 1]), array([132, 132]))\n",
      "264 264\n"
     ]
    },
    {
     "data": {
      "application/vnd.jupyter.widget-view+json": {
       "model_id": "a32f61a3f5d74f1e87c4fd91a775565b",
       "version_major": 2,
       "version_minor": 0
      },
      "text/plain": [
       "  0%|          | 0/42 [00:00<?, ?it/s]"
      ]
     },
     "metadata": {},
     "output_type": "display_data"
    },
    {
     "name": "stderr",
     "output_type": "stream",
     "text": [
      "Using 264 background data samples could cause slower run times. Consider using shap.sample(data, K) or shap.kmeans(data, K) to summarize the background as K samples.\n"
     ]
    },
    {
     "name": "stdout",
     "output_type": "stream",
     "text": [
      "Prima: (array([0, 1]), array([132,  38]))\n",
      "Dopo: (array([0, 1]), array([132, 132]))\n",
      "264 264\n"
     ]
    },
    {
     "data": {
      "application/vnd.jupyter.widget-view+json": {
       "model_id": "cad91b4364514442ab73193a2d8214a5",
       "version_major": 2,
       "version_minor": 0
      },
      "text/plain": [
       "  0%|          | 0/42 [00:00<?, ?it/s]"
      ]
     },
     "metadata": {},
     "output_type": "display_data"
    },
    {
     "name": "stderr",
     "output_type": "stream",
     "text": [
      "Using 264 background data samples could cause slower run times. Consider using shap.sample(data, K) or shap.kmeans(data, K) to summarize the background as K samples.\n"
     ]
    },
    {
     "name": "stdout",
     "output_type": "stream",
     "text": [
      "Dimensione degli SHAP values per seed 39: (2, 212, 30)\n",
      "Sensitivity: 0.47878787878787876\n",
      "Specificity: 0.48936170212765956\n",
      "Matrice di confusione per il seed 40 :\n",
      "[[79 86]\n",
      " [24 23]]\n",
      "Iterazione: 41\n",
      "0->Medium, 1->Poor\n",
      "\n",
      "Prima: (array([0, 1]), array([132,  37]))\n",
      "Dopo: (array([0, 1]), array([132, 132]))\n",
      "264 264\n"
     ]
    },
    {
     "data": {
      "application/vnd.jupyter.widget-view+json": {
       "model_id": "532a919d7b4c460dbb41d3fb6954d85a",
       "version_major": 2,
       "version_minor": 0
      },
      "text/plain": [
       "  0%|          | 0/43 [00:00<?, ?it/s]"
      ]
     },
     "metadata": {},
     "output_type": "display_data"
    },
    {
     "name": "stderr",
     "output_type": "stream",
     "text": [
      "Using 264 background data samples could cause slower run times. Consider using shap.sample(data, K) or shap.kmeans(data, K) to summarize the background as K samples.\n"
     ]
    },
    {
     "name": "stdout",
     "output_type": "stream",
     "text": [
      "Prima: (array([0, 1]), array([132,  37]))\n",
      "Dopo: (array([0, 1]), array([132, 132]))\n",
      "264 264\n"
     ]
    },
    {
     "data": {
      "application/vnd.jupyter.widget-view+json": {
       "model_id": "0868df98d0a34f6fb2127b50137b52f8",
       "version_major": 2,
       "version_minor": 0
      },
      "text/plain": [
       "  0%|          | 0/43 [00:00<?, ?it/s]"
      ]
     },
     "metadata": {},
     "output_type": "display_data"
    },
    {
     "name": "stderr",
     "output_type": "stream",
     "text": [
      "Using 264 background data samples could cause slower run times. Consider using shap.sample(data, K) or shap.kmeans(data, K) to summarize the background as K samples.\n"
     ]
    },
    {
     "name": "stdout",
     "output_type": "stream",
     "text": [
      "Prima: (array([0, 1]), array([132,  38]))\n",
      "Dopo: (array([0, 1]), array([132, 132]))\n",
      "264 264\n"
     ]
    },
    {
     "data": {
      "application/vnd.jupyter.widget-view+json": {
       "model_id": "f9da95d3767b4b16a0cdef6e7a91b40b",
       "version_major": 2,
       "version_minor": 0
      },
      "text/plain": [
       "  0%|          | 0/42 [00:00<?, ?it/s]"
      ]
     },
     "metadata": {},
     "output_type": "display_data"
    },
    {
     "name": "stderr",
     "output_type": "stream",
     "text": [
      "Using 264 background data samples could cause slower run times. Consider using shap.sample(data, K) or shap.kmeans(data, K) to summarize the background as K samples.\n"
     ]
    },
    {
     "name": "stdout",
     "output_type": "stream",
     "text": [
      "Prima: (array([0, 1]), array([132,  38]))\n",
      "Dopo: (array([0, 1]), array([132, 132]))\n",
      "264 264\n"
     ]
    },
    {
     "data": {
      "application/vnd.jupyter.widget-view+json": {
       "model_id": "eee9bd08dd1d42799144236b34125953",
       "version_major": 2,
       "version_minor": 0
      },
      "text/plain": [
       "  0%|          | 0/42 [00:00<?, ?it/s]"
      ]
     },
     "metadata": {},
     "output_type": "display_data"
    },
    {
     "name": "stderr",
     "output_type": "stream",
     "text": [
      "Using 264 background data samples could cause slower run times. Consider using shap.sample(data, K) or shap.kmeans(data, K) to summarize the background as K samples.\n"
     ]
    },
    {
     "name": "stdout",
     "output_type": "stream",
     "text": [
      "Prima: (array([0, 1]), array([132,  38]))\n",
      "Dopo: (array([0, 1]), array([132, 132]))\n",
      "264 264\n"
     ]
    },
    {
     "data": {
      "application/vnd.jupyter.widget-view+json": {
       "model_id": "6264fd99099347f5b25d80f43b8c7eb3",
       "version_major": 2,
       "version_minor": 0
      },
      "text/plain": [
       "  0%|          | 0/42 [00:00<?, ?it/s]"
      ]
     },
     "metadata": {},
     "output_type": "display_data"
    },
    {
     "name": "stderr",
     "output_type": "stream",
     "text": [
      "Using 264 background data samples could cause slower run times. Consider using shap.sample(data, K) or shap.kmeans(data, K) to summarize the background as K samples.\n"
     ]
    },
    {
     "name": "stdout",
     "output_type": "stream",
     "text": [
      "Dimensione degli SHAP values per seed 40: (2, 212, 30)\n",
      "Sensitivity: 0.6545454545454545\n",
      "Specificity: 0.3404255319148936\n",
      "Matrice di confusione per il seed 41 :\n",
      "[[108  57]\n",
      " [ 31  16]]\n",
      "Iterazione: 42\n",
      "0->Medium, 1->Poor\n",
      "\n",
      "Prima: (array([0, 1]), array([132,  37]))\n",
      "Dopo: (array([0, 1]), array([132, 132]))\n",
      "264 264\n"
     ]
    },
    {
     "data": {
      "application/vnd.jupyter.widget-view+json": {
       "model_id": "6957f3f071b24b53b5cd3d616e3155fd",
       "version_major": 2,
       "version_minor": 0
      },
      "text/plain": [
       "  0%|          | 0/43 [00:00<?, ?it/s]"
      ]
     },
     "metadata": {},
     "output_type": "display_data"
    },
    {
     "name": "stderr",
     "output_type": "stream",
     "text": [
      "Using 264 background data samples could cause slower run times. Consider using shap.sample(data, K) or shap.kmeans(data, K) to summarize the background as K samples.\n"
     ]
    },
    {
     "name": "stdout",
     "output_type": "stream",
     "text": [
      "Prima: (array([0, 1]), array([132,  37]))\n",
      "Dopo: (array([0, 1]), array([132, 132]))\n",
      "264 264\n"
     ]
    },
    {
     "data": {
      "application/vnd.jupyter.widget-view+json": {
       "model_id": "87777d11697f4c30891244dad4970841",
       "version_major": 2,
       "version_minor": 0
      },
      "text/plain": [
       "  0%|          | 0/43 [00:00<?, ?it/s]"
      ]
     },
     "metadata": {},
     "output_type": "display_data"
    },
    {
     "name": "stderr",
     "output_type": "stream",
     "text": [
      "Using 264 background data samples could cause slower run times. Consider using shap.sample(data, K) or shap.kmeans(data, K) to summarize the background as K samples.\n"
     ]
    },
    {
     "name": "stdout",
     "output_type": "stream",
     "text": [
      "Prima: (array([0, 1]), array([132,  38]))\n",
      "Dopo: (array([0, 1]), array([132, 132]))\n",
      "264 264\n"
     ]
    },
    {
     "data": {
      "application/vnd.jupyter.widget-view+json": {
       "model_id": "4c9bd4a0b2884d6e9704d06225cf573a",
       "version_major": 2,
       "version_minor": 0
      },
      "text/plain": [
       "  0%|          | 0/42 [00:00<?, ?it/s]"
      ]
     },
     "metadata": {},
     "output_type": "display_data"
    },
    {
     "name": "stderr",
     "output_type": "stream",
     "text": [
      "Using 264 background data samples could cause slower run times. Consider using shap.sample(data, K) or shap.kmeans(data, K) to summarize the background as K samples.\n"
     ]
    },
    {
     "name": "stdout",
     "output_type": "stream",
     "text": [
      "Prima: (array([0, 1]), array([132,  38]))\n",
      "Dopo: (array([0, 1]), array([132, 132]))\n",
      "264 264\n"
     ]
    },
    {
     "data": {
      "application/vnd.jupyter.widget-view+json": {
       "model_id": "490257417df74e76afe42dff8b8697b8",
       "version_major": 2,
       "version_minor": 0
      },
      "text/plain": [
       "  0%|          | 0/42 [00:00<?, ?it/s]"
      ]
     },
     "metadata": {},
     "output_type": "display_data"
    },
    {
     "name": "stderr",
     "output_type": "stream",
     "text": [
      "Using 264 background data samples could cause slower run times. Consider using shap.sample(data, K) or shap.kmeans(data, K) to summarize the background as K samples.\n"
     ]
    },
    {
     "name": "stdout",
     "output_type": "stream",
     "text": [
      "Prima: (array([0, 1]), array([132,  38]))\n",
      "Dopo: (array([0, 1]), array([132, 132]))\n",
      "264 264\n"
     ]
    },
    {
     "data": {
      "application/vnd.jupyter.widget-view+json": {
       "model_id": "b8c2c54f17a14ba8a23c2d78511fe26a",
       "version_major": 2,
       "version_minor": 0
      },
      "text/plain": [
       "  0%|          | 0/42 [00:00<?, ?it/s]"
      ]
     },
     "metadata": {},
     "output_type": "display_data"
    },
    {
     "name": "stderr",
     "output_type": "stream",
     "text": [
      "Using 264 background data samples could cause slower run times. Consider using shap.sample(data, K) or shap.kmeans(data, K) to summarize the background as K samples.\n"
     ]
    },
    {
     "name": "stdout",
     "output_type": "stream",
     "text": [
      "Dimensione degli SHAP values per seed 41: (2, 212, 30)\n",
      "Sensitivity: 0.6121212121212121\n",
      "Specificity: 0.5531914893617021\n",
      "Matrice di confusione per il seed 42 :\n",
      "[[101  64]\n",
      " [ 21  26]]\n",
      "Iterazione: 43\n",
      "0->Medium, 1->Poor\n",
      "\n",
      "Prima: (array([0, 1]), array([132,  37]))\n",
      "Dopo: (array([0, 1]), array([132, 132]))\n",
      "264 264\n"
     ]
    },
    {
     "data": {
      "application/vnd.jupyter.widget-view+json": {
       "model_id": "3cd05b5c74a046468298c4216884421d",
       "version_major": 2,
       "version_minor": 0
      },
      "text/plain": [
       "  0%|          | 0/43 [00:00<?, ?it/s]"
      ]
     },
     "metadata": {},
     "output_type": "display_data"
    },
    {
     "name": "stderr",
     "output_type": "stream",
     "text": [
      "Using 264 background data samples could cause slower run times. Consider using shap.sample(data, K) or shap.kmeans(data, K) to summarize the background as K samples.\n"
     ]
    },
    {
     "name": "stdout",
     "output_type": "stream",
     "text": [
      "Prima: (array([0, 1]), array([132,  37]))\n",
      "Dopo: (array([0, 1]), array([132, 132]))\n",
      "264 264\n"
     ]
    },
    {
     "data": {
      "application/vnd.jupyter.widget-view+json": {
       "model_id": "ee43bbc8e97442a4aac5c6b63861eade",
       "version_major": 2,
       "version_minor": 0
      },
      "text/plain": [
       "  0%|          | 0/43 [00:00<?, ?it/s]"
      ]
     },
     "metadata": {},
     "output_type": "display_data"
    },
    {
     "name": "stderr",
     "output_type": "stream",
     "text": [
      "Using 264 background data samples could cause slower run times. Consider using shap.sample(data, K) or shap.kmeans(data, K) to summarize the background as K samples.\n"
     ]
    },
    {
     "name": "stdout",
     "output_type": "stream",
     "text": [
      "Prima: (array([0, 1]), array([132,  38]))\n",
      "Dopo: (array([0, 1]), array([132, 132]))\n",
      "264 264\n"
     ]
    },
    {
     "data": {
      "application/vnd.jupyter.widget-view+json": {
       "model_id": "3ff6dc3f36cc409bb0225b8679933108",
       "version_major": 2,
       "version_minor": 0
      },
      "text/plain": [
       "  0%|          | 0/42 [00:00<?, ?it/s]"
      ]
     },
     "metadata": {},
     "output_type": "display_data"
    },
    {
     "name": "stderr",
     "output_type": "stream",
     "text": [
      "Using 264 background data samples could cause slower run times. Consider using shap.sample(data, K) or shap.kmeans(data, K) to summarize the background as K samples.\n"
     ]
    },
    {
     "name": "stdout",
     "output_type": "stream",
     "text": [
      "Prima: (array([0, 1]), array([132,  38]))\n",
      "Dopo: (array([0, 1]), array([132, 132]))\n",
      "264 264\n"
     ]
    },
    {
     "data": {
      "application/vnd.jupyter.widget-view+json": {
       "model_id": "20e66686b5f84e8da1bc9227aee4d1e2",
       "version_major": 2,
       "version_minor": 0
      },
      "text/plain": [
       "  0%|          | 0/42 [00:00<?, ?it/s]"
      ]
     },
     "metadata": {},
     "output_type": "display_data"
    },
    {
     "name": "stderr",
     "output_type": "stream",
     "text": [
      "Using 264 background data samples could cause slower run times. Consider using shap.sample(data, K) or shap.kmeans(data, K) to summarize the background as K samples.\n"
     ]
    },
    {
     "name": "stdout",
     "output_type": "stream",
     "text": [
      "Prima: (array([0, 1]), array([132,  38]))\n",
      "Dopo: (array([0, 1]), array([132, 132]))\n",
      "264 264\n"
     ]
    },
    {
     "data": {
      "application/vnd.jupyter.widget-view+json": {
       "model_id": "c5082b12fa2e4633832db29c36fd5273",
       "version_major": 2,
       "version_minor": 0
      },
      "text/plain": [
       "  0%|          | 0/42 [00:00<?, ?it/s]"
      ]
     },
     "metadata": {},
     "output_type": "display_data"
    },
    {
     "name": "stderr",
     "output_type": "stream",
     "text": [
      "Using 264 background data samples could cause slower run times. Consider using shap.sample(data, K) or shap.kmeans(data, K) to summarize the background as K samples.\n"
     ]
    },
    {
     "name": "stdout",
     "output_type": "stream",
     "text": [
      "Dimensione degli SHAP values per seed 42: (2, 212, 30)\n",
      "Sensitivity: 0.5272727272727272\n",
      "Specificity: 0.5531914893617021\n",
      "Matrice di confusione per il seed 43 :\n",
      "[[87 78]\n",
      " [21 26]]\n",
      "Iterazione: 44\n",
      "0->Medium, 1->Poor\n",
      "\n",
      "Prima: (array([0, 1]), array([132,  37]))\n",
      "Dopo: (array([0, 1]), array([132, 132]))\n",
      "264 264\n"
     ]
    },
    {
     "data": {
      "application/vnd.jupyter.widget-view+json": {
       "model_id": "87457bf4dbba4cf189604d5f7124c301",
       "version_major": 2,
       "version_minor": 0
      },
      "text/plain": [
       "  0%|          | 0/43 [00:00<?, ?it/s]"
      ]
     },
     "metadata": {},
     "output_type": "display_data"
    },
    {
     "name": "stderr",
     "output_type": "stream",
     "text": [
      "Using 264 background data samples could cause slower run times. Consider using shap.sample(data, K) or shap.kmeans(data, K) to summarize the background as K samples.\n"
     ]
    },
    {
     "name": "stdout",
     "output_type": "stream",
     "text": [
      "Prima: (array([0, 1]), array([132,  37]))\n",
      "Dopo: (array([0, 1]), array([132, 132]))\n",
      "264 264\n"
     ]
    },
    {
     "data": {
      "application/vnd.jupyter.widget-view+json": {
       "model_id": "d80ed44f85a748ab8681d95046ee09d1",
       "version_major": 2,
       "version_minor": 0
      },
      "text/plain": [
       "  0%|          | 0/43 [00:00<?, ?it/s]"
      ]
     },
     "metadata": {},
     "output_type": "display_data"
    },
    {
     "name": "stderr",
     "output_type": "stream",
     "text": [
      "Using 264 background data samples could cause slower run times. Consider using shap.sample(data, K) or shap.kmeans(data, K) to summarize the background as K samples.\n"
     ]
    },
    {
     "name": "stdout",
     "output_type": "stream",
     "text": [
      "Prima: (array([0, 1]), array([132,  38]))\n",
      "Dopo: (array([0, 1]), array([132, 132]))\n",
      "264 264\n"
     ]
    },
    {
     "data": {
      "application/vnd.jupyter.widget-view+json": {
       "model_id": "ac1f42b9ea85427991fc65ed5a320876",
       "version_major": 2,
       "version_minor": 0
      },
      "text/plain": [
       "  0%|          | 0/42 [00:00<?, ?it/s]"
      ]
     },
     "metadata": {},
     "output_type": "display_data"
    },
    {
     "name": "stderr",
     "output_type": "stream",
     "text": [
      "Using 264 background data samples could cause slower run times. Consider using shap.sample(data, K) or shap.kmeans(data, K) to summarize the background as K samples.\n"
     ]
    },
    {
     "name": "stdout",
     "output_type": "stream",
     "text": [
      "Prima: (array([0, 1]), array([132,  38]))\n",
      "Dopo: (array([0, 1]), array([132, 132]))\n",
      "264 264\n"
     ]
    },
    {
     "data": {
      "application/vnd.jupyter.widget-view+json": {
       "model_id": "eecb56305df441f6b72d2ad56b48eda2",
       "version_major": 2,
       "version_minor": 0
      },
      "text/plain": [
       "  0%|          | 0/42 [00:00<?, ?it/s]"
      ]
     },
     "metadata": {},
     "output_type": "display_data"
    },
    {
     "name": "stderr",
     "output_type": "stream",
     "text": [
      "Using 264 background data samples could cause slower run times. Consider using shap.sample(data, K) or shap.kmeans(data, K) to summarize the background as K samples.\n"
     ]
    },
    {
     "name": "stdout",
     "output_type": "stream",
     "text": [
      "Prima: (array([0, 1]), array([132,  38]))\n",
      "Dopo: (array([0, 1]), array([132, 132]))\n",
      "264 264\n"
     ]
    },
    {
     "data": {
      "application/vnd.jupyter.widget-view+json": {
       "model_id": "17889baa9f53436f8d69bc44c9b35a09",
       "version_major": 2,
       "version_minor": 0
      },
      "text/plain": [
       "  0%|          | 0/42 [00:00<?, ?it/s]"
      ]
     },
     "metadata": {},
     "output_type": "display_data"
    },
    {
     "name": "stderr",
     "output_type": "stream",
     "text": [
      "Using 264 background data samples could cause slower run times. Consider using shap.sample(data, K) or shap.kmeans(data, K) to summarize the background as K samples.\n"
     ]
    },
    {
     "name": "stdout",
     "output_type": "stream",
     "text": [
      "Dimensione degli SHAP values per seed 43: (2, 212, 30)\n",
      "Sensitivity: 0.5454545454545454\n",
      "Specificity: 0.48936170212765956\n",
      "Matrice di confusione per il seed 44 :\n",
      "[[90 75]\n",
      " [24 23]]\n",
      "Iterazione: 45\n",
      "0->Medium, 1->Poor\n",
      "\n",
      "Prima: (array([0, 1]), array([132,  37]))\n",
      "Dopo: (array([0, 1]), array([132, 132]))\n",
      "264 264\n"
     ]
    },
    {
     "data": {
      "application/vnd.jupyter.widget-view+json": {
       "model_id": "157cea661af242d3bc4690b06fb5a47b",
       "version_major": 2,
       "version_minor": 0
      },
      "text/plain": [
       "  0%|          | 0/43 [00:00<?, ?it/s]"
      ]
     },
     "metadata": {},
     "output_type": "display_data"
    },
    {
     "name": "stderr",
     "output_type": "stream",
     "text": [
      "Using 264 background data samples could cause slower run times. Consider using shap.sample(data, K) or shap.kmeans(data, K) to summarize the background as K samples.\n"
     ]
    },
    {
     "name": "stdout",
     "output_type": "stream",
     "text": [
      "Prima: (array([0, 1]), array([132,  37]))\n",
      "Dopo: (array([0, 1]), array([132, 132]))\n",
      "264 264\n"
     ]
    },
    {
     "data": {
      "application/vnd.jupyter.widget-view+json": {
       "model_id": "5668aa5e13fa4107b1a221ac60f41178",
       "version_major": 2,
       "version_minor": 0
      },
      "text/plain": [
       "  0%|          | 0/43 [00:00<?, ?it/s]"
      ]
     },
     "metadata": {},
     "output_type": "display_data"
    },
    {
     "name": "stderr",
     "output_type": "stream",
     "text": [
      "Using 264 background data samples could cause slower run times. Consider using shap.sample(data, K) or shap.kmeans(data, K) to summarize the background as K samples.\n"
     ]
    },
    {
     "name": "stdout",
     "output_type": "stream",
     "text": [
      "Prima: (array([0, 1]), array([132,  38]))\n",
      "Dopo: (array([0, 1]), array([132, 132]))\n",
      "264 264\n"
     ]
    },
    {
     "data": {
      "application/vnd.jupyter.widget-view+json": {
       "model_id": "165200bab2f248a3bc9e0fd2e6f401e2",
       "version_major": 2,
       "version_minor": 0
      },
      "text/plain": [
       "  0%|          | 0/42 [00:00<?, ?it/s]"
      ]
     },
     "metadata": {},
     "output_type": "display_data"
    },
    {
     "name": "stderr",
     "output_type": "stream",
     "text": [
      "Using 264 background data samples could cause slower run times. Consider using shap.sample(data, K) or shap.kmeans(data, K) to summarize the background as K samples.\n"
     ]
    },
    {
     "name": "stdout",
     "output_type": "stream",
     "text": [
      "Prima: (array([0, 1]), array([132,  38]))\n",
      "Dopo: (array([0, 1]), array([132, 132]))\n",
      "264 264\n"
     ]
    },
    {
     "data": {
      "application/vnd.jupyter.widget-view+json": {
       "model_id": "36220371d95f4405aebaac494d26d0e3",
       "version_major": 2,
       "version_minor": 0
      },
      "text/plain": [
       "  0%|          | 0/42 [00:00<?, ?it/s]"
      ]
     },
     "metadata": {},
     "output_type": "display_data"
    },
    {
     "name": "stderr",
     "output_type": "stream",
     "text": [
      "Using 264 background data samples could cause slower run times. Consider using shap.sample(data, K) or shap.kmeans(data, K) to summarize the background as K samples.\n"
     ]
    },
    {
     "name": "stdout",
     "output_type": "stream",
     "text": [
      "Prima: (array([0, 1]), array([132,  38]))\n",
      "Dopo: (array([0, 1]), array([132, 132]))\n",
      "264 264\n"
     ]
    },
    {
     "data": {
      "application/vnd.jupyter.widget-view+json": {
       "model_id": "0b414589671a424a9584a4cfc2f71281",
       "version_major": 2,
       "version_minor": 0
      },
      "text/plain": [
       "  0%|          | 0/42 [00:00<?, ?it/s]"
      ]
     },
     "metadata": {},
     "output_type": "display_data"
    },
    {
     "name": "stderr",
     "output_type": "stream",
     "text": [
      "Using 264 background data samples could cause slower run times. Consider using shap.sample(data, K) or shap.kmeans(data, K) to summarize the background as K samples.\n"
     ]
    },
    {
     "name": "stdout",
     "output_type": "stream",
     "text": [
      "Dimensione degli SHAP values per seed 44: (2, 212, 30)\n",
      "Sensitivity: 0.5636363636363636\n",
      "Specificity: 0.40425531914893614\n",
      "Matrice di confusione per il seed 45 :\n",
      "[[93 72]\n",
      " [28 19]]\n",
      "Iterazione: 46\n",
      "0->Medium, 1->Poor\n",
      "\n",
      "Prima: (array([0, 1]), array([132,  37]))\n",
      "Dopo: (array([0, 1]), array([132, 132]))\n",
      "264 264\n"
     ]
    },
    {
     "data": {
      "application/vnd.jupyter.widget-view+json": {
       "model_id": "f46f3f2a4e17400e920b9e01cc4db174",
       "version_major": 2,
       "version_minor": 0
      },
      "text/plain": [
       "  0%|          | 0/43 [00:00<?, ?it/s]"
      ]
     },
     "metadata": {},
     "output_type": "display_data"
    },
    {
     "name": "stderr",
     "output_type": "stream",
     "text": [
      "Using 264 background data samples could cause slower run times. Consider using shap.sample(data, K) or shap.kmeans(data, K) to summarize the background as K samples.\n"
     ]
    },
    {
     "name": "stdout",
     "output_type": "stream",
     "text": [
      "Prima: (array([0, 1]), array([132,  37]))\n",
      "Dopo: (array([0, 1]), array([132, 132]))\n",
      "264 264\n"
     ]
    },
    {
     "data": {
      "application/vnd.jupyter.widget-view+json": {
       "model_id": "a51eb7cb32b3401c90c0c74ed737c6e8",
       "version_major": 2,
       "version_minor": 0
      },
      "text/plain": [
       "  0%|          | 0/43 [00:00<?, ?it/s]"
      ]
     },
     "metadata": {},
     "output_type": "display_data"
    },
    {
     "name": "stderr",
     "output_type": "stream",
     "text": [
      "Using 264 background data samples could cause slower run times. Consider using shap.sample(data, K) or shap.kmeans(data, K) to summarize the background as K samples.\n"
     ]
    },
    {
     "name": "stdout",
     "output_type": "stream",
     "text": [
      "Prima: (array([0, 1]), array([132,  38]))\n",
      "Dopo: (array([0, 1]), array([132, 132]))\n",
      "264 264\n"
     ]
    },
    {
     "data": {
      "application/vnd.jupyter.widget-view+json": {
       "model_id": "d42bd34f00dc4a7885504dffdc581613",
       "version_major": 2,
       "version_minor": 0
      },
      "text/plain": [
       "  0%|          | 0/42 [00:00<?, ?it/s]"
      ]
     },
     "metadata": {},
     "output_type": "display_data"
    },
    {
     "name": "stderr",
     "output_type": "stream",
     "text": [
      "Using 264 background data samples could cause slower run times. Consider using shap.sample(data, K) or shap.kmeans(data, K) to summarize the background as K samples.\n"
     ]
    },
    {
     "name": "stdout",
     "output_type": "stream",
     "text": [
      "Prima: (array([0, 1]), array([132,  38]))\n",
      "Dopo: (array([0, 1]), array([132, 132]))\n",
      "264 264\n"
     ]
    },
    {
     "data": {
      "application/vnd.jupyter.widget-view+json": {
       "model_id": "f06306b51fcf495ea98eca56cc88c45a",
       "version_major": 2,
       "version_minor": 0
      },
      "text/plain": [
       "  0%|          | 0/42 [00:00<?, ?it/s]"
      ]
     },
     "metadata": {},
     "output_type": "display_data"
    },
    {
     "name": "stderr",
     "output_type": "stream",
     "text": [
      "Using 264 background data samples could cause slower run times. Consider using shap.sample(data, K) or shap.kmeans(data, K) to summarize the background as K samples.\n"
     ]
    },
    {
     "name": "stdout",
     "output_type": "stream",
     "text": [
      "Prima: (array([0, 1]), array([132,  38]))\n",
      "Dopo: (array([0, 1]), array([132, 132]))\n",
      "264 264\n"
     ]
    },
    {
     "data": {
      "application/vnd.jupyter.widget-view+json": {
       "model_id": "8faae9f7d1534c9ea29851664d7e79f3",
       "version_major": 2,
       "version_minor": 0
      },
      "text/plain": [
       "  0%|          | 0/42 [00:00<?, ?it/s]"
      ]
     },
     "metadata": {},
     "output_type": "display_data"
    },
    {
     "name": "stderr",
     "output_type": "stream",
     "text": [
      "Using 264 background data samples could cause slower run times. Consider using shap.sample(data, K) or shap.kmeans(data, K) to summarize the background as K samples.\n"
     ]
    },
    {
     "name": "stdout",
     "output_type": "stream",
     "text": [
      "Dimensione degli SHAP values per seed 45: (2, 212, 30)\n",
      "Sensitivity: 0.6\n",
      "Specificity: 0.425531914893617\n",
      "Matrice di confusione per il seed 46 :\n",
      "[[99 66]\n",
      " [27 20]]\n",
      "Iterazione: 47\n",
      "0->Medium, 1->Poor\n",
      "\n",
      "Prima: (array([0, 1]), array([132,  37]))\n",
      "Dopo: (array([0, 1]), array([132, 132]))\n",
      "264 264\n"
     ]
    },
    {
     "data": {
      "application/vnd.jupyter.widget-view+json": {
       "model_id": "aa2e6c1123bc467abe295e0ee8015a6f",
       "version_major": 2,
       "version_minor": 0
      },
      "text/plain": [
       "  0%|          | 0/43 [00:00<?, ?it/s]"
      ]
     },
     "metadata": {},
     "output_type": "display_data"
    },
    {
     "name": "stderr",
     "output_type": "stream",
     "text": [
      "Using 264 background data samples could cause slower run times. Consider using shap.sample(data, K) or shap.kmeans(data, K) to summarize the background as K samples.\n"
     ]
    },
    {
     "name": "stdout",
     "output_type": "stream",
     "text": [
      "Prima: (array([0, 1]), array([132,  37]))\n",
      "Dopo: (array([0, 1]), array([132, 132]))\n",
      "264 264\n"
     ]
    },
    {
     "data": {
      "application/vnd.jupyter.widget-view+json": {
       "model_id": "ce7433f3c1134b7b85abfe1502b25c26",
       "version_major": 2,
       "version_minor": 0
      },
      "text/plain": [
       "  0%|          | 0/43 [00:00<?, ?it/s]"
      ]
     },
     "metadata": {},
     "output_type": "display_data"
    },
    {
     "name": "stderr",
     "output_type": "stream",
     "text": [
      "Using 264 background data samples could cause slower run times. Consider using shap.sample(data, K) or shap.kmeans(data, K) to summarize the background as K samples.\n"
     ]
    },
    {
     "name": "stdout",
     "output_type": "stream",
     "text": [
      "Prima: (array([0, 1]), array([132,  38]))\n",
      "Dopo: (array([0, 1]), array([132, 132]))\n",
      "264 264\n"
     ]
    },
    {
     "data": {
      "application/vnd.jupyter.widget-view+json": {
       "model_id": "6107f06fb9004f95a7a488f973952ccf",
       "version_major": 2,
       "version_minor": 0
      },
      "text/plain": [
       "  0%|          | 0/42 [00:00<?, ?it/s]"
      ]
     },
     "metadata": {},
     "output_type": "display_data"
    },
    {
     "name": "stderr",
     "output_type": "stream",
     "text": [
      "Using 264 background data samples could cause slower run times. Consider using shap.sample(data, K) or shap.kmeans(data, K) to summarize the background as K samples.\n"
     ]
    },
    {
     "name": "stdout",
     "output_type": "stream",
     "text": [
      "Prima: (array([0, 1]), array([132,  38]))\n",
      "Dopo: (array([0, 1]), array([132, 132]))\n",
      "264 264\n"
     ]
    },
    {
     "data": {
      "application/vnd.jupyter.widget-view+json": {
       "model_id": "73529dcd8bcf458fb36f9f6b92055777",
       "version_major": 2,
       "version_minor": 0
      },
      "text/plain": [
       "  0%|          | 0/42 [00:00<?, ?it/s]"
      ]
     },
     "metadata": {},
     "output_type": "display_data"
    },
    {
     "name": "stderr",
     "output_type": "stream",
     "text": [
      "Using 264 background data samples could cause slower run times. Consider using shap.sample(data, K) or shap.kmeans(data, K) to summarize the background as K samples.\n"
     ]
    },
    {
     "name": "stdout",
     "output_type": "stream",
     "text": [
      "Prima: (array([0, 1]), array([132,  38]))\n",
      "Dopo: (array([0, 1]), array([132, 132]))\n",
      "264 264\n"
     ]
    },
    {
     "data": {
      "application/vnd.jupyter.widget-view+json": {
       "model_id": "3beffc4d2ee94f7a90cffd5ce970c0c8",
       "version_major": 2,
       "version_minor": 0
      },
      "text/plain": [
       "  0%|          | 0/42 [00:00<?, ?it/s]"
      ]
     },
     "metadata": {},
     "output_type": "display_data"
    },
    {
     "name": "stderr",
     "output_type": "stream",
     "text": [
      "Using 264 background data samples could cause slower run times. Consider using shap.sample(data, K) or shap.kmeans(data, K) to summarize the background as K samples.\n"
     ]
    },
    {
     "name": "stdout",
     "output_type": "stream",
     "text": [
      "Dimensione degli SHAP values per seed 46: (2, 212, 30)\n",
      "Sensitivity: 0.5878787878787879\n",
      "Specificity: 0.46808510638297873\n",
      "Matrice di confusione per il seed 47 :\n",
      "[[97 68]\n",
      " [25 22]]\n",
      "Iterazione: 48\n",
      "0->Medium, 1->Poor\n",
      "\n",
      "Prima: (array([0, 1]), array([132,  37]))\n",
      "Dopo: (array([0, 1]), array([132, 132]))\n",
      "264 264\n"
     ]
    },
    {
     "data": {
      "application/vnd.jupyter.widget-view+json": {
       "model_id": "53d608b009c94407b787d60c7201f293",
       "version_major": 2,
       "version_minor": 0
      },
      "text/plain": [
       "  0%|          | 0/43 [00:00<?, ?it/s]"
      ]
     },
     "metadata": {},
     "output_type": "display_data"
    },
    {
     "name": "stderr",
     "output_type": "stream",
     "text": [
      "Using 264 background data samples could cause slower run times. Consider using shap.sample(data, K) or shap.kmeans(data, K) to summarize the background as K samples.\n"
     ]
    },
    {
     "name": "stdout",
     "output_type": "stream",
     "text": [
      "Prima: (array([0, 1]), array([132,  37]))\n",
      "Dopo: (array([0, 1]), array([132, 132]))\n",
      "264 264\n"
     ]
    },
    {
     "data": {
      "application/vnd.jupyter.widget-view+json": {
       "model_id": "fd3e6fa29a184b53934d4db51eaf1fcb",
       "version_major": 2,
       "version_minor": 0
      },
      "text/plain": [
       "  0%|          | 0/43 [00:00<?, ?it/s]"
      ]
     },
     "metadata": {},
     "output_type": "display_data"
    },
    {
     "name": "stderr",
     "output_type": "stream",
     "text": [
      "Using 264 background data samples could cause slower run times. Consider using shap.sample(data, K) or shap.kmeans(data, K) to summarize the background as K samples.\n"
     ]
    },
    {
     "name": "stdout",
     "output_type": "stream",
     "text": [
      "Prima: (array([0, 1]), array([132,  38]))\n",
      "Dopo: (array([0, 1]), array([132, 132]))\n",
      "264 264\n"
     ]
    },
    {
     "data": {
      "application/vnd.jupyter.widget-view+json": {
       "model_id": "19aa6d8ca0504f2a9458f5f147fd86be",
       "version_major": 2,
       "version_minor": 0
      },
      "text/plain": [
       "  0%|          | 0/42 [00:00<?, ?it/s]"
      ]
     },
     "metadata": {},
     "output_type": "display_data"
    },
    {
     "name": "stderr",
     "output_type": "stream",
     "text": [
      "Using 264 background data samples could cause slower run times. Consider using shap.sample(data, K) or shap.kmeans(data, K) to summarize the background as K samples.\n"
     ]
    },
    {
     "name": "stdout",
     "output_type": "stream",
     "text": [
      "Prima: (array([0, 1]), array([132,  38]))\n",
      "Dopo: (array([0, 1]), array([132, 132]))\n",
      "264 264\n"
     ]
    },
    {
     "data": {
      "application/vnd.jupyter.widget-view+json": {
       "model_id": "5b6825ee02dc40e7b8a9c92255431533",
       "version_major": 2,
       "version_minor": 0
      },
      "text/plain": [
       "  0%|          | 0/42 [00:00<?, ?it/s]"
      ]
     },
     "metadata": {},
     "output_type": "display_data"
    },
    {
     "name": "stderr",
     "output_type": "stream",
     "text": [
      "Using 264 background data samples could cause slower run times. Consider using shap.sample(data, K) or shap.kmeans(data, K) to summarize the background as K samples.\n"
     ]
    },
    {
     "name": "stdout",
     "output_type": "stream",
     "text": [
      "Prima: (array([0, 1]), array([132,  38]))\n",
      "Dopo: (array([0, 1]), array([132, 132]))\n",
      "264 264\n"
     ]
    },
    {
     "data": {
      "application/vnd.jupyter.widget-view+json": {
       "model_id": "588d3ac55e854153b7efe4a7e2f1393f",
       "version_major": 2,
       "version_minor": 0
      },
      "text/plain": [
       "  0%|          | 0/42 [00:00<?, ?it/s]"
      ]
     },
     "metadata": {},
     "output_type": "display_data"
    },
    {
     "name": "stderr",
     "output_type": "stream",
     "text": [
      "Using 264 background data samples could cause slower run times. Consider using shap.sample(data, K) or shap.kmeans(data, K) to summarize the background as K samples.\n"
     ]
    },
    {
     "name": "stdout",
     "output_type": "stream",
     "text": [
      "Dimensione degli SHAP values per seed 47: (2, 212, 30)\n",
      "Sensitivity: 0.593939393939394\n",
      "Specificity: 0.44680851063829785\n",
      "Matrice di confusione per il seed 48 :\n",
      "[[98 67]\n",
      " [26 21]]\n",
      "Iterazione: 49\n",
      "0->Medium, 1->Poor\n",
      "\n",
      "Prima: (array([0, 1]), array([132,  37]))\n",
      "Dopo: (array([0, 1]), array([132, 132]))\n",
      "264 264\n"
     ]
    },
    {
     "data": {
      "application/vnd.jupyter.widget-view+json": {
       "model_id": "b6d53ccc5cd946d0abb5fd7c9c5f6958",
       "version_major": 2,
       "version_minor": 0
      },
      "text/plain": [
       "  0%|          | 0/43 [00:00<?, ?it/s]"
      ]
     },
     "metadata": {},
     "output_type": "display_data"
    },
    {
     "name": "stderr",
     "output_type": "stream",
     "text": [
      "Using 264 background data samples could cause slower run times. Consider using shap.sample(data, K) or shap.kmeans(data, K) to summarize the background as K samples.\n"
     ]
    },
    {
     "name": "stdout",
     "output_type": "stream",
     "text": [
      "Prima: (array([0, 1]), array([132,  37]))\n",
      "Dopo: (array([0, 1]), array([132, 132]))\n",
      "264 264\n"
     ]
    },
    {
     "data": {
      "application/vnd.jupyter.widget-view+json": {
       "model_id": "478d0cf0d6734e7ab63db2619ce07cf1",
       "version_major": 2,
       "version_minor": 0
      },
      "text/plain": [
       "  0%|          | 0/43 [00:00<?, ?it/s]"
      ]
     },
     "metadata": {},
     "output_type": "display_data"
    },
    {
     "name": "stderr",
     "output_type": "stream",
     "text": [
      "Using 264 background data samples could cause slower run times. Consider using shap.sample(data, K) or shap.kmeans(data, K) to summarize the background as K samples.\n"
     ]
    },
    {
     "name": "stdout",
     "output_type": "stream",
     "text": [
      "Prima: (array([0, 1]), array([132,  38]))\n",
      "Dopo: (array([0, 1]), array([132, 132]))\n",
      "264 264\n"
     ]
    },
    {
     "data": {
      "application/vnd.jupyter.widget-view+json": {
       "model_id": "22aac94bb90647ab9c3c90f4a8db0467",
       "version_major": 2,
       "version_minor": 0
      },
      "text/plain": [
       "  0%|          | 0/42 [00:00<?, ?it/s]"
      ]
     },
     "metadata": {},
     "output_type": "display_data"
    },
    {
     "name": "stderr",
     "output_type": "stream",
     "text": [
      "Using 264 background data samples could cause slower run times. Consider using shap.sample(data, K) or shap.kmeans(data, K) to summarize the background as K samples.\n"
     ]
    },
    {
     "name": "stdout",
     "output_type": "stream",
     "text": [
      "Prima: (array([0, 1]), array([132,  38]))\n",
      "Dopo: (array([0, 1]), array([132, 132]))\n",
      "264 264\n"
     ]
    },
    {
     "data": {
      "application/vnd.jupyter.widget-view+json": {
       "model_id": "88dc568a6c1846bb95beb34f070135c7",
       "version_major": 2,
       "version_minor": 0
      },
      "text/plain": [
       "  0%|          | 0/42 [00:00<?, ?it/s]"
      ]
     },
     "metadata": {},
     "output_type": "display_data"
    },
    {
     "name": "stderr",
     "output_type": "stream",
     "text": [
      "Using 264 background data samples could cause slower run times. Consider using shap.sample(data, K) or shap.kmeans(data, K) to summarize the background as K samples.\n"
     ]
    },
    {
     "name": "stdout",
     "output_type": "stream",
     "text": [
      "Prima: (array([0, 1]), array([132,  38]))\n",
      "Dopo: (array([0, 1]), array([132, 132]))\n",
      "264 264\n"
     ]
    },
    {
     "data": {
      "application/vnd.jupyter.widget-view+json": {
       "model_id": "a8ed299e1f45481395ba1eec66ce80a7",
       "version_major": 2,
       "version_minor": 0
      },
      "text/plain": [
       "  0%|          | 0/42 [00:00<?, ?it/s]"
      ]
     },
     "metadata": {},
     "output_type": "display_data"
    },
    {
     "name": "stderr",
     "output_type": "stream",
     "text": [
      "Using 264 background data samples could cause slower run times. Consider using shap.sample(data, K) or shap.kmeans(data, K) to summarize the background as K samples.\n"
     ]
    },
    {
     "name": "stdout",
     "output_type": "stream",
     "text": [
      "Dimensione degli SHAP values per seed 48: (2, 212, 30)\n",
      "Sensitivity: 0.5878787878787879\n",
      "Specificity: 0.46808510638297873\n",
      "Matrice di confusione per il seed 49 :\n",
      "[[97 68]\n",
      " [25 22]]\n",
      "Iterazione: 50\n",
      "0->Medium, 1->Poor\n",
      "\n",
      "Prima: (array([0, 1]), array([132,  37]))\n",
      "Dopo: (array([0, 1]), array([132, 132]))\n",
      "264 264\n"
     ]
    },
    {
     "data": {
      "application/vnd.jupyter.widget-view+json": {
       "model_id": "e938444717b64501bf25aa113e112724",
       "version_major": 2,
       "version_minor": 0
      },
      "text/plain": [
       "  0%|          | 0/43 [00:00<?, ?it/s]"
      ]
     },
     "metadata": {},
     "output_type": "display_data"
    },
    {
     "name": "stderr",
     "output_type": "stream",
     "text": [
      "Using 264 background data samples could cause slower run times. Consider using shap.sample(data, K) or shap.kmeans(data, K) to summarize the background as K samples.\n"
     ]
    },
    {
     "name": "stdout",
     "output_type": "stream",
     "text": [
      "Prima: (array([0, 1]), array([132,  37]))\n",
      "Dopo: (array([0, 1]), array([132, 132]))\n",
      "264 264\n"
     ]
    },
    {
     "data": {
      "application/vnd.jupyter.widget-view+json": {
       "model_id": "22a0b4493bc24132947e7eccb788a3b4",
       "version_major": 2,
       "version_minor": 0
      },
      "text/plain": [
       "  0%|          | 0/43 [00:00<?, ?it/s]"
      ]
     },
     "metadata": {},
     "output_type": "display_data"
    },
    {
     "name": "stderr",
     "output_type": "stream",
     "text": [
      "Using 264 background data samples could cause slower run times. Consider using shap.sample(data, K) or shap.kmeans(data, K) to summarize the background as K samples.\n"
     ]
    },
    {
     "name": "stdout",
     "output_type": "stream",
     "text": [
      "Prima: (array([0, 1]), array([132,  38]))\n",
      "Dopo: (array([0, 1]), array([132, 132]))\n",
      "264 264\n"
     ]
    },
    {
     "data": {
      "application/vnd.jupyter.widget-view+json": {
       "model_id": "18c67e9a717c4a6480468aaece1fe784",
       "version_major": 2,
       "version_minor": 0
      },
      "text/plain": [
       "  0%|          | 0/42 [00:00<?, ?it/s]"
      ]
     },
     "metadata": {},
     "output_type": "display_data"
    },
    {
     "name": "stderr",
     "output_type": "stream",
     "text": [
      "Using 264 background data samples could cause slower run times. Consider using shap.sample(data, K) or shap.kmeans(data, K) to summarize the background as K samples.\n"
     ]
    },
    {
     "name": "stdout",
     "output_type": "stream",
     "text": [
      "Prima: (array([0, 1]), array([132,  38]))\n",
      "Dopo: (array([0, 1]), array([132, 132]))\n",
      "264 264\n"
     ]
    },
    {
     "data": {
      "application/vnd.jupyter.widget-view+json": {
       "model_id": "03d3d9ab774344019ddcff2c0fad0383",
       "version_major": 2,
       "version_minor": 0
      },
      "text/plain": [
       "  0%|          | 0/42 [00:00<?, ?it/s]"
      ]
     },
     "metadata": {},
     "output_type": "display_data"
    },
    {
     "name": "stderr",
     "output_type": "stream",
     "text": [
      "Using 264 background data samples could cause slower run times. Consider using shap.sample(data, K) or shap.kmeans(data, K) to summarize the background as K samples.\n"
     ]
    },
    {
     "name": "stdout",
     "output_type": "stream",
     "text": [
      "Prima: (array([0, 1]), array([132,  38]))\n",
      "Dopo: (array([0, 1]), array([132, 132]))\n",
      "264 264\n"
     ]
    },
    {
     "data": {
      "application/vnd.jupyter.widget-view+json": {
       "model_id": "8fe0115f8a76467aa935fa3b54ac2d7e",
       "version_major": 2,
       "version_minor": 0
      },
      "text/plain": [
       "  0%|          | 0/42 [00:00<?, ?it/s]"
      ]
     },
     "metadata": {},
     "output_type": "display_data"
    },
    {
     "name": "stderr",
     "output_type": "stream",
     "text": [
      "Using 264 background data samples could cause slower run times. Consider using shap.sample(data, K) or shap.kmeans(data, K) to summarize the background as K samples.\n"
     ]
    },
    {
     "name": "stdout",
     "output_type": "stream",
     "text": [
      "Dimensione degli SHAP values per seed 49: (2, 212, 30)\n",
      "Sensitivity: 0.6242424242424243\n",
      "Specificity: 0.48936170212765956\n",
      "Matrice di confusione per il seed 50 :\n",
      "[[103  62]\n",
      " [ 24  23]]\n",
      "Iterazione: 51\n",
      "0->Medium, 1->Poor\n",
      "\n",
      "Prima: (array([0, 1]), array([132,  37]))\n",
      "Dopo: (array([0, 1]), array([132, 132]))\n",
      "264 264\n"
     ]
    },
    {
     "data": {
      "application/vnd.jupyter.widget-view+json": {
       "model_id": "6ff40b08afb947ddb655065d2ede4286",
       "version_major": 2,
       "version_minor": 0
      },
      "text/plain": [
       "  0%|          | 0/43 [00:00<?, ?it/s]"
      ]
     },
     "metadata": {},
     "output_type": "display_data"
    },
    {
     "name": "stderr",
     "output_type": "stream",
     "text": [
      "Using 264 background data samples could cause slower run times. Consider using shap.sample(data, K) or shap.kmeans(data, K) to summarize the background as K samples.\n"
     ]
    },
    {
     "name": "stdout",
     "output_type": "stream",
     "text": [
      "Prima: (array([0, 1]), array([132,  37]))\n",
      "Dopo: (array([0, 1]), array([132, 132]))\n",
      "264 264\n"
     ]
    },
    {
     "data": {
      "application/vnd.jupyter.widget-view+json": {
       "model_id": "0d5c29e40a324048b071a9a258a4223e",
       "version_major": 2,
       "version_minor": 0
      },
      "text/plain": [
       "  0%|          | 0/43 [00:00<?, ?it/s]"
      ]
     },
     "metadata": {},
     "output_type": "display_data"
    },
    {
     "name": "stderr",
     "output_type": "stream",
     "text": [
      "Using 264 background data samples could cause slower run times. Consider using shap.sample(data, K) or shap.kmeans(data, K) to summarize the background as K samples.\n"
     ]
    },
    {
     "name": "stdout",
     "output_type": "stream",
     "text": [
      "Prima: (array([0, 1]), array([132,  38]))\n",
      "Dopo: (array([0, 1]), array([132, 132]))\n",
      "264 264\n"
     ]
    },
    {
     "data": {
      "application/vnd.jupyter.widget-view+json": {
       "model_id": "06f1382654f346439ecc759061abe658",
       "version_major": 2,
       "version_minor": 0
      },
      "text/plain": [
       "  0%|          | 0/42 [00:00<?, ?it/s]"
      ]
     },
     "metadata": {},
     "output_type": "display_data"
    },
    {
     "name": "stderr",
     "output_type": "stream",
     "text": [
      "Using 264 background data samples could cause slower run times. Consider using shap.sample(data, K) or shap.kmeans(data, K) to summarize the background as K samples.\n"
     ]
    },
    {
     "name": "stdout",
     "output_type": "stream",
     "text": [
      "Prima: (array([0, 1]), array([132,  38]))\n",
      "Dopo: (array([0, 1]), array([132, 132]))\n",
      "264 264\n"
     ]
    },
    {
     "data": {
      "application/vnd.jupyter.widget-view+json": {
       "model_id": "28485d09bb3a4620a19ceeb9e806e51e",
       "version_major": 2,
       "version_minor": 0
      },
      "text/plain": [
       "  0%|          | 0/42 [00:00<?, ?it/s]"
      ]
     },
     "metadata": {},
     "output_type": "display_data"
    },
    {
     "name": "stderr",
     "output_type": "stream",
     "text": [
      "Using 264 background data samples could cause slower run times. Consider using shap.sample(data, K) or shap.kmeans(data, K) to summarize the background as K samples.\n"
     ]
    },
    {
     "name": "stdout",
     "output_type": "stream",
     "text": [
      "Prima: (array([0, 1]), array([132,  38]))\n",
      "Dopo: (array([0, 1]), array([132, 132]))\n",
      "264 264\n"
     ]
    },
    {
     "data": {
      "application/vnd.jupyter.widget-view+json": {
       "model_id": "db1b6f5442f94dbeacea7b68ff6aa082",
       "version_major": 2,
       "version_minor": 0
      },
      "text/plain": [
       "  0%|          | 0/42 [00:00<?, ?it/s]"
      ]
     },
     "metadata": {},
     "output_type": "display_data"
    },
    {
     "name": "stderr",
     "output_type": "stream",
     "text": [
      "Using 264 background data samples could cause slower run times. Consider using shap.sample(data, K) or shap.kmeans(data, K) to summarize the background as K samples.\n"
     ]
    },
    {
     "name": "stdout",
     "output_type": "stream",
     "text": [
      "Dimensione degli SHAP values per seed 50: (2, 212, 30)\n",
      "Sensitivity: 0.5878787878787879\n",
      "Specificity: 0.3829787234042553\n",
      "Matrice di confusione per il seed 51 :\n",
      "[[97 68]\n",
      " [29 18]]\n",
      "Iterazione: 52\n",
      "0->Medium, 1->Poor\n",
      "\n",
      "Prima: (array([0, 1]), array([132,  37]))\n",
      "Dopo: (array([0, 1]), array([132, 132]))\n",
      "264 264\n"
     ]
    },
    {
     "data": {
      "application/vnd.jupyter.widget-view+json": {
       "model_id": "1ccddefb39a6413f9813f9fa09de35be",
       "version_major": 2,
       "version_minor": 0
      },
      "text/plain": [
       "  0%|          | 0/43 [00:00<?, ?it/s]"
      ]
     },
     "metadata": {},
     "output_type": "display_data"
    },
    {
     "name": "stderr",
     "output_type": "stream",
     "text": [
      "Using 264 background data samples could cause slower run times. Consider using shap.sample(data, K) or shap.kmeans(data, K) to summarize the background as K samples.\n"
     ]
    },
    {
     "name": "stdout",
     "output_type": "stream",
     "text": [
      "Prima: (array([0, 1]), array([132,  37]))\n",
      "Dopo: (array([0, 1]), array([132, 132]))\n",
      "264 264\n"
     ]
    },
    {
     "data": {
      "application/vnd.jupyter.widget-view+json": {
       "model_id": "da22c387e4a244cf9c3488bdb41db450",
       "version_major": 2,
       "version_minor": 0
      },
      "text/plain": [
       "  0%|          | 0/43 [00:00<?, ?it/s]"
      ]
     },
     "metadata": {},
     "output_type": "display_data"
    },
    {
     "name": "stderr",
     "output_type": "stream",
     "text": [
      "Using 264 background data samples could cause slower run times. Consider using shap.sample(data, K) or shap.kmeans(data, K) to summarize the background as K samples.\n"
     ]
    },
    {
     "name": "stdout",
     "output_type": "stream",
     "text": [
      "Prima: (array([0, 1]), array([132,  38]))\n",
      "Dopo: (array([0, 1]), array([132, 132]))\n",
      "264 264\n"
     ]
    },
    {
     "data": {
      "application/vnd.jupyter.widget-view+json": {
       "model_id": "ea22bf8956b24950a9f1927cbff8e37c",
       "version_major": 2,
       "version_minor": 0
      },
      "text/plain": [
       "  0%|          | 0/42 [00:00<?, ?it/s]"
      ]
     },
     "metadata": {},
     "output_type": "display_data"
    },
    {
     "name": "stderr",
     "output_type": "stream",
     "text": [
      "Using 264 background data samples could cause slower run times. Consider using shap.sample(data, K) or shap.kmeans(data, K) to summarize the background as K samples.\n"
     ]
    },
    {
     "name": "stdout",
     "output_type": "stream",
     "text": [
      "Prima: (array([0, 1]), array([132,  38]))\n",
      "Dopo: (array([0, 1]), array([132, 132]))\n",
      "264 264\n"
     ]
    },
    {
     "data": {
      "application/vnd.jupyter.widget-view+json": {
       "model_id": "360263ecc4884083998fe5c3bad6dc59",
       "version_major": 2,
       "version_minor": 0
      },
      "text/plain": [
       "  0%|          | 0/42 [00:00<?, ?it/s]"
      ]
     },
     "metadata": {},
     "output_type": "display_data"
    },
    {
     "name": "stderr",
     "output_type": "stream",
     "text": [
      "Using 264 background data samples could cause slower run times. Consider using shap.sample(data, K) or shap.kmeans(data, K) to summarize the background as K samples.\n"
     ]
    },
    {
     "name": "stdout",
     "output_type": "stream",
     "text": [
      "Prima: (array([0, 1]), array([132,  38]))\n",
      "Dopo: (array([0, 1]), array([132, 132]))\n",
      "264 264\n"
     ]
    },
    {
     "data": {
      "application/vnd.jupyter.widget-view+json": {
       "model_id": "da337e9203d84cf38ae1710132f52c2a",
       "version_major": 2,
       "version_minor": 0
      },
      "text/plain": [
       "  0%|          | 0/42 [00:00<?, ?it/s]"
      ]
     },
     "metadata": {},
     "output_type": "display_data"
    },
    {
     "name": "stderr",
     "output_type": "stream",
     "text": [
      "Using 264 background data samples could cause slower run times. Consider using shap.sample(data, K) or shap.kmeans(data, K) to summarize the background as K samples.\n"
     ]
    },
    {
     "name": "stdout",
     "output_type": "stream",
     "text": [
      "Dimensione degli SHAP values per seed 51: (2, 212, 30)\n",
      "Sensitivity: 0.6181818181818182\n",
      "Specificity: 0.48936170212765956\n",
      "Matrice di confusione per il seed 52 :\n",
      "[[102  63]\n",
      " [ 24  23]]\n",
      "Iterazione: 53\n",
      "0->Medium, 1->Poor\n",
      "\n",
      "Prima: (array([0, 1]), array([132,  37]))\n",
      "Dopo: (array([0, 1]), array([132, 132]))\n",
      "264 264\n"
     ]
    },
    {
     "data": {
      "application/vnd.jupyter.widget-view+json": {
       "model_id": "bbf09bfd86994833b3caabbaabe23544",
       "version_major": 2,
       "version_minor": 0
      },
      "text/plain": [
       "  0%|          | 0/43 [00:00<?, ?it/s]"
      ]
     },
     "metadata": {},
     "output_type": "display_data"
    },
    {
     "name": "stderr",
     "output_type": "stream",
     "text": [
      "Using 264 background data samples could cause slower run times. Consider using shap.sample(data, K) or shap.kmeans(data, K) to summarize the background as K samples.\n"
     ]
    },
    {
     "name": "stdout",
     "output_type": "stream",
     "text": [
      "Prima: (array([0, 1]), array([132,  37]))\n",
      "Dopo: (array([0, 1]), array([132, 132]))\n",
      "264 264\n"
     ]
    },
    {
     "data": {
      "application/vnd.jupyter.widget-view+json": {
       "model_id": "ed715d9441a545f6a7cf7d1e28116be1",
       "version_major": 2,
       "version_minor": 0
      },
      "text/plain": [
       "  0%|          | 0/43 [00:00<?, ?it/s]"
      ]
     },
     "metadata": {},
     "output_type": "display_data"
    },
    {
     "name": "stderr",
     "output_type": "stream",
     "text": [
      "Using 264 background data samples could cause slower run times. Consider using shap.sample(data, K) or shap.kmeans(data, K) to summarize the background as K samples.\n"
     ]
    },
    {
     "name": "stdout",
     "output_type": "stream",
     "text": [
      "Prima: (array([0, 1]), array([132,  38]))\n",
      "Dopo: (array([0, 1]), array([132, 132]))\n",
      "264 264\n"
     ]
    },
    {
     "data": {
      "application/vnd.jupyter.widget-view+json": {
       "model_id": "96247e14d7c94832aca07220d44ba342",
       "version_major": 2,
       "version_minor": 0
      },
      "text/plain": [
       "  0%|          | 0/42 [00:00<?, ?it/s]"
      ]
     },
     "metadata": {},
     "output_type": "display_data"
    },
    {
     "name": "stderr",
     "output_type": "stream",
     "text": [
      "Using 264 background data samples could cause slower run times. Consider using shap.sample(data, K) or shap.kmeans(data, K) to summarize the background as K samples.\n"
     ]
    },
    {
     "name": "stdout",
     "output_type": "stream",
     "text": [
      "Prima: (array([0, 1]), array([132,  38]))\n",
      "Dopo: (array([0, 1]), array([132, 132]))\n",
      "264 264\n"
     ]
    },
    {
     "data": {
      "application/vnd.jupyter.widget-view+json": {
       "model_id": "8afa4f87512840adb15199a3fc5f8741",
       "version_major": 2,
       "version_minor": 0
      },
      "text/plain": [
       "  0%|          | 0/42 [00:00<?, ?it/s]"
      ]
     },
     "metadata": {},
     "output_type": "display_data"
    },
    {
     "name": "stderr",
     "output_type": "stream",
     "text": [
      "Using 264 background data samples could cause slower run times. Consider using shap.sample(data, K) or shap.kmeans(data, K) to summarize the background as K samples.\n"
     ]
    },
    {
     "name": "stdout",
     "output_type": "stream",
     "text": [
      "Prima: (array([0, 1]), array([132,  38]))\n",
      "Dopo: (array([0, 1]), array([132, 132]))\n",
      "264 264\n"
     ]
    },
    {
     "data": {
      "application/vnd.jupyter.widget-view+json": {
       "model_id": "8e685d14ec7f42eebcb4ee8a179a47f1",
       "version_major": 2,
       "version_minor": 0
      },
      "text/plain": [
       "  0%|          | 0/42 [00:00<?, ?it/s]"
      ]
     },
     "metadata": {},
     "output_type": "display_data"
    },
    {
     "name": "stderr",
     "output_type": "stream",
     "text": [
      "Using 264 background data samples could cause slower run times. Consider using shap.sample(data, K) or shap.kmeans(data, K) to summarize the background as K samples.\n"
     ]
    },
    {
     "name": "stdout",
     "output_type": "stream",
     "text": [
      "Dimensione degli SHAP values per seed 52: (2, 212, 30)\n",
      "Sensitivity: 0.5878787878787879\n",
      "Specificity: 0.425531914893617\n",
      "Matrice di confusione per il seed 53 :\n",
      "[[97 68]\n",
      " [27 20]]\n",
      "Iterazione: 54\n",
      "0->Medium, 1->Poor\n",
      "\n",
      "Prima: (array([0, 1]), array([132,  37]))\n",
      "Dopo: (array([0, 1]), array([132, 132]))\n",
      "264 264\n"
     ]
    },
    {
     "data": {
      "application/vnd.jupyter.widget-view+json": {
       "model_id": "0f9584b8eecd4e5ebf9bdde0c5d6d5c4",
       "version_major": 2,
       "version_minor": 0
      },
      "text/plain": [
       "  0%|          | 0/43 [00:00<?, ?it/s]"
      ]
     },
     "metadata": {},
     "output_type": "display_data"
    },
    {
     "name": "stderr",
     "output_type": "stream",
     "text": [
      "Using 264 background data samples could cause slower run times. Consider using shap.sample(data, K) or shap.kmeans(data, K) to summarize the background as K samples.\n"
     ]
    },
    {
     "name": "stdout",
     "output_type": "stream",
     "text": [
      "Prima: (array([0, 1]), array([132,  37]))\n",
      "Dopo: (array([0, 1]), array([132, 132]))\n",
      "264 264\n"
     ]
    },
    {
     "data": {
      "application/vnd.jupyter.widget-view+json": {
       "model_id": "20bad35823e44e23a2fc46817ac9447d",
       "version_major": 2,
       "version_minor": 0
      },
      "text/plain": [
       "  0%|          | 0/43 [00:00<?, ?it/s]"
      ]
     },
     "metadata": {},
     "output_type": "display_data"
    },
    {
     "name": "stderr",
     "output_type": "stream",
     "text": [
      "Using 264 background data samples could cause slower run times. Consider using shap.sample(data, K) or shap.kmeans(data, K) to summarize the background as K samples.\n"
     ]
    },
    {
     "name": "stdout",
     "output_type": "stream",
     "text": [
      "Prima: (array([0, 1]), array([132,  38]))\n",
      "Dopo: (array([0, 1]), array([132, 132]))\n",
      "264 264\n"
     ]
    },
    {
     "data": {
      "application/vnd.jupyter.widget-view+json": {
       "model_id": "e519480ed2b44e1b929641b50e36f11c",
       "version_major": 2,
       "version_minor": 0
      },
      "text/plain": [
       "  0%|          | 0/42 [00:00<?, ?it/s]"
      ]
     },
     "metadata": {},
     "output_type": "display_data"
    },
    {
     "name": "stderr",
     "output_type": "stream",
     "text": [
      "Using 264 background data samples could cause slower run times. Consider using shap.sample(data, K) or shap.kmeans(data, K) to summarize the background as K samples.\n"
     ]
    },
    {
     "name": "stdout",
     "output_type": "stream",
     "text": [
      "Prima: (array([0, 1]), array([132,  38]))\n",
      "Dopo: (array([0, 1]), array([132, 132]))\n",
      "264 264\n"
     ]
    },
    {
     "data": {
      "application/vnd.jupyter.widget-view+json": {
       "model_id": "5519b15a2a064e8cac4050cb1f5eecc9",
       "version_major": 2,
       "version_minor": 0
      },
      "text/plain": [
       "  0%|          | 0/42 [00:00<?, ?it/s]"
      ]
     },
     "metadata": {},
     "output_type": "display_data"
    },
    {
     "name": "stderr",
     "output_type": "stream",
     "text": [
      "Using 264 background data samples could cause slower run times. Consider using shap.sample(data, K) or shap.kmeans(data, K) to summarize the background as K samples.\n"
     ]
    },
    {
     "name": "stdout",
     "output_type": "stream",
     "text": [
      "Prima: (array([0, 1]), array([132,  38]))\n",
      "Dopo: (array([0, 1]), array([132, 132]))\n",
      "264 264\n"
     ]
    },
    {
     "data": {
      "application/vnd.jupyter.widget-view+json": {
       "model_id": "41c2ddafde1b44cf95e483628e337e5d",
       "version_major": 2,
       "version_minor": 0
      },
      "text/plain": [
       "  0%|          | 0/42 [00:00<?, ?it/s]"
      ]
     },
     "metadata": {},
     "output_type": "display_data"
    },
    {
     "name": "stderr",
     "output_type": "stream",
     "text": [
      "Using 264 background data samples could cause slower run times. Consider using shap.sample(data, K) or shap.kmeans(data, K) to summarize the background as K samples.\n"
     ]
    },
    {
     "name": "stdout",
     "output_type": "stream",
     "text": [
      "Dimensione degli SHAP values per seed 53: (2, 212, 30)\n",
      "Sensitivity: 0.5212121212121212\n",
      "Specificity: 0.5106382978723404\n",
      "Matrice di confusione per il seed 54 :\n",
      "[[86 79]\n",
      " [23 24]]\n",
      "Iterazione: 55\n",
      "0->Medium, 1->Poor\n",
      "\n",
      "Prima: (array([0, 1]), array([132,  37]))\n",
      "Dopo: (array([0, 1]), array([132, 132]))\n",
      "264 264\n"
     ]
    },
    {
     "data": {
      "application/vnd.jupyter.widget-view+json": {
       "model_id": "92e7eef33ece490faa121fba429938ab",
       "version_major": 2,
       "version_minor": 0
      },
      "text/plain": [
       "  0%|          | 0/43 [00:00<?, ?it/s]"
      ]
     },
     "metadata": {},
     "output_type": "display_data"
    },
    {
     "name": "stderr",
     "output_type": "stream",
     "text": [
      "Using 264 background data samples could cause slower run times. Consider using shap.sample(data, K) or shap.kmeans(data, K) to summarize the background as K samples.\n"
     ]
    },
    {
     "name": "stdout",
     "output_type": "stream",
     "text": [
      "Prima: (array([0, 1]), array([132,  37]))\n",
      "Dopo: (array([0, 1]), array([132, 132]))\n",
      "264 264\n"
     ]
    },
    {
     "data": {
      "application/vnd.jupyter.widget-view+json": {
       "model_id": "5a187c127ca64d269ac4bebdcf772c94",
       "version_major": 2,
       "version_minor": 0
      },
      "text/plain": [
       "  0%|          | 0/43 [00:00<?, ?it/s]"
      ]
     },
     "metadata": {},
     "output_type": "display_data"
    },
    {
     "name": "stderr",
     "output_type": "stream",
     "text": [
      "Using 264 background data samples could cause slower run times. Consider using shap.sample(data, K) or shap.kmeans(data, K) to summarize the background as K samples.\n"
     ]
    },
    {
     "name": "stdout",
     "output_type": "stream",
     "text": [
      "Prima: (array([0, 1]), array([132,  38]))\n",
      "Dopo: (array([0, 1]), array([132, 132]))\n",
      "264 264\n"
     ]
    },
    {
     "data": {
      "application/vnd.jupyter.widget-view+json": {
       "model_id": "4bb47bab535e40719a4b37a469e28eb5",
       "version_major": 2,
       "version_minor": 0
      },
      "text/plain": [
       "  0%|          | 0/42 [00:00<?, ?it/s]"
      ]
     },
     "metadata": {},
     "output_type": "display_data"
    },
    {
     "name": "stderr",
     "output_type": "stream",
     "text": [
      "Using 264 background data samples could cause slower run times. Consider using shap.sample(data, K) or shap.kmeans(data, K) to summarize the background as K samples.\n"
     ]
    },
    {
     "name": "stdout",
     "output_type": "stream",
     "text": [
      "Prima: (array([0, 1]), array([132,  38]))\n",
      "Dopo: (array([0, 1]), array([132, 132]))\n",
      "264 264\n"
     ]
    },
    {
     "data": {
      "application/vnd.jupyter.widget-view+json": {
       "model_id": "ac22dbfaeb414c47b94251e1673ca3ee",
       "version_major": 2,
       "version_minor": 0
      },
      "text/plain": [
       "  0%|          | 0/42 [00:00<?, ?it/s]"
      ]
     },
     "metadata": {},
     "output_type": "display_data"
    },
    {
     "name": "stderr",
     "output_type": "stream",
     "text": [
      "Using 264 background data samples could cause slower run times. Consider using shap.sample(data, K) or shap.kmeans(data, K) to summarize the background as K samples.\n"
     ]
    },
    {
     "name": "stdout",
     "output_type": "stream",
     "text": [
      "Prima: (array([0, 1]), array([132,  38]))\n",
      "Dopo: (array([0, 1]), array([132, 132]))\n",
      "264 264\n"
     ]
    },
    {
     "data": {
      "application/vnd.jupyter.widget-view+json": {
       "model_id": "75a0090740a548499438b696b8b69ffd",
       "version_major": 2,
       "version_minor": 0
      },
      "text/plain": [
       "  0%|          | 0/42 [00:00<?, ?it/s]"
      ]
     },
     "metadata": {},
     "output_type": "display_data"
    },
    {
     "name": "stderr",
     "output_type": "stream",
     "text": [
      "Using 264 background data samples could cause slower run times. Consider using shap.sample(data, K) or shap.kmeans(data, K) to summarize the background as K samples.\n"
     ]
    },
    {
     "name": "stdout",
     "output_type": "stream",
     "text": [
      "Dimensione degli SHAP values per seed 54: (2, 212, 30)\n",
      "Sensitivity: 0.5818181818181818\n",
      "Specificity: 0.44680851063829785\n",
      "Matrice di confusione per il seed 55 :\n",
      "[[96 69]\n",
      " [26 21]]\n",
      "Iterazione: 56\n",
      "0->Medium, 1->Poor\n",
      "\n",
      "Prima: (array([0, 1]), array([132,  37]))\n",
      "Dopo: (array([0, 1]), array([132, 132]))\n",
      "264 264\n"
     ]
    },
    {
     "data": {
      "application/vnd.jupyter.widget-view+json": {
       "model_id": "6fd98e73ff634336a4c79346ffd514b3",
       "version_major": 2,
       "version_minor": 0
      },
      "text/plain": [
       "  0%|          | 0/43 [00:00<?, ?it/s]"
      ]
     },
     "metadata": {},
     "output_type": "display_data"
    },
    {
     "name": "stderr",
     "output_type": "stream",
     "text": [
      "Using 264 background data samples could cause slower run times. Consider using shap.sample(data, K) or shap.kmeans(data, K) to summarize the background as K samples.\n"
     ]
    },
    {
     "name": "stdout",
     "output_type": "stream",
     "text": [
      "Prima: (array([0, 1]), array([132,  37]))\n",
      "Dopo: (array([0, 1]), array([132, 132]))\n",
      "264 264\n"
     ]
    },
    {
     "data": {
      "application/vnd.jupyter.widget-view+json": {
       "model_id": "8dc436b9535f4b258f8b53113cb1cf72",
       "version_major": 2,
       "version_minor": 0
      },
      "text/plain": [
       "  0%|          | 0/43 [00:00<?, ?it/s]"
      ]
     },
     "metadata": {},
     "output_type": "display_data"
    },
    {
     "name": "stderr",
     "output_type": "stream",
     "text": [
      "Using 264 background data samples could cause slower run times. Consider using shap.sample(data, K) or shap.kmeans(data, K) to summarize the background as K samples.\n"
     ]
    },
    {
     "name": "stdout",
     "output_type": "stream",
     "text": [
      "Prima: (array([0, 1]), array([132,  38]))\n",
      "Dopo: (array([0, 1]), array([132, 132]))\n",
      "264 264\n"
     ]
    },
    {
     "data": {
      "application/vnd.jupyter.widget-view+json": {
       "model_id": "f6a0dd28ca5b4b44b4b329fa8f3f08ad",
       "version_major": 2,
       "version_minor": 0
      },
      "text/plain": [
       "  0%|          | 0/42 [00:00<?, ?it/s]"
      ]
     },
     "metadata": {},
     "output_type": "display_data"
    },
    {
     "name": "stderr",
     "output_type": "stream",
     "text": [
      "Using 264 background data samples could cause slower run times. Consider using shap.sample(data, K) or shap.kmeans(data, K) to summarize the background as K samples.\n"
     ]
    },
    {
     "name": "stdout",
     "output_type": "stream",
     "text": [
      "Prima: (array([0, 1]), array([132,  38]))\n",
      "Dopo: (array([0, 1]), array([132, 132]))\n",
      "264 264\n"
     ]
    },
    {
     "data": {
      "application/vnd.jupyter.widget-view+json": {
       "model_id": "daabf703be754cf9bf4b6412080ccebc",
       "version_major": 2,
       "version_minor": 0
      },
      "text/plain": [
       "  0%|          | 0/42 [00:00<?, ?it/s]"
      ]
     },
     "metadata": {},
     "output_type": "display_data"
    },
    {
     "name": "stderr",
     "output_type": "stream",
     "text": [
      "Using 264 background data samples could cause slower run times. Consider using shap.sample(data, K) or shap.kmeans(data, K) to summarize the background as K samples.\n"
     ]
    },
    {
     "name": "stdout",
     "output_type": "stream",
     "text": [
      "Prima: (array([0, 1]), array([132,  38]))\n",
      "Dopo: (array([0, 1]), array([132, 132]))\n",
      "264 264\n"
     ]
    },
    {
     "data": {
      "application/vnd.jupyter.widget-view+json": {
       "model_id": "f1b14262ae5a44838a509bf06903a7e6",
       "version_major": 2,
       "version_minor": 0
      },
      "text/plain": [
       "  0%|          | 0/42 [00:00<?, ?it/s]"
      ]
     },
     "metadata": {},
     "output_type": "display_data"
    },
    {
     "name": "stderr",
     "output_type": "stream",
     "text": [
      "Using 264 background data samples could cause slower run times. Consider using shap.sample(data, K) or shap.kmeans(data, K) to summarize the background as K samples.\n"
     ]
    },
    {
     "name": "stdout",
     "output_type": "stream",
     "text": [
      "Dimensione degli SHAP values per seed 55: (2, 212, 30)\n",
      "Sensitivity: 0.5878787878787879\n",
      "Specificity: 0.46808510638297873\n",
      "Matrice di confusione per il seed 56 :\n",
      "[[97 68]\n",
      " [25 22]]\n",
      "Iterazione: 57\n",
      "0->Medium, 1->Poor\n",
      "\n",
      "Prima: (array([0, 1]), array([132,  37]))\n",
      "Dopo: (array([0, 1]), array([132, 132]))\n",
      "264 264\n"
     ]
    },
    {
     "data": {
      "application/vnd.jupyter.widget-view+json": {
       "model_id": "8758dd7353f2427db963b1156f627924",
       "version_major": 2,
       "version_minor": 0
      },
      "text/plain": [
       "  0%|          | 0/43 [00:00<?, ?it/s]"
      ]
     },
     "metadata": {},
     "output_type": "display_data"
    },
    {
     "name": "stderr",
     "output_type": "stream",
     "text": [
      "Using 264 background data samples could cause slower run times. Consider using shap.sample(data, K) or shap.kmeans(data, K) to summarize the background as K samples.\n"
     ]
    },
    {
     "name": "stdout",
     "output_type": "stream",
     "text": [
      "Prima: (array([0, 1]), array([132,  37]))\n",
      "Dopo: (array([0, 1]), array([132, 132]))\n",
      "264 264\n"
     ]
    },
    {
     "data": {
      "application/vnd.jupyter.widget-view+json": {
       "model_id": "bfff762ac19143eea100164e413d319a",
       "version_major": 2,
       "version_minor": 0
      },
      "text/plain": [
       "  0%|          | 0/43 [00:00<?, ?it/s]"
      ]
     },
     "metadata": {},
     "output_type": "display_data"
    },
    {
     "name": "stderr",
     "output_type": "stream",
     "text": [
      "Using 264 background data samples could cause slower run times. Consider using shap.sample(data, K) or shap.kmeans(data, K) to summarize the background as K samples.\n"
     ]
    },
    {
     "name": "stdout",
     "output_type": "stream",
     "text": [
      "Prima: (array([0, 1]), array([132,  38]))\n",
      "Dopo: (array([0, 1]), array([132, 132]))\n",
      "264 264\n"
     ]
    },
    {
     "data": {
      "application/vnd.jupyter.widget-view+json": {
       "model_id": "a60ecab92f94414ba375db72b4ae9205",
       "version_major": 2,
       "version_minor": 0
      },
      "text/plain": [
       "  0%|          | 0/42 [00:00<?, ?it/s]"
      ]
     },
     "metadata": {},
     "output_type": "display_data"
    },
    {
     "name": "stderr",
     "output_type": "stream",
     "text": [
      "Using 264 background data samples could cause slower run times. Consider using shap.sample(data, K) or shap.kmeans(data, K) to summarize the background as K samples.\n"
     ]
    },
    {
     "name": "stdout",
     "output_type": "stream",
     "text": [
      "Prima: (array([0, 1]), array([132,  38]))\n",
      "Dopo: (array([0, 1]), array([132, 132]))\n",
      "264 264\n"
     ]
    },
    {
     "data": {
      "application/vnd.jupyter.widget-view+json": {
       "model_id": "ccbd6abec598465f8298c8fcf996a460",
       "version_major": 2,
       "version_minor": 0
      },
      "text/plain": [
       "  0%|          | 0/42 [00:00<?, ?it/s]"
      ]
     },
     "metadata": {},
     "output_type": "display_data"
    },
    {
     "name": "stderr",
     "output_type": "stream",
     "text": [
      "Using 264 background data samples could cause slower run times. Consider using shap.sample(data, K) or shap.kmeans(data, K) to summarize the background as K samples.\n"
     ]
    },
    {
     "name": "stdout",
     "output_type": "stream",
     "text": [
      "Prima: (array([0, 1]), array([132,  38]))\n",
      "Dopo: (array([0, 1]), array([132, 132]))\n",
      "264 264\n"
     ]
    },
    {
     "data": {
      "application/vnd.jupyter.widget-view+json": {
       "model_id": "739b38d095fd42cf9950b332d205d53d",
       "version_major": 2,
       "version_minor": 0
      },
      "text/plain": [
       "  0%|          | 0/42 [00:00<?, ?it/s]"
      ]
     },
     "metadata": {},
     "output_type": "display_data"
    },
    {
     "name": "stderr",
     "output_type": "stream",
     "text": [
      "Using 264 background data samples could cause slower run times. Consider using shap.sample(data, K) or shap.kmeans(data, K) to summarize the background as K samples.\n"
     ]
    },
    {
     "name": "stdout",
     "output_type": "stream",
     "text": [
      "Dimensione degli SHAP values per seed 56: (2, 212, 30)\n",
      "Sensitivity: 0.6242424242424243\n",
      "Specificity: 0.5319148936170213\n",
      "Matrice di confusione per il seed 57 :\n",
      "[[103  62]\n",
      " [ 22  25]]\n",
      "Iterazione: 58\n",
      "0->Medium, 1->Poor\n",
      "\n",
      "Prima: (array([0, 1]), array([132,  37]))\n",
      "Dopo: (array([0, 1]), array([132, 132]))\n",
      "264 264\n"
     ]
    },
    {
     "data": {
      "application/vnd.jupyter.widget-view+json": {
       "model_id": "e651fcc2f99945ef93c2d99a718f3ceb",
       "version_major": 2,
       "version_minor": 0
      },
      "text/plain": [
       "  0%|          | 0/43 [00:00<?, ?it/s]"
      ]
     },
     "metadata": {},
     "output_type": "display_data"
    },
    {
     "name": "stderr",
     "output_type": "stream",
     "text": [
      "Using 264 background data samples could cause slower run times. Consider using shap.sample(data, K) or shap.kmeans(data, K) to summarize the background as K samples.\n"
     ]
    },
    {
     "name": "stdout",
     "output_type": "stream",
     "text": [
      "Prima: (array([0, 1]), array([132,  37]))\n",
      "Dopo: (array([0, 1]), array([132, 132]))\n",
      "264 264\n"
     ]
    },
    {
     "data": {
      "application/vnd.jupyter.widget-view+json": {
       "model_id": "21d5bb593f034cb59cdfe5e5b245a620",
       "version_major": 2,
       "version_minor": 0
      },
      "text/plain": [
       "  0%|          | 0/43 [00:00<?, ?it/s]"
      ]
     },
     "metadata": {},
     "output_type": "display_data"
    },
    {
     "name": "stderr",
     "output_type": "stream",
     "text": [
      "Using 264 background data samples could cause slower run times. Consider using shap.sample(data, K) or shap.kmeans(data, K) to summarize the background as K samples.\n"
     ]
    },
    {
     "name": "stdout",
     "output_type": "stream",
     "text": [
      "Prima: (array([0, 1]), array([132,  38]))\n",
      "Dopo: (array([0, 1]), array([132, 132]))\n",
      "264 264\n"
     ]
    },
    {
     "data": {
      "application/vnd.jupyter.widget-view+json": {
       "model_id": "0916e25879f44243b3dae8e75456ee59",
       "version_major": 2,
       "version_minor": 0
      },
      "text/plain": [
       "  0%|          | 0/42 [00:00<?, ?it/s]"
      ]
     },
     "metadata": {},
     "output_type": "display_data"
    },
    {
     "name": "stderr",
     "output_type": "stream",
     "text": [
      "Using 264 background data samples could cause slower run times. Consider using shap.sample(data, K) or shap.kmeans(data, K) to summarize the background as K samples.\n"
     ]
    },
    {
     "name": "stdout",
     "output_type": "stream",
     "text": [
      "Prima: (array([0, 1]), array([132,  38]))\n",
      "Dopo: (array([0, 1]), array([132, 132]))\n",
      "264 264\n"
     ]
    },
    {
     "data": {
      "application/vnd.jupyter.widget-view+json": {
       "model_id": "00155dbbae0c4caeb48156f2f8dc1d9b",
       "version_major": 2,
       "version_minor": 0
      },
      "text/plain": [
       "  0%|          | 0/42 [00:00<?, ?it/s]"
      ]
     },
     "metadata": {},
     "output_type": "display_data"
    },
    {
     "name": "stderr",
     "output_type": "stream",
     "text": [
      "Using 264 background data samples could cause slower run times. Consider using shap.sample(data, K) or shap.kmeans(data, K) to summarize the background as K samples.\n"
     ]
    },
    {
     "name": "stdout",
     "output_type": "stream",
     "text": [
      "Prima: (array([0, 1]), array([132,  38]))\n",
      "Dopo: (array([0, 1]), array([132, 132]))\n",
      "264 264\n"
     ]
    },
    {
     "data": {
      "application/vnd.jupyter.widget-view+json": {
       "model_id": "34bc584c191d42908def53175e47e868",
       "version_major": 2,
       "version_minor": 0
      },
      "text/plain": [
       "  0%|          | 0/42 [00:00<?, ?it/s]"
      ]
     },
     "metadata": {},
     "output_type": "display_data"
    },
    {
     "name": "stderr",
     "output_type": "stream",
     "text": [
      "Using 264 background data samples could cause slower run times. Consider using shap.sample(data, K) or shap.kmeans(data, K) to summarize the background as K samples.\n"
     ]
    },
    {
     "name": "stdout",
     "output_type": "stream",
     "text": [
      "Dimensione degli SHAP values per seed 57: (2, 212, 30)\n",
      "Sensitivity: 0.5818181818181818\n",
      "Specificity: 0.44680851063829785\n",
      "Matrice di confusione per il seed 58 :\n",
      "[[96 69]\n",
      " [26 21]]\n",
      "Iterazione: 59\n",
      "0->Medium, 1->Poor\n",
      "\n",
      "Prima: (array([0, 1]), array([132,  37]))\n",
      "Dopo: (array([0, 1]), array([132, 132]))\n",
      "264 264\n"
     ]
    },
    {
     "data": {
      "application/vnd.jupyter.widget-view+json": {
       "model_id": "8b89edc1632340f2b7b81e1dc74d7a73",
       "version_major": 2,
       "version_minor": 0
      },
      "text/plain": [
       "  0%|          | 0/43 [00:00<?, ?it/s]"
      ]
     },
     "metadata": {},
     "output_type": "display_data"
    },
    {
     "name": "stderr",
     "output_type": "stream",
     "text": [
      "Using 264 background data samples could cause slower run times. Consider using shap.sample(data, K) or shap.kmeans(data, K) to summarize the background as K samples.\n"
     ]
    },
    {
     "name": "stdout",
     "output_type": "stream",
     "text": [
      "Prima: (array([0, 1]), array([132,  37]))\n",
      "Dopo: (array([0, 1]), array([132, 132]))\n",
      "264 264\n"
     ]
    },
    {
     "data": {
      "application/vnd.jupyter.widget-view+json": {
       "model_id": "7d20533c77a5406cb5a18c2cf2656e5e",
       "version_major": 2,
       "version_minor": 0
      },
      "text/plain": [
       "  0%|          | 0/43 [00:00<?, ?it/s]"
      ]
     },
     "metadata": {},
     "output_type": "display_data"
    },
    {
     "name": "stderr",
     "output_type": "stream",
     "text": [
      "Using 264 background data samples could cause slower run times. Consider using shap.sample(data, K) or shap.kmeans(data, K) to summarize the background as K samples.\n"
     ]
    },
    {
     "name": "stdout",
     "output_type": "stream",
     "text": [
      "Prima: (array([0, 1]), array([132,  38]))\n",
      "Dopo: (array([0, 1]), array([132, 132]))\n",
      "264 264\n"
     ]
    },
    {
     "data": {
      "application/vnd.jupyter.widget-view+json": {
       "model_id": "613ca7b8af6f426cabe1014322b6f131",
       "version_major": 2,
       "version_minor": 0
      },
      "text/plain": [
       "  0%|          | 0/42 [00:00<?, ?it/s]"
      ]
     },
     "metadata": {},
     "output_type": "display_data"
    },
    {
     "name": "stderr",
     "output_type": "stream",
     "text": [
      "Using 264 background data samples could cause slower run times. Consider using shap.sample(data, K) or shap.kmeans(data, K) to summarize the background as K samples.\n"
     ]
    },
    {
     "name": "stdout",
     "output_type": "stream",
     "text": [
      "Prima: (array([0, 1]), array([132,  38]))\n",
      "Dopo: (array([0, 1]), array([132, 132]))\n",
      "264 264\n"
     ]
    },
    {
     "data": {
      "application/vnd.jupyter.widget-view+json": {
       "model_id": "b8acfcb2dd18417883a7d3985af904c5",
       "version_major": 2,
       "version_minor": 0
      },
      "text/plain": [
       "  0%|          | 0/42 [00:00<?, ?it/s]"
      ]
     },
     "metadata": {},
     "output_type": "display_data"
    },
    {
     "name": "stderr",
     "output_type": "stream",
     "text": [
      "Using 264 background data samples could cause slower run times. Consider using shap.sample(data, K) or shap.kmeans(data, K) to summarize the background as K samples.\n"
     ]
    },
    {
     "name": "stdout",
     "output_type": "stream",
     "text": [
      "Prima: (array([0, 1]), array([132,  38]))\n",
      "Dopo: (array([0, 1]), array([132, 132]))\n",
      "264 264\n"
     ]
    },
    {
     "data": {
      "application/vnd.jupyter.widget-view+json": {
       "model_id": "c73ed6731ef84dec802fa82c3af2ed2b",
       "version_major": 2,
       "version_minor": 0
      },
      "text/plain": [
       "  0%|          | 0/42 [00:00<?, ?it/s]"
      ]
     },
     "metadata": {},
     "output_type": "display_data"
    },
    {
     "name": "stderr",
     "output_type": "stream",
     "text": [
      "Using 264 background data samples could cause slower run times. Consider using shap.sample(data, K) or shap.kmeans(data, K) to summarize the background as K samples.\n"
     ]
    },
    {
     "name": "stdout",
     "output_type": "stream",
     "text": [
      "Dimensione degli SHAP values per seed 58: (2, 212, 30)\n",
      "Sensitivity: 0.5878787878787879\n",
      "Specificity: 0.48936170212765956\n",
      "Matrice di confusione per il seed 59 :\n",
      "[[97 68]\n",
      " [24 23]]\n",
      "Iterazione: 60\n",
      "0->Medium, 1->Poor\n",
      "\n",
      "Prima: (array([0, 1]), array([132,  37]))\n",
      "Dopo: (array([0, 1]), array([132, 132]))\n",
      "264 264\n"
     ]
    },
    {
     "data": {
      "application/vnd.jupyter.widget-view+json": {
       "model_id": "8aeb4881b25248a88f06b2b82f2225ee",
       "version_major": 2,
       "version_minor": 0
      },
      "text/plain": [
       "  0%|          | 0/43 [00:00<?, ?it/s]"
      ]
     },
     "metadata": {},
     "output_type": "display_data"
    },
    {
     "name": "stderr",
     "output_type": "stream",
     "text": [
      "Using 264 background data samples could cause slower run times. Consider using shap.sample(data, K) or shap.kmeans(data, K) to summarize the background as K samples.\n"
     ]
    },
    {
     "name": "stdout",
     "output_type": "stream",
     "text": [
      "Prima: (array([0, 1]), array([132,  37]))\n",
      "Dopo: (array([0, 1]), array([132, 132]))\n",
      "264 264\n"
     ]
    },
    {
     "data": {
      "application/vnd.jupyter.widget-view+json": {
       "model_id": "1cffaeb2093c4b3e8c21a9bb0ea6cba2",
       "version_major": 2,
       "version_minor": 0
      },
      "text/plain": [
       "  0%|          | 0/43 [00:00<?, ?it/s]"
      ]
     },
     "metadata": {},
     "output_type": "display_data"
    },
    {
     "name": "stderr",
     "output_type": "stream",
     "text": [
      "Using 264 background data samples could cause slower run times. Consider using shap.sample(data, K) or shap.kmeans(data, K) to summarize the background as K samples.\n"
     ]
    },
    {
     "name": "stdout",
     "output_type": "stream",
     "text": [
      "Prima: (array([0, 1]), array([132,  38]))\n",
      "Dopo: (array([0, 1]), array([132, 132]))\n",
      "264 264\n"
     ]
    },
    {
     "data": {
      "application/vnd.jupyter.widget-view+json": {
       "model_id": "d3d1c668fef744a99694f496208e0161",
       "version_major": 2,
       "version_minor": 0
      },
      "text/plain": [
       "  0%|          | 0/42 [00:00<?, ?it/s]"
      ]
     },
     "metadata": {},
     "output_type": "display_data"
    },
    {
     "name": "stderr",
     "output_type": "stream",
     "text": [
      "Using 264 background data samples could cause slower run times. Consider using shap.sample(data, K) or shap.kmeans(data, K) to summarize the background as K samples.\n"
     ]
    },
    {
     "name": "stdout",
     "output_type": "stream",
     "text": [
      "Prima: (array([0, 1]), array([132,  38]))\n",
      "Dopo: (array([0, 1]), array([132, 132]))\n",
      "264 264\n"
     ]
    },
    {
     "data": {
      "application/vnd.jupyter.widget-view+json": {
       "model_id": "7e5b17093c9c46f09a34d4214250bffc",
       "version_major": 2,
       "version_minor": 0
      },
      "text/plain": [
       "  0%|          | 0/42 [00:00<?, ?it/s]"
      ]
     },
     "metadata": {},
     "output_type": "display_data"
    },
    {
     "name": "stderr",
     "output_type": "stream",
     "text": [
      "Using 264 background data samples could cause slower run times. Consider using shap.sample(data, K) or shap.kmeans(data, K) to summarize the background as K samples.\n"
     ]
    },
    {
     "name": "stdout",
     "output_type": "stream",
     "text": [
      "Prima: (array([0, 1]), array([132,  38]))\n",
      "Dopo: (array([0, 1]), array([132, 132]))\n",
      "264 264\n"
     ]
    },
    {
     "data": {
      "application/vnd.jupyter.widget-view+json": {
       "model_id": "c0d400a87d3e467f99e421b259bf18cc",
       "version_major": 2,
       "version_minor": 0
      },
      "text/plain": [
       "  0%|          | 0/42 [00:00<?, ?it/s]"
      ]
     },
     "metadata": {},
     "output_type": "display_data"
    },
    {
     "name": "stderr",
     "output_type": "stream",
     "text": [
      "Using 264 background data samples could cause slower run times. Consider using shap.sample(data, K) or shap.kmeans(data, K) to summarize the background as K samples.\n"
     ]
    },
    {
     "name": "stdout",
     "output_type": "stream",
     "text": [
      "Dimensione degli SHAP values per seed 59: (2, 212, 30)\n",
      "Sensitivity: 0.6424242424242425\n",
      "Specificity: 0.46808510638297873\n",
      "Matrice di confusione per il seed 60 :\n",
      "[[106  59]\n",
      " [ 25  22]]\n",
      "Iterazione: 61\n",
      "0->Medium, 1->Poor\n",
      "\n",
      "Prima: (array([0, 1]), array([132,  37]))\n",
      "Dopo: (array([0, 1]), array([132, 132]))\n",
      "264 264\n"
     ]
    },
    {
     "data": {
      "application/vnd.jupyter.widget-view+json": {
       "model_id": "483ca5e442da4dd2bf272304660dd57a",
       "version_major": 2,
       "version_minor": 0
      },
      "text/plain": [
       "  0%|          | 0/43 [00:00<?, ?it/s]"
      ]
     },
     "metadata": {},
     "output_type": "display_data"
    },
    {
     "name": "stderr",
     "output_type": "stream",
     "text": [
      "Using 264 background data samples could cause slower run times. Consider using shap.sample(data, K) or shap.kmeans(data, K) to summarize the background as K samples.\n"
     ]
    },
    {
     "name": "stdout",
     "output_type": "stream",
     "text": [
      "Prima: (array([0, 1]), array([132,  37]))\n",
      "Dopo: (array([0, 1]), array([132, 132]))\n",
      "264 264\n"
     ]
    },
    {
     "data": {
      "application/vnd.jupyter.widget-view+json": {
       "model_id": "e9a6ed21199940eb9b4f62c405577f7f",
       "version_major": 2,
       "version_minor": 0
      },
      "text/plain": [
       "  0%|          | 0/43 [00:00<?, ?it/s]"
      ]
     },
     "metadata": {},
     "output_type": "display_data"
    },
    {
     "name": "stderr",
     "output_type": "stream",
     "text": [
      "Using 264 background data samples could cause slower run times. Consider using shap.sample(data, K) or shap.kmeans(data, K) to summarize the background as K samples.\n"
     ]
    },
    {
     "name": "stdout",
     "output_type": "stream",
     "text": [
      "Prima: (array([0, 1]), array([132,  38]))\n",
      "Dopo: (array([0, 1]), array([132, 132]))\n",
      "264 264\n"
     ]
    },
    {
     "data": {
      "application/vnd.jupyter.widget-view+json": {
       "model_id": "46d50e3a8df04a83bc91b1e2a9c8082f",
       "version_major": 2,
       "version_minor": 0
      },
      "text/plain": [
       "  0%|          | 0/42 [00:00<?, ?it/s]"
      ]
     },
     "metadata": {},
     "output_type": "display_data"
    },
    {
     "name": "stderr",
     "output_type": "stream",
     "text": [
      "Using 264 background data samples could cause slower run times. Consider using shap.sample(data, K) or shap.kmeans(data, K) to summarize the background as K samples.\n"
     ]
    },
    {
     "name": "stdout",
     "output_type": "stream",
     "text": [
      "Prima: (array([0, 1]), array([132,  38]))\n",
      "Dopo: (array([0, 1]), array([132, 132]))\n",
      "264 264\n"
     ]
    },
    {
     "data": {
      "application/vnd.jupyter.widget-view+json": {
       "model_id": "262efa6adf0646b398fe24beefd6036c",
       "version_major": 2,
       "version_minor": 0
      },
      "text/plain": [
       "  0%|          | 0/42 [00:00<?, ?it/s]"
      ]
     },
     "metadata": {},
     "output_type": "display_data"
    },
    {
     "name": "stderr",
     "output_type": "stream",
     "text": [
      "Using 264 background data samples could cause slower run times. Consider using shap.sample(data, K) or shap.kmeans(data, K) to summarize the background as K samples.\n"
     ]
    },
    {
     "name": "stdout",
     "output_type": "stream",
     "text": [
      "Prima: (array([0, 1]), array([132,  38]))\n",
      "Dopo: (array([0, 1]), array([132, 132]))\n",
      "264 264\n"
     ]
    },
    {
     "data": {
      "application/vnd.jupyter.widget-view+json": {
       "model_id": "63be176f98e4489b94c5e19d66540ad4",
       "version_major": 2,
       "version_minor": 0
      },
      "text/plain": [
       "  0%|          | 0/42 [00:00<?, ?it/s]"
      ]
     },
     "metadata": {},
     "output_type": "display_data"
    },
    {
     "name": "stderr",
     "output_type": "stream",
     "text": [
      "Using 264 background data samples could cause slower run times. Consider using shap.sample(data, K) or shap.kmeans(data, K) to summarize the background as K samples.\n"
     ]
    },
    {
     "name": "stdout",
     "output_type": "stream",
     "text": [
      "Dimensione degli SHAP values per seed 60: (2, 212, 30)\n",
      "Sensitivity: 0.5878787878787879\n",
      "Specificity: 0.48936170212765956\n",
      "Matrice di confusione per il seed 61 :\n",
      "[[97 68]\n",
      " [24 23]]\n",
      "Iterazione: 62\n",
      "0->Medium, 1->Poor\n",
      "\n",
      "Prima: (array([0, 1]), array([132,  37]))\n",
      "Dopo: (array([0, 1]), array([132, 132]))\n",
      "264 264\n"
     ]
    },
    {
     "data": {
      "application/vnd.jupyter.widget-view+json": {
       "model_id": "905a69d77d13411b849236b3463ff844",
       "version_major": 2,
       "version_minor": 0
      },
      "text/plain": [
       "  0%|          | 0/43 [00:00<?, ?it/s]"
      ]
     },
     "metadata": {},
     "output_type": "display_data"
    },
    {
     "name": "stderr",
     "output_type": "stream",
     "text": [
      "Using 264 background data samples could cause slower run times. Consider using shap.sample(data, K) or shap.kmeans(data, K) to summarize the background as K samples.\n"
     ]
    },
    {
     "name": "stdout",
     "output_type": "stream",
     "text": [
      "Prima: (array([0, 1]), array([132,  37]))\n",
      "Dopo: (array([0, 1]), array([132, 132]))\n",
      "264 264\n"
     ]
    },
    {
     "data": {
      "application/vnd.jupyter.widget-view+json": {
       "model_id": "1f324431e9544dc4a56e35e9288fe3d1",
       "version_major": 2,
       "version_minor": 0
      },
      "text/plain": [
       "  0%|          | 0/43 [00:00<?, ?it/s]"
      ]
     },
     "metadata": {},
     "output_type": "display_data"
    },
    {
     "name": "stderr",
     "output_type": "stream",
     "text": [
      "Using 264 background data samples could cause slower run times. Consider using shap.sample(data, K) or shap.kmeans(data, K) to summarize the background as K samples.\n"
     ]
    },
    {
     "name": "stdout",
     "output_type": "stream",
     "text": [
      "Prima: (array([0, 1]), array([132,  38]))\n",
      "Dopo: (array([0, 1]), array([132, 132]))\n",
      "264 264\n"
     ]
    },
    {
     "data": {
      "application/vnd.jupyter.widget-view+json": {
       "model_id": "bd05881c388a4aee8125b2e3afb7297b",
       "version_major": 2,
       "version_minor": 0
      },
      "text/plain": [
       "  0%|          | 0/42 [00:00<?, ?it/s]"
      ]
     },
     "metadata": {},
     "output_type": "display_data"
    },
    {
     "name": "stderr",
     "output_type": "stream",
     "text": [
      "Using 264 background data samples could cause slower run times. Consider using shap.sample(data, K) or shap.kmeans(data, K) to summarize the background as K samples.\n"
     ]
    },
    {
     "name": "stdout",
     "output_type": "stream",
     "text": [
      "Prima: (array([0, 1]), array([132,  38]))\n",
      "Dopo: (array([0, 1]), array([132, 132]))\n",
      "264 264\n"
     ]
    },
    {
     "data": {
      "application/vnd.jupyter.widget-view+json": {
       "model_id": "e2bb650a13a746c487fa0e396183d368",
       "version_major": 2,
       "version_minor": 0
      },
      "text/plain": [
       "  0%|          | 0/42 [00:00<?, ?it/s]"
      ]
     },
     "metadata": {},
     "output_type": "display_data"
    },
    {
     "name": "stderr",
     "output_type": "stream",
     "text": [
      "Using 264 background data samples could cause slower run times. Consider using shap.sample(data, K) or shap.kmeans(data, K) to summarize the background as K samples.\n"
     ]
    },
    {
     "name": "stdout",
     "output_type": "stream",
     "text": [
      "Prima: (array([0, 1]), array([132,  38]))\n",
      "Dopo: (array([0, 1]), array([132, 132]))\n",
      "264 264\n"
     ]
    },
    {
     "data": {
      "application/vnd.jupyter.widget-view+json": {
       "model_id": "cd1e78c7eb8845a192bae0e5cc0cdabe",
       "version_major": 2,
       "version_minor": 0
      },
      "text/plain": [
       "  0%|          | 0/42 [00:00<?, ?it/s]"
      ]
     },
     "metadata": {},
     "output_type": "display_data"
    },
    {
     "name": "stderr",
     "output_type": "stream",
     "text": [
      "Using 264 background data samples could cause slower run times. Consider using shap.sample(data, K) or shap.kmeans(data, K) to summarize the background as K samples.\n"
     ]
    },
    {
     "name": "stdout",
     "output_type": "stream",
     "text": [
      "Dimensione degli SHAP values per seed 61: (2, 212, 30)\n",
      "Sensitivity: 0.5515151515151515\n",
      "Specificity: 0.44680851063829785\n",
      "Matrice di confusione per il seed 62 :\n",
      "[[91 74]\n",
      " [26 21]]\n",
      "Iterazione: 63\n",
      "0->Medium, 1->Poor\n",
      "\n",
      "Prima: (array([0, 1]), array([132,  37]))\n",
      "Dopo: (array([0, 1]), array([132, 132]))\n",
      "264 264\n"
     ]
    },
    {
     "data": {
      "application/vnd.jupyter.widget-view+json": {
       "model_id": "069a86c8e4f24d938a9637a6df0353f7",
       "version_major": 2,
       "version_minor": 0
      },
      "text/plain": [
       "  0%|          | 0/43 [00:00<?, ?it/s]"
      ]
     },
     "metadata": {},
     "output_type": "display_data"
    },
    {
     "name": "stderr",
     "output_type": "stream",
     "text": [
      "Using 264 background data samples could cause slower run times. Consider using shap.sample(data, K) or shap.kmeans(data, K) to summarize the background as K samples.\n"
     ]
    },
    {
     "name": "stdout",
     "output_type": "stream",
     "text": [
      "Prima: (array([0, 1]), array([132,  37]))\n",
      "Dopo: (array([0, 1]), array([132, 132]))\n",
      "264 264\n"
     ]
    },
    {
     "data": {
      "application/vnd.jupyter.widget-view+json": {
       "model_id": "c9d258b6ee5a4a2aa60f0548a4d02331",
       "version_major": 2,
       "version_minor": 0
      },
      "text/plain": [
       "  0%|          | 0/43 [00:00<?, ?it/s]"
      ]
     },
     "metadata": {},
     "output_type": "display_data"
    },
    {
     "name": "stderr",
     "output_type": "stream",
     "text": [
      "Using 264 background data samples could cause slower run times. Consider using shap.sample(data, K) or shap.kmeans(data, K) to summarize the background as K samples.\n"
     ]
    },
    {
     "name": "stdout",
     "output_type": "stream",
     "text": [
      "Prima: (array([0, 1]), array([132,  38]))\n",
      "Dopo: (array([0, 1]), array([132, 132]))\n",
      "264 264\n"
     ]
    },
    {
     "data": {
      "application/vnd.jupyter.widget-view+json": {
       "model_id": "db2c4fc20fa648bc9134d01f32c6593c",
       "version_major": 2,
       "version_minor": 0
      },
      "text/plain": [
       "  0%|          | 0/42 [00:00<?, ?it/s]"
      ]
     },
     "metadata": {},
     "output_type": "display_data"
    },
    {
     "name": "stderr",
     "output_type": "stream",
     "text": [
      "Using 264 background data samples could cause slower run times. Consider using shap.sample(data, K) or shap.kmeans(data, K) to summarize the background as K samples.\n"
     ]
    },
    {
     "name": "stdout",
     "output_type": "stream",
     "text": [
      "Prima: (array([0, 1]), array([132,  38]))\n",
      "Dopo: (array([0, 1]), array([132, 132]))\n",
      "264 264\n"
     ]
    },
    {
     "data": {
      "application/vnd.jupyter.widget-view+json": {
       "model_id": "9683f272e4ed418889a95b460b9c121c",
       "version_major": 2,
       "version_minor": 0
      },
      "text/plain": [
       "  0%|          | 0/42 [00:00<?, ?it/s]"
      ]
     },
     "metadata": {},
     "output_type": "display_data"
    },
    {
     "name": "stderr",
     "output_type": "stream",
     "text": [
      "Using 264 background data samples could cause slower run times. Consider using shap.sample(data, K) or shap.kmeans(data, K) to summarize the background as K samples.\n"
     ]
    },
    {
     "name": "stdout",
     "output_type": "stream",
     "text": [
      "Prima: (array([0, 1]), array([132,  38]))\n",
      "Dopo: (array([0, 1]), array([132, 132]))\n",
      "264 264\n"
     ]
    },
    {
     "data": {
      "application/vnd.jupyter.widget-view+json": {
       "model_id": "96625ce0c6414d8ba0b53be1c1f14b7a",
       "version_major": 2,
       "version_minor": 0
      },
      "text/plain": [
       "  0%|          | 0/42 [00:00<?, ?it/s]"
      ]
     },
     "metadata": {},
     "output_type": "display_data"
    },
    {
     "name": "stderr",
     "output_type": "stream",
     "text": [
      "Using 264 background data samples could cause slower run times. Consider using shap.sample(data, K) or shap.kmeans(data, K) to summarize the background as K samples.\n"
     ]
    },
    {
     "name": "stdout",
     "output_type": "stream",
     "text": [
      "Dimensione degli SHAP values per seed 62: (2, 212, 30)\n",
      "Sensitivity: 0.5818181818181818\n",
      "Specificity: 0.425531914893617\n",
      "Matrice di confusione per il seed 63 :\n",
      "[[96 69]\n",
      " [27 20]]\n",
      "Iterazione: 64\n",
      "0->Medium, 1->Poor\n",
      "\n",
      "Prima: (array([0, 1]), array([132,  37]))\n",
      "Dopo: (array([0, 1]), array([132, 132]))\n",
      "264 264\n"
     ]
    },
    {
     "data": {
      "application/vnd.jupyter.widget-view+json": {
       "model_id": "30af67ca44a641598868f79bcb13903e",
       "version_major": 2,
       "version_minor": 0
      },
      "text/plain": [
       "  0%|          | 0/43 [00:00<?, ?it/s]"
      ]
     },
     "metadata": {},
     "output_type": "display_data"
    },
    {
     "name": "stderr",
     "output_type": "stream",
     "text": [
      "Using 264 background data samples could cause slower run times. Consider using shap.sample(data, K) or shap.kmeans(data, K) to summarize the background as K samples.\n"
     ]
    },
    {
     "name": "stdout",
     "output_type": "stream",
     "text": [
      "Prima: (array([0, 1]), array([132,  37]))\n",
      "Dopo: (array([0, 1]), array([132, 132]))\n",
      "264 264\n"
     ]
    },
    {
     "data": {
      "application/vnd.jupyter.widget-view+json": {
       "model_id": "11d065f2a6a6434493da365c812f3a14",
       "version_major": 2,
       "version_minor": 0
      },
      "text/plain": [
       "  0%|          | 0/43 [00:00<?, ?it/s]"
      ]
     },
     "metadata": {},
     "output_type": "display_data"
    },
    {
     "name": "stderr",
     "output_type": "stream",
     "text": [
      "Using 264 background data samples could cause slower run times. Consider using shap.sample(data, K) or shap.kmeans(data, K) to summarize the background as K samples.\n"
     ]
    },
    {
     "name": "stdout",
     "output_type": "stream",
     "text": [
      "Prima: (array([0, 1]), array([132,  38]))\n",
      "Dopo: (array([0, 1]), array([132, 132]))\n",
      "264 264\n"
     ]
    },
    {
     "data": {
      "application/vnd.jupyter.widget-view+json": {
       "model_id": "ed552c22aed043df9219c2b63b08cf37",
       "version_major": 2,
       "version_minor": 0
      },
      "text/plain": [
       "  0%|          | 0/42 [00:00<?, ?it/s]"
      ]
     },
     "metadata": {},
     "output_type": "display_data"
    },
    {
     "name": "stderr",
     "output_type": "stream",
     "text": [
      "Using 264 background data samples could cause slower run times. Consider using shap.sample(data, K) or shap.kmeans(data, K) to summarize the background as K samples.\n"
     ]
    },
    {
     "name": "stdout",
     "output_type": "stream",
     "text": [
      "Prima: (array([0, 1]), array([132,  38]))\n",
      "Dopo: (array([0, 1]), array([132, 132]))\n",
      "264 264\n"
     ]
    },
    {
     "data": {
      "application/vnd.jupyter.widget-view+json": {
       "model_id": "2289bffde1854946bbcb01cf2a92642d",
       "version_major": 2,
       "version_minor": 0
      },
      "text/plain": [
       "  0%|          | 0/42 [00:00<?, ?it/s]"
      ]
     },
     "metadata": {},
     "output_type": "display_data"
    },
    {
     "name": "stderr",
     "output_type": "stream",
     "text": [
      "Using 264 background data samples could cause slower run times. Consider using shap.sample(data, K) or shap.kmeans(data, K) to summarize the background as K samples.\n"
     ]
    },
    {
     "name": "stdout",
     "output_type": "stream",
     "text": [
      "Prima: (array([0, 1]), array([132,  38]))\n",
      "Dopo: (array([0, 1]), array([132, 132]))\n",
      "264 264\n"
     ]
    },
    {
     "data": {
      "application/vnd.jupyter.widget-view+json": {
       "model_id": "404e6885ac2f458681f8b1db8c0b8589",
       "version_major": 2,
       "version_minor": 0
      },
      "text/plain": [
       "  0%|          | 0/42 [00:00<?, ?it/s]"
      ]
     },
     "metadata": {},
     "output_type": "display_data"
    },
    {
     "name": "stderr",
     "output_type": "stream",
     "text": [
      "Using 264 background data samples could cause slower run times. Consider using shap.sample(data, K) or shap.kmeans(data, K) to summarize the background as K samples.\n"
     ]
    },
    {
     "name": "stdout",
     "output_type": "stream",
     "text": [
      "Dimensione degli SHAP values per seed 63: (2, 212, 30)\n",
      "Sensitivity: 0.5575757575757576\n",
      "Specificity: 0.3829787234042553\n",
      "Matrice di confusione per il seed 64 :\n",
      "[[92 73]\n",
      " [29 18]]\n",
      "Iterazione: 65\n",
      "0->Medium, 1->Poor\n",
      "\n",
      "Prima: (array([0, 1]), array([132,  37]))\n",
      "Dopo: (array([0, 1]), array([132, 132]))\n",
      "264 264\n"
     ]
    },
    {
     "data": {
      "application/vnd.jupyter.widget-view+json": {
       "model_id": "6fb8ece712534ee4b3568f5277930048",
       "version_major": 2,
       "version_minor": 0
      },
      "text/plain": [
       "  0%|          | 0/43 [00:00<?, ?it/s]"
      ]
     },
     "metadata": {},
     "output_type": "display_data"
    },
    {
     "name": "stderr",
     "output_type": "stream",
     "text": [
      "Using 264 background data samples could cause slower run times. Consider using shap.sample(data, K) or shap.kmeans(data, K) to summarize the background as K samples.\n"
     ]
    },
    {
     "name": "stdout",
     "output_type": "stream",
     "text": [
      "Prima: (array([0, 1]), array([132,  37]))\n",
      "Dopo: (array([0, 1]), array([132, 132]))\n",
      "264 264\n"
     ]
    },
    {
     "data": {
      "application/vnd.jupyter.widget-view+json": {
       "model_id": "11f1ecf0147d4132ade4197a2686b0b2",
       "version_major": 2,
       "version_minor": 0
      },
      "text/plain": [
       "  0%|          | 0/43 [00:00<?, ?it/s]"
      ]
     },
     "metadata": {},
     "output_type": "display_data"
    },
    {
     "name": "stderr",
     "output_type": "stream",
     "text": [
      "Using 264 background data samples could cause slower run times. Consider using shap.sample(data, K) or shap.kmeans(data, K) to summarize the background as K samples.\n"
     ]
    },
    {
     "name": "stdout",
     "output_type": "stream",
     "text": [
      "Prima: (array([0, 1]), array([132,  38]))\n",
      "Dopo: (array([0, 1]), array([132, 132]))\n",
      "264 264\n"
     ]
    },
    {
     "data": {
      "application/vnd.jupyter.widget-view+json": {
       "model_id": "11e02fce921f4f60b83cf7dbe0a6edc1",
       "version_major": 2,
       "version_minor": 0
      },
      "text/plain": [
       "  0%|          | 0/42 [00:00<?, ?it/s]"
      ]
     },
     "metadata": {},
     "output_type": "display_data"
    },
    {
     "name": "stderr",
     "output_type": "stream",
     "text": [
      "Using 264 background data samples could cause slower run times. Consider using shap.sample(data, K) or shap.kmeans(data, K) to summarize the background as K samples.\n"
     ]
    },
    {
     "name": "stdout",
     "output_type": "stream",
     "text": [
      "Prima: (array([0, 1]), array([132,  38]))\n",
      "Dopo: (array([0, 1]), array([132, 132]))\n",
      "264 264\n"
     ]
    },
    {
     "data": {
      "application/vnd.jupyter.widget-view+json": {
       "model_id": "225e0ece84b641c4a3f82bafbdb915b6",
       "version_major": 2,
       "version_minor": 0
      },
      "text/plain": [
       "  0%|          | 0/42 [00:00<?, ?it/s]"
      ]
     },
     "metadata": {},
     "output_type": "display_data"
    },
    {
     "name": "stderr",
     "output_type": "stream",
     "text": [
      "Using 264 background data samples could cause slower run times. Consider using shap.sample(data, K) or shap.kmeans(data, K) to summarize the background as K samples.\n"
     ]
    },
    {
     "name": "stdout",
     "output_type": "stream",
     "text": [
      "Prima: (array([0, 1]), array([132,  38]))\n",
      "Dopo: (array([0, 1]), array([132, 132]))\n",
      "264 264\n"
     ]
    },
    {
     "data": {
      "application/vnd.jupyter.widget-view+json": {
       "model_id": "070063c39fd841e9b168f45b7d55e923",
       "version_major": 2,
       "version_minor": 0
      },
      "text/plain": [
       "  0%|          | 0/42 [00:00<?, ?it/s]"
      ]
     },
     "metadata": {},
     "output_type": "display_data"
    },
    {
     "name": "stderr",
     "output_type": "stream",
     "text": [
      "Using 264 background data samples could cause slower run times. Consider using shap.sample(data, K) or shap.kmeans(data, K) to summarize the background as K samples.\n"
     ]
    },
    {
     "name": "stdout",
     "output_type": "stream",
     "text": [
      "Dimensione degli SHAP values per seed 64: (2, 212, 30)\n",
      "Sensitivity: 0.6121212121212121\n",
      "Specificity: 0.3617021276595745\n",
      "Matrice di confusione per il seed 65 :\n",
      "[[101  64]\n",
      " [ 30  17]]\n",
      "Iterazione: 66\n",
      "0->Medium, 1->Poor\n",
      "\n",
      "Prima: (array([0, 1]), array([132,  37]))\n",
      "Dopo: (array([0, 1]), array([132, 132]))\n",
      "264 264\n"
     ]
    },
    {
     "data": {
      "application/vnd.jupyter.widget-view+json": {
       "model_id": "44f34dea766640d994a6839c7c548a5d",
       "version_major": 2,
       "version_minor": 0
      },
      "text/plain": [
       "  0%|          | 0/43 [00:00<?, ?it/s]"
      ]
     },
     "metadata": {},
     "output_type": "display_data"
    },
    {
     "name": "stderr",
     "output_type": "stream",
     "text": [
      "Using 264 background data samples could cause slower run times. Consider using shap.sample(data, K) or shap.kmeans(data, K) to summarize the background as K samples.\n"
     ]
    },
    {
     "name": "stdout",
     "output_type": "stream",
     "text": [
      "Prima: (array([0, 1]), array([132,  37]))\n",
      "Dopo: (array([0, 1]), array([132, 132]))\n",
      "264 264\n"
     ]
    },
    {
     "data": {
      "application/vnd.jupyter.widget-view+json": {
       "model_id": "5437393cf8a148f5b4ac395f8086668b",
       "version_major": 2,
       "version_minor": 0
      },
      "text/plain": [
       "  0%|          | 0/43 [00:00<?, ?it/s]"
      ]
     },
     "metadata": {},
     "output_type": "display_data"
    },
    {
     "name": "stderr",
     "output_type": "stream",
     "text": [
      "Using 264 background data samples could cause slower run times. Consider using shap.sample(data, K) or shap.kmeans(data, K) to summarize the background as K samples.\n"
     ]
    },
    {
     "name": "stdout",
     "output_type": "stream",
     "text": [
      "Prima: (array([0, 1]), array([132,  38]))\n",
      "Dopo: (array([0, 1]), array([132, 132]))\n",
      "264 264\n"
     ]
    },
    {
     "data": {
      "application/vnd.jupyter.widget-view+json": {
       "model_id": "65ba72b9544344cf84817080c6a52104",
       "version_major": 2,
       "version_minor": 0
      },
      "text/plain": [
       "  0%|          | 0/42 [00:00<?, ?it/s]"
      ]
     },
     "metadata": {},
     "output_type": "display_data"
    },
    {
     "name": "stderr",
     "output_type": "stream",
     "text": [
      "Using 264 background data samples could cause slower run times. Consider using shap.sample(data, K) or shap.kmeans(data, K) to summarize the background as K samples.\n"
     ]
    },
    {
     "name": "stdout",
     "output_type": "stream",
     "text": [
      "Prima: (array([0, 1]), array([132,  38]))\n",
      "Dopo: (array([0, 1]), array([132, 132]))\n",
      "264 264\n"
     ]
    },
    {
     "data": {
      "application/vnd.jupyter.widget-view+json": {
       "model_id": "06aa0c0af60b4ed887cb40d821538dca",
       "version_major": 2,
       "version_minor": 0
      },
      "text/plain": [
       "  0%|          | 0/42 [00:00<?, ?it/s]"
      ]
     },
     "metadata": {},
     "output_type": "display_data"
    },
    {
     "name": "stderr",
     "output_type": "stream",
     "text": [
      "Using 264 background data samples could cause slower run times. Consider using shap.sample(data, K) or shap.kmeans(data, K) to summarize the background as K samples.\n"
     ]
    },
    {
     "name": "stdout",
     "output_type": "stream",
     "text": [
      "Prima: (array([0, 1]), array([132,  38]))\n",
      "Dopo: (array([0, 1]), array([132, 132]))\n",
      "264 264\n"
     ]
    },
    {
     "data": {
      "application/vnd.jupyter.widget-view+json": {
       "model_id": "a78c17a71449407b82970b7b0d0a6c2c",
       "version_major": 2,
       "version_minor": 0
      },
      "text/plain": [
       "  0%|          | 0/42 [00:00<?, ?it/s]"
      ]
     },
     "metadata": {},
     "output_type": "display_data"
    },
    {
     "name": "stderr",
     "output_type": "stream",
     "text": [
      "Using 264 background data samples could cause slower run times. Consider using shap.sample(data, K) or shap.kmeans(data, K) to summarize the background as K samples.\n"
     ]
    },
    {
     "name": "stdout",
     "output_type": "stream",
     "text": [
      "Dimensione degli SHAP values per seed 65: (2, 212, 30)\n",
      "Sensitivity: 0.6060606060606061\n",
      "Specificity: 0.44680851063829785\n",
      "Matrice di confusione per il seed 66 :\n",
      "[[100  65]\n",
      " [ 26  21]]\n",
      "Iterazione: 67\n",
      "0->Medium, 1->Poor\n",
      "\n",
      "Prima: (array([0, 1]), array([132,  37]))\n",
      "Dopo: (array([0, 1]), array([132, 132]))\n",
      "264 264\n"
     ]
    },
    {
     "data": {
      "application/vnd.jupyter.widget-view+json": {
       "model_id": "4f4a4cbe15cf4ff7bf02cea28f674c03",
       "version_major": 2,
       "version_minor": 0
      },
      "text/plain": [
       "  0%|          | 0/43 [00:00<?, ?it/s]"
      ]
     },
     "metadata": {},
     "output_type": "display_data"
    },
    {
     "name": "stderr",
     "output_type": "stream",
     "text": [
      "Using 264 background data samples could cause slower run times. Consider using shap.sample(data, K) or shap.kmeans(data, K) to summarize the background as K samples.\n"
     ]
    },
    {
     "name": "stdout",
     "output_type": "stream",
     "text": [
      "Prima: (array([0, 1]), array([132,  37]))\n",
      "Dopo: (array([0, 1]), array([132, 132]))\n",
      "264 264\n"
     ]
    },
    {
     "data": {
      "application/vnd.jupyter.widget-view+json": {
       "model_id": "f3dfa00ae1ba4cd286fb60f239d8a0d9",
       "version_major": 2,
       "version_minor": 0
      },
      "text/plain": [
       "  0%|          | 0/43 [00:00<?, ?it/s]"
      ]
     },
     "metadata": {},
     "output_type": "display_data"
    },
    {
     "name": "stderr",
     "output_type": "stream",
     "text": [
      "Using 264 background data samples could cause slower run times. Consider using shap.sample(data, K) or shap.kmeans(data, K) to summarize the background as K samples.\n"
     ]
    },
    {
     "name": "stdout",
     "output_type": "stream",
     "text": [
      "Prima: (array([0, 1]), array([132,  38]))\n",
      "Dopo: (array([0, 1]), array([132, 132]))\n",
      "264 264\n"
     ]
    },
    {
     "data": {
      "application/vnd.jupyter.widget-view+json": {
       "model_id": "6cc92f27da404b58b16cdd4b7bfcb5cd",
       "version_major": 2,
       "version_minor": 0
      },
      "text/plain": [
       "  0%|          | 0/42 [00:00<?, ?it/s]"
      ]
     },
     "metadata": {},
     "output_type": "display_data"
    },
    {
     "name": "stderr",
     "output_type": "stream",
     "text": [
      "Using 264 background data samples could cause slower run times. Consider using shap.sample(data, K) or shap.kmeans(data, K) to summarize the background as K samples.\n"
     ]
    },
    {
     "name": "stdout",
     "output_type": "stream",
     "text": [
      "Prima: (array([0, 1]), array([132,  38]))\n",
      "Dopo: (array([0, 1]), array([132, 132]))\n",
      "264 264\n"
     ]
    },
    {
     "data": {
      "application/vnd.jupyter.widget-view+json": {
       "model_id": "fbcebf9773dc4ad4b21509b1a5252b59",
       "version_major": 2,
       "version_minor": 0
      },
      "text/plain": [
       "  0%|          | 0/42 [00:00<?, ?it/s]"
      ]
     },
     "metadata": {},
     "output_type": "display_data"
    },
    {
     "name": "stderr",
     "output_type": "stream",
     "text": [
      "Using 264 background data samples could cause slower run times. Consider using shap.sample(data, K) or shap.kmeans(data, K) to summarize the background as K samples.\n"
     ]
    },
    {
     "name": "stdout",
     "output_type": "stream",
     "text": [
      "Prima: (array([0, 1]), array([132,  38]))\n",
      "Dopo: (array([0, 1]), array([132, 132]))\n",
      "264 264\n"
     ]
    },
    {
     "data": {
      "application/vnd.jupyter.widget-view+json": {
       "model_id": "945d93937f194f1a9ac8ae03600e1898",
       "version_major": 2,
       "version_minor": 0
      },
      "text/plain": [
       "  0%|          | 0/42 [00:00<?, ?it/s]"
      ]
     },
     "metadata": {},
     "output_type": "display_data"
    },
    {
     "name": "stderr",
     "output_type": "stream",
     "text": [
      "Using 264 background data samples could cause slower run times. Consider using shap.sample(data, K) or shap.kmeans(data, K) to summarize the background as K samples.\n"
     ]
    },
    {
     "name": "stdout",
     "output_type": "stream",
     "text": [
      "Dimensione degli SHAP values per seed 66: (2, 212, 30)\n",
      "Sensitivity: 0.5454545454545454\n",
      "Specificity: 0.5106382978723404\n",
      "Matrice di confusione per il seed 67 :\n",
      "[[90 75]\n",
      " [23 24]]\n",
      "Iterazione: 68\n",
      "0->Medium, 1->Poor\n",
      "\n",
      "Prima: (array([0, 1]), array([132,  37]))\n",
      "Dopo: (array([0, 1]), array([132, 132]))\n",
      "264 264\n"
     ]
    },
    {
     "data": {
      "application/vnd.jupyter.widget-view+json": {
       "model_id": "1fc4aa0a95d3478d8672987fb057c036",
       "version_major": 2,
       "version_minor": 0
      },
      "text/plain": [
       "  0%|          | 0/43 [00:00<?, ?it/s]"
      ]
     },
     "metadata": {},
     "output_type": "display_data"
    },
    {
     "name": "stderr",
     "output_type": "stream",
     "text": [
      "Using 264 background data samples could cause slower run times. Consider using shap.sample(data, K) or shap.kmeans(data, K) to summarize the background as K samples.\n"
     ]
    },
    {
     "name": "stdout",
     "output_type": "stream",
     "text": [
      "Prima: (array([0, 1]), array([132,  37]))\n",
      "Dopo: (array([0, 1]), array([132, 132]))\n",
      "264 264\n"
     ]
    },
    {
     "data": {
      "application/vnd.jupyter.widget-view+json": {
       "model_id": "dadcf2cb896d427a999bffc4c16264b2",
       "version_major": 2,
       "version_minor": 0
      },
      "text/plain": [
       "  0%|          | 0/43 [00:00<?, ?it/s]"
      ]
     },
     "metadata": {},
     "output_type": "display_data"
    },
    {
     "name": "stderr",
     "output_type": "stream",
     "text": [
      "Using 264 background data samples could cause slower run times. Consider using shap.sample(data, K) or shap.kmeans(data, K) to summarize the background as K samples.\n"
     ]
    },
    {
     "name": "stdout",
     "output_type": "stream",
     "text": [
      "Prima: (array([0, 1]), array([132,  38]))\n",
      "Dopo: (array([0, 1]), array([132, 132]))\n",
      "264 264\n"
     ]
    },
    {
     "data": {
      "application/vnd.jupyter.widget-view+json": {
       "model_id": "92a2e5dbdd0249738eac1aef47dce560",
       "version_major": 2,
       "version_minor": 0
      },
      "text/plain": [
       "  0%|          | 0/42 [00:00<?, ?it/s]"
      ]
     },
     "metadata": {},
     "output_type": "display_data"
    },
    {
     "name": "stderr",
     "output_type": "stream",
     "text": [
      "Using 264 background data samples could cause slower run times. Consider using shap.sample(data, K) or shap.kmeans(data, K) to summarize the background as K samples.\n"
     ]
    },
    {
     "name": "stdout",
     "output_type": "stream",
     "text": [
      "Prima: (array([0, 1]), array([132,  38]))\n",
      "Dopo: (array([0, 1]), array([132, 132]))\n",
      "264 264\n"
     ]
    },
    {
     "data": {
      "application/vnd.jupyter.widget-view+json": {
       "model_id": "8588273eef6f400d81283619750be70a",
       "version_major": 2,
       "version_minor": 0
      },
      "text/plain": [
       "  0%|          | 0/42 [00:00<?, ?it/s]"
      ]
     },
     "metadata": {},
     "output_type": "display_data"
    },
    {
     "name": "stderr",
     "output_type": "stream",
     "text": [
      "Using 264 background data samples could cause slower run times. Consider using shap.sample(data, K) or shap.kmeans(data, K) to summarize the background as K samples.\n"
     ]
    },
    {
     "name": "stdout",
     "output_type": "stream",
     "text": [
      "Prima: (array([0, 1]), array([132,  38]))\n",
      "Dopo: (array([0, 1]), array([132, 132]))\n",
      "264 264\n"
     ]
    },
    {
     "data": {
      "application/vnd.jupyter.widget-view+json": {
       "model_id": "2299aaa14e2348c4ad366a8b7490184f",
       "version_major": 2,
       "version_minor": 0
      },
      "text/plain": [
       "  0%|          | 0/42 [00:00<?, ?it/s]"
      ]
     },
     "metadata": {},
     "output_type": "display_data"
    },
    {
     "name": "stderr",
     "output_type": "stream",
     "text": [
      "Using 264 background data samples could cause slower run times. Consider using shap.sample(data, K) or shap.kmeans(data, K) to summarize the background as K samples.\n"
     ]
    },
    {
     "name": "stdout",
     "output_type": "stream",
     "text": [
      "Dimensione degli SHAP values per seed 67: (2, 212, 30)\n",
      "Sensitivity: 0.593939393939394\n",
      "Specificity: 0.40425531914893614\n",
      "Matrice di confusione per il seed 68 :\n",
      "[[98 67]\n",
      " [28 19]]\n",
      "Iterazione: 69\n",
      "0->Medium, 1->Poor\n",
      "\n",
      "Prima: (array([0, 1]), array([132,  37]))\n",
      "Dopo: (array([0, 1]), array([132, 132]))\n",
      "264 264\n"
     ]
    },
    {
     "data": {
      "application/vnd.jupyter.widget-view+json": {
       "model_id": "446031e258d14126bc593274460206f4",
       "version_major": 2,
       "version_minor": 0
      },
      "text/plain": [
       "  0%|          | 0/43 [00:00<?, ?it/s]"
      ]
     },
     "metadata": {},
     "output_type": "display_data"
    },
    {
     "name": "stderr",
     "output_type": "stream",
     "text": [
      "Using 264 background data samples could cause slower run times. Consider using shap.sample(data, K) or shap.kmeans(data, K) to summarize the background as K samples.\n"
     ]
    },
    {
     "name": "stdout",
     "output_type": "stream",
     "text": [
      "Prima: (array([0, 1]), array([132,  37]))\n",
      "Dopo: (array([0, 1]), array([132, 132]))\n",
      "264 264\n"
     ]
    },
    {
     "data": {
      "application/vnd.jupyter.widget-view+json": {
       "model_id": "1a758d5e3fa34533b983c2a40088e734",
       "version_major": 2,
       "version_minor": 0
      },
      "text/plain": [
       "  0%|          | 0/43 [00:00<?, ?it/s]"
      ]
     },
     "metadata": {},
     "output_type": "display_data"
    },
    {
     "name": "stderr",
     "output_type": "stream",
     "text": [
      "Using 264 background data samples could cause slower run times. Consider using shap.sample(data, K) or shap.kmeans(data, K) to summarize the background as K samples.\n"
     ]
    },
    {
     "name": "stdout",
     "output_type": "stream",
     "text": [
      "Prima: (array([0, 1]), array([132,  38]))\n",
      "Dopo: (array([0, 1]), array([132, 132]))\n",
      "264 264\n"
     ]
    },
    {
     "data": {
      "application/vnd.jupyter.widget-view+json": {
       "model_id": "53b7bc348c1341aaa1505ff9225fda60",
       "version_major": 2,
       "version_minor": 0
      },
      "text/plain": [
       "  0%|          | 0/42 [00:00<?, ?it/s]"
      ]
     },
     "metadata": {},
     "output_type": "display_data"
    },
    {
     "name": "stderr",
     "output_type": "stream",
     "text": [
      "Using 264 background data samples could cause slower run times. Consider using shap.sample(data, K) or shap.kmeans(data, K) to summarize the background as K samples.\n"
     ]
    },
    {
     "name": "stdout",
     "output_type": "stream",
     "text": [
      "Prima: (array([0, 1]), array([132,  38]))\n",
      "Dopo: (array([0, 1]), array([132, 132]))\n",
      "264 264\n"
     ]
    },
    {
     "data": {
      "application/vnd.jupyter.widget-view+json": {
       "model_id": "43fd019935264dc39a7ba8a36e9e779e",
       "version_major": 2,
       "version_minor": 0
      },
      "text/plain": [
       "  0%|          | 0/42 [00:00<?, ?it/s]"
      ]
     },
     "metadata": {},
     "output_type": "display_data"
    },
    {
     "name": "stderr",
     "output_type": "stream",
     "text": [
      "Using 264 background data samples could cause slower run times. Consider using shap.sample(data, K) or shap.kmeans(data, K) to summarize the background as K samples.\n"
     ]
    },
    {
     "name": "stdout",
     "output_type": "stream",
     "text": [
      "Prima: (array([0, 1]), array([132,  38]))\n",
      "Dopo: (array([0, 1]), array([132, 132]))\n",
      "264 264\n"
     ]
    },
    {
     "data": {
      "application/vnd.jupyter.widget-view+json": {
       "model_id": "8911db0a0dc4473d95092e3855bc0534",
       "version_major": 2,
       "version_minor": 0
      },
      "text/plain": [
       "  0%|          | 0/42 [00:00<?, ?it/s]"
      ]
     },
     "metadata": {},
     "output_type": "display_data"
    },
    {
     "name": "stderr",
     "output_type": "stream",
     "text": [
      "Using 264 background data samples could cause slower run times. Consider using shap.sample(data, K) or shap.kmeans(data, K) to summarize the background as K samples.\n"
     ]
    },
    {
     "name": "stdout",
     "output_type": "stream",
     "text": [
      "Dimensione degli SHAP values per seed 68: (2, 212, 30)\n",
      "Sensitivity: 0.593939393939394\n",
      "Specificity: 0.44680851063829785\n",
      "Matrice di confusione per il seed 69 :\n",
      "[[98 67]\n",
      " [26 21]]\n",
      "Iterazione: 70\n",
      "0->Medium, 1->Poor\n",
      "\n",
      "Prima: (array([0, 1]), array([132,  37]))\n",
      "Dopo: (array([0, 1]), array([132, 132]))\n",
      "264 264\n"
     ]
    },
    {
     "data": {
      "application/vnd.jupyter.widget-view+json": {
       "model_id": "d0ddc9d4cf754d3aa58c036d2a0a5e59",
       "version_major": 2,
       "version_minor": 0
      },
      "text/plain": [
       "  0%|          | 0/43 [00:00<?, ?it/s]"
      ]
     },
     "metadata": {},
     "output_type": "display_data"
    },
    {
     "name": "stderr",
     "output_type": "stream",
     "text": [
      "Using 264 background data samples could cause slower run times. Consider using shap.sample(data, K) or shap.kmeans(data, K) to summarize the background as K samples.\n"
     ]
    },
    {
     "name": "stdout",
     "output_type": "stream",
     "text": [
      "Prima: (array([0, 1]), array([132,  37]))\n",
      "Dopo: (array([0, 1]), array([132, 132]))\n",
      "264 264\n"
     ]
    },
    {
     "data": {
      "application/vnd.jupyter.widget-view+json": {
       "model_id": "b810d5d312074b50bb35ffdac5f7bc39",
       "version_major": 2,
       "version_minor": 0
      },
      "text/plain": [
       "  0%|          | 0/43 [00:00<?, ?it/s]"
      ]
     },
     "metadata": {},
     "output_type": "display_data"
    },
    {
     "name": "stderr",
     "output_type": "stream",
     "text": [
      "Using 264 background data samples could cause slower run times. Consider using shap.sample(data, K) or shap.kmeans(data, K) to summarize the background as K samples.\n"
     ]
    },
    {
     "name": "stdout",
     "output_type": "stream",
     "text": [
      "Prima: (array([0, 1]), array([132,  38]))\n",
      "Dopo: (array([0, 1]), array([132, 132]))\n",
      "264 264\n"
     ]
    },
    {
     "data": {
      "application/vnd.jupyter.widget-view+json": {
       "model_id": "2806171fc3f544b0b1b0cbd341ae7879",
       "version_major": 2,
       "version_minor": 0
      },
      "text/plain": [
       "  0%|          | 0/42 [00:00<?, ?it/s]"
      ]
     },
     "metadata": {},
     "output_type": "display_data"
    },
    {
     "name": "stderr",
     "output_type": "stream",
     "text": [
      "Using 264 background data samples could cause slower run times. Consider using shap.sample(data, K) or shap.kmeans(data, K) to summarize the background as K samples.\n"
     ]
    },
    {
     "name": "stdout",
     "output_type": "stream",
     "text": [
      "Prima: (array([0, 1]), array([132,  38]))\n",
      "Dopo: (array([0, 1]), array([132, 132]))\n",
      "264 264\n"
     ]
    },
    {
     "data": {
      "application/vnd.jupyter.widget-view+json": {
       "model_id": "92ec1b2c84784aeb9ae3683949642674",
       "version_major": 2,
       "version_minor": 0
      },
      "text/plain": [
       "  0%|          | 0/42 [00:00<?, ?it/s]"
      ]
     },
     "metadata": {},
     "output_type": "display_data"
    },
    {
     "name": "stderr",
     "output_type": "stream",
     "text": [
      "Using 264 background data samples could cause slower run times. Consider using shap.sample(data, K) or shap.kmeans(data, K) to summarize the background as K samples.\n"
     ]
    },
    {
     "name": "stdout",
     "output_type": "stream",
     "text": [
      "Prima: (array([0, 1]), array([132,  38]))\n",
      "Dopo: (array([0, 1]), array([132, 132]))\n",
      "264 264\n"
     ]
    },
    {
     "data": {
      "application/vnd.jupyter.widget-view+json": {
       "model_id": "32f5dcc59c4c4526be7e7a6e3dce3bd6",
       "version_major": 2,
       "version_minor": 0
      },
      "text/plain": [
       "  0%|          | 0/42 [00:00<?, ?it/s]"
      ]
     },
     "metadata": {},
     "output_type": "display_data"
    },
    {
     "name": "stderr",
     "output_type": "stream",
     "text": [
      "Using 264 background data samples could cause slower run times. Consider using shap.sample(data, K) or shap.kmeans(data, K) to summarize the background as K samples.\n"
     ]
    },
    {
     "name": "stdout",
     "output_type": "stream",
     "text": [
      "Dimensione degli SHAP values per seed 69: (2, 212, 30)\n",
      "Sensitivity: 0.5636363636363636\n",
      "Specificity: 0.3829787234042553\n",
      "Matrice di confusione per il seed 70 :\n",
      "[[93 72]\n",
      " [29 18]]\n",
      "Iterazione: 71\n",
      "0->Medium, 1->Poor\n",
      "\n",
      "Prima: (array([0, 1]), array([132,  37]))\n",
      "Dopo: (array([0, 1]), array([132, 132]))\n",
      "264 264\n"
     ]
    },
    {
     "data": {
      "application/vnd.jupyter.widget-view+json": {
       "model_id": "bc4a8d3aa2a0462b8fd87006573a81ed",
       "version_major": 2,
       "version_minor": 0
      },
      "text/plain": [
       "  0%|          | 0/43 [00:00<?, ?it/s]"
      ]
     },
     "metadata": {},
     "output_type": "display_data"
    },
    {
     "name": "stderr",
     "output_type": "stream",
     "text": [
      "Using 264 background data samples could cause slower run times. Consider using shap.sample(data, K) or shap.kmeans(data, K) to summarize the background as K samples.\n"
     ]
    },
    {
     "name": "stdout",
     "output_type": "stream",
     "text": [
      "Prima: (array([0, 1]), array([132,  37]))\n",
      "Dopo: (array([0, 1]), array([132, 132]))\n",
      "264 264\n"
     ]
    },
    {
     "data": {
      "application/vnd.jupyter.widget-view+json": {
       "model_id": "e7d1d19198c146a3a2bc0f53870eba19",
       "version_major": 2,
       "version_minor": 0
      },
      "text/plain": [
       "  0%|          | 0/43 [00:00<?, ?it/s]"
      ]
     },
     "metadata": {},
     "output_type": "display_data"
    },
    {
     "name": "stderr",
     "output_type": "stream",
     "text": [
      "Using 264 background data samples could cause slower run times. Consider using shap.sample(data, K) or shap.kmeans(data, K) to summarize the background as K samples.\n"
     ]
    },
    {
     "name": "stdout",
     "output_type": "stream",
     "text": [
      "Prima: (array([0, 1]), array([132,  38]))\n",
      "Dopo: (array([0, 1]), array([132, 132]))\n",
      "264 264\n"
     ]
    },
    {
     "data": {
      "application/vnd.jupyter.widget-view+json": {
       "model_id": "9dbdb00052ba4e838812d2dd86b9ebcb",
       "version_major": 2,
       "version_minor": 0
      },
      "text/plain": [
       "  0%|          | 0/42 [00:00<?, ?it/s]"
      ]
     },
     "metadata": {},
     "output_type": "display_data"
    },
    {
     "name": "stderr",
     "output_type": "stream",
     "text": [
      "Using 264 background data samples could cause slower run times. Consider using shap.sample(data, K) or shap.kmeans(data, K) to summarize the background as K samples.\n"
     ]
    },
    {
     "name": "stdout",
     "output_type": "stream",
     "text": [
      "Prima: (array([0, 1]), array([132,  38]))\n",
      "Dopo: (array([0, 1]), array([132, 132]))\n",
      "264 264\n"
     ]
    },
    {
     "data": {
      "application/vnd.jupyter.widget-view+json": {
       "model_id": "3ccb3e76a75e42a1aecdcddbdae17f49",
       "version_major": 2,
       "version_minor": 0
      },
      "text/plain": [
       "  0%|          | 0/42 [00:00<?, ?it/s]"
      ]
     },
     "metadata": {},
     "output_type": "display_data"
    },
    {
     "name": "stderr",
     "output_type": "stream",
     "text": [
      "Using 264 background data samples could cause slower run times. Consider using shap.sample(data, K) or shap.kmeans(data, K) to summarize the background as K samples.\n"
     ]
    },
    {
     "name": "stdout",
     "output_type": "stream",
     "text": [
      "Prima: (array([0, 1]), array([132,  38]))\n",
      "Dopo: (array([0, 1]), array([132, 132]))\n",
      "264 264\n"
     ]
    },
    {
     "data": {
      "application/vnd.jupyter.widget-view+json": {
       "model_id": "0931e19d49724fa88c92089a7e3ace04",
       "version_major": 2,
       "version_minor": 0
      },
      "text/plain": [
       "  0%|          | 0/42 [00:00<?, ?it/s]"
      ]
     },
     "metadata": {},
     "output_type": "display_data"
    },
    {
     "name": "stderr",
     "output_type": "stream",
     "text": [
      "Using 264 background data samples could cause slower run times. Consider using shap.sample(data, K) or shap.kmeans(data, K) to summarize the background as K samples.\n"
     ]
    },
    {
     "name": "stdout",
     "output_type": "stream",
     "text": [
      "Dimensione degli SHAP values per seed 70: (2, 212, 30)\n",
      "Sensitivity: 0.5636363636363636\n",
      "Specificity: 0.425531914893617\n",
      "Matrice di confusione per il seed 71 :\n",
      "[[93 72]\n",
      " [27 20]]\n",
      "Iterazione: 72\n",
      "0->Medium, 1->Poor\n",
      "\n",
      "Prima: (array([0, 1]), array([132,  37]))\n",
      "Dopo: (array([0, 1]), array([132, 132]))\n",
      "264 264\n"
     ]
    },
    {
     "data": {
      "application/vnd.jupyter.widget-view+json": {
       "model_id": "a96a12a7281f43eab2ffbc82ec9ff2cb",
       "version_major": 2,
       "version_minor": 0
      },
      "text/plain": [
       "  0%|          | 0/43 [00:00<?, ?it/s]"
      ]
     },
     "metadata": {},
     "output_type": "display_data"
    },
    {
     "name": "stderr",
     "output_type": "stream",
     "text": [
      "Using 264 background data samples could cause slower run times. Consider using shap.sample(data, K) or shap.kmeans(data, K) to summarize the background as K samples.\n"
     ]
    },
    {
     "name": "stdout",
     "output_type": "stream",
     "text": [
      "Prima: (array([0, 1]), array([132,  37]))\n",
      "Dopo: (array([0, 1]), array([132, 132]))\n",
      "264 264\n"
     ]
    },
    {
     "data": {
      "application/vnd.jupyter.widget-view+json": {
       "model_id": "a49743f675784f4a91fdc621409179c5",
       "version_major": 2,
       "version_minor": 0
      },
      "text/plain": [
       "  0%|          | 0/43 [00:00<?, ?it/s]"
      ]
     },
     "metadata": {},
     "output_type": "display_data"
    },
    {
     "name": "stderr",
     "output_type": "stream",
     "text": [
      "Using 264 background data samples could cause slower run times. Consider using shap.sample(data, K) or shap.kmeans(data, K) to summarize the background as K samples.\n"
     ]
    },
    {
     "name": "stdout",
     "output_type": "stream",
     "text": [
      "Prima: (array([0, 1]), array([132,  38]))\n",
      "Dopo: (array([0, 1]), array([132, 132]))\n",
      "264 264\n"
     ]
    },
    {
     "data": {
      "application/vnd.jupyter.widget-view+json": {
       "model_id": "55ec2571b670411ca5ccff6ed1563943",
       "version_major": 2,
       "version_minor": 0
      },
      "text/plain": [
       "  0%|          | 0/42 [00:00<?, ?it/s]"
      ]
     },
     "metadata": {},
     "output_type": "display_data"
    },
    {
     "name": "stderr",
     "output_type": "stream",
     "text": [
      "Using 264 background data samples could cause slower run times. Consider using shap.sample(data, K) or shap.kmeans(data, K) to summarize the background as K samples.\n"
     ]
    },
    {
     "name": "stdout",
     "output_type": "stream",
     "text": [
      "Prima: (array([0, 1]), array([132,  38]))\n",
      "Dopo: (array([0, 1]), array([132, 132]))\n",
      "264 264\n"
     ]
    },
    {
     "data": {
      "application/vnd.jupyter.widget-view+json": {
       "model_id": "600304ece69e4878b693f30ea4a9e7d9",
       "version_major": 2,
       "version_minor": 0
      },
      "text/plain": [
       "  0%|          | 0/42 [00:00<?, ?it/s]"
      ]
     },
     "metadata": {},
     "output_type": "display_data"
    },
    {
     "name": "stderr",
     "output_type": "stream",
     "text": [
      "Using 264 background data samples could cause slower run times. Consider using shap.sample(data, K) or shap.kmeans(data, K) to summarize the background as K samples.\n"
     ]
    },
    {
     "name": "stdout",
     "output_type": "stream",
     "text": [
      "Prima: (array([0, 1]), array([132,  38]))\n",
      "Dopo: (array([0, 1]), array([132, 132]))\n",
      "264 264\n"
     ]
    },
    {
     "data": {
      "application/vnd.jupyter.widget-view+json": {
       "model_id": "0f01cab531e949769aa0791861728687",
       "version_major": 2,
       "version_minor": 0
      },
      "text/plain": [
       "  0%|          | 0/42 [00:00<?, ?it/s]"
      ]
     },
     "metadata": {},
     "output_type": "display_data"
    },
    {
     "name": "stderr",
     "output_type": "stream",
     "text": [
      "Using 264 background data samples could cause slower run times. Consider using shap.sample(data, K) or shap.kmeans(data, K) to summarize the background as K samples.\n"
     ]
    },
    {
     "name": "stdout",
     "output_type": "stream",
     "text": [
      "Dimensione degli SHAP values per seed 71: (2, 212, 30)\n",
      "Sensitivity: 0.6181818181818182\n",
      "Specificity: 0.425531914893617\n",
      "Matrice di confusione per il seed 72 :\n",
      "[[102  63]\n",
      " [ 27  20]]\n",
      "Iterazione: 73\n",
      "0->Medium, 1->Poor\n",
      "\n",
      "Prima: (array([0, 1]), array([132,  37]))\n",
      "Dopo: (array([0, 1]), array([132, 132]))\n",
      "264 264\n"
     ]
    },
    {
     "data": {
      "application/vnd.jupyter.widget-view+json": {
       "model_id": "3e45b418e94e460bad787ff5f2ce6bd7",
       "version_major": 2,
       "version_minor": 0
      },
      "text/plain": [
       "  0%|          | 0/43 [00:00<?, ?it/s]"
      ]
     },
     "metadata": {},
     "output_type": "display_data"
    },
    {
     "name": "stderr",
     "output_type": "stream",
     "text": [
      "Using 264 background data samples could cause slower run times. Consider using shap.sample(data, K) or shap.kmeans(data, K) to summarize the background as K samples.\n"
     ]
    },
    {
     "name": "stdout",
     "output_type": "stream",
     "text": [
      "Prima: (array([0, 1]), array([132,  37]))\n",
      "Dopo: (array([0, 1]), array([132, 132]))\n",
      "264 264\n"
     ]
    },
    {
     "data": {
      "application/vnd.jupyter.widget-view+json": {
       "model_id": "6a8632a262a745199a0cd705e92ba82b",
       "version_major": 2,
       "version_minor": 0
      },
      "text/plain": [
       "  0%|          | 0/43 [00:00<?, ?it/s]"
      ]
     },
     "metadata": {},
     "output_type": "display_data"
    },
    {
     "name": "stderr",
     "output_type": "stream",
     "text": [
      "Using 264 background data samples could cause slower run times. Consider using shap.sample(data, K) or shap.kmeans(data, K) to summarize the background as K samples.\n"
     ]
    },
    {
     "name": "stdout",
     "output_type": "stream",
     "text": [
      "Prima: (array([0, 1]), array([132,  38]))\n",
      "Dopo: (array([0, 1]), array([132, 132]))\n",
      "264 264\n"
     ]
    },
    {
     "data": {
      "application/vnd.jupyter.widget-view+json": {
       "model_id": "9c86e150eca24f859013d61f7c3a1b80",
       "version_major": 2,
       "version_minor": 0
      },
      "text/plain": [
       "  0%|          | 0/42 [00:00<?, ?it/s]"
      ]
     },
     "metadata": {},
     "output_type": "display_data"
    },
    {
     "name": "stderr",
     "output_type": "stream",
     "text": [
      "Using 264 background data samples could cause slower run times. Consider using shap.sample(data, K) or shap.kmeans(data, K) to summarize the background as K samples.\n"
     ]
    },
    {
     "name": "stdout",
     "output_type": "stream",
     "text": [
      "Prima: (array([0, 1]), array([132,  38]))\n",
      "Dopo: (array([0, 1]), array([132, 132]))\n",
      "264 264\n"
     ]
    },
    {
     "data": {
      "application/vnd.jupyter.widget-view+json": {
       "model_id": "be30ca8b268e4d2dbe3c3269963c7c88",
       "version_major": 2,
       "version_minor": 0
      },
      "text/plain": [
       "  0%|          | 0/42 [00:00<?, ?it/s]"
      ]
     },
     "metadata": {},
     "output_type": "display_data"
    },
    {
     "name": "stderr",
     "output_type": "stream",
     "text": [
      "Using 264 background data samples could cause slower run times. Consider using shap.sample(data, K) or shap.kmeans(data, K) to summarize the background as K samples.\n"
     ]
    },
    {
     "name": "stdout",
     "output_type": "stream",
     "text": [
      "Prima: (array([0, 1]), array([132,  38]))\n",
      "Dopo: (array([0, 1]), array([132, 132]))\n",
      "264 264\n"
     ]
    },
    {
     "data": {
      "application/vnd.jupyter.widget-view+json": {
       "model_id": "8f2f61f3ef0544f6a968e1e49ff5ddfb",
       "version_major": 2,
       "version_minor": 0
      },
      "text/plain": [
       "  0%|          | 0/42 [00:00<?, ?it/s]"
      ]
     },
     "metadata": {},
     "output_type": "display_data"
    },
    {
     "name": "stderr",
     "output_type": "stream",
     "text": [
      "Using 264 background data samples could cause slower run times. Consider using shap.sample(data, K) or shap.kmeans(data, K) to summarize the background as K samples.\n"
     ]
    },
    {
     "name": "stdout",
     "output_type": "stream",
     "text": [
      "Dimensione degli SHAP values per seed 72: (2, 212, 30)\n",
      "Sensitivity: 0.6\n",
      "Specificity: 0.574468085106383\n",
      "Matrice di confusione per il seed 73 :\n",
      "[[99 66]\n",
      " [20 27]]\n",
      "Iterazione: 74\n",
      "0->Medium, 1->Poor\n",
      "\n",
      "Prima: (array([0, 1]), array([132,  37]))\n",
      "Dopo: (array([0, 1]), array([132, 132]))\n",
      "264 264\n"
     ]
    },
    {
     "data": {
      "application/vnd.jupyter.widget-view+json": {
       "model_id": "49caf7f30c2b494cabd252e80aad5256",
       "version_major": 2,
       "version_minor": 0
      },
      "text/plain": [
       "  0%|          | 0/43 [00:00<?, ?it/s]"
      ]
     },
     "metadata": {},
     "output_type": "display_data"
    },
    {
     "name": "stderr",
     "output_type": "stream",
     "text": [
      "Using 264 background data samples could cause slower run times. Consider using shap.sample(data, K) or shap.kmeans(data, K) to summarize the background as K samples.\n"
     ]
    },
    {
     "name": "stdout",
     "output_type": "stream",
     "text": [
      "Prima: (array([0, 1]), array([132,  37]))\n",
      "Dopo: (array([0, 1]), array([132, 132]))\n",
      "264 264\n"
     ]
    },
    {
     "data": {
      "application/vnd.jupyter.widget-view+json": {
       "model_id": "ec43eeb368b6483fa8dbc2f93915e1df",
       "version_major": 2,
       "version_minor": 0
      },
      "text/plain": [
       "  0%|          | 0/43 [00:00<?, ?it/s]"
      ]
     },
     "metadata": {},
     "output_type": "display_data"
    },
    {
     "name": "stderr",
     "output_type": "stream",
     "text": [
      "Using 264 background data samples could cause slower run times. Consider using shap.sample(data, K) or shap.kmeans(data, K) to summarize the background as K samples.\n"
     ]
    },
    {
     "name": "stdout",
     "output_type": "stream",
     "text": [
      "Prima: (array([0, 1]), array([132,  38]))\n",
      "Dopo: (array([0, 1]), array([132, 132]))\n",
      "264 264\n"
     ]
    },
    {
     "data": {
      "application/vnd.jupyter.widget-view+json": {
       "model_id": "6934ea364d2f4bd9b108a6dfec975a8a",
       "version_major": 2,
       "version_minor": 0
      },
      "text/plain": [
       "  0%|          | 0/42 [00:00<?, ?it/s]"
      ]
     },
     "metadata": {},
     "output_type": "display_data"
    },
    {
     "name": "stderr",
     "output_type": "stream",
     "text": [
      "Using 264 background data samples could cause slower run times. Consider using shap.sample(data, K) or shap.kmeans(data, K) to summarize the background as K samples.\n"
     ]
    },
    {
     "name": "stdout",
     "output_type": "stream",
     "text": [
      "Prima: (array([0, 1]), array([132,  38]))\n",
      "Dopo: (array([0, 1]), array([132, 132]))\n",
      "264 264\n"
     ]
    },
    {
     "data": {
      "application/vnd.jupyter.widget-view+json": {
       "model_id": "1e9c6188b187446897ce48eff67c3608",
       "version_major": 2,
       "version_minor": 0
      },
      "text/plain": [
       "  0%|          | 0/42 [00:00<?, ?it/s]"
      ]
     },
     "metadata": {},
     "output_type": "display_data"
    },
    {
     "name": "stderr",
     "output_type": "stream",
     "text": [
      "Using 264 background data samples could cause slower run times. Consider using shap.sample(data, K) or shap.kmeans(data, K) to summarize the background as K samples.\n"
     ]
    },
    {
     "name": "stdout",
     "output_type": "stream",
     "text": [
      "Prima: (array([0, 1]), array([132,  38]))\n",
      "Dopo: (array([0, 1]), array([132, 132]))\n",
      "264 264\n"
     ]
    },
    {
     "data": {
      "application/vnd.jupyter.widget-view+json": {
       "model_id": "569a2d9f1ac64d338638ce4838027e83",
       "version_major": 2,
       "version_minor": 0
      },
      "text/plain": [
       "  0%|          | 0/42 [00:00<?, ?it/s]"
      ]
     },
     "metadata": {},
     "output_type": "display_data"
    },
    {
     "name": "stderr",
     "output_type": "stream",
     "text": [
      "Using 264 background data samples could cause slower run times. Consider using shap.sample(data, K) or shap.kmeans(data, K) to summarize the background as K samples.\n"
     ]
    },
    {
     "name": "stdout",
     "output_type": "stream",
     "text": [
      "Dimensione degli SHAP values per seed 73: (2, 212, 30)\n",
      "Sensitivity: 0.5818181818181818\n",
      "Specificity: 0.425531914893617\n",
      "Matrice di confusione per il seed 74 :\n",
      "[[96 69]\n",
      " [27 20]]\n",
      "Iterazione: 75\n",
      "0->Medium, 1->Poor\n",
      "\n",
      "Prima: (array([0, 1]), array([132,  37]))\n",
      "Dopo: (array([0, 1]), array([132, 132]))\n",
      "264 264\n"
     ]
    },
    {
     "data": {
      "application/vnd.jupyter.widget-view+json": {
       "model_id": "2ce4554c5938475f9b542913d75bc193",
       "version_major": 2,
       "version_minor": 0
      },
      "text/plain": [
       "  0%|          | 0/43 [00:00<?, ?it/s]"
      ]
     },
     "metadata": {},
     "output_type": "display_data"
    },
    {
     "name": "stderr",
     "output_type": "stream",
     "text": [
      "Using 264 background data samples could cause slower run times. Consider using shap.sample(data, K) or shap.kmeans(data, K) to summarize the background as K samples.\n"
     ]
    },
    {
     "name": "stdout",
     "output_type": "stream",
     "text": [
      "Prima: (array([0, 1]), array([132,  37]))\n",
      "Dopo: (array([0, 1]), array([132, 132]))\n",
      "264 264\n"
     ]
    },
    {
     "data": {
      "application/vnd.jupyter.widget-view+json": {
       "model_id": "a4d1a65fe9c44bb9b85f47773ad82145",
       "version_major": 2,
       "version_minor": 0
      },
      "text/plain": [
       "  0%|          | 0/43 [00:00<?, ?it/s]"
      ]
     },
     "metadata": {},
     "output_type": "display_data"
    },
    {
     "name": "stderr",
     "output_type": "stream",
     "text": [
      "Using 264 background data samples could cause slower run times. Consider using shap.sample(data, K) or shap.kmeans(data, K) to summarize the background as K samples.\n"
     ]
    },
    {
     "name": "stdout",
     "output_type": "stream",
     "text": [
      "Prima: (array([0, 1]), array([132,  38]))\n",
      "Dopo: (array([0, 1]), array([132, 132]))\n",
      "264 264\n"
     ]
    },
    {
     "data": {
      "application/vnd.jupyter.widget-view+json": {
       "model_id": "982cedc8ae9d4730b42a9f1f5165b3c8",
       "version_major": 2,
       "version_minor": 0
      },
      "text/plain": [
       "  0%|          | 0/42 [00:00<?, ?it/s]"
      ]
     },
     "metadata": {},
     "output_type": "display_data"
    },
    {
     "name": "stderr",
     "output_type": "stream",
     "text": [
      "Using 264 background data samples could cause slower run times. Consider using shap.sample(data, K) or shap.kmeans(data, K) to summarize the background as K samples.\n"
     ]
    },
    {
     "name": "stdout",
     "output_type": "stream",
     "text": [
      "Prima: (array([0, 1]), array([132,  38]))\n",
      "Dopo: (array([0, 1]), array([132, 132]))\n",
      "264 264\n"
     ]
    },
    {
     "data": {
      "application/vnd.jupyter.widget-view+json": {
       "model_id": "809b52734ed84a49a249a8ff6bac5dba",
       "version_major": 2,
       "version_minor": 0
      },
      "text/plain": [
       "  0%|          | 0/42 [00:00<?, ?it/s]"
      ]
     },
     "metadata": {},
     "output_type": "display_data"
    },
    {
     "name": "stderr",
     "output_type": "stream",
     "text": [
      "Using 264 background data samples could cause slower run times. Consider using shap.sample(data, K) or shap.kmeans(data, K) to summarize the background as K samples.\n"
     ]
    },
    {
     "name": "stdout",
     "output_type": "stream",
     "text": [
      "Prima: (array([0, 1]), array([132,  38]))\n",
      "Dopo: (array([0, 1]), array([132, 132]))\n",
      "264 264\n"
     ]
    },
    {
     "data": {
      "application/vnd.jupyter.widget-view+json": {
       "model_id": "59db278218144ce08ce3a827fe2c1511",
       "version_major": 2,
       "version_minor": 0
      },
      "text/plain": [
       "  0%|          | 0/42 [00:00<?, ?it/s]"
      ]
     },
     "metadata": {},
     "output_type": "display_data"
    },
    {
     "name": "stderr",
     "output_type": "stream",
     "text": [
      "Using 264 background data samples could cause slower run times. Consider using shap.sample(data, K) or shap.kmeans(data, K) to summarize the background as K samples.\n"
     ]
    },
    {
     "name": "stdout",
     "output_type": "stream",
     "text": [
      "Dimensione degli SHAP values per seed 74: (2, 212, 30)\n",
      "Sensitivity: 0.5575757575757576\n",
      "Specificity: 0.40425531914893614\n",
      "Matrice di confusione per il seed 75 :\n",
      "[[92 73]\n",
      " [28 19]]\n",
      "Iterazione: 76\n",
      "0->Medium, 1->Poor\n",
      "\n",
      "Prima: (array([0, 1]), array([132,  37]))\n",
      "Dopo: (array([0, 1]), array([132, 132]))\n",
      "264 264\n"
     ]
    },
    {
     "data": {
      "application/vnd.jupyter.widget-view+json": {
       "model_id": "870a2f1d406340bda5b2f772f38b859e",
       "version_major": 2,
       "version_minor": 0
      },
      "text/plain": [
       "  0%|          | 0/43 [00:00<?, ?it/s]"
      ]
     },
     "metadata": {},
     "output_type": "display_data"
    },
    {
     "name": "stderr",
     "output_type": "stream",
     "text": [
      "Using 264 background data samples could cause slower run times. Consider using shap.sample(data, K) or shap.kmeans(data, K) to summarize the background as K samples.\n"
     ]
    },
    {
     "name": "stdout",
     "output_type": "stream",
     "text": [
      "Prima: (array([0, 1]), array([132,  37]))\n",
      "Dopo: (array([0, 1]), array([132, 132]))\n",
      "264 264\n"
     ]
    },
    {
     "data": {
      "application/vnd.jupyter.widget-view+json": {
       "model_id": "f36c9312f55f4633aaf93f2d5f395413",
       "version_major": 2,
       "version_minor": 0
      },
      "text/plain": [
       "  0%|          | 0/43 [00:00<?, ?it/s]"
      ]
     },
     "metadata": {},
     "output_type": "display_data"
    },
    {
     "name": "stderr",
     "output_type": "stream",
     "text": [
      "Using 264 background data samples could cause slower run times. Consider using shap.sample(data, K) or shap.kmeans(data, K) to summarize the background as K samples.\n"
     ]
    },
    {
     "name": "stdout",
     "output_type": "stream",
     "text": [
      "Prima: (array([0, 1]), array([132,  38]))\n",
      "Dopo: (array([0, 1]), array([132, 132]))\n",
      "264 264\n"
     ]
    },
    {
     "data": {
      "application/vnd.jupyter.widget-view+json": {
       "model_id": "ab31ec1b10cd4dbdafda953325baca0c",
       "version_major": 2,
       "version_minor": 0
      },
      "text/plain": [
       "  0%|          | 0/42 [00:00<?, ?it/s]"
      ]
     },
     "metadata": {},
     "output_type": "display_data"
    },
    {
     "name": "stderr",
     "output_type": "stream",
     "text": [
      "Using 264 background data samples could cause slower run times. Consider using shap.sample(data, K) or shap.kmeans(data, K) to summarize the background as K samples.\n"
     ]
    },
    {
     "name": "stdout",
     "output_type": "stream",
     "text": [
      "Prima: (array([0, 1]), array([132,  38]))\n",
      "Dopo: (array([0, 1]), array([132, 132]))\n",
      "264 264\n"
     ]
    },
    {
     "data": {
      "application/vnd.jupyter.widget-view+json": {
       "model_id": "5a37fb607ac240ea9b1164ca8af20171",
       "version_major": 2,
       "version_minor": 0
      },
      "text/plain": [
       "  0%|          | 0/42 [00:00<?, ?it/s]"
      ]
     },
     "metadata": {},
     "output_type": "display_data"
    },
    {
     "name": "stderr",
     "output_type": "stream",
     "text": [
      "Using 264 background data samples could cause slower run times. Consider using shap.sample(data, K) or shap.kmeans(data, K) to summarize the background as K samples.\n"
     ]
    },
    {
     "name": "stdout",
     "output_type": "stream",
     "text": [
      "Prima: (array([0, 1]), array([132,  38]))\n",
      "Dopo: (array([0, 1]), array([132, 132]))\n",
      "264 264\n"
     ]
    },
    {
     "data": {
      "application/vnd.jupyter.widget-view+json": {
       "model_id": "a2d62eab8dbe429395215ca1841ffef5",
       "version_major": 2,
       "version_minor": 0
      },
      "text/plain": [
       "  0%|          | 0/42 [00:00<?, ?it/s]"
      ]
     },
     "metadata": {},
     "output_type": "display_data"
    },
    {
     "name": "stderr",
     "output_type": "stream",
     "text": [
      "Using 264 background data samples could cause slower run times. Consider using shap.sample(data, K) or shap.kmeans(data, K) to summarize the background as K samples.\n"
     ]
    },
    {
     "name": "stdout",
     "output_type": "stream",
     "text": [
      "Dimensione degli SHAP values per seed 75: (2, 212, 30)\n",
      "Sensitivity: 0.5515151515151515\n",
      "Specificity: 0.44680851063829785\n",
      "Matrice di confusione per il seed 76 :\n",
      "[[91 74]\n",
      " [26 21]]\n",
      "Iterazione: 77\n",
      "0->Medium, 1->Poor\n",
      "\n",
      "Prima: (array([0, 1]), array([132,  37]))\n",
      "Dopo: (array([0, 1]), array([132, 132]))\n",
      "264 264\n"
     ]
    },
    {
     "data": {
      "application/vnd.jupyter.widget-view+json": {
       "model_id": "81a5958a5c3d4803908479cb23504566",
       "version_major": 2,
       "version_minor": 0
      },
      "text/plain": [
       "  0%|          | 0/43 [00:00<?, ?it/s]"
      ]
     },
     "metadata": {},
     "output_type": "display_data"
    },
    {
     "name": "stderr",
     "output_type": "stream",
     "text": [
      "Using 264 background data samples could cause slower run times. Consider using shap.sample(data, K) or shap.kmeans(data, K) to summarize the background as K samples.\n"
     ]
    },
    {
     "name": "stdout",
     "output_type": "stream",
     "text": [
      "Prima: (array([0, 1]), array([132,  37]))\n",
      "Dopo: (array([0, 1]), array([132, 132]))\n",
      "264 264\n"
     ]
    },
    {
     "data": {
      "application/vnd.jupyter.widget-view+json": {
       "model_id": "00fc43f5fdde4f45a51fad997ed273e8",
       "version_major": 2,
       "version_minor": 0
      },
      "text/plain": [
       "  0%|          | 0/43 [00:00<?, ?it/s]"
      ]
     },
     "metadata": {},
     "output_type": "display_data"
    },
    {
     "name": "stderr",
     "output_type": "stream",
     "text": [
      "Using 264 background data samples could cause slower run times. Consider using shap.sample(data, K) or shap.kmeans(data, K) to summarize the background as K samples.\n"
     ]
    },
    {
     "name": "stdout",
     "output_type": "stream",
     "text": [
      "Prima: (array([0, 1]), array([132,  38]))\n",
      "Dopo: (array([0, 1]), array([132, 132]))\n",
      "264 264\n"
     ]
    },
    {
     "data": {
      "application/vnd.jupyter.widget-view+json": {
       "model_id": "c3a9b464c3a44a5582d11333484b2779",
       "version_major": 2,
       "version_minor": 0
      },
      "text/plain": [
       "  0%|          | 0/42 [00:00<?, ?it/s]"
      ]
     },
     "metadata": {},
     "output_type": "display_data"
    },
    {
     "name": "stderr",
     "output_type": "stream",
     "text": [
      "Using 264 background data samples could cause slower run times. Consider using shap.sample(data, K) or shap.kmeans(data, K) to summarize the background as K samples.\n"
     ]
    },
    {
     "name": "stdout",
     "output_type": "stream",
     "text": [
      "Prima: (array([0, 1]), array([132,  38]))\n",
      "Dopo: (array([0, 1]), array([132, 132]))\n",
      "264 264\n"
     ]
    },
    {
     "data": {
      "application/vnd.jupyter.widget-view+json": {
       "model_id": "06ecc514128e47eebad40fb283a083d1",
       "version_major": 2,
       "version_minor": 0
      },
      "text/plain": [
       "  0%|          | 0/42 [00:00<?, ?it/s]"
      ]
     },
     "metadata": {},
     "output_type": "display_data"
    },
    {
     "name": "stderr",
     "output_type": "stream",
     "text": [
      "Using 264 background data samples could cause slower run times. Consider using shap.sample(data, K) or shap.kmeans(data, K) to summarize the background as K samples.\n"
     ]
    },
    {
     "name": "stdout",
     "output_type": "stream",
     "text": [
      "Prima: (array([0, 1]), array([132,  38]))\n",
      "Dopo: (array([0, 1]), array([132, 132]))\n",
      "264 264\n"
     ]
    },
    {
     "data": {
      "application/vnd.jupyter.widget-view+json": {
       "model_id": "4c4f17804fb9413c842ec2cabf628935",
       "version_major": 2,
       "version_minor": 0
      },
      "text/plain": [
       "  0%|          | 0/42 [00:00<?, ?it/s]"
      ]
     },
     "metadata": {},
     "output_type": "display_data"
    },
    {
     "name": "stderr",
     "output_type": "stream",
     "text": [
      "Using 264 background data samples could cause slower run times. Consider using shap.sample(data, K) or shap.kmeans(data, K) to summarize the background as K samples.\n"
     ]
    },
    {
     "name": "stdout",
     "output_type": "stream",
     "text": [
      "Dimensione degli SHAP values per seed 76: (2, 212, 30)\n",
      "Sensitivity: 0.5757575757575758\n",
      "Specificity: 0.425531914893617\n",
      "Matrice di confusione per il seed 77 :\n",
      "[[95 70]\n",
      " [27 20]]\n",
      "Iterazione: 78\n",
      "0->Medium, 1->Poor\n",
      "\n",
      "Prima: (array([0, 1]), array([132,  37]))\n",
      "Dopo: (array([0, 1]), array([132, 132]))\n",
      "264 264\n"
     ]
    },
    {
     "data": {
      "application/vnd.jupyter.widget-view+json": {
       "model_id": "86cc1e8178f94774801b70110a6f9bdb",
       "version_major": 2,
       "version_minor": 0
      },
      "text/plain": [
       "  0%|          | 0/43 [00:00<?, ?it/s]"
      ]
     },
     "metadata": {},
     "output_type": "display_data"
    },
    {
     "name": "stderr",
     "output_type": "stream",
     "text": [
      "Using 264 background data samples could cause slower run times. Consider using shap.sample(data, K) or shap.kmeans(data, K) to summarize the background as K samples.\n"
     ]
    },
    {
     "name": "stdout",
     "output_type": "stream",
     "text": [
      "Prima: (array([0, 1]), array([132,  37]))\n",
      "Dopo: (array([0, 1]), array([132, 132]))\n",
      "264 264\n"
     ]
    },
    {
     "data": {
      "application/vnd.jupyter.widget-view+json": {
       "model_id": "174dd36cda284158ae4fd4b0996c60f6",
       "version_major": 2,
       "version_minor": 0
      },
      "text/plain": [
       "  0%|          | 0/43 [00:00<?, ?it/s]"
      ]
     },
     "metadata": {},
     "output_type": "display_data"
    },
    {
     "name": "stderr",
     "output_type": "stream",
     "text": [
      "Using 264 background data samples could cause slower run times. Consider using shap.sample(data, K) or shap.kmeans(data, K) to summarize the background as K samples.\n"
     ]
    },
    {
     "name": "stdout",
     "output_type": "stream",
     "text": [
      "Prima: (array([0, 1]), array([132,  38]))\n",
      "Dopo: (array([0, 1]), array([132, 132]))\n",
      "264 264\n"
     ]
    },
    {
     "data": {
      "application/vnd.jupyter.widget-view+json": {
       "model_id": "9b56c94fd0944041b9d9371b274cdc69",
       "version_major": 2,
       "version_minor": 0
      },
      "text/plain": [
       "  0%|          | 0/42 [00:00<?, ?it/s]"
      ]
     },
     "metadata": {},
     "output_type": "display_data"
    },
    {
     "name": "stderr",
     "output_type": "stream",
     "text": [
      "Using 264 background data samples could cause slower run times. Consider using shap.sample(data, K) or shap.kmeans(data, K) to summarize the background as K samples.\n"
     ]
    },
    {
     "name": "stdout",
     "output_type": "stream",
     "text": [
      "Prima: (array([0, 1]), array([132,  38]))\n",
      "Dopo: (array([0, 1]), array([132, 132]))\n",
      "264 264\n"
     ]
    },
    {
     "data": {
      "application/vnd.jupyter.widget-view+json": {
       "model_id": "f6917dec0c814dd9bc2bd29a0c3b1f82",
       "version_major": 2,
       "version_minor": 0
      },
      "text/plain": [
       "  0%|          | 0/42 [00:00<?, ?it/s]"
      ]
     },
     "metadata": {},
     "output_type": "display_data"
    },
    {
     "name": "stderr",
     "output_type": "stream",
     "text": [
      "Using 264 background data samples could cause slower run times. Consider using shap.sample(data, K) or shap.kmeans(data, K) to summarize the background as K samples.\n"
     ]
    },
    {
     "name": "stdout",
     "output_type": "stream",
     "text": [
      "Prima: (array([0, 1]), array([132,  38]))\n",
      "Dopo: (array([0, 1]), array([132, 132]))\n",
      "264 264\n"
     ]
    },
    {
     "data": {
      "application/vnd.jupyter.widget-view+json": {
       "model_id": "0bf6e246dde64759991661634a1f7f40",
       "version_major": 2,
       "version_minor": 0
      },
      "text/plain": [
       "  0%|          | 0/42 [00:00<?, ?it/s]"
      ]
     },
     "metadata": {},
     "output_type": "display_data"
    },
    {
     "name": "stderr",
     "output_type": "stream",
     "text": [
      "Using 264 background data samples could cause slower run times. Consider using shap.sample(data, K) or shap.kmeans(data, K) to summarize the background as K samples.\n"
     ]
    },
    {
     "name": "stdout",
     "output_type": "stream",
     "text": [
      "Dimensione degli SHAP values per seed 77: (2, 212, 30)\n",
      "Sensitivity: 0.5696969696969697\n",
      "Specificity: 0.5106382978723404\n",
      "Matrice di confusione per il seed 78 :\n",
      "[[94 71]\n",
      " [23 24]]\n",
      "Iterazione: 79\n",
      "0->Medium, 1->Poor\n",
      "\n",
      "Prima: (array([0, 1]), array([132,  37]))\n",
      "Dopo: (array([0, 1]), array([132, 132]))\n",
      "264 264\n"
     ]
    },
    {
     "data": {
      "application/vnd.jupyter.widget-view+json": {
       "model_id": "4e48936f4b5143aaa8687d218634c171",
       "version_major": 2,
       "version_minor": 0
      },
      "text/plain": [
       "  0%|          | 0/43 [00:00<?, ?it/s]"
      ]
     },
     "metadata": {},
     "output_type": "display_data"
    },
    {
     "name": "stderr",
     "output_type": "stream",
     "text": [
      "Using 264 background data samples could cause slower run times. Consider using shap.sample(data, K) or shap.kmeans(data, K) to summarize the background as K samples.\n"
     ]
    },
    {
     "name": "stdout",
     "output_type": "stream",
     "text": [
      "Prima: (array([0, 1]), array([132,  37]))\n",
      "Dopo: (array([0, 1]), array([132, 132]))\n",
      "264 264\n"
     ]
    },
    {
     "data": {
      "application/vnd.jupyter.widget-view+json": {
       "model_id": "356d1988894141e79897123c79173a7b",
       "version_major": 2,
       "version_minor": 0
      },
      "text/plain": [
       "  0%|          | 0/43 [00:00<?, ?it/s]"
      ]
     },
     "metadata": {},
     "output_type": "display_data"
    },
    {
     "name": "stderr",
     "output_type": "stream",
     "text": [
      "Using 264 background data samples could cause slower run times. Consider using shap.sample(data, K) or shap.kmeans(data, K) to summarize the background as K samples.\n"
     ]
    },
    {
     "name": "stdout",
     "output_type": "stream",
     "text": [
      "Prima: (array([0, 1]), array([132,  38]))\n",
      "Dopo: (array([0, 1]), array([132, 132]))\n",
      "264 264\n"
     ]
    },
    {
     "data": {
      "application/vnd.jupyter.widget-view+json": {
       "model_id": "9f738ad0987b446da303eeb9a9a6055b",
       "version_major": 2,
       "version_minor": 0
      },
      "text/plain": [
       "  0%|          | 0/42 [00:00<?, ?it/s]"
      ]
     },
     "metadata": {},
     "output_type": "display_data"
    },
    {
     "name": "stderr",
     "output_type": "stream",
     "text": [
      "Using 264 background data samples could cause slower run times. Consider using shap.sample(data, K) or shap.kmeans(data, K) to summarize the background as K samples.\n"
     ]
    },
    {
     "name": "stdout",
     "output_type": "stream",
     "text": [
      "Prima: (array([0, 1]), array([132,  38]))\n",
      "Dopo: (array([0, 1]), array([132, 132]))\n",
      "264 264\n"
     ]
    },
    {
     "data": {
      "application/vnd.jupyter.widget-view+json": {
       "model_id": "bffd0e70eec644dd8144ad8717320b0e",
       "version_major": 2,
       "version_minor": 0
      },
      "text/plain": [
       "  0%|          | 0/42 [00:00<?, ?it/s]"
      ]
     },
     "metadata": {},
     "output_type": "display_data"
    },
    {
     "name": "stderr",
     "output_type": "stream",
     "text": [
      "Using 264 background data samples could cause slower run times. Consider using shap.sample(data, K) or shap.kmeans(data, K) to summarize the background as K samples.\n"
     ]
    },
    {
     "name": "stdout",
     "output_type": "stream",
     "text": [
      "Prima: (array([0, 1]), array([132,  38]))\n",
      "Dopo: (array([0, 1]), array([132, 132]))\n",
      "264 264\n"
     ]
    },
    {
     "data": {
      "application/vnd.jupyter.widget-view+json": {
       "model_id": "1de980097e2045539b84ed2c69fb413e",
       "version_major": 2,
       "version_minor": 0
      },
      "text/plain": [
       "  0%|          | 0/42 [00:00<?, ?it/s]"
      ]
     },
     "metadata": {},
     "output_type": "display_data"
    },
    {
     "name": "stderr",
     "output_type": "stream",
     "text": [
      "Using 264 background data samples could cause slower run times. Consider using shap.sample(data, K) or shap.kmeans(data, K) to summarize the background as K samples.\n"
     ]
    },
    {
     "name": "stdout",
     "output_type": "stream",
     "text": [
      "Dimensione degli SHAP values per seed 78: (2, 212, 30)\n",
      "Sensitivity: 0.5393939393939394\n",
      "Specificity: 0.3617021276595745\n",
      "Matrice di confusione per il seed 79 :\n",
      "[[89 76]\n",
      " [30 17]]\n",
      "Iterazione: 80\n",
      "0->Medium, 1->Poor\n",
      "\n",
      "Prima: (array([0, 1]), array([132,  37]))\n",
      "Dopo: (array([0, 1]), array([132, 132]))\n",
      "264 264\n"
     ]
    },
    {
     "data": {
      "application/vnd.jupyter.widget-view+json": {
       "model_id": "d548c3d4c16a4c2eb6c799c52247b10b",
       "version_major": 2,
       "version_minor": 0
      },
      "text/plain": [
       "  0%|          | 0/43 [00:00<?, ?it/s]"
      ]
     },
     "metadata": {},
     "output_type": "display_data"
    },
    {
     "name": "stderr",
     "output_type": "stream",
     "text": [
      "Using 264 background data samples could cause slower run times. Consider using shap.sample(data, K) or shap.kmeans(data, K) to summarize the background as K samples.\n"
     ]
    },
    {
     "name": "stdout",
     "output_type": "stream",
     "text": [
      "Prima: (array([0, 1]), array([132,  37]))\n",
      "Dopo: (array([0, 1]), array([132, 132]))\n",
      "264 264\n"
     ]
    },
    {
     "data": {
      "application/vnd.jupyter.widget-view+json": {
       "model_id": "826377bc31a344bc94e4839db5b4940b",
       "version_major": 2,
       "version_minor": 0
      },
      "text/plain": [
       "  0%|          | 0/43 [00:00<?, ?it/s]"
      ]
     },
     "metadata": {},
     "output_type": "display_data"
    },
    {
     "name": "stderr",
     "output_type": "stream",
     "text": [
      "Using 264 background data samples could cause slower run times. Consider using shap.sample(data, K) or shap.kmeans(data, K) to summarize the background as K samples.\n"
     ]
    },
    {
     "name": "stdout",
     "output_type": "stream",
     "text": [
      "Prima: (array([0, 1]), array([132,  38]))\n",
      "Dopo: (array([0, 1]), array([132, 132]))\n",
      "264 264\n"
     ]
    },
    {
     "data": {
      "application/vnd.jupyter.widget-view+json": {
       "model_id": "4eeb6f7de60b4fb0ba10106c83464034",
       "version_major": 2,
       "version_minor": 0
      },
      "text/plain": [
       "  0%|          | 0/42 [00:00<?, ?it/s]"
      ]
     },
     "metadata": {},
     "output_type": "display_data"
    },
    {
     "name": "stderr",
     "output_type": "stream",
     "text": [
      "Using 264 background data samples could cause slower run times. Consider using shap.sample(data, K) or shap.kmeans(data, K) to summarize the background as K samples.\n"
     ]
    },
    {
     "name": "stdout",
     "output_type": "stream",
     "text": [
      "Prima: (array([0, 1]), array([132,  38]))\n",
      "Dopo: (array([0, 1]), array([132, 132]))\n",
      "264 264\n"
     ]
    },
    {
     "data": {
      "application/vnd.jupyter.widget-view+json": {
       "model_id": "9edceadb58aa43d0b0dde7df3782f893",
       "version_major": 2,
       "version_minor": 0
      },
      "text/plain": [
       "  0%|          | 0/42 [00:00<?, ?it/s]"
      ]
     },
     "metadata": {},
     "output_type": "display_data"
    },
    {
     "name": "stderr",
     "output_type": "stream",
     "text": [
      "Using 264 background data samples could cause slower run times. Consider using shap.sample(data, K) or shap.kmeans(data, K) to summarize the background as K samples.\n"
     ]
    },
    {
     "name": "stdout",
     "output_type": "stream",
     "text": [
      "Prima: (array([0, 1]), array([132,  38]))\n",
      "Dopo: (array([0, 1]), array([132, 132]))\n",
      "264 264\n"
     ]
    },
    {
     "data": {
      "application/vnd.jupyter.widget-view+json": {
       "model_id": "e7e48cb23199467cb3ce6ce0bd914556",
       "version_major": 2,
       "version_minor": 0
      },
      "text/plain": [
       "  0%|          | 0/42 [00:00<?, ?it/s]"
      ]
     },
     "metadata": {},
     "output_type": "display_data"
    },
    {
     "name": "stderr",
     "output_type": "stream",
     "text": [
      "Using 264 background data samples could cause slower run times. Consider using shap.sample(data, K) or shap.kmeans(data, K) to summarize the background as K samples.\n"
     ]
    },
    {
     "name": "stdout",
     "output_type": "stream",
     "text": [
      "Dimensione degli SHAP values per seed 79: (2, 212, 30)\n",
      "Sensitivity: 0.5636363636363636\n",
      "Specificity: 0.46808510638297873\n",
      "Matrice di confusione per il seed 80 :\n",
      "[[93 72]\n",
      " [25 22]]\n",
      "Iterazione: 81\n",
      "0->Medium, 1->Poor\n",
      "\n",
      "Prima: (array([0, 1]), array([132,  37]))\n",
      "Dopo: (array([0, 1]), array([132, 132]))\n",
      "264 264\n"
     ]
    },
    {
     "data": {
      "application/vnd.jupyter.widget-view+json": {
       "model_id": "a200e68a674e44528fcfcec1e645a0d9",
       "version_major": 2,
       "version_minor": 0
      },
      "text/plain": [
       "  0%|          | 0/43 [00:00<?, ?it/s]"
      ]
     },
     "metadata": {},
     "output_type": "display_data"
    },
    {
     "name": "stderr",
     "output_type": "stream",
     "text": [
      "Using 264 background data samples could cause slower run times. Consider using shap.sample(data, K) or shap.kmeans(data, K) to summarize the background as K samples.\n"
     ]
    },
    {
     "name": "stdout",
     "output_type": "stream",
     "text": [
      "Prima: (array([0, 1]), array([132,  37]))\n",
      "Dopo: (array([0, 1]), array([132, 132]))\n",
      "264 264\n"
     ]
    },
    {
     "data": {
      "application/vnd.jupyter.widget-view+json": {
       "model_id": "1fddccce8dee494bbf3e9fea277211bf",
       "version_major": 2,
       "version_minor": 0
      },
      "text/plain": [
       "  0%|          | 0/43 [00:00<?, ?it/s]"
      ]
     },
     "metadata": {},
     "output_type": "display_data"
    },
    {
     "name": "stderr",
     "output_type": "stream",
     "text": [
      "Using 264 background data samples could cause slower run times. Consider using shap.sample(data, K) or shap.kmeans(data, K) to summarize the background as K samples.\n"
     ]
    },
    {
     "name": "stdout",
     "output_type": "stream",
     "text": [
      "Prima: (array([0, 1]), array([132,  38]))\n",
      "Dopo: (array([0, 1]), array([132, 132]))\n",
      "264 264\n"
     ]
    },
    {
     "data": {
      "application/vnd.jupyter.widget-view+json": {
       "model_id": "3cbfc0bc43a7480184d701b1d46dbf5b",
       "version_major": 2,
       "version_minor": 0
      },
      "text/plain": [
       "  0%|          | 0/42 [00:00<?, ?it/s]"
      ]
     },
     "metadata": {},
     "output_type": "display_data"
    },
    {
     "name": "stderr",
     "output_type": "stream",
     "text": [
      "Using 264 background data samples could cause slower run times. Consider using shap.sample(data, K) or shap.kmeans(data, K) to summarize the background as K samples.\n"
     ]
    },
    {
     "name": "stdout",
     "output_type": "stream",
     "text": [
      "Prima: (array([0, 1]), array([132,  38]))\n",
      "Dopo: (array([0, 1]), array([132, 132]))\n",
      "264 264\n"
     ]
    },
    {
     "data": {
      "application/vnd.jupyter.widget-view+json": {
       "model_id": "1cefed3169824e0ea81af71753185023",
       "version_major": 2,
       "version_minor": 0
      },
      "text/plain": [
       "  0%|          | 0/42 [00:00<?, ?it/s]"
      ]
     },
     "metadata": {},
     "output_type": "display_data"
    },
    {
     "name": "stderr",
     "output_type": "stream",
     "text": [
      "Using 264 background data samples could cause slower run times. Consider using shap.sample(data, K) or shap.kmeans(data, K) to summarize the background as K samples.\n"
     ]
    },
    {
     "name": "stdout",
     "output_type": "stream",
     "text": [
      "Prima: (array([0, 1]), array([132,  38]))\n",
      "Dopo: (array([0, 1]), array([132, 132]))\n",
      "264 264\n"
     ]
    },
    {
     "data": {
      "application/vnd.jupyter.widget-view+json": {
       "model_id": "6a97f3dc08104b5db771f2f4de98790b",
       "version_major": 2,
       "version_minor": 0
      },
      "text/plain": [
       "  0%|          | 0/42 [00:00<?, ?it/s]"
      ]
     },
     "metadata": {},
     "output_type": "display_data"
    },
    {
     "name": "stderr",
     "output_type": "stream",
     "text": [
      "Using 264 background data samples could cause slower run times. Consider using shap.sample(data, K) or shap.kmeans(data, K) to summarize the background as K samples.\n"
     ]
    },
    {
     "name": "stdout",
     "output_type": "stream",
     "text": [
      "Dimensione degli SHAP values per seed 80: (2, 212, 30)\n",
      "Sensitivity: 0.5515151515151515\n",
      "Specificity: 0.48936170212765956\n",
      "Matrice di confusione per il seed 81 :\n",
      "[[91 74]\n",
      " [24 23]]\n",
      "Iterazione: 82\n",
      "0->Medium, 1->Poor\n",
      "\n",
      "Prima: (array([0, 1]), array([132,  37]))\n",
      "Dopo: (array([0, 1]), array([132, 132]))\n",
      "264 264\n"
     ]
    },
    {
     "data": {
      "application/vnd.jupyter.widget-view+json": {
       "model_id": "445cc108e2064480995cd80df86f5f11",
       "version_major": 2,
       "version_minor": 0
      },
      "text/plain": [
       "  0%|          | 0/43 [00:00<?, ?it/s]"
      ]
     },
     "metadata": {},
     "output_type": "display_data"
    },
    {
     "name": "stderr",
     "output_type": "stream",
     "text": [
      "Using 264 background data samples could cause slower run times. Consider using shap.sample(data, K) or shap.kmeans(data, K) to summarize the background as K samples.\n"
     ]
    },
    {
     "name": "stdout",
     "output_type": "stream",
     "text": [
      "Prima: (array([0, 1]), array([132,  37]))\n",
      "Dopo: (array([0, 1]), array([132, 132]))\n",
      "264 264\n"
     ]
    },
    {
     "data": {
      "application/vnd.jupyter.widget-view+json": {
       "model_id": "b7219a45feb84642a4cbcc772e03f1a1",
       "version_major": 2,
       "version_minor": 0
      },
      "text/plain": [
       "  0%|          | 0/43 [00:00<?, ?it/s]"
      ]
     },
     "metadata": {},
     "output_type": "display_data"
    },
    {
     "name": "stderr",
     "output_type": "stream",
     "text": [
      "Using 264 background data samples could cause slower run times. Consider using shap.sample(data, K) or shap.kmeans(data, K) to summarize the background as K samples.\n"
     ]
    },
    {
     "name": "stdout",
     "output_type": "stream",
     "text": [
      "Prima: (array([0, 1]), array([132,  38]))\n",
      "Dopo: (array([0, 1]), array([132, 132]))\n",
      "264 264\n"
     ]
    },
    {
     "data": {
      "application/vnd.jupyter.widget-view+json": {
       "model_id": "ade6de0df0864aefb8565633931510c9",
       "version_major": 2,
       "version_minor": 0
      },
      "text/plain": [
       "  0%|          | 0/42 [00:00<?, ?it/s]"
      ]
     },
     "metadata": {},
     "output_type": "display_data"
    },
    {
     "name": "stderr",
     "output_type": "stream",
     "text": [
      "Using 264 background data samples could cause slower run times. Consider using shap.sample(data, K) or shap.kmeans(data, K) to summarize the background as K samples.\n"
     ]
    },
    {
     "name": "stdout",
     "output_type": "stream",
     "text": [
      "Prima: (array([0, 1]), array([132,  38]))\n",
      "Dopo: (array([0, 1]), array([132, 132]))\n",
      "264 264\n"
     ]
    },
    {
     "data": {
      "application/vnd.jupyter.widget-view+json": {
       "model_id": "5d03973532994953a69a60a8d716b05d",
       "version_major": 2,
       "version_minor": 0
      },
      "text/plain": [
       "  0%|          | 0/42 [00:00<?, ?it/s]"
      ]
     },
     "metadata": {},
     "output_type": "display_data"
    },
    {
     "name": "stderr",
     "output_type": "stream",
     "text": [
      "Using 264 background data samples could cause slower run times. Consider using shap.sample(data, K) or shap.kmeans(data, K) to summarize the background as K samples.\n"
     ]
    },
    {
     "name": "stdout",
     "output_type": "stream",
     "text": [
      "Prima: (array([0, 1]), array([132,  38]))\n",
      "Dopo: (array([0, 1]), array([132, 132]))\n",
      "264 264\n"
     ]
    },
    {
     "data": {
      "application/vnd.jupyter.widget-view+json": {
       "model_id": "36261fd34cce4c81b8adc83b03333acb",
       "version_major": 2,
       "version_minor": 0
      },
      "text/plain": [
       "  0%|          | 0/42 [00:00<?, ?it/s]"
      ]
     },
     "metadata": {},
     "output_type": "display_data"
    },
    {
     "name": "stderr",
     "output_type": "stream",
     "text": [
      "Using 264 background data samples could cause slower run times. Consider using shap.sample(data, K) or shap.kmeans(data, K) to summarize the background as K samples.\n"
     ]
    },
    {
     "name": "stdout",
     "output_type": "stream",
     "text": [
      "Dimensione degli SHAP values per seed 81: (2, 212, 30)\n",
      "Sensitivity: 0.5515151515151515\n",
      "Specificity: 0.46808510638297873\n",
      "Matrice di confusione per il seed 82 :\n",
      "[[91 74]\n",
      " [25 22]]\n",
      "Iterazione: 83\n",
      "0->Medium, 1->Poor\n",
      "\n",
      "Prima: (array([0, 1]), array([132,  37]))\n",
      "Dopo: (array([0, 1]), array([132, 132]))\n",
      "264 264\n"
     ]
    },
    {
     "data": {
      "application/vnd.jupyter.widget-view+json": {
       "model_id": "e6b46c33499a4f3aa501a934b2f39484",
       "version_major": 2,
       "version_minor": 0
      },
      "text/plain": [
       "  0%|          | 0/43 [00:00<?, ?it/s]"
      ]
     },
     "metadata": {},
     "output_type": "display_data"
    },
    {
     "name": "stderr",
     "output_type": "stream",
     "text": [
      "Using 264 background data samples could cause slower run times. Consider using shap.sample(data, K) or shap.kmeans(data, K) to summarize the background as K samples.\n"
     ]
    },
    {
     "name": "stdout",
     "output_type": "stream",
     "text": [
      "Prima: (array([0, 1]), array([132,  37]))\n",
      "Dopo: (array([0, 1]), array([132, 132]))\n",
      "264 264\n"
     ]
    },
    {
     "data": {
      "application/vnd.jupyter.widget-view+json": {
       "model_id": "e4ed3fab05584aa7af16b7aee0e2ec72",
       "version_major": 2,
       "version_minor": 0
      },
      "text/plain": [
       "  0%|          | 0/43 [00:00<?, ?it/s]"
      ]
     },
     "metadata": {},
     "output_type": "display_data"
    },
    {
     "name": "stderr",
     "output_type": "stream",
     "text": [
      "Using 264 background data samples could cause slower run times. Consider using shap.sample(data, K) or shap.kmeans(data, K) to summarize the background as K samples.\n"
     ]
    },
    {
     "name": "stdout",
     "output_type": "stream",
     "text": [
      "Prima: (array([0, 1]), array([132,  38]))\n",
      "Dopo: (array([0, 1]), array([132, 132]))\n",
      "264 264\n"
     ]
    },
    {
     "data": {
      "application/vnd.jupyter.widget-view+json": {
       "model_id": "79182a21a3d34ed981706a7231a0bec7",
       "version_major": 2,
       "version_minor": 0
      },
      "text/plain": [
       "  0%|          | 0/42 [00:00<?, ?it/s]"
      ]
     },
     "metadata": {},
     "output_type": "display_data"
    },
    {
     "name": "stderr",
     "output_type": "stream",
     "text": [
      "Using 264 background data samples could cause slower run times. Consider using shap.sample(data, K) or shap.kmeans(data, K) to summarize the background as K samples.\n"
     ]
    },
    {
     "name": "stdout",
     "output_type": "stream",
     "text": [
      "Prima: (array([0, 1]), array([132,  38]))\n",
      "Dopo: (array([0, 1]), array([132, 132]))\n",
      "264 264\n"
     ]
    },
    {
     "data": {
      "application/vnd.jupyter.widget-view+json": {
       "model_id": "9552fcf9cce94755b524d5aaa23593c6",
       "version_major": 2,
       "version_minor": 0
      },
      "text/plain": [
       "  0%|          | 0/42 [00:00<?, ?it/s]"
      ]
     },
     "metadata": {},
     "output_type": "display_data"
    },
    {
     "name": "stderr",
     "output_type": "stream",
     "text": [
      "Using 264 background data samples could cause slower run times. Consider using shap.sample(data, K) or shap.kmeans(data, K) to summarize the background as K samples.\n"
     ]
    },
    {
     "name": "stdout",
     "output_type": "stream",
     "text": [
      "Prima: (array([0, 1]), array([132,  38]))\n",
      "Dopo: (array([0, 1]), array([132, 132]))\n",
      "264 264\n"
     ]
    },
    {
     "data": {
      "application/vnd.jupyter.widget-view+json": {
       "model_id": "d9c08424f3374833a2640ff8d8dd4c2a",
       "version_major": 2,
       "version_minor": 0
      },
      "text/plain": [
       "  0%|          | 0/42 [00:00<?, ?it/s]"
      ]
     },
     "metadata": {},
     "output_type": "display_data"
    },
    {
     "name": "stderr",
     "output_type": "stream",
     "text": [
      "Using 264 background data samples could cause slower run times. Consider using shap.sample(data, K) or shap.kmeans(data, K) to summarize the background as K samples.\n"
     ]
    },
    {
     "name": "stdout",
     "output_type": "stream",
     "text": [
      "Dimensione degli SHAP values per seed 82: (2, 212, 30)\n",
      "Sensitivity: 0.5878787878787879\n",
      "Specificity: 0.5106382978723404\n",
      "Matrice di confusione per il seed 83 :\n",
      "[[97 68]\n",
      " [23 24]]\n",
      "Iterazione: 84\n",
      "0->Medium, 1->Poor\n",
      "\n",
      "Prima: (array([0, 1]), array([132,  37]))\n",
      "Dopo: (array([0, 1]), array([132, 132]))\n",
      "264 264\n"
     ]
    },
    {
     "data": {
      "application/vnd.jupyter.widget-view+json": {
       "model_id": "f520045e852a4d85ad64cb6a14f4ac72",
       "version_major": 2,
       "version_minor": 0
      },
      "text/plain": [
       "  0%|          | 0/43 [00:00<?, ?it/s]"
      ]
     },
     "metadata": {},
     "output_type": "display_data"
    },
    {
     "name": "stderr",
     "output_type": "stream",
     "text": [
      "Using 264 background data samples could cause slower run times. Consider using shap.sample(data, K) or shap.kmeans(data, K) to summarize the background as K samples.\n"
     ]
    },
    {
     "name": "stdout",
     "output_type": "stream",
     "text": [
      "Prima: (array([0, 1]), array([132,  37]))\n",
      "Dopo: (array([0, 1]), array([132, 132]))\n",
      "264 264\n"
     ]
    },
    {
     "data": {
      "application/vnd.jupyter.widget-view+json": {
       "model_id": "34ae19d9311e41a9b4857f3570144843",
       "version_major": 2,
       "version_minor": 0
      },
      "text/plain": [
       "  0%|          | 0/43 [00:00<?, ?it/s]"
      ]
     },
     "metadata": {},
     "output_type": "display_data"
    },
    {
     "name": "stderr",
     "output_type": "stream",
     "text": [
      "Using 264 background data samples could cause slower run times. Consider using shap.sample(data, K) or shap.kmeans(data, K) to summarize the background as K samples.\n"
     ]
    },
    {
     "name": "stdout",
     "output_type": "stream",
     "text": [
      "Prima: (array([0, 1]), array([132,  38]))\n",
      "Dopo: (array([0, 1]), array([132, 132]))\n",
      "264 264\n"
     ]
    },
    {
     "data": {
      "application/vnd.jupyter.widget-view+json": {
       "model_id": "56732270282b442c931ec9cb279092c7",
       "version_major": 2,
       "version_minor": 0
      },
      "text/plain": [
       "  0%|          | 0/42 [00:00<?, ?it/s]"
      ]
     },
     "metadata": {},
     "output_type": "display_data"
    },
    {
     "name": "stderr",
     "output_type": "stream",
     "text": [
      "Using 264 background data samples could cause slower run times. Consider using shap.sample(data, K) or shap.kmeans(data, K) to summarize the background as K samples.\n"
     ]
    },
    {
     "name": "stdout",
     "output_type": "stream",
     "text": [
      "Prima: (array([0, 1]), array([132,  38]))\n",
      "Dopo: (array([0, 1]), array([132, 132]))\n",
      "264 264\n"
     ]
    },
    {
     "data": {
      "application/vnd.jupyter.widget-view+json": {
       "model_id": "8ef00d3f6e124187ab55b4d9eb220ada",
       "version_major": 2,
       "version_minor": 0
      },
      "text/plain": [
       "  0%|          | 0/42 [00:00<?, ?it/s]"
      ]
     },
     "metadata": {},
     "output_type": "display_data"
    },
    {
     "name": "stderr",
     "output_type": "stream",
     "text": [
      "Using 264 background data samples could cause slower run times. Consider using shap.sample(data, K) or shap.kmeans(data, K) to summarize the background as K samples.\n"
     ]
    },
    {
     "name": "stdout",
     "output_type": "stream",
     "text": [
      "Prima: (array([0, 1]), array([132,  38]))\n",
      "Dopo: (array([0, 1]), array([132, 132]))\n",
      "264 264\n"
     ]
    },
    {
     "data": {
      "application/vnd.jupyter.widget-view+json": {
       "model_id": "8b7abe659c5c40dcafcbf6b6c284682b",
       "version_major": 2,
       "version_minor": 0
      },
      "text/plain": [
       "  0%|          | 0/42 [00:00<?, ?it/s]"
      ]
     },
     "metadata": {},
     "output_type": "display_data"
    },
    {
     "name": "stderr",
     "output_type": "stream",
     "text": [
      "Using 264 background data samples could cause slower run times. Consider using shap.sample(data, K) or shap.kmeans(data, K) to summarize the background as K samples.\n"
     ]
    },
    {
     "name": "stdout",
     "output_type": "stream",
     "text": [
      "Dimensione degli SHAP values per seed 83: (2, 212, 30)\n",
      "Sensitivity: 0.5575757575757576\n",
      "Specificity: 0.46808510638297873\n",
      "Matrice di confusione per il seed 84 :\n",
      "[[92 73]\n",
      " [25 22]]\n",
      "Iterazione: 85\n",
      "0->Medium, 1->Poor\n",
      "\n",
      "Prima: (array([0, 1]), array([132,  37]))\n",
      "Dopo: (array([0, 1]), array([132, 132]))\n",
      "264 264\n"
     ]
    },
    {
     "data": {
      "application/vnd.jupyter.widget-view+json": {
       "model_id": "245e3a9e209645de98f7c220505a3361",
       "version_major": 2,
       "version_minor": 0
      },
      "text/plain": [
       "  0%|          | 0/43 [00:00<?, ?it/s]"
      ]
     },
     "metadata": {},
     "output_type": "display_data"
    },
    {
     "name": "stderr",
     "output_type": "stream",
     "text": [
      "Using 264 background data samples could cause slower run times. Consider using shap.sample(data, K) or shap.kmeans(data, K) to summarize the background as K samples.\n"
     ]
    },
    {
     "name": "stdout",
     "output_type": "stream",
     "text": [
      "Prima: (array([0, 1]), array([132,  37]))\n",
      "Dopo: (array([0, 1]), array([132, 132]))\n",
      "264 264\n"
     ]
    },
    {
     "data": {
      "application/vnd.jupyter.widget-view+json": {
       "model_id": "a84b998d27b0416f9ba72b551a48f407",
       "version_major": 2,
       "version_minor": 0
      },
      "text/plain": [
       "  0%|          | 0/43 [00:00<?, ?it/s]"
      ]
     },
     "metadata": {},
     "output_type": "display_data"
    },
    {
     "name": "stderr",
     "output_type": "stream",
     "text": [
      "Using 264 background data samples could cause slower run times. Consider using shap.sample(data, K) or shap.kmeans(data, K) to summarize the background as K samples.\n"
     ]
    },
    {
     "name": "stdout",
     "output_type": "stream",
     "text": [
      "Prima: (array([0, 1]), array([132,  38]))\n",
      "Dopo: (array([0, 1]), array([132, 132]))\n",
      "264 264\n"
     ]
    },
    {
     "data": {
      "application/vnd.jupyter.widget-view+json": {
       "model_id": "93ca29277ca44865bba3a964035de415",
       "version_major": 2,
       "version_minor": 0
      },
      "text/plain": [
       "  0%|          | 0/42 [00:00<?, ?it/s]"
      ]
     },
     "metadata": {},
     "output_type": "display_data"
    },
    {
     "name": "stderr",
     "output_type": "stream",
     "text": [
      "Using 264 background data samples could cause slower run times. Consider using shap.sample(data, K) or shap.kmeans(data, K) to summarize the background as K samples.\n"
     ]
    },
    {
     "name": "stdout",
     "output_type": "stream",
     "text": [
      "Prima: (array([0, 1]), array([132,  38]))\n",
      "Dopo: (array([0, 1]), array([132, 132]))\n",
      "264 264\n"
     ]
    },
    {
     "data": {
      "application/vnd.jupyter.widget-view+json": {
       "model_id": "ebdd0263b4134268ae5b0edc379873ac",
       "version_major": 2,
       "version_minor": 0
      },
      "text/plain": [
       "  0%|          | 0/42 [00:00<?, ?it/s]"
      ]
     },
     "metadata": {},
     "output_type": "display_data"
    },
    {
     "name": "stderr",
     "output_type": "stream",
     "text": [
      "Using 264 background data samples could cause slower run times. Consider using shap.sample(data, K) or shap.kmeans(data, K) to summarize the background as K samples.\n"
     ]
    },
    {
     "name": "stdout",
     "output_type": "stream",
     "text": [
      "Prima: (array([0, 1]), array([132,  38]))\n",
      "Dopo: (array([0, 1]), array([132, 132]))\n",
      "264 264\n"
     ]
    },
    {
     "data": {
      "application/vnd.jupyter.widget-view+json": {
       "model_id": "07f2a6d90d434047936bba0cde817fe0",
       "version_major": 2,
       "version_minor": 0
      },
      "text/plain": [
       "  0%|          | 0/42 [00:00<?, ?it/s]"
      ]
     },
     "metadata": {},
     "output_type": "display_data"
    },
    {
     "name": "stderr",
     "output_type": "stream",
     "text": [
      "Using 264 background data samples could cause slower run times. Consider using shap.sample(data, K) or shap.kmeans(data, K) to summarize the background as K samples.\n"
     ]
    },
    {
     "name": "stdout",
     "output_type": "stream",
     "text": [
      "Dimensione degli SHAP values per seed 84: (2, 212, 30)\n",
      "Sensitivity: 0.6242424242424243\n",
      "Specificity: 0.5106382978723404\n",
      "Matrice di confusione per il seed 85 :\n",
      "[[103  62]\n",
      " [ 23  24]]\n",
      "Iterazione: 86\n",
      "0->Medium, 1->Poor\n",
      "\n",
      "Prima: (array([0, 1]), array([132,  37]))\n",
      "Dopo: (array([0, 1]), array([132, 132]))\n",
      "264 264\n"
     ]
    },
    {
     "data": {
      "application/vnd.jupyter.widget-view+json": {
       "model_id": "973c8f8db5264531bda69e72bb553e19",
       "version_major": 2,
       "version_minor": 0
      },
      "text/plain": [
       "  0%|          | 0/43 [00:00<?, ?it/s]"
      ]
     },
     "metadata": {},
     "output_type": "display_data"
    },
    {
     "name": "stderr",
     "output_type": "stream",
     "text": [
      "Using 264 background data samples could cause slower run times. Consider using shap.sample(data, K) or shap.kmeans(data, K) to summarize the background as K samples.\n"
     ]
    },
    {
     "name": "stdout",
     "output_type": "stream",
     "text": [
      "Prima: (array([0, 1]), array([132,  37]))\n",
      "Dopo: (array([0, 1]), array([132, 132]))\n",
      "264 264\n"
     ]
    },
    {
     "data": {
      "application/vnd.jupyter.widget-view+json": {
       "model_id": "cc9cf364d44847c0900f5c8fc3050f5a",
       "version_major": 2,
       "version_minor": 0
      },
      "text/plain": [
       "  0%|          | 0/43 [00:00<?, ?it/s]"
      ]
     },
     "metadata": {},
     "output_type": "display_data"
    },
    {
     "name": "stderr",
     "output_type": "stream",
     "text": [
      "Using 264 background data samples could cause slower run times. Consider using shap.sample(data, K) or shap.kmeans(data, K) to summarize the background as K samples.\n"
     ]
    },
    {
     "name": "stdout",
     "output_type": "stream",
     "text": [
      "Prima: (array([0, 1]), array([132,  38]))\n",
      "Dopo: (array([0, 1]), array([132, 132]))\n",
      "264 264\n"
     ]
    },
    {
     "data": {
      "application/vnd.jupyter.widget-view+json": {
       "model_id": "c0c1ad2cb2f4447bb81c25fa54acb710",
       "version_major": 2,
       "version_minor": 0
      },
      "text/plain": [
       "  0%|          | 0/42 [00:00<?, ?it/s]"
      ]
     },
     "metadata": {},
     "output_type": "display_data"
    },
    {
     "name": "stderr",
     "output_type": "stream",
     "text": [
      "Using 264 background data samples could cause slower run times. Consider using shap.sample(data, K) or shap.kmeans(data, K) to summarize the background as K samples.\n"
     ]
    },
    {
     "name": "stdout",
     "output_type": "stream",
     "text": [
      "Prima: (array([0, 1]), array([132,  38]))\n",
      "Dopo: (array([0, 1]), array([132, 132]))\n",
      "264 264\n"
     ]
    },
    {
     "data": {
      "application/vnd.jupyter.widget-view+json": {
       "model_id": "d882f3fb036849a9a5bd56fd9fb5a699",
       "version_major": 2,
       "version_minor": 0
      },
      "text/plain": [
       "  0%|          | 0/42 [00:00<?, ?it/s]"
      ]
     },
     "metadata": {},
     "output_type": "display_data"
    },
    {
     "name": "stderr",
     "output_type": "stream",
     "text": [
      "Using 264 background data samples could cause slower run times. Consider using shap.sample(data, K) or shap.kmeans(data, K) to summarize the background as K samples.\n"
     ]
    },
    {
     "name": "stdout",
     "output_type": "stream",
     "text": [
      "Prima: (array([0, 1]), array([132,  38]))\n",
      "Dopo: (array([0, 1]), array([132, 132]))\n",
      "264 264\n"
     ]
    },
    {
     "data": {
      "application/vnd.jupyter.widget-view+json": {
       "model_id": "7965672efcfa448192561a131013f86f",
       "version_major": 2,
       "version_minor": 0
      },
      "text/plain": [
       "  0%|          | 0/42 [00:00<?, ?it/s]"
      ]
     },
     "metadata": {},
     "output_type": "display_data"
    },
    {
     "name": "stderr",
     "output_type": "stream",
     "text": [
      "Using 264 background data samples could cause slower run times. Consider using shap.sample(data, K) or shap.kmeans(data, K) to summarize the background as K samples.\n"
     ]
    },
    {
     "name": "stdout",
     "output_type": "stream",
     "text": [
      "Dimensione degli SHAP values per seed 85: (2, 212, 30)\n",
      "Sensitivity: 0.5757575757575758\n",
      "Specificity: 0.5106382978723404\n",
      "Matrice di confusione per il seed 86 :\n",
      "[[95 70]\n",
      " [23 24]]\n",
      "Iterazione: 87\n",
      "0->Medium, 1->Poor\n",
      "\n",
      "Prima: (array([0, 1]), array([132,  37]))\n",
      "Dopo: (array([0, 1]), array([132, 132]))\n",
      "264 264\n"
     ]
    },
    {
     "data": {
      "application/vnd.jupyter.widget-view+json": {
       "model_id": "9dce83a7a5754dbc80a37b6895ce4916",
       "version_major": 2,
       "version_minor": 0
      },
      "text/plain": [
       "  0%|          | 0/43 [00:00<?, ?it/s]"
      ]
     },
     "metadata": {},
     "output_type": "display_data"
    },
    {
     "name": "stderr",
     "output_type": "stream",
     "text": [
      "Using 264 background data samples could cause slower run times. Consider using shap.sample(data, K) or shap.kmeans(data, K) to summarize the background as K samples.\n"
     ]
    },
    {
     "name": "stdout",
     "output_type": "stream",
     "text": [
      "Prima: (array([0, 1]), array([132,  37]))\n",
      "Dopo: (array([0, 1]), array([132, 132]))\n",
      "264 264\n"
     ]
    },
    {
     "data": {
      "application/vnd.jupyter.widget-view+json": {
       "model_id": "69d7d0bf5aa447e0a53e1d6ae95fd2ae",
       "version_major": 2,
       "version_minor": 0
      },
      "text/plain": [
       "  0%|          | 0/43 [00:00<?, ?it/s]"
      ]
     },
     "metadata": {},
     "output_type": "display_data"
    },
    {
     "name": "stderr",
     "output_type": "stream",
     "text": [
      "Using 264 background data samples could cause slower run times. Consider using shap.sample(data, K) or shap.kmeans(data, K) to summarize the background as K samples.\n"
     ]
    },
    {
     "name": "stdout",
     "output_type": "stream",
     "text": [
      "Prima: (array([0, 1]), array([132,  38]))\n",
      "Dopo: (array([0, 1]), array([132, 132]))\n",
      "264 264\n"
     ]
    },
    {
     "data": {
      "application/vnd.jupyter.widget-view+json": {
       "model_id": "0abe71a6851e4278851ab189d9293011",
       "version_major": 2,
       "version_minor": 0
      },
      "text/plain": [
       "  0%|          | 0/42 [00:00<?, ?it/s]"
      ]
     },
     "metadata": {},
     "output_type": "display_data"
    },
    {
     "name": "stderr",
     "output_type": "stream",
     "text": [
      "Using 264 background data samples could cause slower run times. Consider using shap.sample(data, K) or shap.kmeans(data, K) to summarize the background as K samples.\n"
     ]
    },
    {
     "name": "stdout",
     "output_type": "stream",
     "text": [
      "Prima: (array([0, 1]), array([132,  38]))\n",
      "Dopo: (array([0, 1]), array([132, 132]))\n",
      "264 264\n"
     ]
    },
    {
     "data": {
      "application/vnd.jupyter.widget-view+json": {
       "model_id": "53631aa5ff4d408394e141b103ce8306",
       "version_major": 2,
       "version_minor": 0
      },
      "text/plain": [
       "  0%|          | 0/42 [00:00<?, ?it/s]"
      ]
     },
     "metadata": {},
     "output_type": "display_data"
    },
    {
     "name": "stderr",
     "output_type": "stream",
     "text": [
      "Using 264 background data samples could cause slower run times. Consider using shap.sample(data, K) or shap.kmeans(data, K) to summarize the background as K samples.\n"
     ]
    },
    {
     "name": "stdout",
     "output_type": "stream",
     "text": [
      "Prima: (array([0, 1]), array([132,  38]))\n",
      "Dopo: (array([0, 1]), array([132, 132]))\n",
      "264 264\n"
     ]
    },
    {
     "data": {
      "application/vnd.jupyter.widget-view+json": {
       "model_id": "8579ad8aafd74cafb6709a37894e79a2",
       "version_major": 2,
       "version_minor": 0
      },
      "text/plain": [
       "  0%|          | 0/42 [00:00<?, ?it/s]"
      ]
     },
     "metadata": {},
     "output_type": "display_data"
    },
    {
     "name": "stderr",
     "output_type": "stream",
     "text": [
      "Using 264 background data samples could cause slower run times. Consider using shap.sample(data, K) or shap.kmeans(data, K) to summarize the background as K samples.\n"
     ]
    },
    {
     "name": "stdout",
     "output_type": "stream",
     "text": [
      "Dimensione degli SHAP values per seed 86: (2, 212, 30)\n",
      "Sensitivity: 0.5878787878787879\n",
      "Specificity: 0.44680851063829785\n",
      "Matrice di confusione per il seed 87 :\n",
      "[[97 68]\n",
      " [26 21]]\n",
      "Iterazione: 88\n",
      "0->Medium, 1->Poor\n",
      "\n",
      "Prima: (array([0, 1]), array([132,  37]))\n",
      "Dopo: (array([0, 1]), array([132, 132]))\n",
      "264 264\n"
     ]
    },
    {
     "data": {
      "application/vnd.jupyter.widget-view+json": {
       "model_id": "58da489d22a8432d84cb6e73c1792cb9",
       "version_major": 2,
       "version_minor": 0
      },
      "text/plain": [
       "  0%|          | 0/43 [00:00<?, ?it/s]"
      ]
     },
     "metadata": {},
     "output_type": "display_data"
    },
    {
     "name": "stderr",
     "output_type": "stream",
     "text": [
      "Using 264 background data samples could cause slower run times. Consider using shap.sample(data, K) or shap.kmeans(data, K) to summarize the background as K samples.\n"
     ]
    },
    {
     "name": "stdout",
     "output_type": "stream",
     "text": [
      "Prima: (array([0, 1]), array([132,  37]))\n",
      "Dopo: (array([0, 1]), array([132, 132]))\n",
      "264 264\n"
     ]
    },
    {
     "data": {
      "application/vnd.jupyter.widget-view+json": {
       "model_id": "cb0263802e604d87a999e747c3e46a48",
       "version_major": 2,
       "version_minor": 0
      },
      "text/plain": [
       "  0%|          | 0/43 [00:00<?, ?it/s]"
      ]
     },
     "metadata": {},
     "output_type": "display_data"
    },
    {
     "name": "stderr",
     "output_type": "stream",
     "text": [
      "Using 264 background data samples could cause slower run times. Consider using shap.sample(data, K) or shap.kmeans(data, K) to summarize the background as K samples.\n"
     ]
    },
    {
     "name": "stdout",
     "output_type": "stream",
     "text": [
      "Prima: (array([0, 1]), array([132,  38]))\n",
      "Dopo: (array([0, 1]), array([132, 132]))\n",
      "264 264\n"
     ]
    },
    {
     "data": {
      "application/vnd.jupyter.widget-view+json": {
       "model_id": "ea431c550d57433099dfb0c298d58b06",
       "version_major": 2,
       "version_minor": 0
      },
      "text/plain": [
       "  0%|          | 0/42 [00:00<?, ?it/s]"
      ]
     },
     "metadata": {},
     "output_type": "display_data"
    },
    {
     "name": "stderr",
     "output_type": "stream",
     "text": [
      "Using 264 background data samples could cause slower run times. Consider using shap.sample(data, K) or shap.kmeans(data, K) to summarize the background as K samples.\n"
     ]
    },
    {
     "name": "stdout",
     "output_type": "stream",
     "text": [
      "Prima: (array([0, 1]), array([132,  38]))\n",
      "Dopo: (array([0, 1]), array([132, 132]))\n",
      "264 264\n"
     ]
    },
    {
     "data": {
      "application/vnd.jupyter.widget-view+json": {
       "model_id": "572afee3e6b9445880401f9cfca76ba3",
       "version_major": 2,
       "version_minor": 0
      },
      "text/plain": [
       "  0%|          | 0/42 [00:00<?, ?it/s]"
      ]
     },
     "metadata": {},
     "output_type": "display_data"
    },
    {
     "name": "stderr",
     "output_type": "stream",
     "text": [
      "Using 264 background data samples could cause slower run times. Consider using shap.sample(data, K) or shap.kmeans(data, K) to summarize the background as K samples.\n"
     ]
    },
    {
     "name": "stdout",
     "output_type": "stream",
     "text": [
      "Prima: (array([0, 1]), array([132,  38]))\n",
      "Dopo: (array([0, 1]), array([132, 132]))\n",
      "264 264\n"
     ]
    },
    {
     "data": {
      "application/vnd.jupyter.widget-view+json": {
       "model_id": "8e2037a19bc44fcaa9e721e3ed029e7a",
       "version_major": 2,
       "version_minor": 0
      },
      "text/plain": [
       "  0%|          | 0/42 [00:00<?, ?it/s]"
      ]
     },
     "metadata": {},
     "output_type": "display_data"
    },
    {
     "name": "stderr",
     "output_type": "stream",
     "text": [
      "Using 264 background data samples could cause slower run times. Consider using shap.sample(data, K) or shap.kmeans(data, K) to summarize the background as K samples.\n"
     ]
    },
    {
     "name": "stdout",
     "output_type": "stream",
     "text": [
      "Dimensione degli SHAP values per seed 87: (2, 212, 30)\n",
      "Sensitivity: 0.5575757575757576\n",
      "Specificity: 0.5106382978723404\n",
      "Matrice di confusione per il seed 88 :\n",
      "[[92 73]\n",
      " [23 24]]\n",
      "Iterazione: 89\n",
      "0->Medium, 1->Poor\n",
      "\n",
      "Prima: (array([0, 1]), array([132,  37]))\n",
      "Dopo: (array([0, 1]), array([132, 132]))\n",
      "264 264\n"
     ]
    },
    {
     "data": {
      "application/vnd.jupyter.widget-view+json": {
       "model_id": "4c0d0c91a60d435889bebb454b122965",
       "version_major": 2,
       "version_minor": 0
      },
      "text/plain": [
       "  0%|          | 0/43 [00:00<?, ?it/s]"
      ]
     },
     "metadata": {},
     "output_type": "display_data"
    },
    {
     "name": "stderr",
     "output_type": "stream",
     "text": [
      "Using 264 background data samples could cause slower run times. Consider using shap.sample(data, K) or shap.kmeans(data, K) to summarize the background as K samples.\n"
     ]
    },
    {
     "name": "stdout",
     "output_type": "stream",
     "text": [
      "Prima: (array([0, 1]), array([132,  37]))\n",
      "Dopo: (array([0, 1]), array([132, 132]))\n",
      "264 264\n"
     ]
    },
    {
     "data": {
      "application/vnd.jupyter.widget-view+json": {
       "model_id": "a5fbfa2c51f0445294c3412a0f750005",
       "version_major": 2,
       "version_minor": 0
      },
      "text/plain": [
       "  0%|          | 0/43 [00:00<?, ?it/s]"
      ]
     },
     "metadata": {},
     "output_type": "display_data"
    },
    {
     "name": "stderr",
     "output_type": "stream",
     "text": [
      "Using 264 background data samples could cause slower run times. Consider using shap.sample(data, K) or shap.kmeans(data, K) to summarize the background as K samples.\n"
     ]
    },
    {
     "name": "stdout",
     "output_type": "stream",
     "text": [
      "Prima: (array([0, 1]), array([132,  38]))\n",
      "Dopo: (array([0, 1]), array([132, 132]))\n",
      "264 264\n"
     ]
    },
    {
     "data": {
      "application/vnd.jupyter.widget-view+json": {
       "model_id": "19dee50688084e1ca7e2ef62d505b720",
       "version_major": 2,
       "version_minor": 0
      },
      "text/plain": [
       "  0%|          | 0/42 [00:00<?, ?it/s]"
      ]
     },
     "metadata": {},
     "output_type": "display_data"
    },
    {
     "name": "stderr",
     "output_type": "stream",
     "text": [
      "Using 264 background data samples could cause slower run times. Consider using shap.sample(data, K) or shap.kmeans(data, K) to summarize the background as K samples.\n"
     ]
    },
    {
     "name": "stdout",
     "output_type": "stream",
     "text": [
      "Prima: (array([0, 1]), array([132,  38]))\n",
      "Dopo: (array([0, 1]), array([132, 132]))\n",
      "264 264\n"
     ]
    },
    {
     "data": {
      "application/vnd.jupyter.widget-view+json": {
       "model_id": "c1b62c721af44038bede63f0a7779e43",
       "version_major": 2,
       "version_minor": 0
      },
      "text/plain": [
       "  0%|          | 0/42 [00:00<?, ?it/s]"
      ]
     },
     "metadata": {},
     "output_type": "display_data"
    },
    {
     "name": "stderr",
     "output_type": "stream",
     "text": [
      "Using 264 background data samples could cause slower run times. Consider using shap.sample(data, K) or shap.kmeans(data, K) to summarize the background as K samples.\n"
     ]
    },
    {
     "name": "stdout",
     "output_type": "stream",
     "text": [
      "Prima: (array([0, 1]), array([132,  38]))\n",
      "Dopo: (array([0, 1]), array([132, 132]))\n",
      "264 264\n"
     ]
    },
    {
     "data": {
      "application/vnd.jupyter.widget-view+json": {
       "model_id": "9f6636b079a641bfa5f88756f4800a06",
       "version_major": 2,
       "version_minor": 0
      },
      "text/plain": [
       "  0%|          | 0/42 [00:00<?, ?it/s]"
      ]
     },
     "metadata": {},
     "output_type": "display_data"
    },
    {
     "name": "stderr",
     "output_type": "stream",
     "text": [
      "Using 264 background data samples could cause slower run times. Consider using shap.sample(data, K) or shap.kmeans(data, K) to summarize the background as K samples.\n"
     ]
    },
    {
     "name": "stdout",
     "output_type": "stream",
     "text": [
      "Dimensione degli SHAP values per seed 88: (2, 212, 30)\n",
      "Sensitivity: 0.5515151515151515\n",
      "Specificity: 0.40425531914893614\n",
      "Matrice di confusione per il seed 89 :\n",
      "[[91 74]\n",
      " [28 19]]\n",
      "Iterazione: 90\n",
      "0->Medium, 1->Poor\n",
      "\n",
      "Prima: (array([0, 1]), array([132,  37]))\n",
      "Dopo: (array([0, 1]), array([132, 132]))\n",
      "264 264\n"
     ]
    },
    {
     "data": {
      "application/vnd.jupyter.widget-view+json": {
       "model_id": "0e409ce6655a4c7db5fdd22cbf17a00a",
       "version_major": 2,
       "version_minor": 0
      },
      "text/plain": [
       "  0%|          | 0/43 [00:00<?, ?it/s]"
      ]
     },
     "metadata": {},
     "output_type": "display_data"
    },
    {
     "name": "stderr",
     "output_type": "stream",
     "text": [
      "Using 264 background data samples could cause slower run times. Consider using shap.sample(data, K) or shap.kmeans(data, K) to summarize the background as K samples.\n"
     ]
    },
    {
     "name": "stdout",
     "output_type": "stream",
     "text": [
      "Prima: (array([0, 1]), array([132,  37]))\n",
      "Dopo: (array([0, 1]), array([132, 132]))\n",
      "264 264\n"
     ]
    },
    {
     "data": {
      "application/vnd.jupyter.widget-view+json": {
       "model_id": "c9f19a5229fe4164b663c1f0e99b6764",
       "version_major": 2,
       "version_minor": 0
      },
      "text/plain": [
       "  0%|          | 0/43 [00:00<?, ?it/s]"
      ]
     },
     "metadata": {},
     "output_type": "display_data"
    },
    {
     "name": "stderr",
     "output_type": "stream",
     "text": [
      "Using 264 background data samples could cause slower run times. Consider using shap.sample(data, K) or shap.kmeans(data, K) to summarize the background as K samples.\n"
     ]
    },
    {
     "name": "stdout",
     "output_type": "stream",
     "text": [
      "Prima: (array([0, 1]), array([132,  38]))\n",
      "Dopo: (array([0, 1]), array([132, 132]))\n",
      "264 264\n"
     ]
    },
    {
     "data": {
      "application/vnd.jupyter.widget-view+json": {
       "model_id": "296b5d4bcb544b4da5f430e129d7f9d3",
       "version_major": 2,
       "version_minor": 0
      },
      "text/plain": [
       "  0%|          | 0/42 [00:00<?, ?it/s]"
      ]
     },
     "metadata": {},
     "output_type": "display_data"
    },
    {
     "name": "stderr",
     "output_type": "stream",
     "text": [
      "Using 264 background data samples could cause slower run times. Consider using shap.sample(data, K) or shap.kmeans(data, K) to summarize the background as K samples.\n"
     ]
    },
    {
     "name": "stdout",
     "output_type": "stream",
     "text": [
      "Prima: (array([0, 1]), array([132,  38]))\n",
      "Dopo: (array([0, 1]), array([132, 132]))\n",
      "264 264\n"
     ]
    },
    {
     "data": {
      "application/vnd.jupyter.widget-view+json": {
       "model_id": "19d7f699409a4b039aa0b31c525119aa",
       "version_major": 2,
       "version_minor": 0
      },
      "text/plain": [
       "  0%|          | 0/42 [00:00<?, ?it/s]"
      ]
     },
     "metadata": {},
     "output_type": "display_data"
    },
    {
     "name": "stderr",
     "output_type": "stream",
     "text": [
      "Using 264 background data samples could cause slower run times. Consider using shap.sample(data, K) or shap.kmeans(data, K) to summarize the background as K samples.\n"
     ]
    },
    {
     "name": "stdout",
     "output_type": "stream",
     "text": [
      "Prima: (array([0, 1]), array([132,  38]))\n",
      "Dopo: (array([0, 1]), array([132, 132]))\n",
      "264 264\n"
     ]
    },
    {
     "data": {
      "application/vnd.jupyter.widget-view+json": {
       "model_id": "c668a96c2adf4d81be8a4c022054ab79",
       "version_major": 2,
       "version_minor": 0
      },
      "text/plain": [
       "  0%|          | 0/42 [00:00<?, ?it/s]"
      ]
     },
     "metadata": {},
     "output_type": "display_data"
    },
    {
     "name": "stderr",
     "output_type": "stream",
     "text": [
      "Using 264 background data samples could cause slower run times. Consider using shap.sample(data, K) or shap.kmeans(data, K) to summarize the background as K samples.\n"
     ]
    },
    {
     "name": "stdout",
     "output_type": "stream",
     "text": [
      "Dimensione degli SHAP values per seed 89: (2, 212, 30)\n",
      "Sensitivity: 0.5272727272727272\n",
      "Specificity: 0.44680851063829785\n",
      "Matrice di confusione per il seed 90 :\n",
      "[[87 78]\n",
      " [26 21]]\n",
      "Iterazione: 91\n",
      "0->Medium, 1->Poor\n",
      "\n",
      "Prima: (array([0, 1]), array([132,  37]))\n",
      "Dopo: (array([0, 1]), array([132, 132]))\n",
      "264 264\n"
     ]
    },
    {
     "data": {
      "application/vnd.jupyter.widget-view+json": {
       "model_id": "0a35771a350b482d9d97c690cfcb7222",
       "version_major": 2,
       "version_minor": 0
      },
      "text/plain": [
       "  0%|          | 0/43 [00:00<?, ?it/s]"
      ]
     },
     "metadata": {},
     "output_type": "display_data"
    },
    {
     "name": "stderr",
     "output_type": "stream",
     "text": [
      "Using 264 background data samples could cause slower run times. Consider using shap.sample(data, K) or shap.kmeans(data, K) to summarize the background as K samples.\n"
     ]
    },
    {
     "name": "stdout",
     "output_type": "stream",
     "text": [
      "Prima: (array([0, 1]), array([132,  37]))\n",
      "Dopo: (array([0, 1]), array([132, 132]))\n",
      "264 264\n"
     ]
    },
    {
     "data": {
      "application/vnd.jupyter.widget-view+json": {
       "model_id": "d8bf3baa198945c8ad935c2992f51eaf",
       "version_major": 2,
       "version_minor": 0
      },
      "text/plain": [
       "  0%|          | 0/43 [00:00<?, ?it/s]"
      ]
     },
     "metadata": {},
     "output_type": "display_data"
    },
    {
     "name": "stderr",
     "output_type": "stream",
     "text": [
      "Using 264 background data samples could cause slower run times. Consider using shap.sample(data, K) or shap.kmeans(data, K) to summarize the background as K samples.\n"
     ]
    },
    {
     "name": "stdout",
     "output_type": "stream",
     "text": [
      "Prima: (array([0, 1]), array([132,  38]))\n",
      "Dopo: (array([0, 1]), array([132, 132]))\n",
      "264 264\n"
     ]
    },
    {
     "data": {
      "application/vnd.jupyter.widget-view+json": {
       "model_id": "2e5c91c1450e4e68a142edd54b6844fa",
       "version_major": 2,
       "version_minor": 0
      },
      "text/plain": [
       "  0%|          | 0/42 [00:00<?, ?it/s]"
      ]
     },
     "metadata": {},
     "output_type": "display_data"
    },
    {
     "name": "stderr",
     "output_type": "stream",
     "text": [
      "Using 264 background data samples could cause slower run times. Consider using shap.sample(data, K) or shap.kmeans(data, K) to summarize the background as K samples.\n"
     ]
    },
    {
     "name": "stdout",
     "output_type": "stream",
     "text": [
      "Prima: (array([0, 1]), array([132,  38]))\n",
      "Dopo: (array([0, 1]), array([132, 132]))\n",
      "264 264\n"
     ]
    },
    {
     "data": {
      "application/vnd.jupyter.widget-view+json": {
       "model_id": "dad30a1271424896ad543ba53e79500e",
       "version_major": 2,
       "version_minor": 0
      },
      "text/plain": [
       "  0%|          | 0/42 [00:00<?, ?it/s]"
      ]
     },
     "metadata": {},
     "output_type": "display_data"
    },
    {
     "name": "stderr",
     "output_type": "stream",
     "text": [
      "Using 264 background data samples could cause slower run times. Consider using shap.sample(data, K) or shap.kmeans(data, K) to summarize the background as K samples.\n"
     ]
    },
    {
     "name": "stdout",
     "output_type": "stream",
     "text": [
      "Prima: (array([0, 1]), array([132,  38]))\n",
      "Dopo: (array([0, 1]), array([132, 132]))\n",
      "264 264\n"
     ]
    },
    {
     "data": {
      "application/vnd.jupyter.widget-view+json": {
       "model_id": "44b6a30c6863450d95ff43aa5b057803",
       "version_major": 2,
       "version_minor": 0
      },
      "text/plain": [
       "  0%|          | 0/42 [00:00<?, ?it/s]"
      ]
     },
     "metadata": {},
     "output_type": "display_data"
    },
    {
     "name": "stderr",
     "output_type": "stream",
     "text": [
      "Using 264 background data samples could cause slower run times. Consider using shap.sample(data, K) or shap.kmeans(data, K) to summarize the background as K samples.\n"
     ]
    },
    {
     "name": "stdout",
     "output_type": "stream",
     "text": [
      "Dimensione degli SHAP values per seed 90: (2, 212, 30)\n",
      "Sensitivity: 0.5575757575757576\n",
      "Specificity: 0.44680851063829785\n",
      "Matrice di confusione per il seed 91 :\n",
      "[[92 73]\n",
      " [26 21]]\n",
      "Iterazione: 92\n",
      "0->Medium, 1->Poor\n",
      "\n",
      "Prima: (array([0, 1]), array([132,  37]))\n",
      "Dopo: (array([0, 1]), array([132, 132]))\n",
      "264 264\n"
     ]
    },
    {
     "data": {
      "application/vnd.jupyter.widget-view+json": {
       "model_id": "aee055b0aa99410c848e9dc83b66d3b7",
       "version_major": 2,
       "version_minor": 0
      },
      "text/plain": [
       "  0%|          | 0/43 [00:00<?, ?it/s]"
      ]
     },
     "metadata": {},
     "output_type": "display_data"
    },
    {
     "name": "stderr",
     "output_type": "stream",
     "text": [
      "Using 264 background data samples could cause slower run times. Consider using shap.sample(data, K) or shap.kmeans(data, K) to summarize the background as K samples.\n"
     ]
    },
    {
     "name": "stdout",
     "output_type": "stream",
     "text": [
      "Prima: (array([0, 1]), array([132,  37]))\n",
      "Dopo: (array([0, 1]), array([132, 132]))\n",
      "264 264\n"
     ]
    },
    {
     "data": {
      "application/vnd.jupyter.widget-view+json": {
       "model_id": "96ef5c9a9bf045ca8552ddeefc11b85a",
       "version_major": 2,
       "version_minor": 0
      },
      "text/plain": [
       "  0%|          | 0/43 [00:00<?, ?it/s]"
      ]
     },
     "metadata": {},
     "output_type": "display_data"
    },
    {
     "name": "stderr",
     "output_type": "stream",
     "text": [
      "Using 264 background data samples could cause slower run times. Consider using shap.sample(data, K) or shap.kmeans(data, K) to summarize the background as K samples.\n"
     ]
    },
    {
     "name": "stdout",
     "output_type": "stream",
     "text": [
      "Prima: (array([0, 1]), array([132,  38]))\n",
      "Dopo: (array([0, 1]), array([132, 132]))\n",
      "264 264\n"
     ]
    },
    {
     "data": {
      "application/vnd.jupyter.widget-view+json": {
       "model_id": "35228a6291a2472cba1b12b33da6d8bc",
       "version_major": 2,
       "version_minor": 0
      },
      "text/plain": [
       "  0%|          | 0/42 [00:00<?, ?it/s]"
      ]
     },
     "metadata": {},
     "output_type": "display_data"
    },
    {
     "name": "stderr",
     "output_type": "stream",
     "text": [
      "Using 264 background data samples could cause slower run times. Consider using shap.sample(data, K) or shap.kmeans(data, K) to summarize the background as K samples.\n"
     ]
    },
    {
     "name": "stdout",
     "output_type": "stream",
     "text": [
      "Prima: (array([0, 1]), array([132,  38]))\n",
      "Dopo: (array([0, 1]), array([132, 132]))\n",
      "264 264\n"
     ]
    },
    {
     "data": {
      "application/vnd.jupyter.widget-view+json": {
       "model_id": "7324640090504538bc988b82585bf3e7",
       "version_major": 2,
       "version_minor": 0
      },
      "text/plain": [
       "  0%|          | 0/42 [00:00<?, ?it/s]"
      ]
     },
     "metadata": {},
     "output_type": "display_data"
    },
    {
     "name": "stderr",
     "output_type": "stream",
     "text": [
      "Using 264 background data samples could cause slower run times. Consider using shap.sample(data, K) or shap.kmeans(data, K) to summarize the background as K samples.\n"
     ]
    },
    {
     "name": "stdout",
     "output_type": "stream",
     "text": [
      "Prima: (array([0, 1]), array([132,  38]))\n",
      "Dopo: (array([0, 1]), array([132, 132]))\n",
      "264 264\n"
     ]
    },
    {
     "data": {
      "application/vnd.jupyter.widget-view+json": {
       "model_id": "9af42f78e7f44f26b5a695692ffa8cde",
       "version_major": 2,
       "version_minor": 0
      },
      "text/plain": [
       "  0%|          | 0/42 [00:00<?, ?it/s]"
      ]
     },
     "metadata": {},
     "output_type": "display_data"
    },
    {
     "name": "stderr",
     "output_type": "stream",
     "text": [
      "Using 264 background data samples could cause slower run times. Consider using shap.sample(data, K) or shap.kmeans(data, K) to summarize the background as K samples.\n"
     ]
    },
    {
     "name": "stdout",
     "output_type": "stream",
     "text": [
      "Dimensione degli SHAP values per seed 91: (2, 212, 30)\n",
      "Sensitivity: 0.5333333333333333\n",
      "Specificity: 0.44680851063829785\n",
      "Matrice di confusione per il seed 92 :\n",
      "[[88 77]\n",
      " [26 21]]\n",
      "Iterazione: 93\n",
      "0->Medium, 1->Poor\n",
      "\n",
      "Prima: (array([0, 1]), array([132,  37]))\n",
      "Dopo: (array([0, 1]), array([132, 132]))\n",
      "264 264\n"
     ]
    },
    {
     "data": {
      "application/vnd.jupyter.widget-view+json": {
       "model_id": "6fe53f85b2a84328b93353cd5538ba28",
       "version_major": 2,
       "version_minor": 0
      },
      "text/plain": [
       "  0%|          | 0/43 [00:00<?, ?it/s]"
      ]
     },
     "metadata": {},
     "output_type": "display_data"
    },
    {
     "name": "stderr",
     "output_type": "stream",
     "text": [
      "Using 264 background data samples could cause slower run times. Consider using shap.sample(data, K) or shap.kmeans(data, K) to summarize the background as K samples.\n"
     ]
    },
    {
     "name": "stdout",
     "output_type": "stream",
     "text": [
      "Prima: (array([0, 1]), array([132,  37]))\n",
      "Dopo: (array([0, 1]), array([132, 132]))\n",
      "264 264\n"
     ]
    },
    {
     "data": {
      "application/vnd.jupyter.widget-view+json": {
       "model_id": "b9e91943fadc4de4a70c7c9f0b85e1a7",
       "version_major": 2,
       "version_minor": 0
      },
      "text/plain": [
       "  0%|          | 0/43 [00:00<?, ?it/s]"
      ]
     },
     "metadata": {},
     "output_type": "display_data"
    },
    {
     "name": "stderr",
     "output_type": "stream",
     "text": [
      "Using 264 background data samples could cause slower run times. Consider using shap.sample(data, K) or shap.kmeans(data, K) to summarize the background as K samples.\n"
     ]
    },
    {
     "name": "stdout",
     "output_type": "stream",
     "text": [
      "Prima: (array([0, 1]), array([132,  38]))\n",
      "Dopo: (array([0, 1]), array([132, 132]))\n",
      "264 264\n"
     ]
    },
    {
     "data": {
      "application/vnd.jupyter.widget-view+json": {
       "model_id": "19cf7afa70a0463280e29958497c9857",
       "version_major": 2,
       "version_minor": 0
      },
      "text/plain": [
       "  0%|          | 0/42 [00:00<?, ?it/s]"
      ]
     },
     "metadata": {},
     "output_type": "display_data"
    },
    {
     "name": "stderr",
     "output_type": "stream",
     "text": [
      "Using 264 background data samples could cause slower run times. Consider using shap.sample(data, K) or shap.kmeans(data, K) to summarize the background as K samples.\n"
     ]
    },
    {
     "name": "stdout",
     "output_type": "stream",
     "text": [
      "Prima: (array([0, 1]), array([132,  38]))\n",
      "Dopo: (array([0, 1]), array([132, 132]))\n",
      "264 264\n"
     ]
    },
    {
     "data": {
      "application/vnd.jupyter.widget-view+json": {
       "model_id": "cb097ec083fc48dfbb639d2e5bc86c77",
       "version_major": 2,
       "version_minor": 0
      },
      "text/plain": [
       "  0%|          | 0/42 [00:00<?, ?it/s]"
      ]
     },
     "metadata": {},
     "output_type": "display_data"
    },
    {
     "name": "stderr",
     "output_type": "stream",
     "text": [
      "Using 264 background data samples could cause slower run times. Consider using shap.sample(data, K) or shap.kmeans(data, K) to summarize the background as K samples.\n"
     ]
    },
    {
     "name": "stdout",
     "output_type": "stream",
     "text": [
      "Prima: (array([0, 1]), array([132,  38]))\n",
      "Dopo: (array([0, 1]), array([132, 132]))\n",
      "264 264\n"
     ]
    },
    {
     "data": {
      "application/vnd.jupyter.widget-view+json": {
       "model_id": "119a98f63cdf4cc59a78f15ebba95ac8",
       "version_major": 2,
       "version_minor": 0
      },
      "text/plain": [
       "  0%|          | 0/42 [00:00<?, ?it/s]"
      ]
     },
     "metadata": {},
     "output_type": "display_data"
    },
    {
     "name": "stderr",
     "output_type": "stream",
     "text": [
      "Using 264 background data samples could cause slower run times. Consider using shap.sample(data, K) or shap.kmeans(data, K) to summarize the background as K samples.\n"
     ]
    },
    {
     "name": "stdout",
     "output_type": "stream",
     "text": [
      "Dimensione degli SHAP values per seed 92: (2, 212, 30)\n",
      "Sensitivity: 0.6060606060606061\n",
      "Specificity: 0.3404255319148936\n",
      "Matrice di confusione per il seed 93 :\n",
      "[[100  65]\n",
      " [ 31  16]]\n",
      "Iterazione: 94\n",
      "0->Medium, 1->Poor\n",
      "\n",
      "Prima: (array([0, 1]), array([132,  37]))\n",
      "Dopo: (array([0, 1]), array([132, 132]))\n",
      "264 264\n"
     ]
    },
    {
     "data": {
      "application/vnd.jupyter.widget-view+json": {
       "model_id": "c0354826b49143d6b01c2f234b01a250",
       "version_major": 2,
       "version_minor": 0
      },
      "text/plain": [
       "  0%|          | 0/43 [00:00<?, ?it/s]"
      ]
     },
     "metadata": {},
     "output_type": "display_data"
    },
    {
     "name": "stderr",
     "output_type": "stream",
     "text": [
      "Using 264 background data samples could cause slower run times. Consider using shap.sample(data, K) or shap.kmeans(data, K) to summarize the background as K samples.\n"
     ]
    },
    {
     "name": "stdout",
     "output_type": "stream",
     "text": [
      "Prima: (array([0, 1]), array([132,  37]))\n",
      "Dopo: (array([0, 1]), array([132, 132]))\n",
      "264 264\n"
     ]
    },
    {
     "data": {
      "application/vnd.jupyter.widget-view+json": {
       "model_id": "ce58ce799e584f76b98ad914b674253b",
       "version_major": 2,
       "version_minor": 0
      },
      "text/plain": [
       "  0%|          | 0/43 [00:00<?, ?it/s]"
      ]
     },
     "metadata": {},
     "output_type": "display_data"
    },
    {
     "name": "stderr",
     "output_type": "stream",
     "text": [
      "Using 264 background data samples could cause slower run times. Consider using shap.sample(data, K) or shap.kmeans(data, K) to summarize the background as K samples.\n"
     ]
    },
    {
     "name": "stdout",
     "output_type": "stream",
     "text": [
      "Prima: (array([0, 1]), array([132,  38]))\n",
      "Dopo: (array([0, 1]), array([132, 132]))\n",
      "264 264\n"
     ]
    },
    {
     "data": {
      "application/vnd.jupyter.widget-view+json": {
       "model_id": "87f9d5d5bee744d69b7b2e66efe785be",
       "version_major": 2,
       "version_minor": 0
      },
      "text/plain": [
       "  0%|          | 0/42 [00:00<?, ?it/s]"
      ]
     },
     "metadata": {},
     "output_type": "display_data"
    },
    {
     "name": "stderr",
     "output_type": "stream",
     "text": [
      "Using 264 background data samples could cause slower run times. Consider using shap.sample(data, K) or shap.kmeans(data, K) to summarize the background as K samples.\n"
     ]
    },
    {
     "name": "stdout",
     "output_type": "stream",
     "text": [
      "Prima: (array([0, 1]), array([132,  38]))\n",
      "Dopo: (array([0, 1]), array([132, 132]))\n",
      "264 264\n"
     ]
    },
    {
     "data": {
      "application/vnd.jupyter.widget-view+json": {
       "model_id": "10053235349242d3a07685e86e7dd6fd",
       "version_major": 2,
       "version_minor": 0
      },
      "text/plain": [
       "  0%|          | 0/42 [00:00<?, ?it/s]"
      ]
     },
     "metadata": {},
     "output_type": "display_data"
    },
    {
     "name": "stderr",
     "output_type": "stream",
     "text": [
      "Using 264 background data samples could cause slower run times. Consider using shap.sample(data, K) or shap.kmeans(data, K) to summarize the background as K samples.\n"
     ]
    },
    {
     "name": "stdout",
     "output_type": "stream",
     "text": [
      "Prima: (array([0, 1]), array([132,  38]))\n",
      "Dopo: (array([0, 1]), array([132, 132]))\n",
      "264 264\n"
     ]
    },
    {
     "data": {
      "application/vnd.jupyter.widget-view+json": {
       "model_id": "aa4c699cfe2a4e34aef6f1044bbc24c7",
       "version_major": 2,
       "version_minor": 0
      },
      "text/plain": [
       "  0%|          | 0/42 [00:00<?, ?it/s]"
      ]
     },
     "metadata": {},
     "output_type": "display_data"
    },
    {
     "name": "stderr",
     "output_type": "stream",
     "text": [
      "Using 264 background data samples could cause slower run times. Consider using shap.sample(data, K) or shap.kmeans(data, K) to summarize the background as K samples.\n"
     ]
    },
    {
     "name": "stdout",
     "output_type": "stream",
     "text": [
      "Dimensione degli SHAP values per seed 93: (2, 212, 30)\n",
      "Sensitivity: 0.5878787878787879\n",
      "Specificity: 0.5319148936170213\n",
      "Matrice di confusione per il seed 94 :\n",
      "[[97 68]\n",
      " [22 25]]\n",
      "Iterazione: 95\n",
      "0->Medium, 1->Poor\n",
      "\n",
      "Prima: (array([0, 1]), array([132,  37]))\n",
      "Dopo: (array([0, 1]), array([132, 132]))\n",
      "264 264\n"
     ]
    },
    {
     "data": {
      "application/vnd.jupyter.widget-view+json": {
       "model_id": "8c5811be78a442f5980f3f282943955f",
       "version_major": 2,
       "version_minor": 0
      },
      "text/plain": [
       "  0%|          | 0/43 [00:00<?, ?it/s]"
      ]
     },
     "metadata": {},
     "output_type": "display_data"
    },
    {
     "name": "stderr",
     "output_type": "stream",
     "text": [
      "Using 264 background data samples could cause slower run times. Consider using shap.sample(data, K) or shap.kmeans(data, K) to summarize the background as K samples.\n"
     ]
    },
    {
     "name": "stdout",
     "output_type": "stream",
     "text": [
      "Prima: (array([0, 1]), array([132,  37]))\n",
      "Dopo: (array([0, 1]), array([132, 132]))\n",
      "264 264\n"
     ]
    },
    {
     "data": {
      "application/vnd.jupyter.widget-view+json": {
       "model_id": "2f384005f68840409e83ff0d244e5785",
       "version_major": 2,
       "version_minor": 0
      },
      "text/plain": [
       "  0%|          | 0/43 [00:00<?, ?it/s]"
      ]
     },
     "metadata": {},
     "output_type": "display_data"
    },
    {
     "name": "stderr",
     "output_type": "stream",
     "text": [
      "Using 264 background data samples could cause slower run times. Consider using shap.sample(data, K) or shap.kmeans(data, K) to summarize the background as K samples.\n"
     ]
    },
    {
     "name": "stdout",
     "output_type": "stream",
     "text": [
      "Prima: (array([0, 1]), array([132,  38]))\n",
      "Dopo: (array([0, 1]), array([132, 132]))\n",
      "264 264\n"
     ]
    },
    {
     "data": {
      "application/vnd.jupyter.widget-view+json": {
       "model_id": "bc59d0d211254477914a67bc7b53d72f",
       "version_major": 2,
       "version_minor": 0
      },
      "text/plain": [
       "  0%|          | 0/42 [00:00<?, ?it/s]"
      ]
     },
     "metadata": {},
     "output_type": "display_data"
    },
    {
     "name": "stderr",
     "output_type": "stream",
     "text": [
      "Using 264 background data samples could cause slower run times. Consider using shap.sample(data, K) or shap.kmeans(data, K) to summarize the background as K samples.\n"
     ]
    },
    {
     "name": "stdout",
     "output_type": "stream",
     "text": [
      "Prima: (array([0, 1]), array([132,  38]))\n",
      "Dopo: (array([0, 1]), array([132, 132]))\n",
      "264 264\n"
     ]
    },
    {
     "data": {
      "application/vnd.jupyter.widget-view+json": {
       "model_id": "ba7c8f39fd9d43bc9db4d280127e6242",
       "version_major": 2,
       "version_minor": 0
      },
      "text/plain": [
       "  0%|          | 0/42 [00:00<?, ?it/s]"
      ]
     },
     "metadata": {},
     "output_type": "display_data"
    },
    {
     "name": "stderr",
     "output_type": "stream",
     "text": [
      "Using 264 background data samples could cause slower run times. Consider using shap.sample(data, K) or shap.kmeans(data, K) to summarize the background as K samples.\n"
     ]
    },
    {
     "name": "stdout",
     "output_type": "stream",
     "text": [
      "Prima: (array([0, 1]), array([132,  38]))\n",
      "Dopo: (array([0, 1]), array([132, 132]))\n",
      "264 264\n"
     ]
    },
    {
     "data": {
      "application/vnd.jupyter.widget-view+json": {
       "model_id": "efe3d9d1948c478ba6960642faf2e1aa",
       "version_major": 2,
       "version_minor": 0
      },
      "text/plain": [
       "  0%|          | 0/42 [00:00<?, ?it/s]"
      ]
     },
     "metadata": {},
     "output_type": "display_data"
    },
    {
     "name": "stderr",
     "output_type": "stream",
     "text": [
      "Using 264 background data samples could cause slower run times. Consider using shap.sample(data, K) or shap.kmeans(data, K) to summarize the background as K samples.\n"
     ]
    },
    {
     "name": "stdout",
     "output_type": "stream",
     "text": [
      "Dimensione degli SHAP values per seed 94: (2, 212, 30)\n",
      "Sensitivity: 0.6363636363636364\n",
      "Specificity: 0.3404255319148936\n",
      "Matrice di confusione per il seed 95 :\n",
      "[[105  60]\n",
      " [ 31  16]]\n",
      "Iterazione: 96\n",
      "0->Medium, 1->Poor\n",
      "\n",
      "Prima: (array([0, 1]), array([132,  37]))\n",
      "Dopo: (array([0, 1]), array([132, 132]))\n",
      "264 264\n"
     ]
    },
    {
     "data": {
      "application/vnd.jupyter.widget-view+json": {
       "model_id": "6fb67282604b498caa8775ed3eb7d885",
       "version_major": 2,
       "version_minor": 0
      },
      "text/plain": [
       "  0%|          | 0/43 [00:00<?, ?it/s]"
      ]
     },
     "metadata": {},
     "output_type": "display_data"
    },
    {
     "name": "stderr",
     "output_type": "stream",
     "text": [
      "Using 264 background data samples could cause slower run times. Consider using shap.sample(data, K) or shap.kmeans(data, K) to summarize the background as K samples.\n"
     ]
    },
    {
     "name": "stdout",
     "output_type": "stream",
     "text": [
      "Prima: (array([0, 1]), array([132,  37]))\n",
      "Dopo: (array([0, 1]), array([132, 132]))\n",
      "264 264\n"
     ]
    },
    {
     "data": {
      "application/vnd.jupyter.widget-view+json": {
       "model_id": "6ef45e7fba4d47febbf406c4e294493b",
       "version_major": 2,
       "version_minor": 0
      },
      "text/plain": [
       "  0%|          | 0/43 [00:00<?, ?it/s]"
      ]
     },
     "metadata": {},
     "output_type": "display_data"
    },
    {
     "name": "stderr",
     "output_type": "stream",
     "text": [
      "Using 264 background data samples could cause slower run times. Consider using shap.sample(data, K) or shap.kmeans(data, K) to summarize the background as K samples.\n"
     ]
    },
    {
     "name": "stdout",
     "output_type": "stream",
     "text": [
      "Prima: (array([0, 1]), array([132,  38]))\n",
      "Dopo: (array([0, 1]), array([132, 132]))\n",
      "264 264\n"
     ]
    },
    {
     "data": {
      "application/vnd.jupyter.widget-view+json": {
       "model_id": "f902b50918434073ba0605b441cb1f2c",
       "version_major": 2,
       "version_minor": 0
      },
      "text/plain": [
       "  0%|          | 0/42 [00:00<?, ?it/s]"
      ]
     },
     "metadata": {},
     "output_type": "display_data"
    },
    {
     "name": "stderr",
     "output_type": "stream",
     "text": [
      "Using 264 background data samples could cause slower run times. Consider using shap.sample(data, K) or shap.kmeans(data, K) to summarize the background as K samples.\n"
     ]
    },
    {
     "name": "stdout",
     "output_type": "stream",
     "text": [
      "Prima: (array([0, 1]), array([132,  38]))\n",
      "Dopo: (array([0, 1]), array([132, 132]))\n",
      "264 264\n"
     ]
    },
    {
     "data": {
      "application/vnd.jupyter.widget-view+json": {
       "model_id": "8399016dc4aa4ef1b1afbbc398b4dd83",
       "version_major": 2,
       "version_minor": 0
      },
      "text/plain": [
       "  0%|          | 0/42 [00:00<?, ?it/s]"
      ]
     },
     "metadata": {},
     "output_type": "display_data"
    },
    {
     "name": "stderr",
     "output_type": "stream",
     "text": [
      "Using 264 background data samples could cause slower run times. Consider using shap.sample(data, K) or shap.kmeans(data, K) to summarize the background as K samples.\n"
     ]
    },
    {
     "name": "stdout",
     "output_type": "stream",
     "text": [
      "Prima: (array([0, 1]), array([132,  38]))\n",
      "Dopo: (array([0, 1]), array([132, 132]))\n",
      "264 264\n"
     ]
    },
    {
     "data": {
      "application/vnd.jupyter.widget-view+json": {
       "model_id": "2d9f58856fbb4bbcac8b9173fb5a70c9",
       "version_major": 2,
       "version_minor": 0
      },
      "text/plain": [
       "  0%|          | 0/42 [00:00<?, ?it/s]"
      ]
     },
     "metadata": {},
     "output_type": "display_data"
    },
    {
     "name": "stderr",
     "output_type": "stream",
     "text": [
      "Using 264 background data samples could cause slower run times. Consider using shap.sample(data, K) or shap.kmeans(data, K) to summarize the background as K samples.\n"
     ]
    },
    {
     "name": "stdout",
     "output_type": "stream",
     "text": [
      "Dimensione degli SHAP values per seed 95: (2, 212, 30)\n",
      "Sensitivity: 0.503030303030303\n",
      "Specificity: 0.5319148936170213\n",
      "Matrice di confusione per il seed 96 :\n",
      "[[83 82]\n",
      " [22 25]]\n",
      "Iterazione: 97\n",
      "0->Medium, 1->Poor\n",
      "\n",
      "Prima: (array([0, 1]), array([132,  37]))\n",
      "Dopo: (array([0, 1]), array([132, 132]))\n",
      "264 264\n"
     ]
    },
    {
     "data": {
      "application/vnd.jupyter.widget-view+json": {
       "model_id": "9b6c1b100c234eeaa1b453c4eae1b794",
       "version_major": 2,
       "version_minor": 0
      },
      "text/plain": [
       "  0%|          | 0/43 [00:00<?, ?it/s]"
      ]
     },
     "metadata": {},
     "output_type": "display_data"
    },
    {
     "name": "stderr",
     "output_type": "stream",
     "text": [
      "Using 264 background data samples could cause slower run times. Consider using shap.sample(data, K) or shap.kmeans(data, K) to summarize the background as K samples.\n"
     ]
    },
    {
     "name": "stdout",
     "output_type": "stream",
     "text": [
      "Prima: (array([0, 1]), array([132,  37]))\n",
      "Dopo: (array([0, 1]), array([132, 132]))\n",
      "264 264\n"
     ]
    },
    {
     "data": {
      "application/vnd.jupyter.widget-view+json": {
       "model_id": "b9ae3c7d86844551ad1099f6522265fa",
       "version_major": 2,
       "version_minor": 0
      },
      "text/plain": [
       "  0%|          | 0/43 [00:00<?, ?it/s]"
      ]
     },
     "metadata": {},
     "output_type": "display_data"
    },
    {
     "name": "stderr",
     "output_type": "stream",
     "text": [
      "Using 264 background data samples could cause slower run times. Consider using shap.sample(data, K) or shap.kmeans(data, K) to summarize the background as K samples.\n"
     ]
    },
    {
     "name": "stdout",
     "output_type": "stream",
     "text": [
      "Prima: (array([0, 1]), array([132,  38]))\n",
      "Dopo: (array([0, 1]), array([132, 132]))\n",
      "264 264\n"
     ]
    },
    {
     "data": {
      "application/vnd.jupyter.widget-view+json": {
       "model_id": "7b3eb95f74144f0b84c8e5a08e5ac7b7",
       "version_major": 2,
       "version_minor": 0
      },
      "text/plain": [
       "  0%|          | 0/42 [00:00<?, ?it/s]"
      ]
     },
     "metadata": {},
     "output_type": "display_data"
    },
    {
     "name": "stderr",
     "output_type": "stream",
     "text": [
      "Using 264 background data samples could cause slower run times. Consider using shap.sample(data, K) or shap.kmeans(data, K) to summarize the background as K samples.\n"
     ]
    },
    {
     "name": "stdout",
     "output_type": "stream",
     "text": [
      "Prima: (array([0, 1]), array([132,  38]))\n",
      "Dopo: (array([0, 1]), array([132, 132]))\n",
      "264 264\n"
     ]
    },
    {
     "data": {
      "application/vnd.jupyter.widget-view+json": {
       "model_id": "29e1f0643c9448359ff124003349ee3d",
       "version_major": 2,
       "version_minor": 0
      },
      "text/plain": [
       "  0%|          | 0/42 [00:00<?, ?it/s]"
      ]
     },
     "metadata": {},
     "output_type": "display_data"
    },
    {
     "name": "stderr",
     "output_type": "stream",
     "text": [
      "Using 264 background data samples could cause slower run times. Consider using shap.sample(data, K) or shap.kmeans(data, K) to summarize the background as K samples.\n"
     ]
    },
    {
     "name": "stdout",
     "output_type": "stream",
     "text": [
      "Prima: (array([0, 1]), array([132,  38]))\n",
      "Dopo: (array([0, 1]), array([132, 132]))\n",
      "264 264\n"
     ]
    },
    {
     "data": {
      "application/vnd.jupyter.widget-view+json": {
       "model_id": "eae9be94dd1e445eac0fa633853ce99a",
       "version_major": 2,
       "version_minor": 0
      },
      "text/plain": [
       "  0%|          | 0/42 [00:00<?, ?it/s]"
      ]
     },
     "metadata": {},
     "output_type": "display_data"
    },
    {
     "name": "stderr",
     "output_type": "stream",
     "text": [
      "Using 264 background data samples could cause slower run times. Consider using shap.sample(data, K) or shap.kmeans(data, K) to summarize the background as K samples.\n"
     ]
    },
    {
     "name": "stdout",
     "output_type": "stream",
     "text": [
      "Dimensione degli SHAP values per seed 96: (2, 212, 30)\n",
      "Sensitivity: 0.6242424242424243\n",
      "Specificity: 0.425531914893617\n",
      "Matrice di confusione per il seed 97 :\n",
      "[[103  62]\n",
      " [ 27  20]]\n",
      "Iterazione: 98\n",
      "0->Medium, 1->Poor\n",
      "\n",
      "Prima: (array([0, 1]), array([132,  37]))\n",
      "Dopo: (array([0, 1]), array([132, 132]))\n",
      "264 264\n"
     ]
    },
    {
     "data": {
      "application/vnd.jupyter.widget-view+json": {
       "model_id": "09cc003a597045d7b06649e8454aea9c",
       "version_major": 2,
       "version_minor": 0
      },
      "text/plain": [
       "  0%|          | 0/43 [00:00<?, ?it/s]"
      ]
     },
     "metadata": {},
     "output_type": "display_data"
    },
    {
     "name": "stderr",
     "output_type": "stream",
     "text": [
      "Using 264 background data samples could cause slower run times. Consider using shap.sample(data, K) or shap.kmeans(data, K) to summarize the background as K samples.\n"
     ]
    },
    {
     "name": "stdout",
     "output_type": "stream",
     "text": [
      "Prima: (array([0, 1]), array([132,  37]))\n",
      "Dopo: (array([0, 1]), array([132, 132]))\n",
      "264 264\n"
     ]
    },
    {
     "data": {
      "application/vnd.jupyter.widget-view+json": {
       "model_id": "f8c0e1cded8d401b9f323f98438d5a71",
       "version_major": 2,
       "version_minor": 0
      },
      "text/plain": [
       "  0%|          | 0/43 [00:00<?, ?it/s]"
      ]
     },
     "metadata": {},
     "output_type": "display_data"
    },
    {
     "name": "stderr",
     "output_type": "stream",
     "text": [
      "Using 264 background data samples could cause slower run times. Consider using shap.sample(data, K) or shap.kmeans(data, K) to summarize the background as K samples.\n"
     ]
    },
    {
     "name": "stdout",
     "output_type": "stream",
     "text": [
      "Prima: (array([0, 1]), array([132,  38]))\n",
      "Dopo: (array([0, 1]), array([132, 132]))\n",
      "264 264\n"
     ]
    },
    {
     "data": {
      "application/vnd.jupyter.widget-view+json": {
       "model_id": "2003a47f717341569e4e0ed2c4d01025",
       "version_major": 2,
       "version_minor": 0
      },
      "text/plain": [
       "  0%|          | 0/42 [00:00<?, ?it/s]"
      ]
     },
     "metadata": {},
     "output_type": "display_data"
    },
    {
     "name": "stderr",
     "output_type": "stream",
     "text": [
      "Using 264 background data samples could cause slower run times. Consider using shap.sample(data, K) or shap.kmeans(data, K) to summarize the background as K samples.\n"
     ]
    },
    {
     "name": "stdout",
     "output_type": "stream",
     "text": [
      "Prima: (array([0, 1]), array([132,  38]))\n",
      "Dopo: (array([0, 1]), array([132, 132]))\n",
      "264 264\n"
     ]
    },
    {
     "data": {
      "application/vnd.jupyter.widget-view+json": {
       "model_id": "612fcc57162543a496ad129e67cbb475",
       "version_major": 2,
       "version_minor": 0
      },
      "text/plain": [
       "  0%|          | 0/42 [00:00<?, ?it/s]"
      ]
     },
     "metadata": {},
     "output_type": "display_data"
    },
    {
     "name": "stderr",
     "output_type": "stream",
     "text": [
      "Using 264 background data samples could cause slower run times. Consider using shap.sample(data, K) or shap.kmeans(data, K) to summarize the background as K samples.\n"
     ]
    },
    {
     "name": "stdout",
     "output_type": "stream",
     "text": [
      "Prima: (array([0, 1]), array([132,  38]))\n",
      "Dopo: (array([0, 1]), array([132, 132]))\n",
      "264 264\n"
     ]
    },
    {
     "data": {
      "application/vnd.jupyter.widget-view+json": {
       "model_id": "3434d57db7cb48e0adb0e2baf91809bd",
       "version_major": 2,
       "version_minor": 0
      },
      "text/plain": [
       "  0%|          | 0/42 [00:00<?, ?it/s]"
      ]
     },
     "metadata": {},
     "output_type": "display_data"
    },
    {
     "name": "stderr",
     "output_type": "stream",
     "text": [
      "Using 264 background data samples could cause slower run times. Consider using shap.sample(data, K) or shap.kmeans(data, K) to summarize the background as K samples.\n"
     ]
    },
    {
     "name": "stdout",
     "output_type": "stream",
     "text": [
      "Dimensione degli SHAP values per seed 97: (2, 212, 30)\n",
      "Sensitivity: 0.5696969696969697\n",
      "Specificity: 0.5319148936170213\n",
      "Matrice di confusione per il seed 98 :\n",
      "[[94 71]\n",
      " [22 25]]\n",
      "Iterazione: 99\n",
      "0->Medium, 1->Poor\n",
      "\n",
      "Prima: (array([0, 1]), array([132,  37]))\n",
      "Dopo: (array([0, 1]), array([132, 132]))\n",
      "264 264\n"
     ]
    },
    {
     "data": {
      "application/vnd.jupyter.widget-view+json": {
       "model_id": "864939875c134328b53c9c01748a8f23",
       "version_major": 2,
       "version_minor": 0
      },
      "text/plain": [
       "  0%|          | 0/43 [00:00<?, ?it/s]"
      ]
     },
     "metadata": {},
     "output_type": "display_data"
    },
    {
     "name": "stderr",
     "output_type": "stream",
     "text": [
      "Using 264 background data samples could cause slower run times. Consider using shap.sample(data, K) or shap.kmeans(data, K) to summarize the background as K samples.\n"
     ]
    },
    {
     "name": "stdout",
     "output_type": "stream",
     "text": [
      "Prima: (array([0, 1]), array([132,  37]))\n",
      "Dopo: (array([0, 1]), array([132, 132]))\n",
      "264 264\n"
     ]
    },
    {
     "data": {
      "application/vnd.jupyter.widget-view+json": {
       "model_id": "669151cf26164433817e901be76dcd3c",
       "version_major": 2,
       "version_minor": 0
      },
      "text/plain": [
       "  0%|          | 0/43 [00:00<?, ?it/s]"
      ]
     },
     "metadata": {},
     "output_type": "display_data"
    },
    {
     "name": "stderr",
     "output_type": "stream",
     "text": [
      "Using 264 background data samples could cause slower run times. Consider using shap.sample(data, K) or shap.kmeans(data, K) to summarize the background as K samples.\n"
     ]
    },
    {
     "name": "stdout",
     "output_type": "stream",
     "text": [
      "Prima: (array([0, 1]), array([132,  38]))\n",
      "Dopo: (array([0, 1]), array([132, 132]))\n",
      "264 264\n"
     ]
    },
    {
     "data": {
      "application/vnd.jupyter.widget-view+json": {
       "model_id": "5eaf9df7d920453b85843e7c1a39e5d0",
       "version_major": 2,
       "version_minor": 0
      },
      "text/plain": [
       "  0%|          | 0/42 [00:00<?, ?it/s]"
      ]
     },
     "metadata": {},
     "output_type": "display_data"
    },
    {
     "name": "stderr",
     "output_type": "stream",
     "text": [
      "Using 264 background data samples could cause slower run times. Consider using shap.sample(data, K) or shap.kmeans(data, K) to summarize the background as K samples.\n"
     ]
    },
    {
     "name": "stdout",
     "output_type": "stream",
     "text": [
      "Prima: (array([0, 1]), array([132,  38]))\n",
      "Dopo: (array([0, 1]), array([132, 132]))\n",
      "264 264\n"
     ]
    },
    {
     "data": {
      "application/vnd.jupyter.widget-view+json": {
       "model_id": "3ab985c5ebe64942a39f1714cb62d348",
       "version_major": 2,
       "version_minor": 0
      },
      "text/plain": [
       "  0%|          | 0/42 [00:00<?, ?it/s]"
      ]
     },
     "metadata": {},
     "output_type": "display_data"
    },
    {
     "name": "stderr",
     "output_type": "stream",
     "text": [
      "Using 264 background data samples could cause slower run times. Consider using shap.sample(data, K) or shap.kmeans(data, K) to summarize the background as K samples.\n"
     ]
    },
    {
     "name": "stdout",
     "output_type": "stream",
     "text": [
      "Prima: (array([0, 1]), array([132,  38]))\n",
      "Dopo: (array([0, 1]), array([132, 132]))\n",
      "264 264\n"
     ]
    },
    {
     "data": {
      "application/vnd.jupyter.widget-view+json": {
       "model_id": "eb0a00fad7f843c3a61ebbdf6b198e8d",
       "version_major": 2,
       "version_minor": 0
      },
      "text/plain": [
       "  0%|          | 0/42 [00:00<?, ?it/s]"
      ]
     },
     "metadata": {},
     "output_type": "display_data"
    },
    {
     "name": "stderr",
     "output_type": "stream",
     "text": [
      "Using 264 background data samples could cause slower run times. Consider using shap.sample(data, K) or shap.kmeans(data, K) to summarize the background as K samples.\n"
     ]
    },
    {
     "name": "stdout",
     "output_type": "stream",
     "text": [
      "Dimensione degli SHAP values per seed 98: (2, 212, 30)\n",
      "Sensitivity: 0.6\n",
      "Specificity: 0.5106382978723404\n",
      "Matrice di confusione per il seed 99 :\n",
      "[[99 66]\n",
      " [23 24]]\n",
      "Iterazione: 100\n",
      "0->Medium, 1->Poor\n",
      "\n",
      "Prima: (array([0, 1]), array([132,  37]))\n",
      "Dopo: (array([0, 1]), array([132, 132]))\n",
      "264 264\n"
     ]
    },
    {
     "data": {
      "application/vnd.jupyter.widget-view+json": {
       "model_id": "f63aa418385745f9b1332f80b5c835c6",
       "version_major": 2,
       "version_minor": 0
      },
      "text/plain": [
       "  0%|          | 0/43 [00:00<?, ?it/s]"
      ]
     },
     "metadata": {},
     "output_type": "display_data"
    },
    {
     "name": "stderr",
     "output_type": "stream",
     "text": [
      "Using 264 background data samples could cause slower run times. Consider using shap.sample(data, K) or shap.kmeans(data, K) to summarize the background as K samples.\n"
     ]
    },
    {
     "name": "stdout",
     "output_type": "stream",
     "text": [
      "Prima: (array([0, 1]), array([132,  37]))\n",
      "Dopo: (array([0, 1]), array([132, 132]))\n",
      "264 264\n"
     ]
    },
    {
     "data": {
      "application/vnd.jupyter.widget-view+json": {
       "model_id": "84b722d678874c4ea877423dca751db0",
       "version_major": 2,
       "version_minor": 0
      },
      "text/plain": [
       "  0%|          | 0/43 [00:00<?, ?it/s]"
      ]
     },
     "metadata": {},
     "output_type": "display_data"
    },
    {
     "name": "stderr",
     "output_type": "stream",
     "text": [
      "Using 264 background data samples could cause slower run times. Consider using shap.sample(data, K) or shap.kmeans(data, K) to summarize the background as K samples.\n"
     ]
    },
    {
     "name": "stdout",
     "output_type": "stream",
     "text": [
      "Prima: (array([0, 1]), array([132,  38]))\n",
      "Dopo: (array([0, 1]), array([132, 132]))\n",
      "264 264\n"
     ]
    },
    {
     "data": {
      "application/vnd.jupyter.widget-view+json": {
       "model_id": "eacfbdac9364407c8faad309088a198d",
       "version_major": 2,
       "version_minor": 0
      },
      "text/plain": [
       "  0%|          | 0/42 [00:00<?, ?it/s]"
      ]
     },
     "metadata": {},
     "output_type": "display_data"
    },
    {
     "name": "stderr",
     "output_type": "stream",
     "text": [
      "Using 264 background data samples could cause slower run times. Consider using shap.sample(data, K) or shap.kmeans(data, K) to summarize the background as K samples.\n"
     ]
    },
    {
     "name": "stdout",
     "output_type": "stream",
     "text": [
      "Prima: (array([0, 1]), array([132,  38]))\n",
      "Dopo: (array([0, 1]), array([132, 132]))\n",
      "264 264\n"
     ]
    },
    {
     "data": {
      "application/vnd.jupyter.widget-view+json": {
       "model_id": "1a402ce68c6d49708fe0077806503093",
       "version_major": 2,
       "version_minor": 0
      },
      "text/plain": [
       "  0%|          | 0/42 [00:00<?, ?it/s]"
      ]
     },
     "metadata": {},
     "output_type": "display_data"
    },
    {
     "name": "stderr",
     "output_type": "stream",
     "text": [
      "Using 264 background data samples could cause slower run times. Consider using shap.sample(data, K) or shap.kmeans(data, K) to summarize the background as K samples.\n"
     ]
    },
    {
     "name": "stdout",
     "output_type": "stream",
     "text": [
      "Prima: (array([0, 1]), array([132,  38]))\n",
      "Dopo: (array([0, 1]), array([132, 132]))\n",
      "264 264\n"
     ]
    },
    {
     "data": {
      "application/vnd.jupyter.widget-view+json": {
       "model_id": "3f5b3fcdb5ec4c4184863c91b67415b3",
       "version_major": 2,
       "version_minor": 0
      },
      "text/plain": [
       "  0%|          | 0/42 [00:00<?, ?it/s]"
      ]
     },
     "metadata": {},
     "output_type": "display_data"
    },
    {
     "name": "stdout",
     "output_type": "stream",
     "text": [
      "Dimensione degli SHAP values per seed 99: (2, 212, 30)\n",
      "Sensitivity: 0.5878787878787879\n",
      "Specificity: 0.5106382978723404\n",
      "Matrice di confusione per il seed 100 :\n",
      "[[97 68]\n",
      " [23 24]]\n"
     ]
    }
   ],
   "source": [
    "num_samples = len(x_scaled)\n",
    "num_folds = 5\n",
    "\n",
    "shap_values_dict = {}\n",
    "confusion_matrices = {}\n",
    "\n",
    "for seed in range(100):\n",
    "    \n",
    "    skf = StratifiedKFold(n_splits=num_folds, shuffle=True, random_state=seed)\n",
    "    \n",
    "    y_test_tot = []\n",
    "    y_pred_tot = []\n",
    "    shap_values_tot = []\n",
    "    \n",
    "    confusion_matrices[seed] = [] \n",
    "    print(\"Iterazione:\", seed+1)\n",
    "    print(f'0->Medium, 1->Poor\\n')\n",
    "    \n",
    "    for i, (train_index, test_index) in enumerate(skf.split(x_scaled, y)):\n",
    "        \n",
    "        oversample = SMOTE(random_state=seed,k_neighbors=5)\n",
    "        \n",
    "        X_train, X_test = x_scaled[train_index], x_scaled[test_index]\n",
    "        y_train, y_test = y[train_index], y[test_index]\n",
    "        \n",
    "        print(f'Prima:', np.unique(y_train, return_counts=True))\n",
    "        X_train, y_train = oversample.fit_resample(X_train, y_train)\n",
    "        print(f'Dopo:', np.unique(y_train, return_counts=True))\n",
    "        \n",
    "        print(len(X_train), len(y_train))\n",
    "        \n",
    "        #SVM Classifier\n",
    "        svm_classifier = svm.SVC(kernel='linear', decision_function_shape='ovr', probability=True, random_state=seed)\n",
    "        svm_classifier.fit(X_train, y_train)\n",
    "        y_pred_test = svm_classifier.predict(X_test)\n",
    "       \n",
    "        # Calcola SHAP values per le predizioni\n",
    "        \n",
    "        ## Problema: Shap vuole in ingresso KernelExplainer di SHAP il quale attende \n",
    "        ## una funzione di predizione che restituisce le previsioni dirette, non le probabilità delle classi.\n",
    "        ## Forse va usato il np.argmax, axis=1 (se le predizioni sono in riga)\n",
    "        \n",
    "        explainer   = shap.KernelExplainer(svm_classifier.predict_proba, X_train ,feature_names=feature_names)\n",
    "        shap_values = explainer.shap_values(X_test)\n",
    "   \n",
    "    \n",
    "        # Estendo le previsioni e gli SHAP values\n",
    "        y_test_tot.extend(y_test)\n",
    "        y_pred_tot.extend(y_pred_test)\n",
    "        shap_values_tot.append(np.array(shap_values))\n",
    "        \n",
    "    # Calcola la media degli SHAP values di tutte le fold del seed fissato\n",
    "    # shap_values_mean = np.mean(shap_values_tot, axis=0)\n",
    "    # Dimensione degli SHAP values per seed 0: (2, 2, 106, 30) -> Devo ovviare alla presenza di questo errore\n",
    "    \n",
    "    shap_values_combined = np.concatenate(shap_values_tot, axis=1)\n",
    "    print(f\"Dimensione degli SHAP values per seed {seed}: {np.array(shap_values_combined).shape}\")\n",
    "    shap_values_dict[seed] = shap_values_combined\n",
    "\n",
    "    \n",
    "    # Calcola la matrice di confusione per questa iterazione\n",
    "    cm = confusion_matrix(y_test_tot, y_pred_tot)\n",
    "    confusion_matrices[seed].append(cm)\n",
    "    \n",
    "    # Calcola sensitivity e specificity\n",
    "    TP = cm[0, 0]  \n",
    "    FN = cm[0, 1]  \n",
    "    TN = cm[1, 1]  \n",
    "    FP = cm[1, 0]  \n",
    "    \n",
    "    sensitivity = TP / (TP + FN)    \n",
    "    specificity = TN / (TN + FP)\n",
    "\n",
    "    print(\"Sensitivity:\", sensitivity)\n",
    "    print(\"Specificity:\", specificity)\n",
    "    print(\"Matrice di confusione per il seed\", seed+1, \":\")\n",
    "    print(cm)\n",
    "   \n"
   ]
  },
  {
   "cell_type": "code",
   "execution_count": 110,
   "id": "28dc9db8-685c-4adb-9ee1-35601cc1e335",
   "metadata": {
    "collapsed": true,
    "jupyter": {
     "outputs_hidden": true
    },
    "tags": []
   },
   "outputs": [
    {
     "name": "stdout",
     "output_type": "stream",
     "text": [
      "Chiave: 0\n",
      "Forma dei valori SHAP: (2, 212, 30)\n",
      "Chiave: 1\n",
      "Forma dei valori SHAP: (2, 212, 30)\n",
      "Chiave: 2\n",
      "Forma dei valori SHAP: (2, 212, 30)\n",
      "Chiave: 3\n",
      "Forma dei valori SHAP: (2, 212, 30)\n",
      "Chiave: 4\n",
      "Forma dei valori SHAP: (2, 212, 30)\n",
      "Chiave: 5\n",
      "Forma dei valori SHAP: (2, 212, 30)\n",
      "Chiave: 6\n",
      "Forma dei valori SHAP: (2, 212, 30)\n",
      "Chiave: 7\n",
      "Forma dei valori SHAP: (2, 212, 30)\n",
      "Chiave: 8\n",
      "Forma dei valori SHAP: (2, 212, 30)\n",
      "Chiave: 9\n",
      "Forma dei valori SHAP: (2, 212, 30)\n",
      "Chiave: 10\n",
      "Forma dei valori SHAP: (2, 212, 30)\n",
      "Chiave: 11\n",
      "Forma dei valori SHAP: (2, 212, 30)\n",
      "Chiave: 12\n",
      "Forma dei valori SHAP: (2, 212, 30)\n",
      "Chiave: 13\n",
      "Forma dei valori SHAP: (2, 212, 30)\n",
      "Chiave: 14\n",
      "Forma dei valori SHAP: (2, 212, 30)\n",
      "Chiave: 15\n",
      "Forma dei valori SHAP: (2, 212, 30)\n",
      "Chiave: 16\n",
      "Forma dei valori SHAP: (2, 212, 30)\n",
      "Chiave: 17\n",
      "Forma dei valori SHAP: (2, 212, 30)\n",
      "Chiave: 18\n",
      "Forma dei valori SHAP: (2, 212, 30)\n",
      "Chiave: 19\n",
      "Forma dei valori SHAP: (2, 212, 30)\n",
      "Chiave: 20\n",
      "Forma dei valori SHAP: (2, 212, 30)\n",
      "Chiave: 21\n",
      "Forma dei valori SHAP: (2, 212, 30)\n",
      "Chiave: 22\n",
      "Forma dei valori SHAP: (2, 212, 30)\n",
      "Chiave: 23\n",
      "Forma dei valori SHAP: (2, 212, 30)\n",
      "Chiave: 24\n",
      "Forma dei valori SHAP: (2, 212, 30)\n",
      "Chiave: 25\n",
      "Forma dei valori SHAP: (2, 212, 30)\n",
      "Chiave: 26\n",
      "Forma dei valori SHAP: (2, 212, 30)\n",
      "Chiave: 27\n",
      "Forma dei valori SHAP: (2, 212, 30)\n",
      "Chiave: 28\n",
      "Forma dei valori SHAP: (2, 212, 30)\n",
      "Chiave: 29\n",
      "Forma dei valori SHAP: (2, 212, 30)\n",
      "Chiave: 30\n",
      "Forma dei valori SHAP: (2, 212, 30)\n",
      "Chiave: 31\n",
      "Forma dei valori SHAP: (2, 212, 30)\n",
      "Chiave: 32\n",
      "Forma dei valori SHAP: (2, 212, 30)\n",
      "Chiave: 33\n",
      "Forma dei valori SHAP: (2, 212, 30)\n",
      "Chiave: 34\n",
      "Forma dei valori SHAP: (2, 212, 30)\n",
      "Chiave: 35\n",
      "Forma dei valori SHAP: (2, 212, 30)\n",
      "Chiave: 36\n",
      "Forma dei valori SHAP: (2, 212, 30)\n",
      "Chiave: 37\n",
      "Forma dei valori SHAP: (2, 212, 30)\n",
      "Chiave: 38\n",
      "Forma dei valori SHAP: (2, 212, 30)\n",
      "Chiave: 39\n",
      "Forma dei valori SHAP: (2, 212, 30)\n",
      "Chiave: 40\n",
      "Forma dei valori SHAP: (2, 212, 30)\n",
      "Chiave: 41\n",
      "Forma dei valori SHAP: (2, 212, 30)\n",
      "Chiave: 42\n",
      "Forma dei valori SHAP: (2, 212, 30)\n",
      "Chiave: 43\n",
      "Forma dei valori SHAP: (2, 212, 30)\n",
      "Chiave: 44\n",
      "Forma dei valori SHAP: (2, 212, 30)\n",
      "Chiave: 45\n",
      "Forma dei valori SHAP: (2, 212, 30)\n",
      "Chiave: 46\n",
      "Forma dei valori SHAP: (2, 212, 30)\n",
      "Chiave: 47\n",
      "Forma dei valori SHAP: (2, 212, 30)\n",
      "Chiave: 48\n",
      "Forma dei valori SHAP: (2, 212, 30)\n",
      "Chiave: 49\n",
      "Forma dei valori SHAP: (2, 212, 30)\n",
      "Chiave: 50\n",
      "Forma dei valori SHAP: (2, 212, 30)\n",
      "Chiave: 51\n",
      "Forma dei valori SHAP: (2, 212, 30)\n",
      "Chiave: 52\n",
      "Forma dei valori SHAP: (2, 212, 30)\n",
      "Chiave: 53\n",
      "Forma dei valori SHAP: (2, 212, 30)\n",
      "Chiave: 54\n",
      "Forma dei valori SHAP: (2, 212, 30)\n",
      "Chiave: 55\n",
      "Forma dei valori SHAP: (2, 212, 30)\n",
      "Chiave: 56\n",
      "Forma dei valori SHAP: (2, 212, 30)\n",
      "Chiave: 57\n",
      "Forma dei valori SHAP: (2, 212, 30)\n",
      "Chiave: 58\n",
      "Forma dei valori SHAP: (2, 212, 30)\n",
      "Chiave: 59\n",
      "Forma dei valori SHAP: (2, 212, 30)\n",
      "Chiave: 60\n",
      "Forma dei valori SHAP: (2, 212, 30)\n",
      "Chiave: 61\n",
      "Forma dei valori SHAP: (2, 212, 30)\n",
      "Chiave: 62\n",
      "Forma dei valori SHAP: (2, 212, 30)\n",
      "Chiave: 63\n",
      "Forma dei valori SHAP: (2, 212, 30)\n",
      "Chiave: 64\n",
      "Forma dei valori SHAP: (2, 212, 30)\n",
      "Chiave: 65\n",
      "Forma dei valori SHAP: (2, 212, 30)\n",
      "Chiave: 66\n",
      "Forma dei valori SHAP: (2, 212, 30)\n",
      "Chiave: 67\n",
      "Forma dei valori SHAP: (2, 212, 30)\n",
      "Chiave: 68\n",
      "Forma dei valori SHAP: (2, 212, 30)\n",
      "Chiave: 69\n",
      "Forma dei valori SHAP: (2, 212, 30)\n",
      "Chiave: 70\n",
      "Forma dei valori SHAP: (2, 212, 30)\n",
      "Chiave: 71\n",
      "Forma dei valori SHAP: (2, 212, 30)\n",
      "Chiave: 72\n",
      "Forma dei valori SHAP: (2, 212, 30)\n",
      "Chiave: 73\n",
      "Forma dei valori SHAP: (2, 212, 30)\n",
      "Chiave: 74\n",
      "Forma dei valori SHAP: (2, 212, 30)\n",
      "Chiave: 75\n",
      "Forma dei valori SHAP: (2, 212, 30)\n",
      "Chiave: 76\n",
      "Forma dei valori SHAP: (2, 212, 30)\n",
      "Chiave: 77\n",
      "Forma dei valori SHAP: (2, 212, 30)\n",
      "Chiave: 78\n",
      "Forma dei valori SHAP: (2, 212, 30)\n",
      "Chiave: 79\n",
      "Forma dei valori SHAP: (2, 212, 30)\n",
      "Chiave: 80\n",
      "Forma dei valori SHAP: (2, 212, 30)\n",
      "Chiave: 81\n",
      "Forma dei valori SHAP: (2, 212, 30)\n",
      "Chiave: 82\n",
      "Forma dei valori SHAP: (2, 212, 30)\n",
      "Chiave: 83\n",
      "Forma dei valori SHAP: (2, 212, 30)\n",
      "Chiave: 84\n",
      "Forma dei valori SHAP: (2, 212, 30)\n",
      "Chiave: 85\n",
      "Forma dei valori SHAP: (2, 212, 30)\n",
      "Chiave: 86\n",
      "Forma dei valori SHAP: (2, 212, 30)\n",
      "Chiave: 87\n",
      "Forma dei valori SHAP: (2, 212, 30)\n",
      "Chiave: 88\n",
      "Forma dei valori SHAP: (2, 212, 30)\n",
      "Chiave: 89\n",
      "Forma dei valori SHAP: (2, 212, 30)\n",
      "Chiave: 90\n",
      "Forma dei valori SHAP: (2, 212, 30)\n",
      "Chiave: 91\n",
      "Forma dei valori SHAP: (2, 212, 30)\n",
      "Chiave: 92\n",
      "Forma dei valori SHAP: (2, 212, 30)\n",
      "Chiave: 93\n",
      "Forma dei valori SHAP: (2, 212, 30)\n",
      "Chiave: 94\n",
      "Forma dei valori SHAP: (2, 212, 30)\n",
      "Chiave: 95\n",
      "Forma dei valori SHAP: (2, 212, 30)\n",
      "Chiave: 96\n",
      "Forma dei valori SHAP: (2, 212, 30)\n",
      "Chiave: 97\n",
      "Forma dei valori SHAP: (2, 212, 30)\n",
      "Chiave: 98\n",
      "Forma dei valori SHAP: (2, 212, 30)\n",
      "Chiave: 99\n",
      "Forma dei valori SHAP: (2, 212, 30)\n"
     ]
    }
   ],
   "source": [
    "for key, shap_values in shap_values_dict.items():\n",
    "    print(\"Chiave:\", key)\n",
    "    print(\"Forma dei valori SHAP:\", shap_values.shape)"
   ]
  },
  {
   "cell_type": "markdown",
   "id": "ccbfa457-eb2d-47ef-ba4d-51fe2853df23",
   "metadata": {},
   "source": [
    "# Plot"
   ]
  },
  {
   "cell_type": "markdown",
   "id": "d008640a-369b-4c66-9aaf-5c468fab865c",
   "metadata": {},
   "source": [
    "- **Mean Shap Values**"
   ]
  },
  {
   "cell_type": "code",
   "execution_count": 155,
   "id": "42db7ccc-725a-4c4b-b838-e669919b16b4",
   "metadata": {},
   "outputs": [
    {
     "data": {
      "image/png": "[encoded data removed]",
      "text/plain": [
       "<Figure size 800x950 with 2 Axes>"
      ]
     },
     "metadata": {},
     "output_type": "display_data"
    }
   ],
   "source": [
    "\n",
    "total_shap_values = np.zeros_like(shap_values_dict[list(shap_values_dict.keys())[0]])\n",
    "total_count = 0\n",
    "\n",
    "# Itera attraverso tutte le chiavi del dizionario di shap values\n",
    "for key in shap_values_dict.keys():\n",
    "    shap_values = shap_values_dict[key]\n",
    "    total_shap_values += shap_values\n",
    "    total_count += 1\n",
    "\n",
    "avg_shap_values = total_shap_values / total_count\n",
    "#print(avg_shap_values)\n",
    "#print(np.array(avg_shap_values).shape)\n",
    "\n",
    "# Crea uno shap summary plot utilizzando gli shap values medi\n",
    "shap.summary_plot(np.mean(avg_shap_values, axis=0),features=x,  feature_names=feature_names)\n",
    "plt.show()\n"
   ]
  },
  {
   "cell_type": "code",
   "execution_count": 156,
   "id": "6e851578-648a-4ec4-befb-811c37dd3fa6",
   "metadata": {},
   "outputs": [
    {
     "data": {
      "image/png": "[encoded data removed]",
      "text/plain": [
       "<Figure size 800x950 with 1 Axes>"
      ]
     },
     "metadata": {},
     "output_type": "display_data"
    }
   ],
   "source": [
    "shap.summary_plot(np.mean(avg_shap_values, axis=0),features=x,  feature_names=feature_names,plot_type='bar',color='green')\n",
    "plt.show()"
   ]
  },
  {
   "cell_type": "markdown",
   "id": "9ab8279b-9040-4839-b69f-9bbb0b2b3a63",
   "metadata": {},
   "source": [
    "- **Confusion Matrix**"
   ]
  },
  {
   "cell_type": "code",
   "execution_count": 178,
   "id": "272bd4dc-8575-4fc2-8ba4-16f79b2b05a6",
   "metadata": {},
   "outputs": [
    {
     "name": "stdout",
     "output_type": "stream",
     "text": [
      "Matrice di confusione media:\n",
      "[[95.17 69.83]\n",
      " [25.71 21.29]]\n"
     ]
    }
   ],
   "source": [
    "avg_confusion_matrix = np.zeros((2, 2))\n",
    "\n",
    "# Conta il numero totale di matrici di confusione\n",
    "total_matrices = len(confusion_matrices)\n",
    "\n",
    "# Somma tutte le matrici di confusione\n",
    "for matrix in confusion_matrices.values():\n",
    "    avg_confusion_matrix += matrix[0]  # Ogni elemento del dizionario contiene una lista con una singola matrice di confusione\n",
    "\n",
    "# Calcola la matrice di confusione media dividendo per il numero totale di matrici\n",
    "avg_confusion_matrix /= total_matrices\n",
    "\n",
    "print(\"Matrice di confusione media:\")\n",
    "print(avg_confusion_matrix)"
   ]
  },
  {
   "cell_type": "code",
   "execution_count": 183,
   "id": "2648a5c8-37b6-490a-8270-eb6758f62243",
   "metadata": {},
   "outputs": [
    {
     "data": {
      "image/png": "[encoded data removed]",
      "text/plain": [
       "<Figure size 640x480 with 2 Axes>"
      ]
     },
     "metadata": {},
     "output_type": "display_data"
    }
   ],
   "source": [
    "plt.imshow(avg_confusion_matrix, interpolation='nearest', cmap=plt.cm.Blues)\n",
    "for i in range(2):\n",
    "    for j in range(2):\n",
    "        plt.text(j, i, str(round(avg_confusion_matrix[i, j], 2)), horizontalalignment=\"center\", color=\"black\")\n",
    "plt.title('Mean Confusion Matrix')\n",
    "plt.colorbar()\n",
    "plt.xlabel('Prediction')\n",
    "plt.ylabel('Real ')\n",
    "plt.xticks(np.arange(2), ['Medium', 'Poor'])\n",
    "plt.yticks(np.arange(2), ['Medium', 'Poor'])\n",
    "plt.show()\n"
   ]
  },
  {
   "cell_type": "code",
   "execution_count": 186,
   "id": "7e412a42-726c-45f8-bb6f-076e8401ccc5",
   "metadata": {},
   "outputs": [
    {
     "name": "stdout",
     "output_type": "stream",
     "text": [
      "Sensitivity: 0.5767878787878788\n",
      "Specificity: 0.4529787234042553\n"
     ]
    }
   ],
   "source": [
    "# Calcola sensitivity e specificity\n",
    "\n",
    "TP = avg_confusion_matrix[0, 0]  \n",
    "FN = avg_confusion_matrix[0, 1]  \n",
    "TN = avg_confusion_matrix[1, 1]  \n",
    "FP = avg_confusion_matrix[1, 0]  \n",
    "\n",
    "sensitivity = TP / (TP + FN)    \n",
    "specificity = TN / (TN + FP)\n",
    "\n",
    "print(\"Sensitivity:\", sensitivity)\n",
    "print(\"Specificity:\", specificity)\n",
    "    \n",
    "   "
   ]
  },
  {
   "cell_type": "code",
   "execution_count": null,
   "id": "5d476353-4441-40f4-affd-eea2eb9aca70",
   "metadata": {},
   "outputs": [],
   "source": []
  }
 ],
 "metadata": {
  "kernelspec": {
   "display_name": "Python 3",
   "language": "python",
   "name": "python3"
  },
  "language_info": {
   "codemirror_mode": {
    "name": "ipython",
    "version": 3
   },
   "file_extension": ".py",
   "mimetype": "text/x-python",
   "name": "python",
   "nbconvert_exporter": "python",
   "pygments_lexer": "ipython3",
   "version": "3.8.8"
  }
 },
 "nbformat": 4,
 "nbformat_minor": 5
}
