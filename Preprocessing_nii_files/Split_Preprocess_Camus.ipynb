{
 "cells": [
  {
   "cell_type": "code",
   "execution_count": 1,
   "id": "7adfd13d-6a46-4395-85ab-ea4f7f25dff8",
   "metadata": {},
   "outputs": [],
   "source": [
    "import os\n",
    "import SimpleITK as sitk\n",
    "import shutil \n",
    "import random \n",
    "import time \n",
    "import numpy as np\n",
    "from skimage.transform import resize\n",
    "import cv2\n",
    "import matplotlib.pyplot as plt\n",
    "import imageio"
   ]
  },
  {
   "cell_type": "markdown",
   "id": "04b4f144-56e2-446e-9e55-b15229ce635a",
   "metadata": {},
   "source": [
    "# Split"
   ]
  },
  {
   "cell_type": "code",
   "execution_count": 2,
   "id": "ea4f3d48-71f1-44f0-8803-9fb03a497efb",
   "metadata": {},
   "outputs": [],
   "source": [
    "root_path='/users/emanueleamato/Downloads/database_nifti'"
   ]
  },
  {
   "cell_type": "code",
   "execution_count": 6,
   "id": "e602377a-460f-4464-87ca-3fe88f75a343",
   "metadata": {},
   "outputs": [],
   "source": [
    "for root, dirs, files in os.walk(root_path):\n",
    "    for file in files:\n",
    "        \n",
    "        if '2CH_half_sequence.nii' in file and not file.endswith('.png'):\n",
    "            src_path = os.path.join(root, file)\n",
    "            dst_dir = os.path.join(root_path, '2CH')\n",
    "            dst_path = os.path.join(dst_dir, file)\n",
    "            if src_path != dst_path:  \n",
    "                os.makedirs(dst_dir, exist_ok=True)  \n",
    "                shutil.copy(src_path, dst_dir)\n",
    "          \n",
    "        if '4CH_half_sequence.nii' in file and not file.endswith('.png'):\n",
    "            src_path = os.path.join(root, file)\n",
    "            dst_dir = os.path.join(root_path, '4CH')\n",
    "            dst_path = os.path.join(dst_dir, file)\n",
    "            if src_path != dst_path:  \n",
    "                os.makedirs(dst_dir, exist_ok=True) \n",
    "                shutil.copy(src_path, dst_dir)\n",
    "       "
   ]
  },
  {
   "cell_type": "code",
   "execution_count": 9,
   "id": "ed2d4430-c768-4cd2-a470-494ee19941bb",
   "metadata": {},
   "outputs": [
    {
     "name": "stdout",
     "output_type": "stream",
     "text": [
      "Number of elements in the folder: 500\n"
     ]
    }
   ],
   "source": [
    "## Care about the .ipynb_checkpoints\n",
    "\n",
    "folder_path='/users/emanueleamato/Downloads/database_nifti/4CH'\n",
    "contents = [name for name in os.listdir(folder_path)]\n",
    "print(\"Number of elements in the folder:\", len(contents))"
   ]
  },
  {
   "cell_type": "code",
   "execution_count": 17,
   "id": "d6232f1f-ce91-4a4f-b2be-713b6adb380b",
   "metadata": {},
   "outputs": [
    {
     "name": "stdout",
     "output_type": "stream",
     "text": [
      "50 files moved to the 'test' folder.\n"
     ]
    }
   ],
   "source": [
    "source_folder='/users/emanueleamato/Downloads/database_nifti/4CH'\n",
    "test_folder='/users/emanueleamato/Downloads/database_nifti/4CH_Test'\n",
    "contents = [name for name in os.listdir(source_folder) if not name.startswith('.')]\n",
    "num_files_to_move = int(0.1 * 500)\n",
    "files_to_move = random.sample(contents, num_files_to_move)\n",
    "\n",
    "# Move the selected files to the test folder\n",
    "for file in files_to_move:\n",
    "    src_path = os.path.join(source_folder, file)\n",
    "    dst_path = os.path.join(test_folder, file)\n",
    "    shutil.move(src_path, dst_path)\n",
    "\n",
    "print(f\"{num_files_to_move} files moved to the 'test' folder.\")"
   ]
  },
  {
   "cell_type": "markdown",
   "id": "e8165cb7-eb8a-4eec-924a-93ac5526bcdb",
   "metadata": {},
   "source": [
    "# Preprocess"
   ]
  },
  {
   "cell_type": "code",
   "execution_count": null,
   "id": "c8bd0500-ecc4-415c-a447-710e3b193610",
   "metadata": {},
   "outputs": [],
   "source": []
  },
  {
   "cell_type": "code",
   "execution_count": 11,
   "id": "dee0fd49-df76-4093-982a-9fa213de73d4",
   "metadata": {},
   "outputs": [],
   "source": [
    "\"\"\"\n",
    "\n",
    "    Preprocesses images in the source folder and saves them as PNG files in the output folder.\n",
    "\n",
    "    Args:\n",
    "\n",
    "    - source_folder (str): Path to the folder containing the normalized images.\n",
    "    - output_folder (str): Path to the folder where the preprocessed images will be saved.\n",
    "    - height (int): Height of the resized images.\n",
    "    - width (int): Width of the resized images.  \n",
    "\n",
    "\"\"\"\n",
    "\n",
    "class ImagePreprocessor:\n",
    "    \n",
    "    def __init__(self, height, width):\n",
    "        self.height = height\n",
    "        self.width = width\n",
    "\n",
    "    def resize_image(self, image):\n",
    "        return resize(image, (self.height, self.width), preserve_range=True, mode='reflect', anti_aliasing=True)\n",
    "\n",
    "    def data_norm(self, input):\n",
    "        input = np.array(input, dtype=np.float32)\n",
    "        input  = input - np.mean(input)\n",
    "        output = input / (np.std(input) + 1e-12)\n",
    "        return output\n",
    "\n",
    "    def preprocess_and_save_images(self, source_folder, output_folder):\n",
    "    \n",
    "        for root, dirs, files in os.walk(source_folder):\n",
    "            for file in files:\n",
    "                \n",
    "                if file.lower().endswith('.nii'):\n",
    "                    img_path = os.path.join(root, file)\n",
    "\n",
    "                    img = sitk.ReadImage(img_path)\n",
    "                    img_array = sitk.GetArrayFromImage(img)\n",
    "\n",
    "                    for i in range(img_array.shape[0]):\n",
    "                        slice_data = img_array[i, :, :]  # Estrai una singola slice\n",
    "                        resized_slice = self.resize_image(slice_data)\n",
    "                        normalized_slice = self.data_norm(resized_slice)\n",
    "                        \n",
    "                        # Normalizzo tra 0 ed 1 per questioni di salvataggio dati \n",
    "                        normalized_slice = (normalized_slice - np.min(normalized_slice)) / (np.max(normalized_slice) - np.min(normalized_slice))        \n",
    "                        uint8_slice = (normalized_slice * 255).astype(np.uint8)\n",
    "                    \n",
    "                        # Salva la slice come PNG\n",
    "                        output_filename = os.path.join(output_folder, f\"preprocessed_img_{file}_{i}.png\")\n",
    "                        imageio.imwrite(output_filename, uint8_slice)\n",
    "                        \n",
    "                \n"
   ]
  },
  {
   "cell_type": "code",
   "execution_count": 19,
   "id": "08a62c85-919f-4f2f-9a40-d9d81e73b28f",
   "metadata": {},
   "outputs": [],
   "source": [
    "source_folder='/users/emanueleamato/Downloads/database_nifti/4CH'\n",
    "output_folder='/users/emanueleamato/Downloads/database_nifti/4CH_extraction'\n",
    "# Esempio di utilizzo della classe\n",
    "preprocessor = ImagePreprocessor(height=512, width=512)\n",
    "preprocessor.preprocess_and_save_images(source_folder=source_folder, output_folder=output_folder)"
   ]
  },
  {
   "cell_type": "code",
   "execution_count": null,
   "id": "0cac750e-baf1-4de0-9950-3403aaf18206",
   "metadata": {},
   "outputs": [],
   "source": []
  },
  {
   "cell_type": "code",
   "execution_count": null,
   "id": "fb049d83-1abe-4c1e-9a43-e84ba122a1d3",
   "metadata": {},
   "outputs": [],
   "source": []
  },
  {
   "cell_type": "code",
   "execution_count": null,
   "id": "563e8f37-61b4-4c13-86ca-f37e1863a1a4",
   "metadata": {},
   "outputs": [],
   "source": []
  },
  {
   "cell_type": "code",
   "execution_count": null,
   "id": "2f5da8e9-fb8a-4ddf-ac6d-cd5f39c53021",
   "metadata": {},
   "outputs": [],
   "source": []
  },
  {
   "cell_type": "code",
   "execution_count": null,
   "id": "274a1456-8a8c-48db-8789-0a95680acf82",
   "metadata": {},
   "outputs": [],
   "source": []
  },
  {
   "cell_type": "code",
   "execution_count": null,
   "id": "a5bec7c1-ce8c-40dc-b6d7-e8bdce29a242",
   "metadata": {},
   "outputs": [],
   "source": []
  },
  {
   "cell_type": "code",
   "execution_count": null,
   "id": "4d7078b1-ca57-4789-88a8-4e7d2533339d",
   "metadata": {},
   "outputs": [],
   "source": []
  },
  {
   "cell_type": "code",
   "execution_count": null,
   "id": "492f1173-81eb-4ead-85db-3f25a287277c",
   "metadata": {},
   "outputs": [],
   "source": []
  },
  {
   "cell_type": "code",
   "execution_count": null,
   "id": "b020f884-5a46-48d8-8a69-20cf2616dd98",
   "metadata": {},
   "outputs": [],
   "source": []
  },
  {
   "cell_type": "code",
   "execution_count": null,
   "id": "9e4bbacf-e50a-485e-ad84-ab8c189bbe49",
   "metadata": {},
   "outputs": [],
   "source": []
  }
 ],
 "metadata": {
  "kernelspec": {
   "display_name": "Python 3",
   "language": "python",
   "name": "python3"
  },
  "language_info": {
   "codemirror_mode": {
    "name": "ipython",
    "version": 3
   },
   "file_extension": ".py",
   "mimetype": "text/x-python",
   "name": "python",
   "nbconvert_exporter": "python",
   "pygments_lexer": "ipython3",
   "version": "3.8.8"
  }
 },
 "nbformat": 4,
 "nbformat_minor": 5
}
